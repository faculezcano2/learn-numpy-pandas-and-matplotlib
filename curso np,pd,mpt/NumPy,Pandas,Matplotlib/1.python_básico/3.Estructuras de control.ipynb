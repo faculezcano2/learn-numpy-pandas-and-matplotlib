{
 "cells": [
  {
   "cell_type": "markdown",
   "metadata": {},
   "source": [
    "# Introducción a Python - Estructuras de control"
   ]
  },
  {
   "cell_type": "markdown",
   "metadata": {},
   "source": [
    "En este apartado revisaremos las diferentes estructuras de control de flujo que nos permitirán (realmente) la construcción de programas. Estas estructuras son idénticas en funcionamiento al resto de lenguajes de programación, aunque variará ligeramente la sintáxis de las mismas.\n",
    "\n",
    "Tienen en común que siempre se empieza con una sentencia (ya sea `if`, `for`,...) con un **`:`** al final de esa misma línea. A continuación aparece el bloque de código que querramos de manera **indentada** y, para saber que estamos fuera de la estructura de control de flujo, basta con no indentar el nuevo código.\n",
    "\n",
    "Las estructuras de control que se verán son:\n",
    "* **Condicionales**: `if`, `elif`,`else`.\n",
    "* **Bucles**: `for`,`while`.\n",
    "* **Control de errores**: `try`,`except`."
   ]
  },
  {
   "cell_type": "markdown",
   "metadata": {},
   "source": [
    "### Condicionales (if, elif, else)"
   ]
  },
  {
   "cell_type": "markdown",
   "metadata": {},
   "source": [
    "Esta estructura de control nos permitirá elegir, en base a una condición dada, la ejecución de diferentes bloques de código."
   ]
  },
  {
   "cell_type": "code",
   "execution_count": null,
   "metadata": {},
   "outputs": [],
   "source": [
    "precio_taxi = 10.00\n",
    "precio_bus = 2.50"
   ]
  },
  {
   "cell_type": "markdown",
   "metadata": {},
   "source": [
    "Queremos saber si podemos irnos en taxi, para ello preguntamos si el dinero disponible es mayor que el precio del taxi. Para ello utilizamos **`if`**."
   ]
  },
  {
   "cell_type": "code",
   "execution_count": null,
   "metadata": {},
   "outputs": [],
   "source": [
    "dinero_disponible = input(\"¿Cuánto dinero tengo? \")\n",
    "\n",
    "if int(dinero_disponible) >= 10:\n",
    "    print(\"Me voy en taxi\")"
   ]
  },
  {
   "cell_type": "markdown",
   "metadata": {},
   "source": [
    "¿Qué sucede si no tenemos dinero para ir en taxi? Podemos seguir preguntando si tenemos dinero para irnos en autobus"
   ]
  },
  {
   "cell_type": "code",
   "execution_count": null,
   "metadata": {},
   "outputs": [],
   "source": [
    "dinero_disponible = 8\n",
    "\n",
    "if int(dinero_disponible) >= precio_taxi:\n",
    "    print(\"Me voy en taxi\")\n",
    "\n",
    "if int(dinero_disponible) >= precio_bus:\n",
    "    print(\"Me voy en bus\")"
   ]
  },
  {
   "cell_type": "markdown",
   "metadata": {},
   "source": [
    "Realmente el código anterior no funciona correctamente en caso de tener suficiente dinero como para ir en ambos transportes, por lo que para arreglarlo tenemos que añadir una condición al segundo bloque"
   ]
  },
  {
   "cell_type": "code",
   "execution_count": null,
   "metadata": {},
   "outputs": [],
   "source": [
    "dinero_disponible = 15\n",
    "\n",
    "if dinero_disponible >= precio_taxi:\n",
    "    print(\"Me voy en taxi\")\n",
    "\n",
    "if dinero_disponible >= precio_bus and dinero_disponible < precio_taxi:\n",
    "    print(\"Me voy en bus\")"
   ]
  },
  {
   "cell_type": "markdown",
   "metadata": {},
   "source": [
    "Esta forma de realizar expresiones condicionales es muy redundante y obliga a la utilización de condiciones demasiado complejas. Se podría reescribir el mismo programa utilizando la sentencia **`else`**."
   ]
  },
  {
   "cell_type": "code",
   "execution_count": null,
   "metadata": {},
   "outputs": [],
   "source": [
    "dinero_disponible = 15\n",
    "\n",
    "if precio_taxi < dinero_disponible:\n",
    "    print ('Me voy en taxi')\n",
    "else:\n",
    "    print ('Me voy en bus')"
   ]
  },
  {
   "cell_type": "markdown",
   "metadata": {},
   "source": [
    "Adicionalmente, podemos poner distinos condicionales que se pueden ir comproando en caso de que la condición anterior no se haya cumplido.\n",
    "\n",
    "De manera que:\n",
    "* **Si** (`if`) tengo dinero para el taxi, me voy en taxi,\n",
    "* **Si no tengo dinero para el taxi, pero sí** (`elif`) tengo dinero para el bus, me voy en bus,\n",
    "* **Si no se cumple ninguna** (`else`), me voy andando"
   ]
  },
  {
   "cell_type": "code",
   "execution_count": null,
   "metadata": {},
   "outputs": [],
   "source": [
    "dinero_disponible = int(input(\"¿Cuanto dinero tengo? \"))\n",
    "\n",
    "if precio_taxi < dinero_disponible:\n",
    "    print ('Me voy en taxi')\n",
    "elif precio_bus < dinero_disponible:\n",
    "    print ('Me voy en bus')\n",
    "else:\n",
    "    print ('Me voy andando')"
   ]
  },
  {
   "cell_type": "markdown",
   "metadata": {},
   "source": [
    "### Bucle - for"
   ]
  },
  {
   "cell_type": "markdown",
   "metadata": {},
   "source": [
    "Esta estructura de control nos permitirá llevar a cabo la ejecución de un bloque de código para todos los elementos contenidos en una secuencia (que pueden estar involucrados o no en el bloque de código)."
   ]
  },
  {
   "cell_type": "code",
   "execution_count": null,
   "metadata": {},
   "outputs": [],
   "source": [
    "for i in range(0, 10):\n",
    "    print (\"Hola mundo\")"
   ]
  },
  {
   "cell_type": "code",
   "execution_count": null,
   "metadata": {},
   "outputs": [],
   "source": [
    "print(list(range(0,10)))\n",
    "for i in range(0, 10):\n",
    "    print(i)\n",
    "    print (\"Hola mundo: \" + str(i))\n",
    "    \n",
    "print(\"--------------\")\n",
    "print(\"Proceso finalizado\")"
   ]
  },
  {
   "cell_type": "code",
   "execution_count": null,
   "metadata": {},
   "outputs": [],
   "source": [
    "list_1 = [\"uno\", \"dos\", \"tres\", \"cuatro\", \"cinco\"]\n",
    "for element in list_1:\n",
    "    print (element)"
   ]
  },
  {
   "cell_type": "markdown",
   "metadata": {},
   "source": [
    "Podemos jugar con listas de tuplas para poder disponer de 2 valores a la vez sobre los que iterar. \\\n",
    "En este primer ejemplo, utilizaremos cada elemento de la lista para sacarlo por pantalla."
   ]
  },
  {
   "cell_type": "code",
   "execution_count": null,
   "metadata": {
    "scrolled": true
   },
   "outputs": [],
   "source": [
    "list_1 = [(1,2),(3,4)]\n",
    "for tupla in list_1:\n",
    "    print(tupla)"
   ]
  },
  {
   "cell_type": "markdown",
   "metadata": {},
   "source": [
    "En este segundo ejemplo, **iteramos** sobre cada una de las tuplas que hay en la lista de la siguiente manera."
   ]
  },
  {
   "cell_type": "code",
   "execution_count": null,
   "metadata": {},
   "outputs": [],
   "source": [
    "list_1 = [(1,2),(3,4)]\n",
    "for a,b in list_1:\n",
    "    # Ahora tenemos en cada iteración 2 variables \"a\" y \"b\" con las que podemos jugar\n",
    "    print(a + b)"
   ]
  },
  {
   "cell_type": "markdown",
   "metadata": {},
   "source": [
    "A veces es muy cómodo el disponer al mismo tiempo del elemento sobre el que se itera y del índice que ocupa dentro del bucle. Para ello podemos utilizar la función `enumerate`."
   ]
  },
  {
   "cell_type": "code",
   "execution_count": null,
   "metadata": {},
   "outputs": [],
   "source": [
    "list_1 = [\"uno\", \"dos\", \"tres\", \"cuatro\", \"cinco\"]\n",
    "list(enumerate(list_1))"
   ]
  },
  {
   "cell_type": "markdown",
   "metadata": {},
   "source": [
    "Veamos cómo aprovecharlo."
   ]
  },
  {
   "cell_type": "code",
   "execution_count": null,
   "metadata": {},
   "outputs": [],
   "source": [
    "for index, element in enumerate(list_1):\n",
    "    print (\"Elemento en índice \" + str(index) + \": \" + element)"
   ]
  },
  {
   "cell_type": "markdown",
   "metadata": {},
   "source": [
    "### Bucle - while"
   ]
  },
  {
   "cell_type": "markdown",
   "metadata": {},
   "source": [
    "Esta estructura de control nos permitirá llevar a cabo la ejecución de un bloque de código mientras se cumpla una condición dada."
   ]
  },
  {
   "cell_type": "code",
   "execution_count": null,
   "metadata": {},
   "outputs": [],
   "source": [
    "i = 0\n",
    "while i < 10:\n",
    "    print (i)\n",
    "    i += 1"
   ]
  },
  {
   "cell_type": "markdown",
   "metadata": {},
   "source": [
    "### Interrupción de bucles - break y continue"
   ]
  },
  {
   "cell_type": "markdown",
   "metadata": {},
   "source": [
    "Las sentencias break y continue permiten alterar el flujo normal de ejecución de un bucle. Más concretamente:\n",
    "\n",
    "<ul>\n",
    "<li>break: Corta completamente el flujo de ejecución del bucle y pasa el control a la sentencia posterior al bucle.</li>\n",
    "<li>continue: Corta la ejecución de la iteración actual y pasa el control a la siguiente iteración del bucle.</li>\n",
    "</ul>"
   ]
  },
  {
   "cell_type": "code",
   "execution_count": null,
   "metadata": {},
   "outputs": [],
   "source": [
    "list_1 = [\"uno\", \"dos\", \"tres\", \"cuatro\", \"cinco\"]\n",
    "for element in list_1:\n",
    "    if element == \"cuatro\":\n",
    "        break\n",
    "    print (element)"
   ]
  },
  {
   "cell_type": "code",
   "execution_count": null,
   "metadata": {},
   "outputs": [],
   "source": [
    "list_1 = [\"uno\", \"dos\", \"tres\", \"cuatro\", \"cinco\"]\n",
    "for element in list_1:\n",
    "    if element == \"cuatro\":\n",
    "        continue\n",
    "    print (element)"
   ]
  },
  {
   "cell_type": "markdown",
   "metadata": {},
   "source": [
    "### Comprensiones de lista"
   ]
  },
  {
   "cell_type": "markdown",
   "metadata": {},
   "source": [
    "Dada la filosofía de Python de hacer el código más conciso, tenemos a nuestra disposición una estructura especial de control (semejante a los bucles) que facilita mucho la escritura de código. Imáginemos el siguiente bucle."
   ]
  },
  {
   "cell_type": "code",
   "execution_count": null,
   "metadata": {},
   "outputs": [],
   "source": [
    "list_1 = [\"Miguel\", \"Juan\", \"Maria\", \"Manuel\", \"Rodrigo\"]\n",
    "list_M = []\n",
    "for element in list_1:    \n",
    "    if element[0] == \"M\":\n",
    "        list_M.append(element.upper())\n",
    "print (list_M)"
   ]
  },
  {
   "cell_type": "markdown",
   "metadata": {},
   "source": [
    "Podemos conseguir el mismo resultado con un código mucho más conciso."
   ]
  },
  {
   "cell_type": "code",
   "execution_count": null,
   "metadata": {},
   "outputs": [],
   "source": [
    "list_1 = [\"Miguel\", \"Juan\", \"Maria\", \"Manuel\", \"Rodrigo\"]\n",
    "list_M = [element.upper() for element in list_1 if element[0] == \"M\"]\n",
    "print (list_M)"
   ]
  },
  {
   "cell_type": "markdown",
   "metadata": {},
   "source": [
    "### Otras comprensiones"
   ]
  },
  {
   "cell_type": "markdown",
   "metadata": {},
   "source": [
    "Del mismo modo, se puede utilizar la sintáxis de las comprensiones de lista para crear otras estructuras como diccionarios y conjuntos. "
   ]
  },
  {
   "cell_type": "code",
   "execution_count": null,
   "metadata": {},
   "outputs": [],
   "source": [
    "{ element.upper(): element[0] == 'M' for element in list_1 }"
   ]
  },
  {
   "cell_type": "code",
   "execution_count": null,
   "metadata": {},
   "outputs": [],
   "source": [
    "list_duplicates = [\"Miguel\", \"Juan\", \"Maria\", \"Miguel\", \"Juan\"]\n",
    "{ element for element in list_duplicates }"
   ]
  },
  {
   "cell_type": "markdown",
   "metadata": {},
   "source": [
    "### Control de errores/excepciones - try, except\n"
   ]
  },
  {
   "cell_type": "markdown",
   "metadata": {},
   "source": [
    "Al igual que en otros lenguajes de programación (Java, C++...), los errores en Python se generan en forma de excepciones (objetos en los que se incluye tanto el detalle del error como la pila de llamadas que han generado dicho error). Es importante realizar una buena gestión de excepciones de forma que los errores estén siempre controlados de forma que los programas creados sean robustos (no paren su ejecución de forma prematura por errores no controlados) y claros (presenten a los potenciales usuarios información \"entendible\" y no los errores internos de Python)."
   ]
  },
  {
   "cell_type": "code",
   "execution_count": null,
   "metadata": {},
   "outputs": [],
   "source": [
    "cadena = \"123.5hola\"\n",
    "numero = float(cadena)"
   ]
  },
  {
   "cell_type": "markdown",
   "metadata": {},
   "source": [
    "Se pueden controlar todos los errores de forma genérica."
   ]
  },
  {
   "cell_type": "code",
   "execution_count": null,
   "metadata": {},
   "outputs": [],
   "source": [
    "try:\n",
    "    cadena = \"123.5hola\"\n",
    "    numero = float(cadena)\n",
    "except:\n",
    "    print (\"Se produjo un error\")"
   ]
  },
  {
   "cell_type": "code",
   "execution_count": null,
   "metadata": {},
   "outputs": [],
   "source": [
    "try:\n",
    "    cadena = \"123.5hola\"\n",
    "    numero = float(cadena)\n",
    "except Exception as e:\n",
    "    print (e)\n",
    "    print (\"Se produjo un error\")"
   ]
  },
  {
   "cell_type": "markdown",
   "metadata": {},
   "source": [
    "O realizar un control detallado por tipo de error."
   ]
  },
  {
   "cell_type": "code",
   "execution_count": null,
   "metadata": {},
   "outputs": [],
   "source": [
    "try:\n",
    "    cadena = \"123.5hola\"\n",
    "    numero = float(cadena)\n",
    "except RuntimeError as e:    \n",
    "    print (\"Se produjo un error de ejecución\")\n",
    "except ValueError as e:    \n",
    "    print (\"Formato numérico incorrecto\")\n",
    "except Exception as e:\n",
    "    print (\"Se produjo un error desconocido\")"
   ]
  }
 ],
 "metadata": {
  "kernelspec": {
   "display_name": "Python 3",
   "language": "python",
   "name": "python3"
  },
  "language_info": {
   "codemirror_mode": {
    "name": "ipython",
    "version": 3
   },
   "file_extension": ".py",
   "mimetype": "text/x-python",
   "name": "python",
   "nbconvert_exporter": "python",
   "pygments_lexer": "ipython3",
   "version": "3.8.8"
  }
 },
 "nbformat": 4,
 "nbformat_minor": 1
}
