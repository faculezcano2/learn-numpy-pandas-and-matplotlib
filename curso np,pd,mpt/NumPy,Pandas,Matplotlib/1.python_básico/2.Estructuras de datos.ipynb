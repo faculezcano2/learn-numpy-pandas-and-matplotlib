{
 "cells": [
  {
   "cell_type": "markdown",
   "metadata": {},
   "source": [
    "# Introducción a Python - Estructuras de datos"
   ]
  },
  {
   "cell_type": "markdown",
   "metadata": {},
   "source": [
    "En este apartado vamos a revisar las estructuras de datos (colecciones) básicas de Python, sus propiedades y las operaciones básicas que se pueden realizar con y sobre ellos. En concreto, en Python tenemos tres estructuras básicas de datos.\n",
    "\n",
    "<ul>\n",
    "<li>Secuencias</li>\n",
    "<li>Diccionarios</li>\n",
    "<li>Conjuntos</li>\n",
    "</ul>"
   ]
  },
  {
   "cell_type": "markdown",
   "metadata": {},
   "source": [
    "## Secuencias"
   ]
  },
  {
   "cell_type": "markdown",
   "metadata": {},
   "source": [
    "Una secuencia es un listado unidimensional y ordenado de valores que pueden ser de cualquier tipo, incluso otras estructuras de datos anidadas. Existen tres tipos bien diferenciados\n",
    "\n",
    "<ul>\n",
    "    <li><b>Tuplas</b>: listados inmutables.</li>\n",
    "    <li><b>Listas</b>: listados ordenados mutables.</li>\n",
    "    <li><b>Cadenas de caracteres</b>: inmutables y cuyos elementos son siempre caracteres.</li>\n",
    "</ul>\n",
    "\n",
    "Casi todas las operaciones disponibles se pueden aplicar sobre cualquier tipo de secuencia (excepto las que implican modificación que, lógicamente, sólo se pueden aplicar sobre listas)."
   ]
  },
  {
   "cell_type": "markdown",
   "metadata": {},
   "source": [
    "##### <b>Creación de secuencias</b>"
   ]
  },
  {
   "cell_type": "markdown",
   "metadata": {},
   "source": [
    "* **Tuplas**: Secuencia que va entre paréntesis\n",
    "* **Listas**: Secuencia que va entre corchetes\n",
    "* **Cadena de caracteres**: Secuencia que va entre comillas"
   ]
  },
  {
   "cell_type": "code",
   "execution_count": null,
   "metadata": {},
   "outputs": [],
   "source": [
    "tuple_1 = (1, 2, 3, 4)\n",
    "list_1 = [1, 2, 3, 4]\n",
    "str_1 = \"esto es una cadena\""
   ]
  },
  {
   "cell_type": "code",
   "execution_count": null,
   "metadata": {},
   "outputs": [],
   "source": [
    "%whos"
   ]
  },
  {
   "cell_type": "markdown",
   "metadata": {},
   "source": [
    "#### Acceso a elementos"
   ]
  },
  {
   "cell_type": "markdown",
   "metadata": {},
   "source": [
    "* Para acceder a un elemento de la secuencia es necesario poner la ubicación que queremos, teniendo en cuenta que **Python es un lenguaje que comienza a contar en 0**.\n",
    "\n",
    "* Podemos modificar dicho elemento por otro cualquiera siempre que estemos ante una lista, nunca ante una cadena de caracteres o ante tuplas.\n"
   ]
  },
  {
   "cell_type": "code",
   "execution_count": null,
   "metadata": {},
   "outputs": [],
   "source": [
    "print(\"Definimos la lista\")\n",
    "list_1 = [1,2,3,4]\n",
    "print(list_1)\n",
    "\n",
    "print(\"--------------------------------\")\n",
    "\n",
    "print(\"Acceso al primer elemento de la lista\")\n",
    "print(list_1[0])\n",
    "\n",
    "print(\"--------------------------------\")\n",
    "\n",
    "print(\"Modificación del primer elemento de la lista\")\n",
    "list_1[0] = 2\n",
    "print(list_1)"
   ]
  },
  {
   "cell_type": "code",
   "execution_count": null,
   "metadata": {},
   "outputs": [],
   "source": [
    "print(\"Definimos la cadena\")\n",
    "str_1 = \"esto es una cadena\"\n",
    "print(str_1)\n",
    "\n",
    "print(\"--------------------------------\")\n",
    "\n",
    "print(\"Acceso al segundo elemento de la cadena\")\n",
    "print(str_1[1])\n",
    "\n",
    "print(\"--------------------------------\")\n",
    "\n",
    "print(\"Modificación del segundo elemento de la cadena. No funciona\")\n",
    "str_1[1] = 'a'\n",
    "print(str_1)"
   ]
  },
  {
   "cell_type": "code",
   "execution_count": null,
   "metadata": {},
   "outputs": [],
   "source": [
    "print(\"Definimos la tupla\")\n",
    "tuple_1 = (1, 2, 3, 4)\n",
    "print(tuple_1)\n",
    "\n",
    "print(\"--------------------------------\")\n",
    "\n",
    "print(\"Acceso al tercer elemento de la tupla\")\n",
    "print(tuple_1[2])\n",
    "\n",
    "print(\"--------------------------------\")\n",
    "\n",
    "print(\"Modificación del tercer elemento de la tupla. No funciona\")\n",
    "tuple_1[2] = 6\n",
    "print(tuple_1)"
   ]
  },
  {
   "cell_type": "markdown",
   "metadata": {},
   "source": [
    "* Podemos acceder a un elemento de la secuencia contando desde atrás, es decir, podemos informar de la posición que ocupa desde el final de la secuencia. En este caso, el último elemento ocuparía la posición -1."
   ]
  },
  {
   "cell_type": "code",
   "execution_count": null,
   "metadata": {},
   "outputs": [],
   "source": [
    "tuple_1 = (1, 2, 3, 4)\n",
    "list_1 = [1, 2, 3, 4]\n",
    "str_1 = \"esto es una cadena\"\n",
    "\n",
    "print (tuple_1[-1])\n",
    "print (list_1[-3])\n",
    "print (str_1[-5])"
   ]
  },
  {
   "cell_type": "markdown",
   "metadata": {},
   "source": [
    "###### <b>Conversión/casting entre tipos de secuencia</b>"
   ]
  },
  {
   "cell_type": "code",
   "execution_count": null,
   "metadata": {},
   "outputs": [],
   "source": [
    "tuple_1 = (1, 2, 3, 4)\n",
    "list_1 = [1, 2, 3, 4]\n",
    "str_1 = \"esto es una cadena\"\n",
    "\n",
    "tuple_2 = tuple(list_1)\n",
    "list_2 = list(tuple_1)\n",
    "tuple_3 = tuple(str_1)\n"
   ]
  },
  {
   "cell_type": "code",
   "execution_count": null,
   "metadata": {},
   "outputs": [],
   "source": [
    "print (tuple_2)\n",
    "print (list_2)\n",
    "print (tuple_3)\n",
    "\n",
    "print (type(tuple_2))\n",
    "print (type(list_2))\n",
    "print (type(tuple_3))"
   ]
  },
  {
   "cell_type": "markdown",
   "metadata": {},
   "source": [
    "###### Creación de secuencias anidadas"
   ]
  },
  {
   "cell_type": "code",
   "execution_count": null,
   "metadata": {},
   "outputs": [],
   "source": [
    "tuple_1 = (1, 2, (3, 4), [1, 2, 3])\n",
    "list_1 = [1, 2, 3, [4, 5], \"prueba\", (1, 2, 3)]\n",
    "print (tuple_1)\n",
    "print (list_1)"
   ]
  },
  {
   "cell_type": "markdown",
   "metadata": {},
   "source": [
    "###### Concatenación de secuencias"
   ]
  },
  {
   "cell_type": "code",
   "execution_count": null,
   "metadata": {},
   "outputs": [],
   "source": [
    "tuple_1 = (1, 2, 3, 4)\n",
    "list_1 = [1, 2, 3, 4]\n",
    "str_1 = \"esto es una cadena\"\n",
    "\n",
    "tuple_2 = (5, 6, 7, 8)\n",
    "list_2 = [5, 6, 7, 8]\n",
    "str_2 = \"esto es otra cadena\"\n",
    "\n",
    "tuple_3 = tuple_1 + tuple_2\n",
    "list_3 = list_1 + list_2\n",
    "str_3 = str_1 + str_2\n",
    "\n",
    "print (tuple_3)\n",
    "print (list_3)\n",
    "print (str_3)"
   ]
  },
  {
   "cell_type": "markdown",
   "metadata": {},
   "source": [
    "Para concatenar cadenas de texto con números antes hay que cambiar el tipo de dato de número a texto con el comando `str`. Recordemos que si utilizamos la función `input` el valor recibido ya es un texto."
   ]
  },
  {
   "cell_type": "code",
   "execution_count": null,
   "metadata": {},
   "outputs": [],
   "source": [
    "numero = 2\n",
    "str_numero = \"Has escrito el número \" + str(numero)\n",
    "print(str_numero)"
   ]
  },
  {
   "cell_type": "code",
   "execution_count": null,
   "metadata": {},
   "outputs": [],
   "source": [
    "a = input(\"Escribe tu input -->\")\n",
    "print('Has escrito el número ' + a)"
   ]
  },
  {
   "cell_type": "markdown",
   "metadata": {},
   "source": [
    "###### Multiplicación de secuencias por enteros"
   ]
  },
  {
   "cell_type": "code",
   "execution_count": null,
   "metadata": {},
   "outputs": [],
   "source": [
    "list_1 = [1, 2, 3]\n",
    "list_2 = list_1 * 2\n",
    "print (list_2)"
   ]
  },
  {
   "cell_type": "code",
   "execution_count": null,
   "metadata": {},
   "outputs": [],
   "source": [
    "letra = 'a'\n",
    "letra_10 = letra * 10\n",
    "print(letra_10)"
   ]
  },
  {
   "cell_type": "code",
   "execution_count": null,
   "metadata": {},
   "outputs": [],
   "source": [
    "tuple_1 = (\"hola\", \"mundo\")\n",
    "tuple_2 = tuple_1 * 2\n",
    "print (tuple_2)\n",
    "\n",
    "\n",
    "str_1 = \"prueba\"\n",
    "str_2 = str_1 * 2\n",
    "print (str_2)"
   ]
  },
  {
   "cell_type": "markdown",
   "metadata": {},
   "source": [
    "##### Comprobación de si un elemento existe en la secuencia. `in`"
   ]
  },
  {
   "cell_type": "code",
   "execution_count": null,
   "metadata": {},
   "outputs": [],
   "source": [
    "tuple_1 = (1, 2, 3, 4)\n",
    "list_1 = [1, 2, 3, 4]\n",
    "str_1 = \"esto es una cadena\"\n",
    "\n",
    "print (4 in tuple_1)\n",
    "print (5 not in tuple_1)\n",
    "print (4 in list_1)\n",
    "print (5 not in list_1)\n",
    "print (\"e\" in str_1)\n",
    "print (\"esto\" in str_1) # también pueden buscarse palabras enteras\n",
    "print (\"z\" not in str_1)"
   ]
  },
  {
   "cell_type": "markdown",
   "metadata": {},
   "source": [
    "##### Slicing de secuencias"
   ]
  },
  {
   "cell_type": "markdown",
   "metadata": {},
   "source": [
    "<ul>\n",
    "<li>Selección (mediante copia, no referencia) de un conjunto ordenado de elementos de una secuencia.</li>\n",
    "<li>Se realiza mediante la notación secuencia[a:b:c]. Donde:\n",
    "<ul>\n",
    "<li>a: Índice del primer elemento a extrar (en base 0). Si se omite se extrae desde el principio de la secuencia.</li>\n",
    "<li>b: Índice del primero elemento que NO se extrae (en base 0). Si se omite se extrae hasta el final de la secuencia.</li>\n",
    "<li>c: Tamaño del salto a aplicar en la extracción. Si se omite se asume 1.\n",
    "</ul>\n",
    "</ul>"
   ]
  },
  {
   "cell_type": "code",
   "execution_count": null,
   "metadata": {},
   "outputs": [],
   "source": [
    "print(\"Lista original\")\n",
    "list_1 = [\"uno\", \"dos\", \"tres\", \"cuatro\"]\n",
    "print(\"--------------\")\n",
    "print(\"a = 0. Extrae desde el primero hasta el último.\")\n",
    "print (\"list_1[0:]\")\n",
    "print (list_1[0:])\n",
    "print (\"list_1[:]\")\n",
    "print (list_1[:])\n",
    "print(\"--------------\")\n",
    "print(\"a = 2. Extrae desde el tercero hasta el último.\")\n",
    "print (\"list_1[2:]\")\n",
    "print (list_1[2:])\n",
    "print(\"--------------\")\n",
    "print(\"b = 3. Extrae desde el primero hasta el cuarto no incluido.\")\n",
    "print (\"list_1[:3]\")\n",
    "print (list_1[:3])\n",
    "print(\"--------------\")\n",
    "print(\"a = 2; b = 3. Extrae desde el tercero hasta el cuarto no incluido.\")\n",
    "print (\"list_1[2:3]\")\n",
    "print (list_1[2:3])\n",
    "print(\"--------------\")\n",
    "print(\"b = -3. Extrae desde el primero hasta el tercero por detrás no incluido.\")\n",
    "print(\"list_1[:-3]\")\n",
    "print(list_1[:-3])\n",
    "print(\"--------------\")\n",
    "print(\"c = 2. Extrae desde el primero hasta el último de 2 en 2.\")\n",
    "print (\"list_1[::2]\")\n",
    "print (list_1[::2])\n",
    "print(\"--------------\")\n",
    "print(\"c = 2. Extrae desde el primero hasta el último de 1 en 1 desde atrás.\")\n",
    "print (\"list_1[::-1]\")\n",
    "print (list_1[::-1])"
   ]
  },
  {
   "cell_type": "code",
   "execution_count": null,
   "metadata": {},
   "outputs": [],
   "source": [
    "list_2 = list_1[:3]\n",
    "list_2[0] = 25\n",
    "print (list_1)\n",
    "print (list_2)"
   ]
  },
  {
   "cell_type": "markdown",
   "metadata": {},
   "source": [
    "##### Longitud de secuencias. `len`"
   ]
  },
  {
   "cell_type": "code",
   "execution_count": null,
   "metadata": {},
   "outputs": [],
   "source": [
    "tuple_1 = (1, 2, 3, 4)\n",
    "list_1 = [1, 2, 3, 4]\n",
    "str_1 = \"esto es una cadena\"\n",
    "\n",
    "print (len(tuple_1))\n",
    "print (len(list_1))\n",
    "print (len(str_1))"
   ]
  },
  {
   "cell_type": "markdown",
   "metadata": {},
   "source": [
    "##### Obtención del número de repeticiones de un elemento. `count`"
   ]
  },
  {
   "cell_type": "code",
   "execution_count": null,
   "metadata": {},
   "outputs": [],
   "source": [
    "tuple_1 = (1,2,3,4,1,1,1,1,1)\n",
    "print(tuple_1.count(1))\n",
    "\n",
    "list_1 = [1,2,3,4,1,1,1,1,1]\n",
    "print(list_1.count(1))\n",
    "\n",
    "str_1 = \"esto es una cadena\"\n",
    "print(str_1.count(\"e\"))"
   ]
  },
  {
   "cell_type": "markdown",
   "metadata": {},
   "source": [
    "##### Mezcla ordenada de secuencias. `zip`"
   ]
  },
  {
   "cell_type": "code",
   "execution_count": null,
   "metadata": {},
   "outputs": [],
   "source": [
    "tuple_1 = (1, 2, 3, 4, 5)\n",
    "list_1 = [\"uno\", \"dos\", \"tres\", \"cuatro\", \"cinco\"]\n",
    "tuple_list = zip(tuple_1, list_1)\n",
    "list(tuple_list)"
   ]
  },
  {
   "cell_type": "markdown",
   "metadata": {},
   "source": [
    "El resultado es un \"objeto iterable\", por lo que para ver la mezcla hay que convertirla a lista previamente tal y como se ha hecho en la celda anterior"
   ]
  },
  {
   "cell_type": "markdown",
   "metadata": {},
   "source": [
    "##### Creación de secuencias numéricas. `range`"
   ]
  },
  {
   "cell_type": "markdown",
   "metadata": {},
   "source": [
    "El comando `range` genera una lista numérica que sigue el siguiente patrón `range(a,b,c)`:\n",
    "* **a**: Primer número que queremos que aparezca\n",
    "* **b**: Primero número que queremos que no aparezca\n",
    "* **c**: salto. En caso de omisión éste sería 1.\n",
    "\n",
    "En caso de utilizar sólo una variable, ésta actuaría como **b**, haciendoq ue la secuencia comience en 0 y termine en dicho valor."
   ]
  },
  {
   "cell_type": "code",
   "execution_count": null,
   "metadata": {},
   "outputs": [],
   "source": [
    "list_2 = range(5, 10)\n",
    "print (list(list_2))\n",
    "\n",
    "list_3 = range(0, 100, 2)\n",
    "print (list(list_3))"
   ]
  },
  {
   "cell_type": "code",
   "execution_count": null,
   "metadata": {
    "scrolled": true
   },
   "outputs": [],
   "source": [
    "list_1 = range(10)\n",
    "print (list(list_1))"
   ]
  },
  {
   "cell_type": "markdown",
   "metadata": {},
   "source": [
    "El resultado es un objeto rango, por lo que para visualizarlo hay que utilizar la función `list` como hemos hecho anteriormente"
   ]
  },
  {
   "cell_type": "code",
   "execution_count": null,
   "metadata": {},
   "outputs": [],
   "source": [
    "list_1 = range(10)\n",
    "print (list_1)\n",
    "print(list(list_1))"
   ]
  },
  {
   "cell_type": "markdown",
   "metadata": {},
   "source": [
    "###### Adición de elementos a una lista (por el final) - SÓLO LISTAS. `append`"
   ]
  },
  {
   "cell_type": "markdown",
   "metadata": {},
   "source": [
    "Si bien es cierto que podemos añadir elementos al final de la lista con `+`, ésta no altera la lista directamente, sino que sólo lo alterraría bajo asignación; sin embargo, con el comando `append` alteramos la lista con este elemento nuevo sin necesidad de reasignarla."
   ]
  },
  {
   "cell_type": "code",
   "execution_count": null,
   "metadata": {},
   "outputs": [],
   "source": [
    "print(\"Ejemplo con +\")\n",
    "lista_1 = [\"uno\",\"dos\",\"tres\"]\n",
    "lista_2 = lista_1 + ['Tres']\n",
    "print(\"lista_2: \" + str(lista_2))\n",
    "print(\"lista_1: \" + str(lista_1))"
   ]
  },
  {
   "cell_type": "code",
   "execution_count": null,
   "metadata": {},
   "outputs": [],
   "source": [
    "print(\"Ejemplo con append\")\n",
    "lista_1 = [\"uno\", \"dos\"]\n",
    "print (\"lista_1_pre: \" + str(lista_1))\n",
    "lista_1.append(\"tres\")\n",
    "print (\"lista_1_pos: \" + str(lista_1))"
   ]
  },
  {
   "cell_type": "markdown",
   "metadata": {},
   "source": [
    "###### Inserción un elemento en una posición específica - SÓLO LISTAS. `insert`"
   ]
  },
  {
   "cell_type": "code",
   "execution_count": null,
   "metadata": {},
   "outputs": [],
   "source": [
    "list_1 = [\"dos\", \"tres\"]\n",
    "list_1.insert(0, \"uno\")\n",
    "print (list_1)"
   ]
  },
  {
   "cell_type": "markdown",
   "metadata": {},
   "source": [
    "###### Eliminación del primer elemento coincidente - SÓLO LISTAS. `remove`"
   ]
  },
  {
   "cell_type": "code",
   "execution_count": null,
   "metadata": {},
   "outputs": [],
   "source": [
    "list_1 = [1, 2, 3, [4, 5]]\n",
    "list_1.remove([4, 5])\n",
    "print (list_1)"
   ]
  },
  {
   "cell_type": "markdown",
   "metadata": {},
   "source": [
    "En caso de existir 2 elementos, se elimina el primero"
   ]
  },
  {
   "cell_type": "code",
   "execution_count": null,
   "metadata": {},
   "outputs": [],
   "source": [
    "lista_1 = [1,2,1]\n",
    "lista_1.remove(1)\n",
    "print(lista_1)"
   ]
  },
  {
   "cell_type": "markdown",
   "metadata": {},
   "source": [
    "##### Eliminación de posiciones - SÓLO LISTAS. `del`"
   ]
  },
  {
   "cell_type": "code",
   "execution_count": null,
   "metadata": {},
   "outputs": [],
   "source": [
    "list_1 = [1, 2, 3, 4, 5]\n",
    "del list_1[2]\n",
    "print (list_1)"
   ]
  },
  {
   "cell_type": "markdown",
   "metadata": {},
   "source": [
    "##### Ordenación de elementos - SÓLO LISTAS. `sort`"
   ]
  },
  {
   "cell_type": "code",
   "execution_count": null,
   "metadata": {},
   "outputs": [],
   "source": [
    "list_1 = [1, 3, 4, 2, 5]\n",
    "list_1.sort()\n",
    "print (list_1)\n",
    "\n",
    "list_1.sort(reverse=True)\n",
    "print (list_1)"
   ]
  },
  {
   "cell_type": "markdown",
   "metadata": {},
   "source": [
    "##### Recuperación inversa de elementos - SÓLO LISTAS. `reverse`"
   ]
  },
  {
   "cell_type": "code",
   "execution_count": null,
   "metadata": {},
   "outputs": [],
   "source": [
    "list_1 = [1, 3, 4, 2, 5]\n",
    "list_1.reverse()\n",
    "print (list_1)"
   ]
  },
  {
   "cell_type": "markdown",
   "metadata": {},
   "source": [
    "##### Fusionar listas - SOLO LISTAS. `extend`"
   ]
  },
  {
   "cell_type": "markdown",
   "metadata": {},
   "source": [
    "Podemos concatenar 2 listas usando `+`, pero esta operación necesitaría reasignación. Si queremos alterar la lista original sin reasignarla, usaremos `extend`."
   ]
  },
  {
   "cell_type": "code",
   "execution_count": null,
   "metadata": {},
   "outputs": [],
   "source": [
    "list_1 = [1, 3, 4, 2, 5]\n",
    "list_2 = [7,8]\n",
    "list_1.extend(list_2)\n",
    "print(list_1)\n",
    "print(list_2)"
   ]
  },
  {
   "cell_type": "code",
   "execution_count": null,
   "metadata": {},
   "outputs": [],
   "source": [
    "list_1 = [1, 3, 4, 2, 5]\n",
    "list_2 = [7,8]\n",
    "final_list = list_1 + list_2\n",
    "print(list_1)\n",
    "print(list_2)\n",
    "print(final_list)"
   ]
  },
  {
   "cell_type": "markdown",
   "metadata": {},
   "source": [
    "##### Conversión a mayúsculas/minúsculas - SÓLO CADENAS. `upper`/`lower`"
   ]
  },
  {
   "cell_type": "code",
   "execution_count": null,
   "metadata": {},
   "outputs": [],
   "source": [
    "str_1 = \"esto es una prueba\"\n",
    "print (str_1.upper())\n",
    "\n",
    "str_2 = \"ESTO ES UNA PRUEBA\"\n",
    "print (str_2.lower())"
   ]
  },
  {
   "cell_type": "markdown",
   "metadata": {},
   "source": [
    "##### Segmentación por carácter - SÓLO CADENAS. `split`"
   ]
  },
  {
   "cell_type": "code",
   "execution_count": null,
   "metadata": {},
   "outputs": [],
   "source": [
    "str_1 = \"esto es una prueba\"\n",
    "print (str_1.split(\" \"))"
   ]
  },
  {
   "cell_type": "markdown",
   "metadata": {},
   "source": [
    "##### Reemplazo en cadenas - SÓLO CADENAS. `replace`"
   ]
  },
  {
   "cell_type": "code",
   "execution_count": null,
   "metadata": {},
   "outputs": [],
   "source": [
    "str_1 = \"esto es una prueba una\"\n",
    "print (str_1.replace(\"una\", \"otra\"))\n",
    "print (str_1.replace(\"una\", \"otra\",1))"
   ]
  },
  {
   "cell_type": "markdown",
   "metadata": {},
   "source": [
    "## Diccionarios (dict)"
   ]
  },
  {
   "cell_type": "markdown",
   "metadata": {},
   "source": [
    "Un diccionario es una estructura que:\n",
    "<ul>\n",
    "<li>Contiene un listado de pares clave-valor.</li>\n",
    "<li>También se puede llamar array asociativo o <i>hash map</i>.</li>\n",
    "<li>Sin orden</li>\n",
    "<li>Cuyas claves son cadenas de caracteres o valores numéricos.</li>\n",
    "<li>Cuyos valores son valores o secuencias (anidadas).</li>\n",
    "</ul>"
   ]
  },
  {
   "cell_type": "markdown",
   "metadata": {},
   "source": [
    "##### Creación de un diccionario"
   ]
  },
  {
   "cell_type": "code",
   "execution_count": null,
   "metadata": {},
   "outputs": [],
   "source": [
    "dict_1 = {\"clave_1\": 1, \"clave_2\": \"prueba\"} \n",
    "print (dict_1)\n",
    "\n",
    "dict_2 = {10:1, 2:2}\n",
    "print (dict_2)"
   ]
  },
  {
   "cell_type": "markdown",
   "metadata": {},
   "source": [
    "##### Creación de diccionarios anidados"
   ]
  },
  {
   "cell_type": "code",
   "execution_count": null,
   "metadata": {},
   "outputs": [],
   "source": [
    "dict_1 = {\"clave_1\": 1, \"clave_2\": {\"clave_21\": [1, 2, 3], \"clave_22\": \"prueba\"}}\n",
    "print (dict_1)"
   ]
  },
  {
   "cell_type": "markdown",
   "metadata": {},
   "source": [
    "##### Creación de diccionarios desde tuplas clave-valor"
   ]
  },
  {
   "cell_type": "code",
   "execution_count": null,
   "metadata": {},
   "outputs": [],
   "source": [
    "list_1 = [\"uno\", \"dos\", \"tres\", \"cuatro\", \"cinco\"]\n",
    "tuple_1 = (1, 2, 3, 4, 5)\n",
    "\n",
    "dict_1 = dict(zip(list_1, tuple_1))\n",
    "print (dict_1)"
   ]
  },
  {
   "cell_type": "markdown",
   "metadata": {},
   "source": [
    "##### Unión de dos diccionarios"
   ]
  },
  {
   "cell_type": "code",
   "execution_count": null,
   "metadata": {},
   "outputs": [],
   "source": [
    "dict_1 = {\"clave_1\": 1, \"clave_2\": 2}\n",
    "dict_2 = {\"clave_3\": 3, \"clave_4\": 4}\n",
    "dict_1.update(dict_2)  \n",
    "print (dict_1)"
   ]
  },
  {
   "cell_type": "markdown",
   "metadata": {},
   "source": [
    "##### Inserción (o modificación) de un elemento del diccionario por clave"
   ]
  },
  {
   "cell_type": "code",
   "execution_count": null,
   "metadata": {},
   "outputs": [],
   "source": [
    "dict_1 = {\"clave_1\": 1, \"clave_2\": 2}\n",
    "dict_1[\"clave_3\"] = \"prueba\"\n",
    "dict_1[\"clave_1\"] = 50\n",
    "print (dict_1)"
   ]
  },
  {
   "cell_type": "markdown",
   "metadata": {},
   "source": [
    "##### Comprobación de si un elemento existe en el diccionario. `in`"
   ]
  },
  {
   "cell_type": "code",
   "execution_count": null,
   "metadata": {},
   "outputs": [],
   "source": [
    "dict_1 = {\"clave_1\": 1, \"clave_2\": \"prueba\"}\n",
    "print (\"clave_1\" in dict_1)\n",
    "print (1 in dict_1)"
   ]
  },
  {
   "cell_type": "markdown",
   "metadata": {},
   "source": [
    "##### Eliminación de un elemento de un diccionario. `del`"
   ]
  },
  {
   "cell_type": "code",
   "execution_count": null,
   "metadata": {},
   "outputs": [],
   "source": [
    "dict_1 = {\"clave_1\": 1, \"clave_2\": \"prueba\"}\n",
    "del dict_1[\"clave_1\"]\n",
    "print (dict_1)"
   ]
  },
  {
   "cell_type": "markdown",
   "metadata": {},
   "source": [
    "##### Eliminación de todos los elementos de un diccionario. `clear`"
   ]
  },
  {
   "cell_type": "code",
   "execution_count": null,
   "metadata": {},
   "outputs": [],
   "source": [
    "dict_1 = {\"clave_1\": 1, \"clave_2\": \"prueba\"}\n",
    "dict_1.clear()\n",
    "print (dict_1)"
   ]
  },
  {
   "cell_type": "markdown",
   "metadata": {},
   "source": [
    "##### Acceso a un elemento por clave"
   ]
  },
  {
   "cell_type": "code",
   "execution_count": null,
   "metadata": {},
   "outputs": [],
   "source": [
    "dict_1 = {\"clave_1\": 1, \"clave_2\": \"prueba\"}\n",
    "print (dict_1[\"clave_1\"])"
   ]
  },
  {
   "cell_type": "markdown",
   "metadata": {},
   "source": [
    "##### Recuperación de elementos como una lista. `.items()`"
   ]
  },
  {
   "cell_type": "code",
   "execution_count": null,
   "metadata": {},
   "outputs": [],
   "source": [
    "dict_1 = {\"clave_1\": 1, \"clave_2\": 2, \"clave_3\": 3}\n",
    "print (list(dict_1.items()))"
   ]
  },
  {
   "cell_type": "markdown",
   "metadata": {},
   "source": [
    "##### Recuperación de claves como una lista `.keys()`"
   ]
  },
  {
   "cell_type": "code",
   "execution_count": null,
   "metadata": {},
   "outputs": [],
   "source": [
    "dict_1 = {\"clave_1\": 1, \"clave_2\": 2, \"clave_3\": 3}\n",
    "print (list(dict_1.keys()))"
   ]
  },
  {
   "cell_type": "markdown",
   "metadata": {},
   "source": [
    "##### Recuperación de valores como una lista"
   ]
  },
  {
   "cell_type": "code",
   "execution_count": null,
   "metadata": {},
   "outputs": [],
   "source": [
    "dict_1 = {\"clave_1\": 1, \"clave_2\": 2, \"clave_3\": 3}\n",
    "print (list(dict_1.values()))"
   ]
  },
  {
   "cell_type": "markdown",
   "metadata": {},
   "source": [
    "## Conjuntos (set)"
   ]
  },
  {
   "cell_type": "markdown",
   "metadata": {},
   "source": [
    "Un conjunto es una secuencia:\n",
    "<ul>\n",
    "<li>Unidimensional (de un único nivel)</li>\n",
    "<li>Mutable</li>\n",
    "<li>De tamaño variable (al ser mutable es obvio)</li>\n",
    "<li>Desordenada</li>\n",
    "<li>Cuyos elementos son valores o secuencias</li>\n",
    "<li>Cuyos elementos son únicos (no hay elementos repetidos)</li>\n",
    "</ul>"
   ]
  },
  {
   "cell_type": "markdown",
   "metadata": {},
   "source": [
    "##### Cración de un conjunto"
   ]
  },
  {
   "cell_type": "code",
   "execution_count": null,
   "metadata": {},
   "outputs": [],
   "source": [
    "set_1 = {1, 2, 3, 4, 5}\n",
    "print (set_1)"
   ]
  },
  {
   "cell_type": "markdown",
   "metadata": {},
   "source": [
    "##### Conversión/casting a conjunto"
   ]
  },
  {
   "cell_type": "code",
   "execution_count": null,
   "metadata": {},
   "outputs": [],
   "source": [
    "list_1 = [1, 2, 3, 4, 5]\n",
    "set_1 = set(list_1)\n",
    "print (type(set_1))"
   ]
  },
  {
   "cell_type": "markdown",
   "metadata": {},
   "source": [
    "##### Unión de conjuntos"
   ]
  },
  {
   "cell_type": "code",
   "execution_count": null,
   "metadata": {},
   "outputs": [],
   "source": [
    "set_1 = {1, 2, 3, 4, 5}\n",
    "set_2 = {3, 4, 5, 6, 7}\n",
    "print (set_1 | set_2)"
   ]
  },
  {
   "cell_type": "markdown",
   "metadata": {},
   "source": [
    "##### Intersección de conjuntos"
   ]
  },
  {
   "cell_type": "code",
   "execution_count": null,
   "metadata": {},
   "outputs": [],
   "source": [
    "set_1 = {1, 2, 3, 4, 5}\n",
    "set_2 = {3, 4, 5, 6, 7}\n",
    "print (set_1 & set_2)"
   ]
  },
  {
   "cell_type": "markdown",
   "metadata": {},
   "source": [
    "##### Diferencia de conjuntos"
   ]
  },
  {
   "cell_type": "code",
   "execution_count": null,
   "metadata": {},
   "outputs": [],
   "source": [
    "set_1 = {1, 2, 3, 4, 5}\n",
    "set_2 = {3, 4, 5, 6, 7}\n",
    "print (set_1 - set_2)\n",
    "print (set_2 - set_1)"
   ]
  },
  {
   "cell_type": "markdown",
   "metadata": {},
   "source": [
    "##### Diferencia simétrica de conjuntos - (Unión - Intersección)"
   ]
  },
  {
   "cell_type": "code",
   "execution_count": null,
   "metadata": {},
   "outputs": [],
   "source": [
    "set_1 = {1, 2, 3, 4, 5}\n",
    "set_2 = {3, 4, 5, 6, 7}\n",
    "print (set_1 ^ set_2)\n",
    "print( set_2 ^ set_1)"
   ]
  },
  {
   "cell_type": "markdown",
   "metadata": {},
   "source": [
    "##### Inserción de elementos en un conjunto "
   ]
  },
  {
   "cell_type": "code",
   "execution_count": null,
   "metadata": {},
   "outputs": [],
   "source": [
    "set_1 = {1, 2, 3, 4, 5}\n",
    "set_1.add(6)\n",
    "print (set_1)"
   ]
  },
  {
   "cell_type": "markdown",
   "metadata": {},
   "source": [
    "##### Comprobación de existencia de un elemento en el conjunto"
   ]
  },
  {
   "cell_type": "code",
   "execution_count": null,
   "metadata": {},
   "outputs": [],
   "source": [
    "set_1 = {1, 2, 3, 4, 5}\n",
    "3 in set_1"
   ]
  },
  {
   "cell_type": "markdown",
   "metadata": {},
   "source": [
    "##### Comprobación de subconjunto"
   ]
  },
  {
   "cell_type": "code",
   "execution_count": null,
   "metadata": {},
   "outputs": [],
   "source": [
    "set_1 = {1, 2, 3, 4, 5}\n",
    "set_2 = {1, 2, 3}\n",
    "set_1 >= set_2"
   ]
  },
  {
   "cell_type": "markdown",
   "metadata": {},
   "source": [
    "##### Comprobación de superconjunto"
   ]
  },
  {
   "cell_type": "code",
   "execution_count": null,
   "metadata": {},
   "outputs": [],
   "source": [
    "set_1 = {1, 2, 3, 4, 5}\n",
    "set_2 = {1, 2, 3}\n",
    "set_2 <= set_1"
   ]
  },
  {
   "cell_type": "markdown",
   "metadata": {},
   "source": [
    "##### Eliminación de un elemento de un conjunto por valor"
   ]
  },
  {
   "cell_type": "code",
   "execution_count": null,
   "metadata": {},
   "outputs": [],
   "source": [
    "set_1 = {1, 2, 3, 4, 5}\n",
    "set_1.remove(5)\n",
    "\n",
    "set_1.discard(6) #Elimina elemento (si no existe en el conjunto no pasa nada)\n",
    "print (set_1)"
   ]
  },
  {
   "cell_type": "markdown",
   "metadata": {},
   "source": [
    "##### Eliminación de todos los elementos de un conjunto"
   ]
  },
  {
   "cell_type": "code",
   "execution_count": null,
   "metadata": {},
   "outputs": [],
   "source": [
    "set_1 = {1, 2, 3, 4, 5}\n",
    "set_1.clear()\n",
    "print (set_1)"
   ]
  }
 ],
 "metadata": {
  "anaconda-cloud": {},
  "kernelspec": {
   "display_name": "Python 3",
   "language": "python",
   "name": "python3"
  },
  "language_info": {
   "codemirror_mode": {
    "name": "ipython",
    "version": 3
   },
   "file_extension": ".py",
   "mimetype": "text/x-python",
   "name": "python",
   "nbconvert_exporter": "python",
   "pygments_lexer": "ipython3",
   "version": "3.8.8"
  }
 },
 "nbformat": 4,
 "nbformat_minor": 1
}
