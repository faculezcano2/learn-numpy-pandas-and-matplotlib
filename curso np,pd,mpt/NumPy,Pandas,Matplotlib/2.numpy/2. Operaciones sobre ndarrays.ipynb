{
 "cells": [
  {
   "cell_type": "markdown",
   "metadata": {},
   "source": [
    "# Operaciones sobre ndarrays"
   ]
  },
  {
   "cell_type": "markdown",
   "metadata": {},
   "source": [
    "NumPy pone a nuestra disposición un amplio conjunto de funciones optimizadas para aplicar sobre ndarrays de forma global evitando así la necesidad de utilizar bucles (mucho más costosos)."
   ]
  },
  {
   "cell_type": "code",
   "execution_count": null,
   "metadata": {},
   "outputs": [],
   "source": [
    "import numpy as np"
   ]
  },
  {
   "cell_type": "markdown",
   "metadata": {},
   "source": [
    "### Generación de números aleatorios"
   ]
  },
  {
   "cell_type": "markdown",
   "metadata": {},
   "source": [
    "Aunque el core de Pyhton incluye un modulo <b>random</b> para llevar a cabo la generación de números aleatorios, NumPy ofrece una mejora sobre el mismo permitiendo generar directamente ndarrays de valores aleatorios en base a diversas distribuciones. Todas estas funciones están disponibles a través del submódulo <b>random</b>.<br/>"
   ]
  },
  {
   "cell_type": "code",
   "execution_count": null,
   "metadata": {},
   "outputs": [],
   "source": [
    "import numpy as np\n",
    "import numpy.random as random"
   ]
  },
  {
   "cell_type": "markdown",
   "metadata": {},
   "source": [
    "Algunas de las más comunes son:\n",
    "<ul>\n",
    "<li><b>seed:</b> Establecimiento de semilla del generador de números aleatorios.</li>\n",
    "<li><b>permutation:</b> Devuelve una permutación aleatoria de una secuencia de entrada (por copia).</li>\n",
    "<li><b>shuffle:</b> Aplica una permutación aleatoria sobre los elementos de la secuencia de entrada (sin copia).</li>\n",
    "<li><b>rand:</b> Genera una muestra de números aleatorios utilizando una distribución uniforme.</li>\n",
    "<li><b>randint:</b> Genera una muestra de números aleatorios enteros dentro de un rango definido.</li>\n",
    "<li><b>randn:</b> Genera una muestra de números aleatorios utilizando una distribución normal de media 0 y desviación 1.</li>\n",
    "<li><b>binomial:</b> Genera una muestra de números aleatorios utilizando una distribución binomial.</li>\n",
    "<li><b>normal:</b> Genera una muestra de números aleatorios utilizando una distribución normal.</li>\n",
    "<li><b>beta:</b> Genera una muestra de números aleatorios utilizando una distribución beta.</li>\n",
    "<li><b>chisquare:</b> Genera una muestra de números aleatorios utilizando una distribución chi cuadrado.</li>\n",
    "<li><b>gamma:</b> Genera una muestra de números aleatorios utilizando una distribución gamma.</li>\n",
    "<li><b>uniform:</b> Genera una muestra de números aleatorios utilizando una distribución uniforme [0, 1).</li>\n",
    "\n",
    "\n",
    "</ul>"
   ]
  },
  {
   "cell_type": "code",
   "execution_count": null,
   "metadata": {},
   "outputs": [],
   "source": [
    "random.seed(42)"
   ]
  },
  {
   "cell_type": "code",
   "execution_count": null,
   "metadata": {},
   "outputs": [],
   "source": [
    "random.rand()"
   ]
  },
  {
   "cell_type": "code",
   "execution_count": null,
   "metadata": {},
   "outputs": [],
   "source": [
    "random.randn(5)"
   ]
  },
  {
   "cell_type": "code",
   "execution_count": null,
   "metadata": {},
   "outputs": [],
   "source": [
    "random.binomial(1, 0.5, 10)"
   ]
  },
  {
   "cell_type": "code",
   "execution_count": null,
   "metadata": {},
   "outputs": [],
   "source": [
    "array_per = np.arange(9)\n",
    "random.permutation(array_per)"
   ]
  },
  {
   "cell_type": "code",
   "execution_count": null,
   "metadata": {},
   "outputs": [],
   "source": [
    "array_per"
   ]
  },
  {
   "cell_type": "code",
   "execution_count": null,
   "metadata": {},
   "outputs": [],
   "source": [
    "random.shuffle(array_per)"
   ]
  },
  {
   "cell_type": "code",
   "execution_count": null,
   "metadata": {},
   "outputs": [],
   "source": [
    "array_per"
   ]
  },
  {
   "cell_type": "markdown",
   "metadata": {},
   "source": [
    "### Operaciones elemento a elemento - Universal functions"
   ]
  },
  {
   "cell_type": "markdown",
   "metadata": {},
   "source": [
    "El primero de los conjuntos de funciones ofrecido por NumPy son las llamadas \"funciones universales\" (o ufuncs) que permiten la realización de operaciones elemento a elemento de un array. En función del número de parámetros encontramos dos tipos de funciones universales."
   ]
  },
  {
   "cell_type": "markdown",
   "metadata": {},
   "source": [
    "#### Funciones unarias"
   ]
  },
  {
   "cell_type": "markdown",
   "metadata": {},
   "source": [
    "Son aquellas funciones que reciben como parámetro un único ndarray.<br/>\n",
    "<ul>\n",
    "<li><b>abs, fabs:</b> Valor absoluto.</li>\n",
    "<li><b>sqrt:</b> Raíz cuadrada (equivalente a array \\*\\* 0.5).</li>\n",
    "<li><b>square:</b> Potencia al cuadrado (equivalente a array ** 2).</li>\n",
    "<li><b>exp:</b> Potencia de e.</li>\n",
    "<li><b>log, log10, log2, log1p:</b> Logaritmos en distintas bases.</li>\n",
    "<li><b>sign:</b> Signo (+ = 1 / - = -1 / 0 = 0).</li>\n",
    "<li><b>ceil:</b> Techo.</li>\n",
    "<li><b>floor:</b> Suelo.</li>\n",
    "<li><b>rint:</b> Redondeo al entero más cercano.</li>\n",
    "<li><b>modf:</b> Devuelve dos arrays uno con la parte fraccionaria y otro con la parte entera.</li>\n",
    "<li><b>isnan:</b> Devuelve un array booleano indicando si el valor es NaN o no.</li>\n",
    "<li><b>isfinite, isinf:</b> Devuelve un array booleano indicando si el valor es finito o infinito.</li>\n",
    "<li><b>cos, cosh, sin, sinh, tan, tanh:</b> Funciones trigonométricas.</li>\n",
    "<li><b>arccos, arccosh, arcsin, arcsinh, arctan, arctanh:</b> Funciones trigonométricas inversas.</li>\n",
    "<li><b>logical_not:</b> Inverso booleano de todos los valores del array (equivalente a ~(array)).</li>\n",
    "</ul>"
   ]
  },
  {
   "cell_type": "code",
   "execution_count": null,
   "metadata": {},
   "outputs": [],
   "source": [
    "array = np.array([1,-2,3,-4,5])\n",
    "np.abs(array)"
   ]
  },
  {
   "cell_type": "code",
   "execution_count": null,
   "metadata": {},
   "outputs": [],
   "source": [
    "np.sign(array)"
   ]
  },
  {
   "cell_type": "code",
   "execution_count": null,
   "metadata": {},
   "outputs": [],
   "source": [
    "array2 = np.array([1.5, 2.4, 0.5, -1.4])\n",
    "np.ceil(array2)"
   ]
  },
  {
   "cell_type": "markdown",
   "metadata": {},
   "source": [
    "#### Funciones binarias"
   ]
  },
  {
   "cell_type": "markdown",
   "metadata": {},
   "source": [
    "Son aquellas funciones que reciben como parámetro dos arrays.\n",
    "<ul>\n",
    "<li><b>add:</b> Adición de los elementos de los dos arrays (equivalente a array1 + array2).</li>\n",
    "<li><b>subtract:</b> Resta de los elementos de los dos arrays (equivalente a array1 - array2).</li>\n",
    "<li><b>multiply:</b> Multiplica los elementos de los dos arrays (equivalente a array1 \\* array2).</li>\n",
    "<li><b>divide, floor_divide:</b> Divide los elementos de los dos arrays (equivalente a array1 / (o //) array2).</li>\n",
    "<li><b>power:</b> Eleva los elementos del primer array a las potencias del segundo (equivalente a array1 ** array2).</li>\n",
    "<li><b>maximum, fmax:</b> Calcula el máximo de los dos arrays (elemento a elemento). fmax ignora NaN.</li>\n",
    "<li><b>minimum, fmin:</b> Calcula el mínimo de los dos arrays (elemento a elemento). fmax ignora NaN.</li>\n",
    "<li><b>mod:</b> Calcula el resto de la división de los dos arrays (equivalente a array1 % array2).</li>\n",
    "<li><b>greater, greater_equal, less, less_equal, equal, not_equal:</b> Comparativas sobre los elementos de ambos ndarrays (elemento a elemento).</li>\n",
    "<li><b>logical_and, logical_or, logical_xor:</b> Operaciones booleanas sobre los elementos de ambos ndarrays (elemento a elemento).</li>\n",
    "</ul>"
   ]
  },
  {
   "cell_type": "code",
   "execution_count": null,
   "metadata": {},
   "outputs": [],
   "source": [
    "array1 = np.random.randn(5, 5)\n",
    "array1"
   ]
  },
  {
   "cell_type": "code",
   "execution_count": null,
   "metadata": {},
   "outputs": [],
   "source": [
    "array2 = np.random.randn(5, 5)\n",
    "array2"
   ]
  },
  {
   "cell_type": "code",
   "execution_count": null,
   "metadata": {},
   "outputs": [],
   "source": [
    "np.minimum(array1, array2)"
   ]
  },
  {
   "cell_type": "code",
   "execution_count": null,
   "metadata": {},
   "outputs": [],
   "source": [
    "np.divide(array1,array2)"
   ]
  },
  {
   "cell_type": "code",
   "execution_count": null,
   "metadata": {},
   "outputs": [],
   "source": [
    "np.floor_divide(array1,array2)"
   ]
  },
  {
   "cell_type": "markdown",
   "metadata": {},
   "source": [
    "### Selección de elementos de ndarrays en función de una condición. `.where`"
   ]
  },
  {
   "cell_type": "markdown",
   "metadata": {},
   "source": [
    "NumPy pone a nuestra disposición, a través de la función <b>np.where</b> la posibilidad de generar un array de salida a partir de dos de entrada, estableciendo una máscara booleana que indique si (elemento a elemento) debemos enviar a la salida el elemento del primer ndarray (valor True) o del segundo (valor False)."
   ]
  },
  {
   "cell_type": "code",
   "execution_count": null,
   "metadata": {},
   "outputs": [],
   "source": [
    "array1 = np.random.randn(5, 5)\n",
    "array1"
   ]
  },
  {
   "cell_type": "code",
   "execution_count": null,
   "metadata": {},
   "outputs": [],
   "source": [
    "array2 = np.random.randn(5, 5)\n",
    "array2"
   ]
  },
  {
   "cell_type": "code",
   "execution_count": null,
   "metadata": {},
   "outputs": [],
   "source": [
    "# Fusión condicional\n",
    "np.where(array1 < array2, array1, array2)"
   ]
  },
  {
   "cell_type": "code",
   "execution_count": null,
   "metadata": {},
   "outputs": [],
   "source": [
    "# Anidación de condiciones\n",
    "np.where(array1 < array2, np.where(array1 < 0, 0, array1), array2)"
   ]
  },
  {
   "cell_type": "markdown",
   "metadata": {},
   "source": [
    "### Funciones matemáticas y estadísticas"
   ]
  },
  {
   "cell_type": "markdown",
   "metadata": {},
   "source": [
    "NumPy ofrece un amplio conjunto de funciones matemáticas y estadísticas que se pueden aplicar sobre ndarrays. A continuación se pueden encontrar los ejemplos más típicos (hay algunas más que pueden consultarse en la documentación oficial de NumPy).<br/>\n",
    "<ul>\n",
    "<li><b>sum:</b> Suma de elementos.</li>\n",
    "<li><b>mean:</b> Media aritmética de los elementos.</li>\n",
    "<li><b>median:</b> Mediana de los elementos.</li>\n",
    "<li><b>std:</b> Desviación estándar de los elementos.</li>\n",
    "<li><b>var:</b> Varianza de los elementos.</li>\n",
    "<li><b>min:</b> Valor mínimo de los elementos.</li>\n",
    "<li><b>max:</b> Valor máximo de los elementos.</li>\n",
    "<li><b>argmin:</b> Índice del valor mínimo.</li>\n",
    "<li><b>argmax:</b> Índice del valor máximo.</li>\n",
    "<li><b>cumsum:</b> Suma acumulada de los elementos.</li>\n",
    "<li><b>cumprod:</b> Producto acumulado de los elementos.</li>\n",
    "</ul>\n",
    "\n",
    "Todas estas funciones pueden recibir, además del ndarray sobre el que se aplicarán, un segundo parámetro llamado <b>axis</b>. Si no se recibe este parámetro las funciones se aplicarán sobre el conjunto global de los elementos del ndarray, pero si se incluye, podrá tomar dos valores:\n",
    "<ul>\n",
    "<li>Valor 0: Aplicará la función por filas</li>\n",
    "<li>Valor 1: Aplicará la función por columnas</li>"
   ]
  },
  {
   "cell_type": "code",
   "execution_count": null,
   "metadata": {},
   "outputs": [],
   "source": [
    "array = np.random.randn(5, 4)\n",
    "array"
   ]
  },
  {
   "cell_type": "code",
   "execution_count": null,
   "metadata": {},
   "outputs": [],
   "source": [
    "# Operación global\n",
    "np.sum(array)"
   ]
  },
  {
   "cell_type": "code",
   "execution_count": null,
   "metadata": {},
   "outputs": [],
   "source": [
    "# Operación por filas\n",
    "np.sum(array, axis=0)"
   ]
  },
  {
   "cell_type": "code",
   "execution_count": null,
   "metadata": {
    "scrolled": true
   },
   "outputs": [],
   "source": [
    "# Operación por columnas\n",
    "np.sum(array, axis=1)"
   ]
  },
  {
   "cell_type": "markdown",
   "metadata": {},
   "source": [
    "Adicionalmente algunas de estas funciones pueden ser utilizadas como \"métodos\" de los ndarray y no sólo como funciones sobre los mismos. En este caso la sintáxis cambiará y se utilizará la notación \"ndarray.funcion()\" "
   ]
  },
  {
   "cell_type": "code",
   "execution_count": null,
   "metadata": {},
   "outputs": [],
   "source": [
    "array.sum()"
   ]
  },
  {
   "cell_type": "code",
   "execution_count": null,
   "metadata": {},
   "outputs": [],
   "source": [
    "np.argmax(array)"
   ]
  },
  {
   "cell_type": "code",
   "execution_count": null,
   "metadata": {},
   "outputs": [],
   "source": [
    "np.argmin(array)"
   ]
  },
  {
   "cell_type": "code",
   "execution_count": null,
   "metadata": {},
   "outputs": [],
   "source": [
    "np.cumsum(array)"
   ]
  },
  {
   "cell_type": "code",
   "execution_count": null,
   "metadata": {},
   "outputs": [],
   "source": [
    "np.cumprod(array)"
   ]
  },
  {
   "cell_type": "markdown",
   "metadata": {},
   "source": [
    "### Operaciones sobre ndarrays booleanos"
   ]
  },
  {
   "cell_type": "markdown",
   "metadata": {},
   "source": [
    "Dado que, internamente, Python trata los valores booleanos True como 1 y los False como 0, es muy sencillo realizar operaciones matemáticas sobre estos valores booleanos de forma que se puedan hacer diferentes chequeos. Por ejemplo..."
   ]
  },
  {
   "cell_type": "code",
   "execution_count": null,
   "metadata": {},
   "outputs": [],
   "source": [
    "array = np.random.randn(5, 5)\n",
    "array"
   ]
  },
  {
   "cell_type": "code",
   "execution_count": null,
   "metadata": {},
   "outputs": [],
   "source": [
    "array > 0"
   ]
  },
  {
   "cell_type": "code",
   "execution_count": null,
   "metadata": {},
   "outputs": [],
   "source": [
    "# Elementos mayores que 0\n",
    "(array > 0).sum()"
   ]
  },
  {
   "cell_type": "code",
   "execution_count": null,
   "metadata": {},
   "outputs": [],
   "source": [
    "# Elementos menores que la media\n",
    "(array < array.mean()).sum()"
   ]
  },
  {
   "cell_type": "markdown",
   "metadata": {},
   "source": [
    "NumPy también pone a nuestra disposición dos funciones de chequeo predefinidas sobre ndarrays booleanos:<br/>\n",
    "<ul>\n",
    "<li><b>any:</b> Para comprobar si alguno de los elementos es True.</li>\n",
    "<li><b>all:</b> Para comprobar si todos los elementos son True.</li>\n",
    "</ul>"
   ]
  },
  {
   "cell_type": "code",
   "execution_count": null,
   "metadata": {},
   "outputs": [],
   "source": [
    "array[0][0] = 0\n",
    "array"
   ]
  },
  {
   "cell_type": "code",
   "execution_count": null,
   "metadata": {},
   "outputs": [],
   "source": [
    "# Alguno de los elementos cumple la condición\n",
    "(array == 0).any()"
   ]
  },
  {
   "cell_type": "code",
   "execution_count": null,
   "metadata": {},
   "outputs": [],
   "source": [
    "# Todos los elementos cumplen la condición\n",
    "((array >= -2) & (array <= 2)).all()"
   ]
  },
  {
   "cell_type": "markdown",
   "metadata": {},
   "source": [
    "### Ordenación de ndarrays"
   ]
  },
  {
   "cell_type": "code",
   "execution_count": null,
   "metadata": {},
   "outputs": [],
   "source": [
    "array = np.random.randn(5, 5)\n",
    "array"
   ]
  },
  {
   "cell_type": "code",
   "execution_count": null,
   "metadata": {},
   "outputs": [],
   "source": [
    "# Datos ordenados\n",
    "np.sort(array) "
   ]
  },
  {
   "cell_type": "code",
   "execution_count": null,
   "metadata": {},
   "outputs": [],
   "source": [
    "# Datos ordenados según el primer eje\n",
    "np.sort(array, axis=0)"
   ]
  },
  {
   "cell_type": "markdown",
   "metadata": {},
   "source": [
    "### Funciones de conjunto"
   ]
  },
  {
   "cell_type": "markdown",
   "metadata": {},
   "source": [
    "NumPy permite realizar tratamientos sobre un ndarray asumiendo que el total de los elementos del mismo forman un conjunto.<br/>\n",
    "<ul>\n",
    "<li><b>unique:</b> Calcula el conjunto único de elementos sin duplicados.</li>\n",
    "<li><b>intersect1d:</b> Calcula la intersección de los elementos de dos arrays.</li>\n",
    "<li><b>union1d:</b> Calcula la unión de los elementos de dos arays.</li>\n",
    "<li><b>in1d:</b> Calcula un array booleano que indica si cada elemento del primer array está contenido en el segundo.</li>\n",
    "<li><b>setdiff1d:</b> Calcula la diferencia entre ambos conjuntos.</li>\n",
    "<li><b>setxor1d:</b> Calcula la diferencia simétrica entre ambos conjuntos.</li>\n",
    "</ul>"
   ]
  },
  {
   "cell_type": "code",
   "execution_count": null,
   "metadata": {},
   "outputs": [],
   "source": [
    "array1 = np.array([6, 0, 0, 0, 3, 2, 5, 6])\n",
    "array1"
   ]
  },
  {
   "cell_type": "code",
   "execution_count": null,
   "metadata": {},
   "outputs": [],
   "source": [
    "array2 = np.array([7, 4, 3, 1, 2, 6, 5])\n",
    "array2"
   ]
  },
  {
   "cell_type": "code",
   "execution_count": null,
   "metadata": {},
   "outputs": [],
   "source": [
    "np.unique(array1)"
   ]
  },
  {
   "cell_type": "code",
   "execution_count": null,
   "metadata": {},
   "outputs": [],
   "source": [
    "np.union1d(array1, array2)"
   ]
  },
  {
   "cell_type": "code",
   "execution_count": null,
   "metadata": {},
   "outputs": [],
   "source": [
    "np.in1d(array1, array2)"
   ]
  }
 ],
 "metadata": {
  "kernelspec": {
   "display_name": "Python 3",
   "language": "python",
   "name": "python3"
  },
  "language_info": {
   "codemirror_mode": {
    "name": "ipython",
    "version": 3
   },
   "file_extension": ".py",
   "mimetype": "text/x-python",
   "name": "python",
   "nbconvert_exporter": "python",
   "pygments_lexer": "ipython3",
   "version": "3.8.8"
  }
 },
 "nbformat": 4,
 "nbformat_minor": 1
}
