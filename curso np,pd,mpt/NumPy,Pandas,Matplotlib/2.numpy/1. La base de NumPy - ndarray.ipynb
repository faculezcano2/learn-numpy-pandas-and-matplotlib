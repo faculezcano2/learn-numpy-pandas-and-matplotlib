{
 "cells": [
  {
   "cell_type": "markdown",
   "metadata": {},
   "source": [
    "# La base de NumPy - ndarray"
   ]
  },
  {
   "cell_type": "markdown",
   "metadata": {},
   "source": [
    "Toda la libería de NumPy se articula alrededor de una única estructura de datos: la matriz multidimensional o ndarray (N-dimensional array).<br/>"
   ]
  },
  {
   "cell_type": "markdown",
   "metadata": {},
   "source": [
    "### Características básicas de ndarray"
   ]
  },
  {
   "cell_type": "markdown",
   "metadata": {},
   "source": [
    "<ul>\n",
    "<li>Un ndarray puede contener elementos de <b>CUALQUIER TIPO</b></li>\n",
    "<li>Todos los elementos de un ndarray deben tener <b>EL MISMO TIPO</b>.</li>\n",
    "<li>El tamaño de un ndarray (número de elementos) se define en el momento de la creación y no puede modificarse.</li>\n",
    "<li>Pero la organización de esos elementos entre diferentes dimensiones sí puede modificarse</li>\n",
    "</ul>"
   ]
  },
  {
   "cell_type": "markdown",
   "metadata": {},
   "source": [
    "### Uso básico de cualquier elemento de NumPy"
   ]
  },
  {
   "cell_type": "markdown",
   "metadata": {},
   "source": [
    "Hay que recordar que NumPy no es un módulo del core de Python por lo que SIEMPRE habrá que importarlo de forma completa o componente a componente."
   ]
  },
  {
   "cell_type": "code",
   "execution_count": null,
   "metadata": {},
   "outputs": [],
   "source": [
    "import numpy as np"
   ]
  },
  {
   "cell_type": "markdown",
   "metadata": {},
   "source": [
    "### Creación básica de ndarrays"
   ]
  },
  {
   "cell_type": "markdown",
   "metadata": {},
   "source": [
    "Existen varias formas de crear un ndarray en NumPy. Vamos a ver las más relevantes."
   ]
  },
  {
   "cell_type": "markdown",
   "metadata": {},
   "source": [
    "#### Creación de un ndarray cuyos elementos son una secuencia numérica"
   ]
  },
  {
   "cell_type": "code",
   "execution_count": null,
   "metadata": {},
   "outputs": [],
   "source": [
    "# Un parámetro: desde 0 (incluido) hasta el valor indicado (no incluido)\n",
    "array_secuencia_1 = np.arange(10)\n",
    "array_secuencia_1"
   ]
  },
  {
   "cell_type": "code",
   "execution_count": null,
   "metadata": {},
   "outputs": [],
   "source": [
    "# Dos parámetros: desde el primer valor (incluido) hasta el segundo valor (no incluido)\n",
    "array_secuencia_2 = np.arange(5, 10)\n",
    "array_secuencia_2"
   ]
  },
  {
   "cell_type": "code",
   "execution_count": null,
   "metadata": {},
   "outputs": [],
   "source": [
    "# Tres parámetros: desde el primer valor (incluido) hasta el segundo (no incluido) con saltos del tercer valor\n",
    "array_secuencia_3 = np.arange(5, 20, 2)\n",
    "array_secuencia_3"
   ]
  },
  {
   "cell_type": "markdown",
   "metadata": {},
   "source": [
    "#### Creación de un ndarray a partir de una secuencia básica de Python"
   ]
  },
  {
   "cell_type": "code",
   "execution_count": null,
   "metadata": {},
   "outputs": [],
   "source": [
    "# Unidimensional\n",
    "array_basico = np.array([1, 2, 3, 4, 5])\n",
    "type(array_basico)"
   ]
  },
  {
   "cell_type": "code",
   "execution_count": null,
   "metadata": {},
   "outputs": [],
   "source": [
    "# Multidimensional\n",
    "array_basico_multidimensional = np.array([[1, 2, 3, 4], [5, 6, 7, 8]])\n",
    "array_basico_multidimensional"
   ]
  },
  {
   "cell_type": "markdown",
   "metadata": {},
   "source": [
    "### Consulta de la composición de un ndarray"
   ]
  },
  {
   "cell_type": "markdown",
   "metadata": {},
   "source": [
    "<ul>\n",
    "<li><b>dtype</b>: Tipo del contenido del ndarray.</li>\n",
    "<li><b>ndim</b>: Número de dimensiones/ejes del ndarray.</li>\n",
    "<li><b>shape</b>: Estructura/forma del ndarray, es decir, número de elementos en cada uno de los ejes/dimensiones.</li>\n",
    "<li><b>size</b>: Número total de elementos en el ndarray.</li>\n",
    "</ul>"
   ]
  },
  {
   "cell_type": "code",
   "execution_count": null,
   "metadata": {},
   "outputs": [],
   "source": [
    "array = np.array([[1, 2, 3, 4], [5, 6, 7, 8], [9, 10, 11, 12]])\n",
    "array"
   ]
  },
  {
   "cell_type": "code",
   "execution_count": null,
   "metadata": {},
   "outputs": [],
   "source": [
    "# Tipo de dato (único)\n",
    "array.dtype"
   ]
  },
  {
   "cell_type": "code",
   "execution_count": null,
   "metadata": {},
   "outputs": [],
   "source": [
    "# Número de dimensiones\n",
    "array.ndim"
   ]
  },
  {
   "cell_type": "code",
   "execution_count": null,
   "metadata": {},
   "outputs": [],
   "source": [
    "# Forma/Dimensiones\n",
    "array.shape"
   ]
  },
  {
   "cell_type": "code",
   "execution_count": null,
   "metadata": {},
   "outputs": [],
   "source": [
    "# Número total de elementos\n",
    "array.size"
   ]
  },
  {
   "cell_type": "markdown",
   "metadata": {},
   "source": [
    "### Operaciones aritméticas entre ndarrays y escalares"
   ]
  },
  {
   "cell_type": "code",
   "execution_count": null,
   "metadata": {},
   "outputs": [],
   "source": [
    "array = np.array([1, 2, 3, 4, 5, 6], dtype=np.float64)\n",
    "array"
   ]
  },
  {
   "cell_type": "code",
   "execution_count": null,
   "metadata": {},
   "outputs": [],
   "source": [
    "# Suma\n",
    "array + 5"
   ]
  },
  {
   "cell_type": "code",
   "execution_count": null,
   "metadata": {},
   "outputs": [],
   "source": [
    "# Resta\n",
    "array - 2"
   ]
  },
  {
   "cell_type": "code",
   "execution_count": null,
   "metadata": {},
   "outputs": [],
   "source": [
    "# Multiplicación\n",
    "array * 3"
   ]
  },
  {
   "cell_type": "code",
   "execution_count": null,
   "metadata": {},
   "outputs": [],
   "source": [
    "# División\n",
    "1 / array"
   ]
  },
  {
   "cell_type": "code",
   "execution_count": null,
   "metadata": {},
   "outputs": [],
   "source": [
    "# División entera\n",
    "array // 2"
   ]
  },
  {
   "cell_type": "code",
   "execution_count": null,
   "metadata": {},
   "outputs": [],
   "source": [
    "# Potencia\n",
    "array ** 2"
   ]
  },
  {
   "cell_type": "code",
   "execution_count": null,
   "metadata": {},
   "outputs": [],
   "source": [
    "# Asignación con operador\n",
    "print(array)\n",
    "array += 1\n",
    "print(array)"
   ]
  },
  {
   "cell_type": "markdown",
   "metadata": {},
   "source": [
    "### Operaciones aritméticas entre ndarrays"
   ]
  },
  {
   "cell_type": "markdown",
   "metadata": {},
   "source": [
    "<b>IMPORTANTE:</b> Los dos términos de la operación tienen que ser ndarrays de las mismas dimensiones y forma. Se aplica la operación elemento a elemento."
   ]
  },
  {
   "cell_type": "code",
   "execution_count": null,
   "metadata": {},
   "outputs": [],
   "source": [
    "array = np.array([1, 2, 3, 4, 5, 6], dtype=np.float64)\n",
    "array2 = np.array([10, 20, 30, 40, 50, 60], dtype=np.float64)"
   ]
  },
  {
   "cell_type": "code",
   "execution_count": null,
   "metadata": {},
   "outputs": [],
   "source": [
    "print(array)\n",
    "print(array2)"
   ]
  },
  {
   "cell_type": "code",
   "execution_count": null,
   "metadata": {},
   "outputs": [],
   "source": [
    "# Suma (elemento a elmento)\n",
    "array + array2"
   ]
  },
  {
   "cell_type": "code",
   "execution_count": null,
   "metadata": {},
   "outputs": [],
   "source": [
    "# Resta (elemento a elmento)\n",
    "array - array2"
   ]
  },
  {
   "cell_type": "code",
   "execution_count": null,
   "metadata": {},
   "outputs": [],
   "source": [
    "# Multiplicación (elemento a elmento)\n",
    "array * array2"
   ]
  },
  {
   "cell_type": "code",
   "execution_count": null,
   "metadata": {},
   "outputs": [],
   "source": [
    "# División (elemento a elmento)\n",
    "array / array2"
   ]
  },
  {
   "cell_type": "code",
   "execution_count": null,
   "metadata": {},
   "outputs": [],
   "source": [
    "# Asignación con operador\n",
    "array += array2\n",
    "array"
   ]
  },
  {
   "cell_type": "code",
   "execution_count": null,
   "metadata": {},
   "outputs": [],
   "source": [
    "# Suma de ndarrays de distinto tamaño\n",
    "array1 = np.array([1, 2,3 ,4, 5])\n",
    "array + array1"
   ]
  },
  {
   "cell_type": "markdown",
   "metadata": {},
   "source": [
    "### Indexación y slicing básico"
   ]
  },
  {
   "cell_type": "markdown",
   "metadata": {},
   "source": [
    "En ndarrays unidimensionales el funcionamiento es idéntico al que se tiene en secuencias básicas de Python. Es decir, se utiliza la indexación [a:b:c]."
   ]
  },
  {
   "cell_type": "code",
   "execution_count": null,
   "metadata": {},
   "outputs": [],
   "source": [
    "array = np.arange(1, 11)"
   ]
  },
  {
   "cell_type": "code",
   "execution_count": null,
   "metadata": {},
   "outputs": [],
   "source": [
    "# Indexación con primer parámetro\n",
    "array[2]"
   ]
  },
  {
   "cell_type": "code",
   "execution_count": null,
   "metadata": {},
   "outputs": [],
   "source": [
    "# Indexación con primer y segundo parámetro\n",
    "array[2:5]"
   ]
  },
  {
   "cell_type": "code",
   "execution_count": null,
   "metadata": {},
   "outputs": [],
   "source": [
    "# Indexación con tercer parámetro\n",
    "array[::2]"
   ]
  },
  {
   "cell_type": "code",
   "execution_count": null,
   "metadata": {},
   "outputs": [],
   "source": [
    "# Indexación con negativos\n",
    "array[::-1]"
   ]
  },
  {
   "cell_type": "markdown",
   "metadata": {},
   "source": [
    "En ndarrays multidimensionales, existen dos posibles formas de realizar el acceso:<br/>\n",
    "<ul>\n",
    "<li><b>Mediante indexación recursiva:</b> array[a:b:c en dim_1][a:b:c en dim_2]...[a:b:c en dim_n]</li>\n",
    "<li><b>Mediante indexación con comas:</b> array[a:b:c en dim_1, a:b:c en dim_2, ...a:b:c en dim_n]</li>\n",
    "</ul>"
   ]
  },
  {
   "cell_type": "code",
   "execution_count": null,
   "metadata": {},
   "outputs": [],
   "source": [
    "array = np.array([[[1, 2, 3, 4], [5, 6, 7, 8]], [[9, 10, 11, 12], [13, 14, 15, 16]]])\n",
    "array"
   ]
  },
  {
   "cell_type": "code",
   "execution_count": null,
   "metadata": {},
   "outputs": [],
   "source": [
    "# Forma de la matriz\n",
    "array.shape"
   ]
  },
  {
   "cell_type": "code",
   "execution_count": null,
   "metadata": {},
   "outputs": [],
   "source": [
    "# Indexación recursiva primer nivel\n",
    "array[1]"
   ]
  },
  {
   "cell_type": "code",
   "execution_count": null,
   "metadata": {},
   "outputs": [],
   "source": [
    "# Indexación recursiva segundo nivel\n",
    "array[1][0]"
   ]
  },
  {
   "cell_type": "code",
   "execution_count": null,
   "metadata": {},
   "outputs": [],
   "source": [
    "# Indexación recursiva tercer nivel\n",
    "array[1][0][3]"
   ]
  },
  {
   "cell_type": "code",
   "execution_count": null,
   "metadata": {},
   "outputs": [],
   "source": [
    "# Indexación con comas segundo nivel\n",
    "array[1, 0]"
   ]
  },
  {
   "cell_type": "code",
   "execution_count": null,
   "metadata": {},
   "outputs": [],
   "source": [
    "# Indexación con comas tercer nivel\n",
    "array[1, 0, 3]"
   ]
  },
  {
   "cell_type": "code",
   "execution_count": null,
   "metadata": {},
   "outputs": [],
   "source": [
    "# Indexación recursiva tercer nivel con slice\n",
    "array[0][0][:2]"
   ]
  },
  {
   "cell_type": "code",
   "execution_count": null,
   "metadata": {},
   "outputs": [],
   "source": [
    "# Indexación recursiva tercer nivel con slice de índice negativo\n",
    "array[1][0][::-1]"
   ]
  },
  {
   "cell_type": "markdown",
   "metadata": {},
   "source": [
    "Del mismo modo a como ocurre en Python básico, se puede utilizar la indexación/slicing para modificar secciones del contenido de un ndarray."
   ]
  },
  {
   "cell_type": "code",
   "execution_count": null,
   "metadata": {},
   "outputs": [],
   "source": [
    "array = np.array([[1, 2, 3, 4],[5, 6, 7, 8]])"
   ]
  },
  {
   "cell_type": "code",
   "execution_count": null,
   "metadata": {},
   "outputs": [],
   "source": [
    "# Modificación de una posición\n",
    "array[0][1] = 50\n",
    "array"
   ]
  },
  {
   "cell_type": "code",
   "execution_count": null,
   "metadata": {},
   "outputs": [],
   "source": [
    "# Modificación de un slice\n",
    "array[0][::2] = 30\n",
    "array"
   ]
  },
  {
   "cell_type": "markdown",
   "metadata": {},
   "source": [
    "### Indexación y slicing booleano"
   ]
  },
  {
   "cell_type": "code",
   "execution_count": null,
   "metadata": {},
   "outputs": [],
   "source": [
    "personas = np.array(['Miguel', 'Pedro', 'Juan', 'Miguel'])\n",
    "personas"
   ]
  },
  {
   "cell_type": "code",
   "execution_count": null,
   "metadata": {},
   "outputs": [],
   "source": [
    "datos = np.array([[1, 2, 3, 4],[5, 6, 7, 8],[-5, -6, -7, -8],[-1, -2, -3, -4]])\n",
    "datos"
   ]
  },
  {
   "cell_type": "code",
   "execution_count": null,
   "metadata": {},
   "outputs": [],
   "source": [
    "# Indexación/slicing booleano sobre valores\n",
    "datos[datos < 0]"
   ]
  },
  {
   "cell_type": "code",
   "execution_count": null,
   "metadata": {},
   "outputs": [],
   "source": [
    "# Máscara booleana\n",
    "personas == 'Miguel'"
   ]
  },
  {
   "cell_type": "code",
   "execution_count": null,
   "metadata": {},
   "outputs": [],
   "source": [
    "# Indexación/slicing mediante máscara\n",
    "datos[personas == 'Miguel']"
   ]
  },
  {
   "cell_type": "code",
   "execution_count": null,
   "metadata": {},
   "outputs": [],
   "source": [
    "# Indexación/slicing mediante máscara y básico combinado\n",
    "datos[personas == 'Miguel', :3]"
   ]
  },
  {
   "cell_type": "code",
   "execution_count": null,
   "metadata": {},
   "outputs": [],
   "source": [
    "# Indexación/slicing mediante máscara negativo por operador\n",
    "datos[personas != 'Miguel']"
   ]
  },
  {
   "cell_type": "code",
   "execution_count": null,
   "metadata": {},
   "outputs": [],
   "source": [
    "# Indexación/slicing mediante máscara negativa por signo\n",
    "datos[~(personas == 'Miguel')]"
   ]
  },
  {
   "cell_type": "markdown",
   "metadata": {},
   "source": [
    "De nuevo, podemos utilizar indexación/slicing booleano para realizar modificaciones sobre el contenido de un ndarray."
   ]
  },
  {
   "cell_type": "code",
   "execution_count": null,
   "metadata": {},
   "outputs": [],
   "source": [
    "# Eliminación de valores negativos mediante slicing\n",
    "print(\"Antes:\")\n",
    "print(datos)\n",
    "print(\"\\n\")\n",
    "print(\"Elementos que vamos a poner a 0:\")\n",
    "print(datos[datos < 0])\n",
    "array[datos < 0] = 0\n",
    "print(\"\\n\")\n",
    "print(\"Despues:\")\n",
    "print(array)"
   ]
  },
  {
   "cell_type": "markdown",
   "metadata": {},
   "source": [
    "### Indexación y slicing basado en secuencias de enteros - Fancy indexing"
   ]
  },
  {
   "cell_type": "code",
   "execution_count": null,
   "metadata": {},
   "outputs": [],
   "source": [
    "array = np.empty((8, 4))\n",
    "for i in range(8):\n",
    "    array[i] = i\n",
    "array    "
   ]
  },
  {
   "cell_type": "code",
   "execution_count": null,
   "metadata": {},
   "outputs": [],
   "source": [
    "# Indexación/slicing de un conjunto (arbitrario) de elementos\n",
    "array[[2, 5]]"
   ]
  },
  {
   "cell_type": "code",
   "execution_count": null,
   "metadata": {},
   "outputs": [],
   "source": [
    "# Indexación/slicing de un conjunto (arbitrario) de elementos (índices negativos)\n",
    "array[[-2, -5]]"
   ]
  },
  {
   "cell_type": "markdown",
   "metadata": {},
   "source": [
    "También podemos indexar de manera arbitraria en múltiples dimensiones, utilizando para ello, una secuencia de enteros por cada dimensión. El resultado será la combinación de secuencias."
   ]
  },
  {
   "cell_type": "code",
   "execution_count": null,
   "metadata": {},
   "outputs": [],
   "source": [
    "array = np.arange(32).reshape((8, 4))\n",
    "array"
   ]
  },
  {
   "cell_type": "code",
   "execution_count": null,
   "metadata": {},
   "outputs": [],
   "source": [
    "# Indexación/slicing con una secuencia de varios niveles (elemento a elemento)\n",
    "array[[1, 5, 7, 2], [0, 3, 1, 2]]"
   ]
  },
  {
   "cell_type": "code",
   "execution_count": null,
   "metadata": {},
   "outputs": [],
   "source": [
    "# Indexación/slicing con una secuencia de varios niveles (región resultante)\n",
    "array[[1, 5, 7, 2]][:, [0, 3, 1, 2]]"
   ]
  },
  {
   "cell_type": "markdown",
   "metadata": {},
   "source": [
    "### Trasposición y modificación de ejes/dimensiones"
   ]
  },
  {
   "cell_type": "code",
   "execution_count": null,
   "metadata": {},
   "outputs": [],
   "source": [
    "array = np.arange(15)\n",
    "array"
   ]
  },
  {
   "cell_type": "code",
   "execution_count": null,
   "metadata": {},
   "outputs": [],
   "source": [
    "# Modificación de ejes/dimensiones\n",
    "array2 = array.reshape(3, 5)\n",
    "array2"
   ]
  },
  {
   "cell_type": "code",
   "execution_count": null,
   "metadata": {},
   "outputs": [],
   "source": [
    "# Trasposición de ejes/dimensiones\"\n",
    "array2.T\n"
   ]
  },
  {
   "cell_type": "markdown",
   "metadata": {},
   "source": [
    "**Axis**\n",
    "\n",
    "Valor 0: Aplicará la función por filas\n",
    "\n",
    "\n",
    "Valor 1: Aplicará la función por columnas"
   ]
  },
  {
   "cell_type": "code",
   "execution_count": null,
   "metadata": {},
   "outputs": [],
   "source": [
    "array2"
   ]
  },
  {
   "cell_type": "code",
   "execution_count": null,
   "metadata": {},
   "outputs": [],
   "source": [
    "array2.sum()"
   ]
  },
  {
   "cell_type": "code",
   "execution_count": null,
   "metadata": {},
   "outputs": [],
   "source": [
    "array2.sum(axis = 1)"
   ]
  },
  {
   "cell_type": "code",
   "execution_count": null,
   "metadata": {},
   "outputs": [],
   "source": [
    "array2.sum(axis = 0)"
   ]
  }
 ],
 "metadata": {
  "anaconda-cloud": {},
  "kernelspec": {
   "display_name": "Python 3",
   "language": "python",
   "name": "python3"
  },
  "language_info": {
   "codemirror_mode": {
    "name": "ipython",
    "version": 3
   },
   "file_extension": ".py",
   "mimetype": "text/x-python",
   "name": "python",
   "nbconvert_exporter": "python",
   "pygments_lexer": "ipython3",
   "version": "3.8.8"
  }
 },
 "nbformat": 4,
 "nbformat_minor": 1
}
