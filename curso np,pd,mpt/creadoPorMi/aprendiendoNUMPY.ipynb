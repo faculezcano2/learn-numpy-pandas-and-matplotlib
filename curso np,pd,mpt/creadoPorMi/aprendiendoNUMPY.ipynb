{
 "cells": [
  {
   "cell_type": "markdown",
   "metadata": {},
   "source": [
    "NumPy es una biblioteca para el lenguaje de programación Python que da soporte para crear vectores y matrices grandes multidimensionales, junto con una gran colección de funciones matemáticas de alto nivel para operar con ellas.\n",
    "\n",
    "toda la libreria numpy se articula alrededor de una unica estructura de datos: la matriz multidimensional o ndarray (N-dimensional array)\n",
    "caracteristicas de ndarray:\n",
    "-Un ndarray puede contener elementos de cualquier tipo\n",
    "-Todos los elementos de un ndarray deben ser del mismo tipo \n",
    "-el tamaño del ndarray se establece en el momento de la implementacion y no puede cambiarse\n",
    "-Pero la organizacion de esos elementos entre diferentes dimensiones si puede modificarse"
   ]
  },
  {
   "cell_type": "code",
   "execution_count": 2,
   "metadata": {},
   "outputs": [],
   "source": [
    "import numpy as np"
   ]
  },
  {
   "cell_type": "markdown",
   "metadata": {},
   "source": [
    "creacion basica de ndarrays:\n",
    "existen varias formas pero vamos a ver las mas basicas."
   ]
  },
  {
   "cell_type": "code",
   "execution_count": 3,
   "metadata": {},
   "outputs": [
    {
     "name": "stderr",
     "output_type": "stream",
     "text": [
      "C:\\Users\\Facu\\AppData\\Local\\Temp\\ipykernel_10252\\419114446.py:2: DeprecationWarning: `np.unicode` is a deprecated alias for `np.compat.unicode`. To silence this warning, use `np.compat.unicode` by itself. In the likely event your code does not need to work on Python 2 you can use the builtin `str` for which `np.compat.unicode` is itself an alias. Doing this will not modify any behaviour and is safe. If you specifically wanted the numpy scalar type, use `np.str_` here.\n",
      "Deprecated in NumPy 1.20; for more details and guidance: https://numpy.org/devdocs/release/1.20.0-notes.html#deprecations\n",
      "  arrayVacio = np.empty((3,2),dtype= np.unicode)\n"
     ]
    },
    {
     "data": {
      "text/plain": [
       "array([['', ''],\n",
       "       ['', ''],\n",
       "       ['', '']], dtype='<U1')"
      ]
     },
     "execution_count": 3,
     "metadata": {},
     "output_type": "execute_result"
    }
   ],
   "source": [
    "#creando un ndarray vacio\n",
    "#especificando dimensiones\n",
    "arrayVacio = np.empty((3,2),dtype= np.unicode)\n",
    "arrayVacio"
   ]
  },
  {
   "cell_type": "code",
   "execution_count": 4,
   "metadata": {},
   "outputs": [
    {
     "data": {
      "text/plain": [
       "array([1435352432,        593,          0,          0,     131074])"
      ]
     },
     "execution_count": 4,
     "metadata": {},
     "output_type": "execute_result"
    }
   ],
   "source": [
    "#copiando dimensiones y tipo desde otra estructura\n",
    "arrayVacioCopia = np.empty_like([1,2,3,4,5])\n",
    "arrayVacioCopia\n"
   ]
  },
  {
   "cell_type": "markdown",
   "metadata": {},
   "source": [
    "creacion de ndarrays de unos"
   ]
  },
  {
   "cell_type": "code",
   "execution_count": 5,
   "metadata": {},
   "outputs": [
    {
     "data": {
      "text/plain": [
       "array([[1., 1.],\n",
       "       [1., 1.],\n",
       "       [1., 1.]])"
      ]
     },
     "execution_count": 5,
     "metadata": {},
     "output_type": "execute_result"
    }
   ],
   "source": [
    "#especificando dimensiones\n",
    "arrayUnos = np.ones((3,2))\n",
    "arrayUnos"
   ]
  },
  {
   "cell_type": "code",
   "execution_count": 11,
   "metadata": {},
   "outputs": [
    {
     "data": {
      "text/plain": [
       "array([1, 1, 1, 1, 1])"
      ]
     },
     "execution_count": 11,
     "metadata": {},
     "output_type": "execute_result"
    }
   ],
   "source": [
    "#copiando dimensiones y tipo de otra estructura\n",
    "arrayUnosCopia = np.ones_like([1,2,3,4,5])\n",
    "arrayUnosCopia"
   ]
  },
  {
   "cell_type": "markdown",
   "metadata": {},
   "source": [
    "creacion de ndarrays de ceros\n"
   ]
  },
  {
   "cell_type": "code",
   "execution_count": 13,
   "metadata": {},
   "outputs": [
    {
     "data": {
      "text/plain": [
       "array([[0., 0., 0.],\n",
       "       [0., 0., 0.]])"
      ]
     },
     "execution_count": 13,
     "metadata": {},
     "output_type": "execute_result"
    }
   ],
   "source": [
    "#especificando dimensiones\n",
    "arrayZeros = np.zeros((2,3))\n",
    "arrayZeros"
   ]
  },
  {
   "cell_type": "code",
   "execution_count": 17,
   "metadata": {},
   "outputs": [
    {
     "data": {
      "text/plain": [
       "array([0, 0, 0, 0, 0])"
      ]
     },
     "execution_count": 17,
     "metadata": {},
     "output_type": "execute_result"
    }
   ],
   "source": [
    "#copiando dimensiones y tipo desde otra estructura\n",
    "arrayZerosCopia = np.zeros_like([1,2,3,4,5])\n",
    "arrayZerosCopia"
   ]
  },
  {
   "cell_type": "markdown",
   "metadata": {},
   "source": [
    "creacion de un ndarray con la matriz identidad"
   ]
  },
  {
   "cell_type": "code",
   "execution_count": 18,
   "metadata": {},
   "outputs": [
    {
     "data": {
      "text/plain": [
       "array([[1., 0., 0.],\n",
       "       [0., 1., 0.],\n",
       "       [0., 0., 1.]])"
      ]
     },
     "execution_count": 18,
     "metadata": {},
     "output_type": "execute_result"
    }
   ],
   "source": [
    "#en el argumento indicamos la matriz de cuanto queremos en este ejemplo de 3x3\n",
    "arrayIdentidad = np.identity(3)\n",
    "arrayIdentidad"
   ]
  },
  {
   "cell_type": "markdown",
   "metadata": {},
   "source": [
    "creacion de un ndarray con unos en una de las diagonales\n"
   ]
  },
  {
   "cell_type": "code",
   "execution_count": 19,
   "metadata": {},
   "outputs": [
    {
     "data": {
      "text/plain": [
       "array([[1., 0., 0., 0.],\n",
       "       [0., 1., 0., 0.],\n",
       "       [0., 0., 1., 0.],\n",
       "       [0., 0., 0., 1.]])"
      ]
     },
     "execution_count": 19,
     "metadata": {},
     "output_type": "execute_result"
    }
   ],
   "source": [
    "#cuaddrada con unos en la diagonal principal\n",
    "arrayIdentidad = np.eye(4)\n",
    "arrayIdentidad"
   ]
  },
  {
   "cell_type": "code",
   "execution_count": 20,
   "metadata": {},
   "outputs": [
    {
     "data": {
      "text/plain": [
       "array([[0., 1., 0., 0.],\n",
       "       [0., 0., 1., 0.],\n",
       "       [0., 0., 0., 1.],\n",
       "       [0., 0., 0., 0.]])"
      ]
     },
     "execution_count": 20,
     "metadata": {},
     "output_type": "execute_result"
    }
   ],
   "source": [
    "#cuadrada con unos en la diagonal especificada\n",
    "arrayConSegundaDiagonal = np.eye(4, k=1)\n",
    "arrayConSegundaDiagonal"
   ]
  },
  {
   "cell_type": "code",
   "execution_count": 21,
   "metadata": {},
   "outputs": [
    {
     "data": {
      "text/plain": [
       "array([[0., 0., 0.],\n",
       "       [1., 0., 0.],\n",
       "       [0., 1., 0.],\n",
       "       [0., 0., 1.]])"
      ]
     },
     "execution_count": 21,
     "metadata": {},
     "output_type": "execute_result"
    }
   ],
   "source": [
    "#NO cuadrada con unos en la diagonal especificada\n",
    "arrayNoCuadrada = np.eye(4,3, k=-1)\n",
    "arrayNoCuadrada"
   ]
  },
  {
   "cell_type": "markdown",
   "metadata": {},
   "source": [
    "creacion de un ndarray cuyos numeros son una secuencia de numeros"
   ]
  },
  {
   "cell_type": "code",
   "execution_count": 22,
   "metadata": {},
   "outputs": [
    {
     "data": {
      "text/plain": [
       "array([0, 1, 2, 3, 4, 5, 6, 7, 8, 9])"
      ]
     },
     "execution_count": 22,
     "metadata": {},
     "output_type": "execute_result"
    }
   ],
   "source": [
    "#un parametro desde 0(incluido) hasta el parametro indicado (no incluido)\n",
    "arraySecuencia1 = np.arange(10)\n",
    "arraySecuencia1"
   ]
  },
  {
   "cell_type": "code",
   "execution_count": 23,
   "metadata": {},
   "outputs": [
    {
     "data": {
      "text/plain": [
       "array([5, 6, 7, 8, 9])"
      ]
     },
     "execution_count": 23,
     "metadata": {},
     "output_type": "execute_result"
    }
   ],
   "source": [
    "#dos parametrso desde el primer parametro(incluido) hasta el segundo parametro(no incluido)\n",
    "arraySecuencia2 = np.arange(5,10)\n",
    "arraySecuencia2"
   ]
  },
  {
   "cell_type": "code",
   "execution_count": 24,
   "metadata": {},
   "outputs": [
    {
     "data": {
      "text/plain": [
       "array([ 5,  7,  9, 11, 13, 15, 17, 19])"
      ]
     },
     "execution_count": 24,
     "metadata": {},
     "output_type": "execute_result"
    }
   ],
   "source": [
    "#tres parametros,desde el primer parametro(incluido) hasta el segundo parametro(no incluido) y con saltos del tercer parametro\n",
    "arraySecuencia3 = np.arange(5,20,2)\n",
    "arraySecuencia3"
   ]
  },
  {
   "cell_type": "markdown",
   "metadata": {},
   "source": [
    "Creacion de un ndarray a partir de una secuencia basica de python"
   ]
  },
  {
   "cell_type": "code",
   "execution_count": 26,
   "metadata": {},
   "outputs": [
    {
     "data": {
      "text/plain": [
       "numpy.ndarray"
      ]
     },
     "execution_count": 26,
     "metadata": {},
     "output_type": "execute_result"
    }
   ],
   "source": [
    "#unidimensional\n",
    "arrayBasico = np.array([1,2,3,4,5])\n",
    "arrayBasico\n",
    "type(arrayBasico)"
   ]
  },
  {
   "cell_type": "code",
   "execution_count": 30,
   "metadata": {},
   "outputs": [
    {
     "data": {
      "text/plain": [
       "array([[1, 2, 3, 4],\n",
       "       [5, 6, 7, 8]])"
      ]
     },
     "execution_count": 30,
     "metadata": {},
     "output_type": "execute_result"
    }
   ],
   "source": [
    "#multidimensional\n",
    "arrayBasicoMultidimensional = np.array([[1,2,3,4],[5,6,7,8]])\n",
    "arrayBasicoMultidimensional"
   ]
  },
  {
   "cell_type": "markdown",
   "metadata": {},
   "source": [
    "TIPOS DE DATOS EN NDARRAY DE NUMPY\n",
    "    -Enteros con signo: np.int8, np.int16, np.int32, np.int64\n",
    "    -Enteros sin signo: np.unit8, np.unit16, np.unit32, np.unit64\n",
    "    -Numeros en coma flotante: np.float16, np.float32, np.float54, np.float128\n",
    "    -booleans: np.bool\n",
    "    -objetos: np.object\n",
    "    -cadenas de caracteres: np.string\\,np.unicode\\\n",
    "    -..."
   ]
  },
  {
   "cell_type": "markdown",
   "metadata": {},
   "source": [
    "Especificacion/casting/conversion de tipos entre ndarrays"
   ]
  },
  {
   "cell_type": "code",
   "execution_count": 31,
   "metadata": {},
   "outputs": [
    {
     "data": {
      "text/plain": [
       "array([1, 2, 3, 4, 5])"
      ]
     },
     "execution_count": 31,
     "metadata": {},
     "output_type": "execute_result"
    }
   ],
   "source": [
    "arrayInicialEnteros = np.array([1,2,3,4,5], dtype=np.int32)\n",
    "arrayInicialEnteros"
   ]
  },
  {
   "cell_type": "code",
   "execution_count": 32,
   "metadata": {},
   "outputs": [
    {
     "data": {
      "text/plain": [
       "array([1., 2., 3., 4., 5.])"
      ]
     },
     "execution_count": 32,
     "metadata": {},
     "output_type": "execute_result"
    }
   ],
   "source": [
    "#convertir el array inicial que esta en tipo entero a flotante\n",
    "arrayFloat = np.asarray(arrayInicialEnteros, dtype=np.float64)\n",
    "arrayFloat"
   ]
  },
  {
   "cell_type": "code",
   "execution_count": 34,
   "metadata": {},
   "outputs": [
    {
     "data": {
      "text/plain": [
       "array(['1.0', '2.0', '3.0', '4.0', '5.0'], dtype='<U32')"
      ]
     },
     "execution_count": 34,
     "metadata": {},
     "output_type": "execute_result"
    }
   ],
   "source": [
    "arrayString = np.asarray(arrayFloat, dtype=np.unicode_)\n",
    "arrayString"
   ]
  },
  {
   "cell_type": "markdown",
   "metadata": {},
   "source": [
    "CONSULTA DE LA COMPOSICION DE UN NDARRAT\n",
    "    -dtype: tipo de contenido del ndarray\n",
    "    -ndim: numero de dimensiones/ejes del ndarray\n",
    "    -shape: estructura/forma del ndarray, es decir el numero0 de elementos en cada uno de los ejes/dimensiones\n",
    "    -size: numero total de elementos en el ndarray"
   ]
  },
  {
   "cell_type": "code",
   "execution_count": 36,
   "metadata": {},
   "outputs": [],
   "source": [
    "array = np.array([[1,2,3,4],[5,6,7,8],[9,10,11,12]])"
   ]
  },
  {
   "cell_type": "code",
   "execution_count": 37,
   "metadata": {},
   "outputs": [
    {
     "data": {
      "text/plain": [
       "dtype('int32')"
      ]
     },
     "execution_count": 37,
     "metadata": {},
     "output_type": "execute_result"
    }
   ],
   "source": [
    "#tipo de dato (unico)\n",
    "array.dtype"
   ]
  },
  {
   "cell_type": "code",
   "execution_count": 38,
   "metadata": {},
   "outputs": [
    {
     "data": {
      "text/plain": [
       "2"
      ]
     },
     "execution_count": 38,
     "metadata": {},
     "output_type": "execute_result"
    }
   ],
   "source": [
    "#numero de dimensiones\n",
    "array.ndim"
   ]
  },
  {
   "cell_type": "code",
   "execution_count": 39,
   "metadata": {},
   "outputs": [
    {
     "data": {
      "text/plain": [
       "(3, 4)"
      ]
     },
     "execution_count": 39,
     "metadata": {},
     "output_type": "execute_result"
    }
   ],
   "source": [
    "#forma/dimensiones\n",
    "array.shape"
   ]
  },
  {
   "cell_type": "code",
   "execution_count": 40,
   "metadata": {},
   "outputs": [
    {
     "data": {
      "text/plain": [
       "12"
      ]
     },
     "execution_count": 40,
     "metadata": {},
     "output_type": "execute_result"
    }
   ],
   "source": [
    "#numero total de elementos\n",
    "array.size"
   ]
  },
  {
   "cell_type": "markdown",
   "metadata": {},
   "source": [
    "Opciones aritmeticas entre ndarrays y escalares\n",
    "esto lo va a hacer en cada uno de los elementos del ndarray, esta es una de las ventajas de numpy, en python sin este modulo tendriamos que hacer un ciclo que haga esa operacion en cada uno de los elementos del array, en cambio aca con numpy se hace solo sin tener que hacer el ciclo que pase por cada uno de los elementos"
   ]
  },
  {
   "cell_type": "code",
   "execution_count": 43,
   "metadata": {},
   "outputs": [],
   "source": [
    "array1 = np.array([1,2,3,4,5,6])"
   ]
  },
  {
   "cell_type": "code",
   "execution_count": 44,
   "metadata": {},
   "outputs": [
    {
     "data": {
      "text/plain": [
       "array([ 6,  7,  8,  9, 10, 11])"
      ]
     },
     "execution_count": 44,
     "metadata": {},
     "output_type": "execute_result"
    }
   ],
   "source": [
    "#suma\n",
    "array1+5"
   ]
  },
  {
   "cell_type": "code",
   "execution_count": 45,
   "metadata": {},
   "outputs": [
    {
     "data": {
      "text/plain": [
       "array([-1,  0,  1,  2,  3,  4])"
      ]
     },
     "execution_count": 45,
     "metadata": {},
     "output_type": "execute_result"
    }
   ],
   "source": [
    "#resta\n",
    "array1 - 2"
   ]
  },
  {
   "cell_type": "code",
   "execution_count": 46,
   "metadata": {},
   "outputs": [
    {
     "data": {
      "text/plain": [
       "array([ 3,  6,  9, 12, 15, 18])"
      ]
     },
     "execution_count": 46,
     "metadata": {},
     "output_type": "execute_result"
    }
   ],
   "source": [
    "#multiplicacion\n",
    "array1*3"
   ]
  },
  {
   "cell_type": "code",
   "execution_count": 47,
   "metadata": {},
   "outputs": [
    {
     "data": {
      "text/plain": [
       "array([0.5, 1. , 1.5, 2. , 2.5, 3. ])"
      ]
     },
     "execution_count": 47,
     "metadata": {},
     "output_type": "execute_result"
    }
   ],
   "source": [
    "#division\n",
    "array1 / 2"
   ]
  },
  {
   "cell_type": "code",
   "execution_count": 48,
   "metadata": {},
   "outputs": [
    {
     "data": {
      "text/plain": [
       "array([0, 1, 1, 2, 2, 3], dtype=int32)"
      ]
     },
     "execution_count": 48,
     "metadata": {},
     "output_type": "execute_result"
    }
   ],
   "source": [
    "#division entera\n",
    "array1 // 2"
   ]
  },
  {
   "cell_type": "code",
   "execution_count": 49,
   "metadata": {},
   "outputs": [
    {
     "data": {
      "text/plain": [
       "array([  1,   8,  27,  64, 125, 216], dtype=int32)"
      ]
     },
     "execution_count": 49,
     "metadata": {},
     "output_type": "execute_result"
    }
   ],
   "source": [
    "#potencia\n",
    "array1 ** 3"
   ]
  },
  {
   "cell_type": "code",
   "execution_count": 51,
   "metadata": {},
   "outputs": [
    {
     "data": {
      "text/plain": [
       "array([3, 4, 5, 6, 7, 8])"
      ]
     },
     "execution_count": 51,
     "metadata": {},
     "output_type": "execute_result"
    }
   ],
   "source": [
    "#asignacion con operador\n",
    "array1 += 1\n",
    "array1"
   ]
  },
  {
   "cell_type": "markdown",
   "metadata": {},
   "source": [
    "Operaciones aritmeticas entre ndarrays\n",
    "Importante: los dos terminos de la operacion tienen que ser ndarrays de la mismas dimensiones y forma. Se aplica la operacion elemento a elemento"
   ]
  },
  {
   "cell_type": "code",
   "execution_count": null,
   "metadata": {},
   "outputs": [],
   "source": [
    "array1 = np.array([1,2,3,4,5,6])"
   ]
  },
  {
   "cell_type": "code",
   "execution_count": 52,
   "metadata": {},
   "outputs": [
    {
     "data": {
      "text/plain": [
       "array([ 6,  8, 10, 12, 14, 16])"
      ]
     },
     "execution_count": 52,
     "metadata": {},
     "output_type": "execute_result"
    }
   ],
   "source": [
    "#suma (elemento a elemento)\n",
    "array1 + array1"
   ]
  },
  {
   "cell_type": "code",
   "execution_count": 53,
   "metadata": {},
   "outputs": [
    {
     "data": {
      "text/plain": [
       "array([0, 0, 0, 0, 0, 0])"
      ]
     },
     "execution_count": 53,
     "metadata": {},
     "output_type": "execute_result"
    }
   ],
   "source": [
    "#resta (elemento a elemento)\n",
    "array1 - array1"
   ]
  },
  {
   "cell_type": "code",
   "execution_count": 54,
   "metadata": {},
   "outputs": [
    {
     "data": {
      "text/plain": [
       "array([ 9, 16, 25, 36, 49, 64])"
      ]
     },
     "execution_count": 54,
     "metadata": {},
     "output_type": "execute_result"
    }
   ],
   "source": [
    "#multiplicacion (elemento a elemento)\n",
    "array1 * array1"
   ]
  },
  {
   "cell_type": "code",
   "execution_count": 55,
   "metadata": {},
   "outputs": [
    {
     "data": {
      "text/plain": [
       "array([1., 1., 1., 1., 1., 1.])"
      ]
     },
     "execution_count": 55,
     "metadata": {},
     "output_type": "execute_result"
    }
   ],
   "source": [
    "#division (elemento a elemento)\n",
    "array1 / array1"
   ]
  },
  {
   "cell_type": "code",
   "execution_count": 57,
   "metadata": {},
   "outputs": [
    {
     "data": {
      "text/plain": [
       "array([12, 16, 20, 24, 28, 32])"
      ]
     },
     "execution_count": 57,
     "metadata": {},
     "output_type": "execute_result"
    }
   ],
   "source": [
    "#asignacion con operador\n",
    "array1 += array1\n",
    "array1"
   ]
  },
  {
   "cell_type": "code",
   "execution_count": 58,
   "metadata": {},
   "outputs": [
    {
     "ename": "ValueError",
     "evalue": "operands could not be broadcast together with shapes (6,) (5,) ",
     "output_type": "error",
     "traceback": [
      "\u001b[1;31m---------------------------------------------------------------------------\u001b[0m",
      "\u001b[1;31mValueError\u001b[0m                                Traceback (most recent call last)",
      "\u001b[1;32mc:\\Users\\Facu\\Desktop\\aprendiendoPython\\numpy\\aprendiendoNUMPY.ipynb Cell 51'\u001b[0m in \u001b[0;36m<module>\u001b[1;34m\u001b[0m\n\u001b[0;32m      <a href='vscode-notebook-cell:/c%3A/Users/Facu/Desktop/aprendiendoPython/numpy/aprendiendoNUMPY.ipynb#ch0000057?line=0'>1</a>\u001b[0m \u001b[39m#suma de ndarrays de distinto tamaño (error, esta mal)\u001b[39;00m\n\u001b[0;32m      <a href='vscode-notebook-cell:/c%3A/Users/Facu/Desktop/aprendiendoPython/numpy/aprendiendoNUMPY.ipynb#ch0000057?line=1'>2</a>\u001b[0m array2 \u001b[39m=\u001b[39m np\u001b[39m.\u001b[39marray([\u001b[39m1\u001b[39m,\u001b[39m2\u001b[39m,\u001b[39m3\u001b[39m,\u001b[39m4\u001b[39m,\u001b[39m5\u001b[39m])\n\u001b[1;32m----> <a href='vscode-notebook-cell:/c%3A/Users/Facu/Desktop/aprendiendoPython/numpy/aprendiendoNUMPY.ipynb#ch0000057?line=2'>3</a>\u001b[0m array1 \u001b[39m+\u001b[39;49m array2\n",
      "\u001b[1;31mValueError\u001b[0m: operands could not be broadcast together with shapes (6,) (5,) "
     ]
    }
   ],
   "source": [
    "#suma de ndarrays de distinto tamaño (error, esta mal)\n",
    "array2 = np.array([1,2,3,4,5])\n",
    "array1 + array2"
   ]
  },
  {
   "cell_type": "markdown",
   "metadata": {},
   "source": [
    "indexacion y slicing basico (como recupero y modifico elementos del ndarray), es igual que en paython usando indexacion [a:b:c]"
   ]
  },
  {
   "cell_type": "code",
   "execution_count": 60,
   "metadata": {},
   "outputs": [
    {
     "data": {
      "text/plain": [
       "array([ 1,  2,  3,  4,  5,  6,  7,  8,  9, 10])"
      ]
     },
     "execution_count": 60,
     "metadata": {},
     "output_type": "execute_result"
    }
   ],
   "source": [
    "array = np.arange(1,11)\n",
    "array"
   ]
  },
  {
   "cell_type": "code",
   "execution_count": 61,
   "metadata": {},
   "outputs": [
    {
     "data": {
      "text/plain": [
       "3"
      ]
     },
     "execution_count": 61,
     "metadata": {},
     "output_type": "execute_result"
    }
   ],
   "source": [
    "#indexacion con primer parametro (ver el elemento en esa posicion)\n",
    "array[2]"
   ]
  },
  {
   "cell_type": "code",
   "execution_count": 62,
   "metadata": {},
   "outputs": [
    {
     "data": {
      "text/plain": [
       "array([3, 4, 5])"
      ]
     },
     "execution_count": 62,
     "metadata": {},
     "output_type": "execute_result"
    }
   ],
   "source": [
    "#indexacion con primero y segundo elemento, desde donde hasta donde ver\n",
    "array[2:5]"
   ]
  },
  {
   "cell_type": "code",
   "execution_count": 63,
   "metadata": {},
   "outputs": [
    {
     "data": {
      "text/plain": [
       "array([ 1,  4,  7, 10])"
      ]
     },
     "execution_count": 63,
     "metadata": {},
     "output_type": "execute_result"
    }
   ],
   "source": [
    "#indexacion con tercer parametro(no quiero todos sino ir dando saltos)\n",
    "array[::3]"
   ]
  },
  {
   "cell_type": "code",
   "execution_count": 65,
   "metadata": {},
   "outputs": [
    {
     "data": {
      "text/plain": [
       "array([10,  9,  8,  7,  6,  5,  4,  3,  2,  1])"
      ]
     },
     "execution_count": 65,
     "metadata": {},
     "output_type": "execute_result"
    }
   ],
   "source": [
    "#indexacion con negativos(del fin a principio)\n",
    "array[::-1]"
   ]
  },
  {
   "cell_type": "markdown",
   "metadata": {},
   "source": [
    "en ndarrays multidimensionales, existen dos posibles formas de realizar el acceso:\n",
    "    -mediante indexacion recursiva: array[a:b:c en dim_1][a:b:c en dim_2]...[a:b:c en dim_n]\n",
    "    -mediante indexacion con comas: array[a:b:c en dim_1, a:b:c en dim2,...,a:b:c en dim_n]"
   ]
  },
  {
   "cell_type": "code",
   "execution_count": 66,
   "metadata": {},
   "outputs": [
    {
     "data": {
      "text/plain": [
       "array([[[ 1,  2,  3,  4],\n",
       "        [ 5,  6,  7,  8]],\n",
       "\n",
       "       [[ 9, 10, 11, 12],\n",
       "        [13, 14, 15, 16]]])"
      ]
     },
     "execution_count": 66,
     "metadata": {},
     "output_type": "execute_result"
    }
   ],
   "source": [
    "array = np.array([[[1,2,3,4], [5,6,7,8]], [[9,10,11,12], [13,14,15,16]]])\n",
    "array"
   ]
  },
  {
   "cell_type": "code",
   "execution_count": 67,
   "metadata": {},
   "outputs": [
    {
     "data": {
      "text/plain": [
       "(2, 2, 4)"
      ]
     },
     "execution_count": 67,
     "metadata": {},
     "output_type": "execute_result"
    }
   ],
   "source": [
    "#forma de la matriz\n",
    "array.shape"
   ]
  },
  {
   "cell_type": "code",
   "execution_count": 68,
   "metadata": {},
   "outputs": [
    {
     "data": {
      "text/plain": [
       "array([[ 9, 10, 11, 12],\n",
       "       [13, 14, 15, 16]])"
      ]
     },
     "execution_count": 68,
     "metadata": {},
     "output_type": "execute_result"
    }
   ],
   "source": [
    "#indexacion recursiva primer nivel\n",
    "array[1]"
   ]
  },
  {
   "cell_type": "code",
   "execution_count": 69,
   "metadata": {},
   "outputs": [
    {
     "data": {
      "text/plain": [
       "array([ 9, 10, 11, 12])"
      ]
     },
     "execution_count": 69,
     "metadata": {},
     "output_type": "execute_result"
    }
   ],
   "source": [
    "#indexacion recursiva segundo nivel\n",
    "array[1][0]"
   ]
  },
  {
   "cell_type": "code",
   "execution_count": 70,
   "metadata": {},
   "outputs": [
    {
     "data": {
      "text/plain": [
       "12"
      ]
     },
     "execution_count": 70,
     "metadata": {},
     "output_type": "execute_result"
    }
   ],
   "source": [
    "#indexacion recursiva tercer nivel\n",
    "array[1][0][3]"
   ]
  },
  {
   "cell_type": "code",
   "execution_count": 71,
   "metadata": {},
   "outputs": [
    {
     "data": {
      "text/plain": [
       "array([1, 2])"
      ]
     },
     "execution_count": 71,
     "metadata": {},
     "output_type": "execute_result"
    }
   ],
   "source": [
    "#indexacion recursiva tercer nivel con slice\n",
    "array[0][0][:2]"
   ]
  },
  {
   "cell_type": "code",
   "execution_count": 73,
   "metadata": {},
   "outputs": [
    {
     "data": {
      "text/plain": [
       "array([12, 11, 10,  9])"
      ]
     },
     "execution_count": 73,
     "metadata": {},
     "output_type": "execute_result"
    }
   ],
   "source": [
    "#indexacion recursiva tercer nivel con slice negativo\n",
    "array[1][0][::-1]"
   ]
  },
  {
   "cell_type": "markdown",
   "metadata": {},
   "source": [
    "del mismo modo a como en python, se puede utilizar la indexacion/slicing para modificar secciones de un ndarray"
   ]
  },
  {
   "cell_type": "code",
   "execution_count": 74,
   "metadata": {},
   "outputs": [
    {
     "data": {
      "text/plain": [
       "array([[1, 2, 3, 4],\n",
       "       [5, 6, 7, 8]])"
      ]
     },
     "execution_count": 74,
     "metadata": {},
     "output_type": "execute_result"
    }
   ],
   "source": [
    "array = np.array([[1,2,3,4],[5,6,7,8]])\n",
    "array"
   ]
  },
  {
   "cell_type": "code",
   "execution_count": 75,
   "metadata": {},
   "outputs": [
    {
     "data": {
      "text/plain": [
       "array([[ 1, 50,  3,  4],\n",
       "       [ 5,  6,  7,  8]])"
      ]
     },
     "execution_count": 75,
     "metadata": {},
     "output_type": "execute_result"
    }
   ],
   "source": [
    "#modificacion de una posicion\n",
    "array[0][1] = 50\n",
    "array"
   ]
  },
  {
   "cell_type": "code",
   "execution_count": 77,
   "metadata": {},
   "outputs": [
    {
     "data": {
      "text/plain": [
       "array([[30, 50, 30,  4],\n",
       "       [ 5,  6,  7,  8]])"
      ]
     },
     "execution_count": 77,
     "metadata": {},
     "output_type": "execute_result"
    }
   ],
   "source": [
    "#de dons en dos pone 30\n",
    "array[0][::2] = 30\n",
    "array"
   ]
  },
  {
   "cell_type": "markdown",
   "metadata": {},
   "source": [
    "indexacion/slicing booleano"
   ]
  },
  {
   "cell_type": "code",
   "execution_count": 87,
   "metadata": {},
   "outputs": [
    {
     "data": {
      "text/plain": [
       "array(['miguel', 'pedro', 'juan', 'miguel'], dtype='<U6')"
      ]
     },
     "execution_count": 87,
     "metadata": {},
     "output_type": "execute_result"
    }
   ],
   "source": [
    "personas = np.array(['miguel','pedro','juan','miguel'])\n",
    "personas"
   ]
  },
  {
   "cell_type": "code",
   "execution_count": 79,
   "metadata": {},
   "outputs": [
    {
     "data": {
      "text/plain": [
       "array([[-0.3110386 ,  0.87816796,  0.11960332,  1.57091874],\n",
       "       [-0.62520406, -0.31337972,  0.50066505, -0.33307353],\n",
       "       [ 0.79433868,  0.03036177, -0.30195707, -0.66671549],\n",
       "       [ 0.25260848, -1.35136907,  0.77858414, -0.71590824]])"
      ]
     },
     "execution_count": 79,
     "metadata": {},
     "output_type": "execute_result"
    }
   ],
   "source": [
    "datos = np.random.randn(4,4)\n",
    "datos"
   ]
  },
  {
   "cell_type": "code",
   "execution_count": 82,
   "metadata": {},
   "outputs": [
    {
     "data": {
      "text/plain": [
       "array([[ True, False, False, False],\n",
       "       [ True,  True, False,  True],\n",
       "       [False, False,  True,  True],\n",
       "       [False,  True, False,  True]])"
      ]
     },
     "execution_count": 82,
     "metadata": {},
     "output_type": "execute_result"
    }
   ],
   "source": [
    "#comprobar si es menor a cero\n",
    "datos < 0"
   ]
  },
  {
   "cell_type": "code",
   "execution_count": 80,
   "metadata": {},
   "outputs": [
    {
     "data": {
      "text/plain": [
       "array([-0.3110386 , -0.62520406, -0.31337972, -0.33307353, -0.30195707,\n",
       "       -0.66671549, -1.35136907, -0.71590824])"
      ]
     },
     "execution_count": 80,
     "metadata": {},
     "output_type": "execute_result"
    }
   ],
   "source": [
    "#indexacion/slicing booleano sobre valores. Te da los valores menores a 0\n",
    "datos[datos<0]"
   ]
  },
  {
   "cell_type": "code",
   "execution_count": 88,
   "metadata": {},
   "outputs": [
    {
     "data": {
      "text/plain": [
       "array([ True, False, False,  True])"
      ]
     },
     "execution_count": 88,
     "metadata": {},
     "output_type": "execute_result"
    }
   ],
   "source": [
    "#mascara booleana. Pregunta si la matriz personas es igual a miguel en cada una d esus posiciones\n",
    "personas == 'miguel'"
   ]
  },
  {
   "cell_type": "code",
   "execution_count": 90,
   "metadata": {},
   "outputs": [
    {
     "data": {
      "text/plain": [
       "array([[-0.3110386 ,  0.87816796,  0.11960332,  1.57091874],\n",
       "       [ 0.25260848, -1.35136907,  0.77858414, -0.71590824]])"
      ]
     },
     "execution_count": 90,
     "metadata": {},
     "output_type": "execute_result"
    }
   ],
   "source": [
    "#indexacion/slicing mediante mascara. \n",
    "datos[personas == 'miguel']"
   ]
  },
  {
   "cell_type": "code",
   "execution_count": 91,
   "metadata": {},
   "outputs": [
    {
     "data": {
      "text/plain": [
       "array([[-0.3110386 ,  0.11960332],\n",
       "       [ 0.25260848,  0.77858414]])"
      ]
     },
     "execution_count": 91,
     "metadata": {},
     "output_type": "execute_result"
    }
   ],
   "source": [
    "#indexacion/slicing mediante mascara y basico combinado\n",
    "datos[personas == 'miguel', ::2]"
   ]
  },
  {
   "cell_type": "code",
   "execution_count": 92,
   "metadata": {},
   "outputs": [
    {
     "data": {
      "text/plain": [
       "array([[-0.62520406, -0.31337972,  0.50066505, -0.33307353],\n",
       "       [ 0.79433868,  0.03036177, -0.30195707, -0.66671549]])"
      ]
     },
     "execution_count": 92,
     "metadata": {},
     "output_type": "execute_result"
    }
   ],
   "source": [
    "#indexacion/slicing mediante mascara negativo por operador\n",
    "datos[personas!='miguel'] #la spersonas que no son miguel"
   ]
  },
  {
   "cell_type": "markdown",
   "metadata": {},
   "source": [
    "denuevo podemos hacer indexacion/slicing booleano para realizar modificaciones sobre el contenido de un ndarray"
   ]
  },
  {
   "cell_type": "code",
   "execution_count": 93,
   "metadata": {},
   "outputs": [
    {
     "data": {
      "text/plain": [
       "array([[-0.85687512, -0.16318353, -0.58307791,  2.15040122],\n",
       "       [-0.07653675, -0.25259254,  1.82679533,  0.54234377],\n",
       "       [-0.99775766,  0.51291015,  0.52967745,  0.14139362],\n",
       "       [-0.77373058, -1.94263565, -0.73829955,  3.63150665],\n",
       "       [-1.33168021, -0.59703714,  1.31786031,  2.55263468],\n",
       "       [ 0.01683945, -1.1011282 , -1.5948194 , -0.60739852],\n",
       "       [ 0.11059845,  1.27150335,  1.16875571,  1.09880793]])"
      ]
     },
     "execution_count": 93,
     "metadata": {},
     "output_type": "execute_result"
    }
   ],
   "source": [
    "array = np.random.randn(7,4)\n",
    "array"
   ]
  },
  {
   "cell_type": "code",
   "execution_count": 94,
   "metadata": {},
   "outputs": [
    {
     "data": {
      "text/plain": [
       "array([[0.        , 0.        , 0.        , 2.15040122],\n",
       "       [0.        , 0.        , 1.82679533, 0.54234377],\n",
       "       [0.        , 0.51291015, 0.52967745, 0.14139362],\n",
       "       [0.        , 0.        , 0.        , 3.63150665],\n",
       "       [0.        , 0.        , 1.31786031, 2.55263468],\n",
       "       [0.01683945, 0.        , 0.        , 0.        ],\n",
       "       [0.11059845, 1.27150335, 1.16875571, 1.09880793]])"
      ]
     },
     "execution_count": 94,
     "metadata": {},
     "output_type": "execute_result"
    }
   ],
   "source": [
    "#eliminacion de valores negativos mediante slicing\n",
    "array[array < 0] = 0\n",
    "array"
   ]
  },
  {
   "cell_type": "markdown",
   "metadata": {},
   "source": [
    "indexacion y slicing basado en secuencia de enteros - fancy indexing"
   ]
  },
  {
   "cell_type": "code",
   "execution_count": 95,
   "metadata": {},
   "outputs": [
    {
     "data": {
      "text/plain": [
       "array([[0., 0., 0., 0.],\n",
       "       [1., 1., 1., 1.],\n",
       "       [2., 2., 2., 2.],\n",
       "       [3., 3., 3., 3.],\n",
       "       [4., 4., 4., 4.],\n",
       "       [5., 5., 5., 5.],\n",
       "       [6., 6., 6., 6.],\n",
       "       [7., 7., 7., 7.]])"
      ]
     },
     "execution_count": 95,
     "metadata": {},
     "output_type": "execute_result"
    }
   ],
   "source": [
    "array = np.empty((8,4))\n",
    "for i in range(8):\n",
    "    array[i] = i\n",
    "array"
   ]
  },
  {
   "cell_type": "code",
   "execution_count": 96,
   "metadata": {},
   "outputs": [
    {
     "data": {
      "text/plain": [
       "array([[2., 2., 2., 2.],\n",
       "       [5., 5., 5., 5.]])"
      ]
     },
     "execution_count": 96,
     "metadata": {},
     "output_type": "execute_result"
    }
   ],
   "source": [
    "#indexacion/slicing de un conjunto (arbitrario) de elementos\n",
    "array[[2,5]]"
   ]
  },
  {
   "cell_type": "code",
   "execution_count": 97,
   "metadata": {},
   "outputs": [
    {
     "data": {
      "text/plain": [
       "array([[6., 6., 6., 6.],\n",
       "       [3., 3., 3., 3.]])"
      ]
     },
     "execution_count": 97,
     "metadata": {},
     "output_type": "execute_result"
    }
   ],
   "source": [
    "#indexacion/slicing de un conjunto(arbitrario) de elementos (indices negativos) empieza a contar por atras\n",
    "array[[-2,-5]]"
   ]
  },
  {
   "cell_type": "markdown",
   "metadata": {},
   "source": [
    "tambien podemos indexar de manera arbitraria en multiples dimensiones, utilizando para ello, una secuencia de enteros por cada dimension. El resultado sera la combinacion de secuencias"
   ]
  },
  {
   "cell_type": "code",
   "execution_count": 98,
   "metadata": {},
   "outputs": [
    {
     "data": {
      "text/plain": [
       "array([[ 0,  1,  2,  3],\n",
       "       [ 4,  5,  6,  7],\n",
       "       [ 8,  9, 10, 11],\n",
       "       [12, 13, 14, 15],\n",
       "       [16, 17, 18, 19],\n",
       "       [20, 21, 22, 23],\n",
       "       [24, 25, 26, 27],\n",
       "       [28, 29, 30, 31]])"
      ]
     },
     "execution_count": 98,
     "metadata": {},
     "output_type": "execute_result"
    }
   ],
   "source": [
    "array = np.arange(32).reshape((8,4))\n",
    "array"
   ]
  },
  {
   "cell_type": "code",
   "execution_count": 99,
   "metadata": {},
   "outputs": [
    {
     "data": {
      "text/plain": [
       "array([ 4, 23, 29, 10])"
      ]
     },
     "execution_count": 99,
     "metadata": {},
     "output_type": "execute_result"
    }
   ],
   "source": [
    "#indexacion/slicing con una secuencia de varios niveles (elemento a elemento)\n",
    "array[[1,5,7,2],[0,3,1,2]]"
   ]
  },
  {
   "cell_type": "markdown",
   "metadata": {},
   "source": [
    "transposicion y modificacion de ejes/dimensiones"
   ]
  },
  {
   "cell_type": "code",
   "execution_count": 3,
   "metadata": {},
   "outputs": [
    {
     "data": {
      "text/plain": [
       "array([ 0,  1,  2,  3,  4,  5,  6,  7,  8,  9, 10, 11, 12, 13, 14])"
      ]
     },
     "execution_count": 3,
     "metadata": {},
     "output_type": "execute_result"
    }
   ],
   "source": [
    "array = np.arange(15)\n",
    "array"
   ]
  },
  {
   "cell_type": "code",
   "execution_count": 6,
   "metadata": {},
   "outputs": [
    {
     "data": {
      "text/plain": [
       "array([[ 0,  1,  2,  3,  4],\n",
       "       [ 5,  6,  7,  8,  9],\n",
       "       [10, 11, 12, 13, 14]])"
      ]
     },
     "execution_count": 6,
     "metadata": {},
     "output_type": "execute_result"
    }
   ],
   "source": [
    "#modificacion de ejes/dimensiones\n",
    "array2 = array.reshape(3,5)\n",
    "array2"
   ]
  },
  {
   "cell_type": "code",
   "execution_count": 7,
   "metadata": {},
   "outputs": [
    {
     "data": {
      "text/plain": [
       "array([[ 0,  5, 10],\n",
       "       [ 1,  6, 11],\n",
       "       [ 2,  7, 12],\n",
       "       [ 3,  8, 13],\n",
       "       [ 4,  9, 14]])"
      ]
     },
     "execution_count": 7,
     "metadata": {},
     "output_type": "execute_result"
    }
   ],
   "source": [
    "#trasposicion de ejes/dimensiones\n",
    "array2.T"
   ]
  },
  {
   "cell_type": "markdown",
   "metadata": {},
   "source": [
    "concatenacion de ndarray\n",
    "numpy ofrece la posibilidad de combinar ndarrays de dos formas distintas:\n",
    "    -hstack, column_stack: los elementos del segundo array se añaden a los del primero a lo ancho (como columnas)\n",
    "    -vstack, row_stack: los elementos del segundo array se añaden a los del primero a lo largo (como filas)"
   ]
  },
  {
   "cell_type": "code",
   "execution_count": 9,
   "metadata": {},
   "outputs": [
    {
     "data": {
      "text/plain": [
       "array([[ 0,  1,  2,  3,  4],\n",
       "       [ 5,  6,  7,  8,  9],\n",
       "       [10, 11, 12, 13, 14]])"
      ]
     },
     "execution_count": 9,
     "metadata": {},
     "output_type": "execute_result"
    }
   ],
   "source": [
    "array1 = np.arange(15).reshape(3,5)\n",
    "array1"
   ]
  },
  {
   "cell_type": "code",
   "execution_count": 10,
   "metadata": {},
   "outputs": [
    {
     "data": {
      "text/plain": [
       "array([[15, 16, 17, 18, 19],\n",
       "       [20, 21, 22, 23, 24],\n",
       "       [25, 26, 27, 28, 29]])"
      ]
     },
     "execution_count": 10,
     "metadata": {},
     "output_type": "execute_result"
    }
   ],
   "source": [
    "array2 = np.arange(15,30).reshape(3,5)\n",
    "array2"
   ]
  },
  {
   "cell_type": "code",
   "execution_count": 11,
   "metadata": {},
   "outputs": [
    {
     "data": {
      "text/plain": [
       "array([[ 0,  1,  2,  3,  4, 15, 16, 17, 18, 19],\n",
       "       [ 5,  6,  7,  8,  9, 20, 21, 22, 23, 24],\n",
       "       [10, 11, 12, 13, 14, 25, 26, 27, 28, 29]])"
      ]
     },
     "execution_count": 11,
     "metadata": {},
     "output_type": "execute_result"
    }
   ],
   "source": [
    "#concatenacion horizontal\n",
    "np.hstack((array1, array2))"
   ]
  },
  {
   "cell_type": "code",
   "execution_count": 12,
   "metadata": {},
   "outputs": [
    {
     "data": {
      "text/plain": [
       "array([[ 0,  1,  2,  3,  4],\n",
       "       [ 5,  6,  7,  8,  9],\n",
       "       [10, 11, 12, 13, 14],\n",
       "       [15, 16, 17, 18, 19],\n",
       "       [20, 21, 22, 23, 24],\n",
       "       [25, 26, 27, 28, 29]])"
      ]
     },
     "execution_count": 12,
     "metadata": {},
     "output_type": "execute_result"
    }
   ],
   "source": [
    "#concatenacion vertical\n",
    "np.vstack((array1, array2))"
   ]
  },
  {
   "cell_type": "markdown",
   "metadata": {},
   "source": [
    "DIVISION DE ARRAYS\n",
    "Al igual que para la concatenacion, NumPy permite dividir los ndarray de tres formas distintas\n",
    "    -hsplit: division de arrays en n partes 'iguales' por columnas\n",
    "    -vsplit: division de arrays en n partes 'iguales' por filas\n",
    "    -split: division de arrays en n partes no simetricas "
   ]
  },
  {
   "cell_type": "code",
   "execution_count": 13,
   "metadata": {},
   "outputs": [
    {
     "data": {
      "text/plain": [
       "array([[ 0,  1,  2,  3],\n",
       "       [ 4,  5,  6,  7],\n",
       "       [ 8,  9, 10, 11],\n",
       "       [12, 13, 14, 15]])"
      ]
     },
     "execution_count": 13,
     "metadata": {},
     "output_type": "execute_result"
    }
   ],
   "source": [
    "array = np.arange(16).reshape(4, 4)\n",
    "array"
   ]
  },
  {
   "cell_type": "code",
   "execution_count": 14,
   "metadata": {},
   "outputs": [
    {
     "data": {
      "text/plain": [
       "[array([[ 0,  1],\n",
       "        [ 4,  5],\n",
       "        [ 8,  9],\n",
       "        [12, 13]]),\n",
       " array([[ 2,  3],\n",
       "        [ 6,  7],\n",
       "        [10, 11],\n",
       "        [14, 15]])]"
      ]
     },
     "execution_count": 14,
     "metadata": {},
     "output_type": "execute_result"
    }
   ],
   "source": [
    "#Division simetrica por columnas\n",
    "np.hsplit(array,2)"
   ]
  },
  {
   "cell_type": "code",
   "execution_count": 15,
   "metadata": {},
   "outputs": [
    {
     "data": {
      "text/plain": [
       "[array([[0, 1, 2, 3],\n",
       "        [4, 5, 6, 7]]),\n",
       " array([[ 8,  9, 10, 11],\n",
       "        [12, 13, 14, 15]])]"
      ]
     },
     "execution_count": 15,
     "metadata": {},
     "output_type": "execute_result"
    }
   ],
   "source": [
    "#division simetrica por filas\n",
    "np.vsplit(array,2)"
   ]
  },
  {
   "cell_type": "code",
   "execution_count": 18,
   "metadata": {},
   "outputs": [
    {
     "data": {
      "text/plain": [
       "[array([[ 0],\n",
       "        [ 4],\n",
       "        [ 8],\n",
       "        [12]]),\n",
       " array([[ 1,  2],\n",
       "        [ 5,  6],\n",
       "        [ 9, 10],\n",
       "        [13, 14]]),\n",
       " array([[ 3],\n",
       "        [ 7],\n",
       "        [11],\n",
       "        [15]])]"
      ]
     },
     "execution_count": 18,
     "metadata": {},
     "output_type": "execute_result"
    }
   ],
   "source": [
    "#division no simetrica\n",
    "np.split(array,[1,3], axis=1)\n"
   ]
  },
  {
   "cell_type": "code",
   "execution_count": 20,
   "metadata": {},
   "outputs": [
    {
     "data": {
      "text/plain": [
       "[array([[0, 1, 2, 3]]),\n",
       " array([[ 4,  5,  6,  7],\n",
       "        [ 8,  9, 10, 11]]),\n",
       " array([[12, 13, 14, 15]])]"
      ]
     },
     "execution_count": 20,
     "metadata": {},
     "output_type": "execute_result"
    }
   ],
   "source": [
    "#division no simetrica\n",
    "np.split(array,[1,3], axis=0)\n"
   ]
  },
  {
   "cell_type": "markdown",
   "metadata": {},
   "source": [
    "axis:\n",
    "valor 0: aplicara la funcion por columnas\n",
    "valor 1: aplicara la funcion por filas \n"
   ]
  },
  {
   "cell_type": "code",
   "execution_count": 19,
   "metadata": {},
   "outputs": [
    {
     "data": {
      "text/plain": [
       "array([24, 28, 32, 36])"
      ]
     },
     "execution_count": 19,
     "metadata": {},
     "output_type": "execute_result"
    }
   ],
   "source": [
    "array.sum(axis=0)"
   ]
  },
  {
   "cell_type": "markdown",
   "metadata": {},
   "source": [
    "----------------------------------------------------------------------------------------------OPERACIONES SOBRE NDARRAYS------------------------------------------------------------------------------------------------------------"
   ]
  },
  {
   "cell_type": "markdown",
   "metadata": {},
   "source": [
    "NumPy pone a nuestra disposicion un amplio conjunto de funciunes optimizadas para aplicar sobre ndarrays de forma global evitando asi la necesidad de utilizar bucles (mucho mas costosos)"
   ]
  },
  {
   "cell_type": "markdown",
   "metadata": {},
   "source": [
    "Operaciones elemento a elemento - Universal functions\n",
    "El primero de los conjuntos de funciones ofrecido por NumPy son las llamadas 'funciones universales' (o ufuncs) que permiten la realizacion de operaciones elemento a elemento de un array. En funcion del numero de parametros encontramos dos tipos de funciones universales\n",
    "\n",
    "Funciones Unarias\n",
    "\n",
    "son aquellas funciones que reciben como parametro un unico array\n",
    "    - abs, fabs: valor absoluto\n",
    "    -sqrt: raiz cuadrada \n",
    "    -square: potencia al cuadrado(equivalente a array**2)\n",
    "    -exp: potencia de e.\n",
    "    -log, log2, log10, log1p: logaritmos en distintas bases\n",
    "    -sign: signo (+=1, -=-1, 0=0)\n",
    "    -ceil: techo\n",
    "    -floor: suelo\n",
    "    -rint: redondeo al entero mas cercano\n",
    "    -modf: devuelve dos arrays uno con la parte entera y otro con la fraccionaria\n",
    "    -isnan: devuleve un array booleano indicando si el valor es NaN o no\n",
    "    -isfinite, isinf: devuelve un array booleando indicando si el valor es finito o infinito\n",
    "    -cos, cosh, sin, sinh, tan, tanh: funciones trigonometricas\n",
    "    -arccos, arccosh, arcsin, arcsinh, arctan, arctanh: funciones trigonometricas inversas\n",
    "    -logical_not: inverso booleano de todos los valores del array"
   ]
  },
  {
   "cell_type": "code",
   "execution_count": 23,
   "metadata": {},
   "outputs": [
    {
     "data": {
      "text/plain": [
       "array([1, 2, 3, 4, 5])"
      ]
     },
     "execution_count": 23,
     "metadata": {},
     "output_type": "execute_result"
    }
   ],
   "source": [
    "array = np.array([1,-2,3,-4,-5])\n",
    "np.abs(array)"
   ]
  },
  {
   "cell_type": "code",
   "execution_count": 24,
   "metadata": {},
   "outputs": [
    {
     "data": {
      "text/plain": [
       "array([ 1, -1,  1, -1, -1])"
      ]
     },
     "execution_count": 24,
     "metadata": {},
     "output_type": "execute_result"
    }
   ],
   "source": [
    "np.sign(array)"
   ]
  },
  {
   "cell_type": "markdown",
   "metadata": {},
   "source": [
    "Funciones Binarias\n",
    "\n",
    "son aquellas funciones que reciben como parametros dos arrays\n",
    "\n",
    "    -add: adicion de los elementos de lso dos arrays (equivalente a array1 + array2)\n",
    "    -subtract: reste de los elementos de los dos arrays (equivalente a array1 - array2)\n",
    "    -multiply: multiplica los elementos de los dos arrays (equivalente a array1 * array2)\n",
    "    -divide, floor_divide: divide los elementos de los dos arrays (equivalente a array1 / (o //) array2)\n",
    "    -power: eleva los elementos del primer array a las potencias del segundo (equivalente a array1**array2)\n",
    "    -maximun, fmax: calcula el maximo de los dos arrays(elemento a elemento). fmax ignora NaN\n",
    "    -minimum, fmin: calcula el minimo de los dos arrays (elemento a elemento). fmin ignora NaN\n",
    "    -mod: calcula el resto de la division de los dos arrays (equivalente a array1 % array2)\n",
    "    -greater, greater_equal, less, less_equal, equal, not_equal: comparativas sobre los elemnetos de ambos ndarrays (elemento a elemento).\n",
    "    -logical_and, logical_or: operaciones booleanas sobre los elementos de ambos ndarrays(elemento a elemento)\n"
   ]
  },
  {
   "cell_type": "code",
   "execution_count": 25,
   "metadata": {},
   "outputs": [
    {
     "data": {
      "text/plain": [
       "array([[ 0.60734411, -1.48111171,  1.10276935, -0.13162243,  0.86685242],\n",
       "       [-1.06464333,  0.46543212, -0.61160313,  1.1847854 , -0.00178206],\n",
       "       [ 0.88314672, -0.98923721, -0.08982207, -0.24286471, -0.1683687 ],\n",
       "       [-0.06957054, -0.48362156,  0.44053109, -0.03548516,  0.23090091],\n",
       "       [ 0.39714124,  0.36210095, -0.07310191, -0.80457138,  0.36636853]])"
      ]
     },
     "execution_count": 25,
     "metadata": {},
     "output_type": "execute_result"
    }
   ],
   "source": [
    "array1 = np.random.randn(5,5)\n",
    "array1"
   ]
  },
  {
   "cell_type": "code",
   "execution_count": 27,
   "metadata": {},
   "outputs": [
    {
     "data": {
      "text/plain": [
       "array([[ 1.30468068,  0.65692321, -0.04791463, -0.28040973, -1.16458617],\n",
       "       [-0.73819497,  1.55494463,  0.07370754,  0.71926199, -0.10924776],\n",
       "       [-1.2137882 ,  2.55732805,  1.21579655, -0.39145047, -0.13132419],\n",
       "       [ 0.76593636, -1.09746556, -0.67448323,  0.64952914, -0.6472114 ],\n",
       "       [-0.78038613, -0.46370681,  0.42181519, -0.15547246,  1.10105034]])"
      ]
     },
     "execution_count": 27,
     "metadata": {},
     "output_type": "execute_result"
    }
   ],
   "source": [
    "array2 = np.random.randn(5,5)\n",
    "array2"
   ]
  },
  {
   "cell_type": "code",
   "execution_count": 28,
   "metadata": {},
   "outputs": [
    {
     "data": {
      "text/plain": [
       "array([[ 0.60734411, -1.48111171, -0.04791463, -0.28040973, -1.16458617],\n",
       "       [-1.06464333,  0.46543212, -0.61160313,  0.71926199, -0.10924776],\n",
       "       [-1.2137882 , -0.98923721, -0.08982207, -0.39145047, -0.1683687 ],\n",
       "       [-0.06957054, -1.09746556, -0.67448323, -0.03548516, -0.6472114 ],\n",
       "       [-0.78038613, -0.46370681, -0.07310191, -0.80457138,  0.36636853]])"
      ]
     },
     "execution_count": 28,
     "metadata": {},
     "output_type": "execute_result"
    }
   ],
   "source": [
    "np.minimum(array1, array2)"
   ]
  },
  {
   "cell_type": "code",
   "execution_count": 29,
   "metadata": {},
   "outputs": [
    {
     "data": {
      "text/plain": [
       "array([[ 4.65511694e-01, -2.25461924e+00, -2.30152973e+01,\n",
       "         4.69393219e-01, -7.44343740e-01],\n",
       "       [ 1.44222513e+00,  2.99323919e-01, -8.29770154e+00,\n",
       "         1.64722370e+00,  1.63120654e-02],\n",
       "       [-7.27595405e-01, -3.86824526e-01, -7.38791954e-02,\n",
       "         6.20422575e-01,  1.28208451e+00],\n",
       "       [-9.08307003e-02,  4.40671289e-01, -6.53138684e-01,\n",
       "        -5.46321352e-02, -3.56762736e-01],\n",
       "       [-5.08903506e-01, -7.80883384e-01, -1.73303178e-01,\n",
       "         5.17500914e+00,  3.32744574e-01]])"
      ]
     },
     "execution_count": 29,
     "metadata": {},
     "output_type": "execute_result"
    }
   ],
   "source": [
    "np.divide(array1, array2)"
   ]
  },
  {
   "cell_type": "code",
   "execution_count": 30,
   "metadata": {},
   "outputs": [
    {
     "data": {
      "text/plain": [
       "array([[  0.,  -3., -24.,   0.,  -1.],\n",
       "       [  1.,   0.,  -9.,   1.,   0.],\n",
       "       [ -1.,  -1.,  -1.,   0.,   1.],\n",
       "       [ -1.,   0.,  -1.,  -1.,  -1.],\n",
       "       [ -1.,  -1.,  -1.,   5.,   0.]])"
      ]
     },
     "execution_count": 30,
     "metadata": {},
     "output_type": "execute_result"
    }
   ],
   "source": [
    "np.floor_divide(array1, array2)"
   ]
  },
  {
   "cell_type": "markdown",
   "metadata": {},
   "source": [
    "seleccion de elementos de ndarrays en funcion de una condicion\n",
    "\n",
    "NumPy pone a nuestra disposicion, a travez de la funcion np.where la posibilidad de generar un array de salida a partir de dos de entrada, estableciendo una mascara booleana que indique si (elemento a elemento) debemos enviar a la salida el elemeneto del primer ndarray (valor true) o del segundo (valor false)"
   ]
  },
  {
   "cell_type": "code",
   "execution_count": 31,
   "metadata": {},
   "outputs": [
    {
     "data": {
      "text/plain": [
       "array([[ 1.16526725,  0.46137323, -0.10492509,  1.02169129, -0.19921279],\n",
       "       [ 1.45117033, -1.00723244, -0.21573575, -0.27505027,  0.65340767],\n",
       "       [ 0.08438473, -0.87547939,  0.55717936, -0.67333834,  1.40222719],\n",
       "       [-0.66939359, -1.69750453,  1.0705283 ,  0.39456092,  0.45852583],\n",
       "       [ 0.28264843, -0.43362363,  0.83978816, -0.11293868,  0.05190595]])"
      ]
     },
     "execution_count": 31,
     "metadata": {},
     "output_type": "execute_result"
    }
   ],
   "source": [
    "array1 = np.random.randn(5,5)\n",
    "array1"
   ]
  },
  {
   "cell_type": "code",
   "execution_count": 32,
   "metadata": {},
   "outputs": [
    {
     "data": {
      "text/plain": [
       "array([[-0.62141789, -0.61176973,  0.58796892,  1.44507315,  0.40230404],\n",
       "       [ 0.76152116, -0.29269572,  1.90238538, -2.42663711,  1.47635853],\n",
       "       [ 1.3398733 , -1.29578912,  1.26922482, -0.88303038, -1.02770984],\n",
       "       [ 1.86748905,  0.13674499, -1.3360333 ,  1.33315036, -0.08540266],\n",
       "       [ 0.65621746,  1.15601521,  0.28426652, -0.77389222, -0.18619379]])"
      ]
     },
     "execution_count": 32,
     "metadata": {},
     "output_type": "execute_result"
    }
   ],
   "source": [
    "array2 = np.random.randn(5,5)\n",
    "array2"
   ]
  },
  {
   "cell_type": "code",
   "execution_count": 33,
   "metadata": {},
   "outputs": [
    {
     "data": {
      "text/plain": [
       "array([[-0.62141789, -0.61176973, -0.10492509,  1.02169129, -0.19921279],\n",
       "       [ 0.76152116, -1.00723244, -0.21573575, -2.42663711,  0.65340767],\n",
       "       [ 0.08438473, -1.29578912,  0.55717936, -0.88303038, -1.02770984],\n",
       "       [-0.66939359, -1.69750453, -1.3360333 ,  0.39456092, -0.08540266],\n",
       "       [ 0.28264843, -0.43362363,  0.28426652, -0.77389222, -0.18619379]])"
      ]
     },
     "execution_count": 33,
     "metadata": {},
     "output_type": "execute_result"
    }
   ],
   "source": [
    "#funsion condicional. Va a hacer una comprobacion si array1 es menor que array2 en el caso de que sea menor devuelve array1 en el caso de que sea mayor devuelve array2\n",
    "np.where(array1 < array2, array1, array2)"
   ]
  },
  {
   "cell_type": "code",
   "execution_count": 34,
   "metadata": {},
   "outputs": [
    {
     "data": {
      "text/plain": [
       "array([[-0.62141789, -0.61176973,  0.        ,  1.02169129,  0.        ],\n",
       "       [ 0.76152116,  0.        ,  0.        , -2.42663711,  0.65340767],\n",
       "       [ 0.08438473, -1.29578912,  0.55717936, -0.88303038, -1.02770984],\n",
       "       [ 0.        ,  0.        , -1.3360333 ,  0.39456092, -0.08540266],\n",
       "       [ 0.28264843,  0.        ,  0.28426652, -0.77389222, -0.18619379]])"
      ]
     },
     "execution_count": 34,
     "metadata": {},
     "output_type": "execute_result"
    }
   ],
   "source": [
    "#anidacion de condiciones. compáramos si array1 es menor que array2, cuando no se cumple devuelve array2, pero si array1 si es mas chico entra al otro where y dice bueno compruebo si array1 es negativo devuelvo un 0 en caso \n",
    "#contrario devuelvo array1\n",
    "np.where(array1 < array2, np.where(array1 < 0, 0, array1), array2)"
   ]
  },
  {
   "cell_type": "markdown",
   "metadata": {},
   "source": [
    "Funciones matematicas y estadisticas\n",
    "\n",
    "NumPy ofrece un amplio conjunto de funciones matematicas y estadisticas que se pueden aplicar sobre ndarrays. A continuacion se puede encontrar con los ejemplos mas tipicos (hay alfunas mas que pueden consultarce en la documentacion oficial de NumPy) \n",
    "    -sum: suma de elementos\n",
    "    -mean: media aritmetica de los elementos\n",
    "    -median: mediana de los elementos\n",
    "    -std: desviacion estandar de los elementos\n",
    "    -var: varianza de los elementos\n",
    "    -min: valor minimo de los elementos\n",
    "    -max: valor maximo de los elementos\n",
    "    -argmin: indice del valor minimo\n",
    "    -argmax: indice del valor maximo\n",
    "    -cumsum: suma acumulada de los elementos\n",
    "    -cumprod: producto acumulado de los elementos\n",
    "\n",
    "Todas estas funciones pueden recibir, ademas del ndarray sobre el que se aplicaran, un segundo parametro llamado axis. Si no se recibe este parametro las funciones se aplicaran sobre el conjunto global de los elementos del ndarray, pero si se incluye, podra tomar dos valores:\n",
    "    -valor 0: aplicara la funcion por columnas\n",
    "    -valor 1: aplicara la funcion por filas\n"
   ]
  },
  {
   "cell_type": "code",
   "execution_count": 45,
   "metadata": {},
   "outputs": [
    {
     "data": {
      "text/plain": [
       "array([[ 0.14111153, -0.7877889 ,  1.58122837, -0.80232436],\n",
       "       [ 0.66181029, -1.19136003,  1.45509649, -0.29746294],\n",
       "       [-0.26068019, -0.62825379, -0.35704518,  1.32618608],\n",
       "       [-0.38604346,  0.1566172 , -1.46637113, -0.5626492 ],\n",
       "       [ 2.64257044, -1.34105095,  1.02039108,  0.5738295 ]])"
      ]
     },
     "execution_count": 45,
     "metadata": {},
     "output_type": "execute_result"
    }
   ],
   "source": [
    "array = np.random.randn(5,4)\n",
    "array"
   ]
  },
  {
   "cell_type": "code",
   "execution_count": 49,
   "metadata": {},
   "outputs": [
    {
     "data": {
      "text/plain": [
       "1.4778108382192734"
      ]
     },
     "execution_count": 49,
     "metadata": {},
     "output_type": "execute_result"
    }
   ],
   "source": [
    "#operacion global\n",
    "np.sum(array)"
   ]
  },
  {
   "cell_type": "code",
   "execution_count": 37,
   "metadata": {},
   "outputs": [
    {
     "data": {
      "text/plain": [
       "array([-1.70890288,  1.77701041, -2.04698209, -0.66646317])"
      ]
     },
     "execution_count": 37,
     "metadata": {},
     "output_type": "execute_result"
    }
   ],
   "source": [
    "#operacion por columnas\n",
    "np.sum(array, axis=0)"
   ]
  },
  {
   "cell_type": "code",
   "execution_count": 38,
   "metadata": {},
   "outputs": [
    {
     "data": {
      "text/plain": [
       "array([ 0.47499134,  0.08885148,  0.35540383, -1.35171517, -2.21286921])"
      ]
     },
     "execution_count": 38,
     "metadata": {},
     "output_type": "execute_result"
    }
   ],
   "source": [
    "#operacion por filas\n",
    "np.sum(array, axis=1)"
   ]
  },
  {
   "cell_type": "markdown",
   "metadata": {},
   "source": [
    "adicionalmente algunas de estas funciones pueden ser utilizadas como \"metodos\" de los ndarays y no solo como funciones sobre los mismos.En este caso la sintaxis cambiara y se utilizara la notacion \"ndarray.funcion()\""
   ]
  },
  {
   "cell_type": "code",
   "execution_count": 50,
   "metadata": {},
   "outputs": [
    {
     "data": {
      "text/plain": [
       "1.4778108382192734"
      ]
     },
     "execution_count": 50,
     "metadata": {},
     "output_type": "execute_result"
    }
   ],
   "source": [
    "array.sum()"
   ]
  },
  {
   "cell_type": "code",
   "execution_count": 48,
   "metadata": {},
   "outputs": [
    {
     "data": {
      "text/plain": [
       "16"
      ]
     },
     "execution_count": 48,
     "metadata": {},
     "output_type": "execute_result"
    }
   ],
   "source": [
    "np.argmax(array)"
   ]
  },
  {
   "cell_type": "code",
   "execution_count": 51,
   "metadata": {},
   "outputs": [
    {
     "data": {
      "text/plain": [
       "14"
      ]
     },
     "execution_count": 51,
     "metadata": {},
     "output_type": "execute_result"
    }
   ],
   "source": [
    "np.argmin(array)"
   ]
  },
  {
   "cell_type": "code",
   "execution_count": 52,
   "metadata": {},
   "outputs": [
    {
     "data": {
      "text/plain": [
       "array([ 0.14111153, -0.64667737,  0.93455099,  0.13222664,  0.79403693,\n",
       "       -0.3973231 ,  1.05777339,  0.76031045,  0.49963026, -0.12862353,\n",
       "       -0.48566871,  0.84051736,  0.4544739 ,  0.6110911 , -0.85528003,\n",
       "       -1.41792923,  1.22464121, -0.11640974,  0.90398134,  1.47781084])"
      ]
     },
     "execution_count": 52,
     "metadata": {},
     "output_type": "execute_result"
    }
   ],
   "source": [
    "np.cumsum(array)"
   ]
  },
  {
   "cell_type": "code",
   "execution_count": 53,
   "metadata": {},
   "outputs": [
    {
     "data": {
      "text/plain": [
       "array([ 0.14111153, -0.1111661 , -0.17577899,  0.14103176,  0.09333627,\n",
       "       -0.1111971 , -0.16180251,  0.04813025, -0.0125466 ,  0.00788245,\n",
       "       -0.00281439, -0.00373241,  0.00144087,  0.00022567, -0.00033091,\n",
       "        0.00018619,  0.00049201, -0.00065981, -0.00067326, -0.00038634])"
      ]
     },
     "execution_count": 53,
     "metadata": {},
     "output_type": "execute_result"
    }
   ],
   "source": [
    "np.cumprod(array)"
   ]
  },
  {
   "cell_type": "markdown",
   "metadata": {},
   "source": [
    "Operaciones sobre ndarrays booleanos\n",
    "\n",
    "dado que, internamente, python trata los valores booleanos True como 1 y Flase como 0. es muy sencillo realizar operaciones matematicas sobre estos valores booleanos de forma que se pueden hacer diferentes chequeos por ejemplo: "
   ]
  },
  {
   "cell_type": "code",
   "execution_count": 54,
   "metadata": {},
   "outputs": [
    {
     "data": {
      "text/plain": [
       "array([[-0.14879873,  0.38243921,  1.44045285,  1.94217801,  0.21582026],\n",
       "       [-0.78399003, -1.97297209,  0.43108634,  0.45515592, -0.72437529],\n",
       "       [ 0.3589788 , -0.46846178, -1.03206093,  1.18749974, -0.52134911],\n",
       "       [ 0.43229642, -0.5342289 ,  0.46199678, -1.09341422, -0.6243643 ],\n",
       "       [ 1.22679063,  0.54550972,  1.3685346 , -0.58829934,  0.3273265 ]])"
      ]
     },
     "execution_count": 54,
     "metadata": {},
     "output_type": "execute_result"
    }
   ],
   "source": [
    "array = np.random.randn(5,5)\n",
    "array"
   ]
  },
  {
   "cell_type": "code",
   "execution_count": 55,
   "metadata": {},
   "outputs": [
    {
     "data": {
      "text/plain": [
       "14"
      ]
     },
     "execution_count": 55,
     "metadata": {},
     "output_type": "execute_result"
    }
   ],
   "source": [
    "#elementos mayores que 0\n",
    "(array > 0).sum()"
   ]
  },
  {
   "cell_type": "code",
   "execution_count": 56,
   "metadata": {},
   "outputs": [
    {
     "data": {
      "text/plain": [
       "11"
      ]
     },
     "execution_count": 56,
     "metadata": {},
     "output_type": "execute_result"
    }
   ],
   "source": [
    "#elementos menores que la media\n",
    "(array < array.mean()).sum()"
   ]
  },
  {
   "cell_type": "markdown",
   "metadata": {},
   "source": [
    "NumPy tambien pone a nuestra disposicion dos funciones de chequeo predefinidas sobre ndarrays booleanos:\n",
    "\n",
    "    -any: para comprobar si alguno de los elementos es true\n",
    "    -all: para comprobar si todos los elemtos son true"
   ]
  },
  {
   "cell_type": "code",
   "execution_count": 57,
   "metadata": {},
   "outputs": [
    {
     "data": {
      "text/plain": [
       "False"
      ]
     },
     "execution_count": 57,
     "metadata": {},
     "output_type": "execute_result"
    }
   ],
   "source": [
    "#algunos de los elementos cumple la condicion\n",
    "(array == 0).any()"
   ]
  },
  {
   "cell_type": "code",
   "execution_count": 58,
   "metadata": {},
   "outputs": [
    {
     "data": {
      "text/plain": [
       "True"
      ]
     },
     "execution_count": 58,
     "metadata": {},
     "output_type": "execute_result"
    }
   ],
   "source": [
    "#todos los elementos cumplen la condicion\n",
    "((array >= -2) & (array <= 2)).all()"
   ]
  },
  {
   "cell_type": "markdown",
   "metadata": {},
   "source": [
    "Ordenacion de ndarrays"
   ]
  },
  {
   "cell_type": "code",
   "execution_count": 60,
   "metadata": {},
   "outputs": [
    {
     "data": {
      "text/plain": [
       "array([[-0.5391317 ,  0.5455554 ,  0.07413699,  0.9307132 ,  1.15590205],\n",
       "       [-1.67296006, -0.40877846,  0.27013637, -1.06615626, -0.66131688],\n",
       "       [-0.81746893, -0.61615154, -0.21148809,  0.48941087, -1.04710292],\n",
       "       [-1.44470293, -0.77083028,  0.1094273 , -1.82361684, -0.10660786],\n",
       "       [ 0.63402664,  0.7095392 , -0.09433085, -0.01543269, -1.2582462 ]])"
      ]
     },
     "execution_count": 60,
     "metadata": {},
     "output_type": "execute_result"
    }
   ],
   "source": [
    "array = np.random.randn(5,5)\n",
    "array"
   ]
  },
  {
   "cell_type": "code",
   "execution_count": 62,
   "metadata": {},
   "outputs": [
    {
     "data": {
      "text/plain": [
       "array([[-0.5391317 ,  0.07413699,  0.5455554 ,  0.9307132 ,  1.15590205],\n",
       "       [-1.67296006, -1.06615626, -0.66131688, -0.40877846,  0.27013637],\n",
       "       [-1.04710292, -0.81746893, -0.61615154, -0.21148809,  0.48941087],\n",
       "       [-1.82361684, -1.44470293, -0.77083028, -0.10660786,  0.1094273 ],\n",
       "       [-1.2582462 , -0.09433085, -0.01543269,  0.63402664,  0.7095392 ]])"
      ]
     },
     "execution_count": 62,
     "metadata": {},
     "output_type": "execute_result"
    }
   ],
   "source": [
    "np.sort(array)"
   ]
  },
  {
   "cell_type": "code",
   "execution_count": 63,
   "metadata": {},
   "outputs": [
    {
     "data": {
      "text/plain": [
       "array([[-1.67296006, -0.77083028, -0.21148809, -1.82361684, -1.2582462 ],\n",
       "       [-1.44470293, -0.61615154, -0.09433085, -1.06615626, -1.04710292],\n",
       "       [-0.81746893, -0.40877846,  0.07413699, -0.01543269, -0.66131688],\n",
       "       [-0.5391317 ,  0.5455554 ,  0.1094273 ,  0.48941087, -0.10660786],\n",
       "       [ 0.63402664,  0.7095392 ,  0.27013637,  0.9307132 ,  1.15590205]])"
      ]
     },
     "execution_count": 63,
     "metadata": {},
     "output_type": "execute_result"
    }
   ],
   "source": [
    "np.sort(array, axis=0)"
   ]
  },
  {
   "cell_type": "markdown",
   "metadata": {},
   "source": [
    "Funciones de conjunto\n",
    "\n",
    "NumPy permite realizar tratamierntos sobre un ndarray asuminedo que el total de los elementos del mismo forman un conjunto\n",
    "\n",
    "    -unique: calcula el conjunto unico de elementos sin duplicados\n",
    "    -intersect1d: calcula la interseccion de los elementos de dos arrays \n",
    "    -union1d: calcula la union de los elementos de dos arrays \n",
    "    -in1d: calcula un array booleano que indica si cada elemento del primer array esta contenido en el segundo\n",
    "    -setdiff1d: calcula la diferencia entre ambos conjuntos\n",
    "    -setxor1d: calcula la diferencia simetrica entre ambos conjutos"
   ]
  },
  {
   "cell_type": "code",
   "execution_count": 65,
   "metadata": {},
   "outputs": [
    {
     "data": {
      "text/plain": [
       "array([6, 0, 0, 0, 3, 2, 5, 6])"
      ]
     },
     "execution_count": 65,
     "metadata": {},
     "output_type": "execute_result"
    }
   ],
   "source": [
    "array1 = np.array([6,0,0,0,3,2,5,6])\n",
    "array1"
   ]
  },
  {
   "cell_type": "code",
   "execution_count": 66,
   "metadata": {},
   "outputs": [
    {
     "data": {
      "text/plain": [
       "array([7, 4, 3, 1, 2, 6, 5])"
      ]
     },
     "execution_count": 66,
     "metadata": {},
     "output_type": "execute_result"
    }
   ],
   "source": [
    "array2 = np.array([7,4,3,1,2,6,5])\n",
    "array2"
   ]
  },
  {
   "cell_type": "code",
   "execution_count": 67,
   "metadata": {},
   "outputs": [
    {
     "data": {
      "text/plain": [
       "array([0, 2, 3, 5, 6])"
      ]
     },
     "execution_count": 67,
     "metadata": {},
     "output_type": "execute_result"
    }
   ],
   "source": [
    "np.unique(array1)"
   ]
  },
  {
   "cell_type": "code",
   "execution_count": 68,
   "metadata": {},
   "outputs": [
    {
     "data": {
      "text/plain": [
       "array([0, 1, 2, 3, 4, 5, 6, 7])"
      ]
     },
     "execution_count": 68,
     "metadata": {},
     "output_type": "execute_result"
    }
   ],
   "source": [
    "np.union1d(array1,array2)"
   ]
  },
  {
   "cell_type": "code",
   "execution_count": 69,
   "metadata": {},
   "outputs": [
    {
     "data": {
      "text/plain": [
       "array([ True, False, False, False,  True,  True,  True,  True])"
      ]
     },
     "execution_count": 69,
     "metadata": {},
     "output_type": "execute_result"
    }
   ],
   "source": [
    "np.in1d(array1, array2)"
   ]
  }
 ],
 "metadata": {
  "interpreter": {
   "hash": "329661e38900ed931de9c9bb3d693be99c4dac54c23e747779f6acd3c2040072"
  },
  "kernelspec": {
   "display_name": "Python 3.10.2 64-bit",
   "language": "python",
   "name": "python3"
  },
  "language_info": {
   "codemirror_mode": {
    "name": "ipython",
    "version": 3
   },
   "file_extension": ".py",
   "mimetype": "text/x-python",
   "name": "python",
   "nbconvert_exporter": "python",
   "pygments_lexer": "ipython3",
   "version": "3.10.2"
  },
  "orig_nbformat": 4
 },
 "nbformat": 4,
 "nbformat_minor": 2
}
