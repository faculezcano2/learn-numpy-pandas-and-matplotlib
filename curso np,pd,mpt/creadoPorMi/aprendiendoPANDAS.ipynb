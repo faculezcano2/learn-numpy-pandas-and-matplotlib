{
 "cells": [
  {
   "cell_type": "markdown",
   "metadata": {},
   "source": [
    "-¿que es pandas?\n",
    "    pandas es un modulo de python de alto rendimiento orientado al analisis de datos\n",
    "-caracteristicas principales\n",
    "    -capacidad de almacenamiento y procesamiento de diferentes estructuras de datos: series temporales, informacoin tabular, informacion matricial...\n",
    "    -facilidad para la carga de informacion desde muy diferentes fuentes: ficheros CSV, bases de datos relacionales...\n",
    "    -implementacion de operaciones sobre estructuras de datos completas como seleccion de subconjuntos, agrupaciones, filtrado, ordenacion...\n",
    "    -capacidad para el tratamiento de missing values segun las necesidades del usuari/cliente\n",
    "    -utilidad tanto para la carga y tratamiento de datos como para el analisis estadistico, exploratorio y modelado\n",
    "    - integracoin con otras librerias como statsmodel, SciPy, NumPy(en la que se basa),y scikit-learn...\n",
    "    -alto rendimiento, que puede ser incluso mayor haciendo uso de Cython (que permite integrar extensioines escritas en C en programas escritos en python)\n",
    "    -en esencia, trata de incorporar a Python, estructuras de datos y operaciones como las existentes en R:\n",
    "            -estructuras: vectores(con nombre),data.frame,data.table...\n",
    "            -operaciones: familia apply, agregacion y agrupacion con data.table..."
   ]
  },
  {
   "cell_type": "markdown",
   "metadata": {},
   "source": [
    "Estructuras de Datos\n",
    "\n",
    "El pilar basico de la libreria pandas, al igual que como ocurria con NumPy, son las estructuras de datos que ponen a nustra disposicion.\n",
    "En este caso, dispondremos de dos estructuras de datos relacionadas, pero con su funcionamiento especifico:\n",
    "    -Series: para informacion unidimensional \n",
    "    -DataFrame: para informacion tabular\n",
    "son estructuras muy similares a las ofrecidas por R: vectores (con nombre) y data.frame"
   ]
  },
  {
   "cell_type": "markdown",
   "metadata": {},
   "source": [
    "Utilizacion basica de elementos de pandas\n",
    "\n",
    "Al igual que con numpy, pandas no pertenece al core de python, por lo que habra que importarlo siempre a la hora de usarlo"
   ]
  },
  {
   "cell_type": "code",
   "execution_count": 1,
   "metadata": {},
   "outputs": [],
   "source": [
    "import numpy as np\n",
    "import pandas as pd"
   ]
  },
  {
   "cell_type": "markdown",
   "metadata": {},
   "source": [
    "Series\n",
    "\n",
    "Una serie es una estructura de datos unidimensional que contiene:\n",
    "\n",
    "    -un array de datos: que pueden tener cualquier tipo de dato de los ofrecidos por NumPy\n",
    "    -un array de etiquetas/labels: asociando una etiqueta a cada dato del array anterior y que se denomina indice, aunque no es obligatorio que el desarrollador especifique el mismo "
   ]
  },
  {
   "cell_type": "markdown",
   "metadata": {},
   "source": [
    "creacion de series\n",
    "\n",
    "para la creacion de series contamos con una funcion \"constructor\" (Series) que puede recibir, principalmente, los siguientes parametros:\n",
    "    -data: es obligatorio, contiene los datros que queremos cargar en la Serie y podra ser un valor escalar, una secuencia de Python o un ndarray unidimensional de NumPy \n",
    "    -index: es opcional contiene las etiquetas que queremos asignar a los valores de la Serie y podra ser una secuencia de python un ndarray unidimensional de NumPy. En caso de no suministrarse el valor por defecto es np.arange(0, tam_datos).\n",
    "    -dtype: que podra ser cualquier tipo de dato de NumPy "
   ]
  },
  {
   "cell_type": "code",
   "execution_count": 2,
   "metadata": {},
   "outputs": [
    {
     "data": {
      "text/plain": [
       "0    5\n",
       "dtype: int64"
      ]
     },
     "execution_count": 2,
     "metadata": {},
     "output_type": "execute_result"
    }
   ],
   "source": [
    "#Serie desde escalar\n",
    "serie = pd.Series(5)\n",
    "serie"
   ]
  },
  {
   "cell_type": "code",
   "execution_count": 5,
   "metadata": {},
   "outputs": [
    {
     "data": {
      "text/plain": [
       "0    b'1'\n",
       "1    b'2'\n",
       "2    b'3'\n",
       "3    b'4'\n",
       "4    b'5'\n",
       "dtype: bytes8"
      ]
     },
     "execution_count": 5,
     "metadata": {},
     "output_type": "execute_result"
    }
   ],
   "source": [
    "#serie desde secuencia\n",
    "serie = pd.Series([1,2,3,4,5], dtype= np.string_)\n",
    "serie"
   ]
  },
  {
   "cell_type": "code",
   "execution_count": 7,
   "metadata": {},
   "outputs": [
    {
     "data": {
      "text/plain": [
       "0     2\n",
       "1     4\n",
       "2     6\n",
       "3     8\n",
       "4    10\n",
       "dtype: int32"
      ]
     },
     "execution_count": 7,
     "metadata": {},
     "output_type": "execute_result"
    }
   ],
   "source": [
    "#serie desde ndarray\n",
    "array = np.array([2,4,6,8,10])\n",
    "serie = pd.Series(array)\n",
    "serie"
   ]
  },
  {
   "cell_type": "code",
   "execution_count": 9,
   "metadata": {},
   "outputs": [
    {
     "data": {
      "text/plain": [
       "a    1\n",
       "b    2\n",
       "c    3\n",
       "d    4\n",
       "e    5\n",
       "dtype: int64"
      ]
     },
     "execution_count": 9,
     "metadata": {},
     "output_type": "execute_result"
    }
   ],
   "source": [
    "#serie con indice preestablecido\n",
    "serie = pd.Series([1,2,3,4,5], index=['a','b','c','d','e'])\n",
    "serie"
   ]
  },
  {
   "cell_type": "code",
   "execution_count": 10,
   "metadata": {},
   "outputs": [
    {
     "data": {
      "text/plain": [
       "a    1.0\n",
       "b    2.0\n",
       "c    3.0\n",
       "d    4.0\n",
       "e    5.0\n",
       "dtype: float64"
      ]
     },
     "execution_count": 10,
     "metadata": {},
     "output_type": "execute_result"
    }
   ],
   "source": [
    "#serie desde diccionario (establece el indice desde las claves)\n",
    "serie = pd.Series({'a':1,'b':2,'c':3,'d':4,'e':5}, dtype=np.float64)\n",
    "serie"
   ]
  },
  {
   "cell_type": "markdown",
   "metadata": {},
   "source": [
    "Elementos de una Serie\n",
    "\n",
    "Disponemos de dso atributos para recuperar los datos y el indice de una Serie de forma independiente."
   ]
  },
  {
   "cell_type": "code",
   "execution_count": 6,
   "metadata": {},
   "outputs": [
    {
     "data": {
      "text/plain": [
       "a    1.0\n",
       "b    2.0\n",
       "c    3.0\n",
       "d    4.0\n",
       "e    5.0\n",
       "dtype: float64"
      ]
     },
     "execution_count": 6,
     "metadata": {},
     "output_type": "execute_result"
    }
   ],
   "source": [
    "serie = pd.Series([1,2,3,4,5], index=['a','b','c','d','e'], dtype=np.float64)\n",
    "serie"
   ]
  },
  {
   "cell_type": "code",
   "execution_count": 4,
   "metadata": {},
   "outputs": [
    {
     "data": {
      "text/plain": [
       "array([1., 2., 3., 4., 5.])"
      ]
     },
     "execution_count": 4,
     "metadata": {},
     "output_type": "execute_result"
    }
   ],
   "source": [
    "#valores de una serie\n",
    "serie.values"
   ]
  },
  {
   "cell_type": "code",
   "execution_count": 5,
   "metadata": {},
   "outputs": [
    {
     "data": {
      "text/plain": [
       "Index(['a', 'b', 'c', 'd', 'e'], dtype='object')"
      ]
     },
     "execution_count": 5,
     "metadata": {},
     "output_type": "execute_result"
    }
   ],
   "source": [
    "#indice de una serie\n",
    "serie.index"
   ]
  },
  {
   "cell_type": "markdown",
   "metadata": {},
   "source": [
    "Los indices son inmutables, lo que impide que cambiemos un valor de indice de forma independiente. Sin embargo, podemos modificar un indice completo por otro"
   ]
  },
  {
   "cell_type": "code",
   "execution_count": null,
   "metadata": {},
   "outputs": [],
   "source": [
    "serie = pd.Series([1,2,3,4,5], index=['a','b','c','d','e'], dtype=np.float64)\n",
    "serie"
   ]
  },
  {
   "cell_type": "code",
   "execution_count": 7,
   "metadata": {},
   "outputs": [
    {
     "ename": "TypeError",
     "evalue": "Index does not support mutable operations",
     "output_type": "error",
     "traceback": [
      "\u001b[1;31m---------------------------------------------------------------------------\u001b[0m",
      "\u001b[1;31mTypeError\u001b[0m                                 Traceback (most recent call last)",
      "\u001b[1;32mc:\\Users\\Facu\\Desktop\\aprendiendoPython\\numpy\\aprendiendoPANDAS.ipynb Cell 18'\u001b[0m in \u001b[0;36m<module>\u001b[1;34m\u001b[0m\n\u001b[0;32m      <a href='vscode-notebook-cell:/c%3A/Users/Facu/Desktop/aprendiendoPython/numpy/aprendiendoPANDAS.ipynb#ch0000019?line=0'>1</a>\u001b[0m \u001b[39m#modificar un elemento del indice de una serie\u001b[39;00m\n\u001b[1;32m----> <a href='vscode-notebook-cell:/c%3A/Users/Facu/Desktop/aprendiendoPython/numpy/aprendiendoPANDAS.ipynb#ch0000019?line=1'>2</a>\u001b[0m serie\u001b[39m.\u001b[39mindex[\u001b[39m0\u001b[39m] \u001b[39m=\u001b[39m \u001b[39m4\u001b[39m\n",
      "File \u001b[1;32m~\\AppData\\Local\\Programs\\Python\\Python310\\lib\\site-packages\\pandas\\core\\indexes\\base.py:5021\u001b[0m, in \u001b[0;36mIndex.__setitem__\u001b[1;34m(self, key, value)\u001b[0m\n\u001b[0;32m   <a href='file:///~/AppData/Local/Programs/Python/Python310/lib/site-packages/pandas/core/indexes/base.py?line=5018'>5019</a>\u001b[0m \u001b[39m@final\u001b[39m\n\u001b[0;32m   <a href='file:///~/AppData/Local/Programs/Python/Python310/lib/site-packages/pandas/core/indexes/base.py?line=5019'>5020</a>\u001b[0m \u001b[39mdef\u001b[39;00m \u001b[39m__setitem__\u001b[39m(\u001b[39mself\u001b[39m, key, value):\n\u001b[1;32m-> <a href='file:///~/AppData/Local/Programs/Python/Python310/lib/site-packages/pandas/core/indexes/base.py?line=5020'>5021</a>\u001b[0m     \u001b[39mraise\u001b[39;00m \u001b[39mTypeError\u001b[39;00m(\u001b[39m\"\u001b[39m\u001b[39mIndex does not support mutable operations\u001b[39m\u001b[39m\"\u001b[39m)\n",
      "\u001b[1;31mTypeError\u001b[0m: Index does not support mutable operations"
     ]
    }
   ],
   "source": [
    "#modificar un elemento del indice de una serie   #NO SE PUEDE\n",
    "serie.index[0] = 4"
   ]
  },
  {
   "cell_type": "code",
   "execution_count": 8,
   "metadata": {},
   "outputs": [
    {
     "data": {
      "text/plain": [
       "f    1.0\n",
       "g    2.0\n",
       "h    3.0\n",
       "i    4.0\n",
       "j    5.0\n",
       "dtype: float64"
      ]
     },
     "execution_count": 8,
     "metadata": {},
     "output_type": "execute_result"
    }
   ],
   "source": [
    "#modificar el indice de una serie\n",
    "serie.index = ['f','g','h','i','j']\n",
    "serie"
   ]
  },
  {
   "cell_type": "markdown",
   "metadata": {},
   "source": [
    "DataFrame\n",
    "\n",
    "Un DataFrame es una estructura tabular (bidimensional) de informacion con las siguientes propiedades:\n",
    "\n",
    "    -Esta compuesta por una serie ordenada de filas y una serie ordenada de columnas\n",
    "    -Tiene un indice para las filas y otro indice para las columnas\n",
    "    -Cada columna puede tener un tipo NumPy diferente\n",
    "    -Puede ser visto como un diccionario de Series, todas ellas compartiendo el mismo indicie"
   ]
  },
  {
   "cell_type": "markdown",
   "metadata": {},
   "source": [
    "Creacion de DataFrames\n",
    "\n",
    "Para la creacion de DataFrames contamos con una funcion constructor (DataFrame) que puede recibir principalmente los siguientes parametros:\n",
    "    -data: es obligatorio contiene datos que queremos cargar en el DataFrame y podra ser un diccionario de series, un diccionario de secuencias, un ndarray bidimensional, una Serie o otro DataFrame\n",
    "    -index: es opcional, contiene las etiquetas que queremos asignar a las filas del DataFrame y podra ser una secuencia de Python o un ndarray unidimensional de NumPy. En caso de no suministrarse el valor por defecto es np.arange(0,num_filas)\n",
    "    -columns: es opcional, contiene las etiquetas que queremos asignar a las columnas del DataFrame y podra ser una secuencia de python o un ndarray unidimensional de NumPy. En caso de no suministrarse el valor por defecto es np.arange(0,num_columnas)\n",
    "    -dtype: es opcional, fijara el tipo de dato de todas las columnas y puede ser cualquier tipo de dato NumPy \n",
    "\n",
    "IMPORTANTE: si el tamaño de columnas no coincide se creara un DataFrame lo suficientemente grande como para contener al mayor y se asignara NaN a los huecos"
   ]
  },
  {
   "cell_type": "code",
   "execution_count": 13,
   "metadata": {},
   "outputs": [
    {
     "data": {
      "text/html": [
       "<div>\n",
       "<style scoped>\n",
       "    .dataframe tbody tr th:only-of-type {\n",
       "        vertical-align: middle;\n",
       "    }\n",
       "\n",
       "    .dataframe tbody tr th {\n",
       "        vertical-align: top;\n",
       "    }\n",
       "\n",
       "    .dataframe thead th {\n",
       "        text-align: right;\n",
       "    }\n",
       "</style>\n",
       "<table border=\"1\" class=\"dataframe\">\n",
       "  <thead>\n",
       "    <tr style=\"text-align: right;\">\n",
       "      <th></th>\n",
       "      <th>var1</th>\n",
       "      <th>var2</th>\n",
       "      <th>var3</th>\n",
       "    </tr>\n",
       "  </thead>\n",
       "  <tbody>\n",
       "    <tr>\n",
       "      <th>0</th>\n",
       "      <td>1</td>\n",
       "      <td>uno</td>\n",
       "      <td>1.0</td>\n",
       "    </tr>\n",
       "    <tr>\n",
       "      <th>1</th>\n",
       "      <td>2</td>\n",
       "      <td>dos</td>\n",
       "      <td>2.0</td>\n",
       "    </tr>\n",
       "    <tr>\n",
       "      <th>2</th>\n",
       "      <td>3</td>\n",
       "      <td>tres</td>\n",
       "      <td>3.0</td>\n",
       "    </tr>\n",
       "    <tr>\n",
       "      <th>3</th>\n",
       "      <td>4</td>\n",
       "      <td>cuatro</td>\n",
       "      <td>4.0</td>\n",
       "    </tr>\n",
       "  </tbody>\n",
       "</table>\n",
       "</div>"
      ],
      "text/plain": [
       "   var1    var2  var3\n",
       "0     1     uno   1.0\n",
       "1     2     dos   2.0\n",
       "2     3    tres   3.0\n",
       "3     4  cuatro   4.0"
      ]
     },
     "execution_count": 13,
     "metadata": {},
     "output_type": "execute_result"
    }
   ],
   "source": [
    "#DataFrame desde diccionario de secuencias\n",
    "dataframe = pd.DataFrame({'var1':[1,2,3,4], 'var2':['uno','dos','tres','cuatro'], 'var3':[1.0, 2.0, 3.0, 4.0]})\n",
    "dataframe"
   ]
  },
  {
   "cell_type": "code",
   "execution_count": 14,
   "metadata": {},
   "outputs": [
    {
     "data": {
      "text/html": [
       "<div>\n",
       "<style scoped>\n",
       "    .dataframe tbody tr th:only-of-type {\n",
       "        vertical-align: middle;\n",
       "    }\n",
       "\n",
       "    .dataframe tbody tr th {\n",
       "        vertical-align: top;\n",
       "    }\n",
       "\n",
       "    .dataframe thead th {\n",
       "        text-align: right;\n",
       "    }\n",
       "</style>\n",
       "<table border=\"1\" class=\"dataframe\">\n",
       "  <thead>\n",
       "    <tr style=\"text-align: right;\">\n",
       "      <th></th>\n",
       "      <th>var1</th>\n",
       "      <th>var2</th>\n",
       "    </tr>\n",
       "  </thead>\n",
       "  <tbody>\n",
       "    <tr>\n",
       "      <th>0</th>\n",
       "      <td>1.0</td>\n",
       "      <td>a</td>\n",
       "    </tr>\n",
       "    <tr>\n",
       "      <th>1</th>\n",
       "      <td>2.0</td>\n",
       "      <td>b</td>\n",
       "    </tr>\n",
       "    <tr>\n",
       "      <th>2</th>\n",
       "      <td>3.0</td>\n",
       "      <td>NaN</td>\n",
       "    </tr>\n",
       "  </tbody>\n",
       "</table>\n",
       "</div>"
      ],
      "text/plain": [
       "   var1 var2\n",
       "0   1.0    a\n",
       "1   2.0    b\n",
       "2   3.0  NaN"
      ]
     },
     "execution_count": 14,
     "metadata": {},
     "output_type": "execute_result"
    }
   ],
   "source": [
    "#DataFrame desde diccionario de series\n",
    "dataframe = pd.DataFrame({'var1':pd.Series([1,2,3],dtype=np.float64), 'var2':pd.Series(['a','b'])})\n",
    "dataframe"
   ]
  },
  {
   "cell_type": "code",
   "execution_count": 15,
   "metadata": {},
   "outputs": [
    {
     "data": {
      "text/html": [
       "<div>\n",
       "<style scoped>\n",
       "    .dataframe tbody tr th:only-of-type {\n",
       "        vertical-align: middle;\n",
       "    }\n",
       "\n",
       "    .dataframe tbody tr th {\n",
       "        vertical-align: top;\n",
       "    }\n",
       "\n",
       "    .dataframe thead th {\n",
       "        text-align: right;\n",
       "    }\n",
       "</style>\n",
       "<table border=\"1\" class=\"dataframe\">\n",
       "  <thead>\n",
       "    <tr style=\"text-align: right;\">\n",
       "      <th></th>\n",
       "      <th>c1</th>\n",
       "      <th>c2</th>\n",
       "      <th>c3</th>\n",
       "      <th>c4</th>\n",
       "    </tr>\n",
       "  </thead>\n",
       "  <tbody>\n",
       "    <tr>\n",
       "      <th>f1</th>\n",
       "      <td>0</td>\n",
       "      <td>1</td>\n",
       "      <td>2</td>\n",
       "      <td>3</td>\n",
       "    </tr>\n",
       "    <tr>\n",
       "      <th>f2</th>\n",
       "      <td>4</td>\n",
       "      <td>5</td>\n",
       "      <td>6</td>\n",
       "      <td>7</td>\n",
       "    </tr>\n",
       "    <tr>\n",
       "      <th>f3</th>\n",
       "      <td>8</td>\n",
       "      <td>9</td>\n",
       "      <td>10</td>\n",
       "      <td>11</td>\n",
       "    </tr>\n",
       "    <tr>\n",
       "      <th>f4</th>\n",
       "      <td>12</td>\n",
       "      <td>13</td>\n",
       "      <td>14</td>\n",
       "      <td>15</td>\n",
       "    </tr>\n",
       "  </tbody>\n",
       "</table>\n",
       "</div>"
      ],
      "text/plain": [
       "    c1  c2  c3  c4\n",
       "f1   0   1   2   3\n",
       "f2   4   5   6   7\n",
       "f3   8   9  10  11\n",
       "f4  12  13  14  15"
      ]
     },
     "execution_count": 15,
     "metadata": {},
     "output_type": "execute_result"
    }
   ],
   "source": [
    "#DataFrame desde ndarray con indices para filas y columnas\n",
    "dataframe = pd.DataFrame(np.arange(16).reshape(4,4), index=['f1','f2','f3','f4'], columns=['c1','c2','c3','c4'])\n",
    "dataframe"
   ]
  },
  {
   "cell_type": "code",
   "execution_count": 20,
   "metadata": {},
   "outputs": [
    {
     "data": {
      "text/html": [
       "<div>\n",
       "<style scoped>\n",
       "    .dataframe tbody tr th:only-of-type {\n",
       "        vertical-align: middle;\n",
       "    }\n",
       "\n",
       "    .dataframe tbody tr th {\n",
       "        vertical-align: top;\n",
       "    }\n",
       "\n",
       "    .dataframe thead th {\n",
       "        text-align: right;\n",
       "    }\n",
       "</style>\n",
       "<table border=\"1\" class=\"dataframe\">\n",
       "  <thead>\n",
       "    <tr style=\"text-align: right;\">\n",
       "      <th></th>\n",
       "      <th>0</th>\n",
       "      <th>1</th>\n",
       "      <th>2</th>\n",
       "      <th>3</th>\n",
       "    </tr>\n",
       "  </thead>\n",
       "  <tbody>\n",
       "    <tr>\n",
       "      <th>0</th>\n",
       "      <td>0.0</td>\n",
       "      <td>1.0</td>\n",
       "      <td>2.0</td>\n",
       "      <td>3.0</td>\n",
       "    </tr>\n",
       "    <tr>\n",
       "      <th>1</th>\n",
       "      <td>4.0</td>\n",
       "      <td>5.0</td>\n",
       "      <td>6.0</td>\n",
       "      <td>7.0</td>\n",
       "    </tr>\n",
       "    <tr>\n",
       "      <th>2</th>\n",
       "      <td>8.0</td>\n",
       "      <td>9.0</td>\n",
       "      <td>10.0</td>\n",
       "      <td>11.0</td>\n",
       "    </tr>\n",
       "    <tr>\n",
       "      <th>3</th>\n",
       "      <td>12.0</td>\n",
       "      <td>13.0</td>\n",
       "      <td>14.0</td>\n",
       "      <td>15.0</td>\n",
       "    </tr>\n",
       "  </tbody>\n",
       "</table>\n",
       "</div>"
      ],
      "text/plain": [
       "      0     1     2     3\n",
       "0   0.0   1.0   2.0   3.0\n",
       "1   4.0   5.0   6.0   7.0\n",
       "2   8.0   9.0  10.0  11.0\n",
       "3  12.0  13.0  14.0  15.0"
      ]
     },
     "execution_count": 20,
     "metadata": {},
     "output_type": "execute_result"
    }
   ],
   "source": [
    "#DataFrame desde ndarray con indices para filas y columnas con tipo fijo para todas\n",
    "dataframe = pd.DataFrame(np.arange(16).reshape(4,4), dtype=np.float64)\n",
    "dataframe"
   ]
  },
  {
   "cell_type": "markdown",
   "metadata": {},
   "source": [
    "Elementos de un DataFrame\n",
    "\n",
    "Disponemos de tres atributos para recuperar los datos, el indice y las columnas de un DataFrame de forma independiente"
   ]
  },
  {
   "cell_type": "code",
   "execution_count": 21,
   "metadata": {},
   "outputs": [
    {
     "data": {
      "text/html": [
       "<div>\n",
       "<style scoped>\n",
       "    .dataframe tbody tr th:only-of-type {\n",
       "        vertical-align: middle;\n",
       "    }\n",
       "\n",
       "    .dataframe tbody tr th {\n",
       "        vertical-align: top;\n",
       "    }\n",
       "\n",
       "    .dataframe thead th {\n",
       "        text-align: right;\n",
       "    }\n",
       "</style>\n",
       "<table border=\"1\" class=\"dataframe\">\n",
       "  <thead>\n",
       "    <tr style=\"text-align: right;\">\n",
       "      <th></th>\n",
       "      <th>var1</th>\n",
       "      <th>var2</th>\n",
       "      <th>var3</th>\n",
       "    </tr>\n",
       "  </thead>\n",
       "  <tbody>\n",
       "    <tr>\n",
       "      <th>0</th>\n",
       "      <td>1</td>\n",
       "      <td>uno</td>\n",
       "      <td>1.0</td>\n",
       "    </tr>\n",
       "    <tr>\n",
       "      <th>1</th>\n",
       "      <td>2</td>\n",
       "      <td>dos</td>\n",
       "      <td>2.0</td>\n",
       "    </tr>\n",
       "    <tr>\n",
       "      <th>2</th>\n",
       "      <td>3</td>\n",
       "      <td>tres</td>\n",
       "      <td>3.0</td>\n",
       "    </tr>\n",
       "    <tr>\n",
       "      <th>3</th>\n",
       "      <td>4</td>\n",
       "      <td>cuatro</td>\n",
       "      <td>4.0</td>\n",
       "    </tr>\n",
       "  </tbody>\n",
       "</table>\n",
       "</div>"
      ],
      "text/plain": [
       "   var1    var2  var3\n",
       "0     1     uno   1.0\n",
       "1     2     dos   2.0\n",
       "2     3    tres   3.0\n",
       "3     4  cuatro   4.0"
      ]
     },
     "execution_count": 21,
     "metadata": {},
     "output_type": "execute_result"
    }
   ],
   "source": [
    "dataframe = pd.DataFrame({'var1':[1,2,3,4], 'var2':['uno','dos','tres','cuatro'], 'var3':[1.0, 2.0, 3.0, 4.0]})\n",
    "dataframe"
   ]
  },
  {
   "cell_type": "code",
   "execution_count": 22,
   "metadata": {},
   "outputs": [
    {
     "data": {
      "text/plain": [
       "array([[1, 'uno', 1.0],\n",
       "       [2, 'dos', 2.0],\n",
       "       [3, 'tres', 3.0],\n",
       "       [4, 'cuatro', 4.0]], dtype=object)"
      ]
     },
     "execution_count": 22,
     "metadata": {},
     "output_type": "execute_result"
    }
   ],
   "source": [
    "#valores de un DataFrame\n",
    "dataframe.values"
   ]
  },
  {
   "cell_type": "code",
   "execution_count": 23,
   "metadata": {},
   "outputs": [
    {
     "data": {
      "text/plain": [
       "RangeIndex(start=0, stop=4, step=1)"
      ]
     },
     "execution_count": 23,
     "metadata": {},
     "output_type": "execute_result"
    }
   ],
   "source": [
    "#indece de un DataFrame\n",
    "dataframe.index"
   ]
  },
  {
   "cell_type": "code",
   "execution_count": 25,
   "metadata": {},
   "outputs": [
    {
     "data": {
      "text/plain": [
       "Index(['var1', 'var2', 'var3'], dtype='object')"
      ]
     },
     "execution_count": 25,
     "metadata": {},
     "output_type": "execute_result"
    }
   ],
   "source": [
    "#columnas de un DataFrame\n",
    "dataframe.columns"
   ]
  },
  {
   "cell_type": "markdown",
   "metadata": {},
   "source": [
    "Denuevo los indices (tanto de las filas como de las columnas) sonj inmutables, pero denuevo, se pueden modificar de forma completa"
   ]
  },
  {
   "cell_type": "code",
   "execution_count": 26,
   "metadata": {},
   "outputs": [
    {
     "ename": "TypeError",
     "evalue": "Index does not support mutable operations",
     "output_type": "error",
     "traceback": [
      "\u001b[1;31m---------------------------------------------------------------------------\u001b[0m",
      "\u001b[1;31mTypeError\u001b[0m                                 Traceback (most recent call last)",
      "\u001b[1;32mc:\\Users\\Facu\\Desktop\\aprendiendoPython\\numpy\\aprendiendoPANDAS.ipynb Cell 32'\u001b[0m in \u001b[0;36m<module>\u001b[1;34m\u001b[0m\n\u001b[0;32m      <a href='vscode-notebook-cell:/c%3A/Users/Facu/Desktop/aprendiendoPython/numpy/aprendiendoPANDAS.ipynb#ch0000034?line=0'>1</a>\u001b[0m \u001b[39m#modificar un elemento del indice de filas de un DataFrame\u001b[39;00m\n\u001b[1;32m----> <a href='vscode-notebook-cell:/c%3A/Users/Facu/Desktop/aprendiendoPython/numpy/aprendiendoPANDAS.ipynb#ch0000034?line=1'>2</a>\u001b[0m dataframe\u001b[39m.\u001b[39mindex[\u001b[39m0\u001b[39m] \u001b[39m=\u001b[39m \u001b[39m4\u001b[39m\n",
      "File \u001b[1;32m~\\AppData\\Local\\Programs\\Python\\Python310\\lib\\site-packages\\pandas\\core\\indexes\\base.py:5021\u001b[0m, in \u001b[0;36mIndex.__setitem__\u001b[1;34m(self, key, value)\u001b[0m\n\u001b[0;32m   <a href='file:///~/AppData/Local/Programs/Python/Python310/lib/site-packages/pandas/core/indexes/base.py?line=5018'>5019</a>\u001b[0m \u001b[39m@final\u001b[39m\n\u001b[0;32m   <a href='file:///~/AppData/Local/Programs/Python/Python310/lib/site-packages/pandas/core/indexes/base.py?line=5019'>5020</a>\u001b[0m \u001b[39mdef\u001b[39;00m \u001b[39m__setitem__\u001b[39m(\u001b[39mself\u001b[39m, key, value):\n\u001b[1;32m-> <a href='file:///~/AppData/Local/Programs/Python/Python310/lib/site-packages/pandas/core/indexes/base.py?line=5020'>5021</a>\u001b[0m     \u001b[39mraise\u001b[39;00m \u001b[39mTypeError\u001b[39;00m(\u001b[39m\"\u001b[39m\u001b[39mIndex does not support mutable operations\u001b[39m\u001b[39m\"\u001b[39m)\n",
      "\u001b[1;31mTypeError\u001b[0m: Index does not support mutable operations"
     ]
    }
   ],
   "source": [
    "#modificar un elemento del indice de filas de un DataFrame           #NO SE PUEDE\n",
    "dataframe.index[0] = 4"
   ]
  },
  {
   "cell_type": "code",
   "execution_count": 27,
   "metadata": {},
   "outputs": [
    {
     "ename": "TypeError",
     "evalue": "Index does not support mutable operations",
     "output_type": "error",
     "traceback": [
      "\u001b[1;31m---------------------------------------------------------------------------\u001b[0m",
      "\u001b[1;31mTypeError\u001b[0m                                 Traceback (most recent call last)",
      "\u001b[1;32mc:\\Users\\Facu\\Desktop\\aprendiendoPython\\numpy\\aprendiendoPANDAS.ipynb Cell 33'\u001b[0m in \u001b[0;36m<module>\u001b[1;34m\u001b[0m\n\u001b[0;32m      <a href='vscode-notebook-cell:/c%3A/Users/Facu/Desktop/aprendiendoPython/numpy/aprendiendoPANDAS.ipynb#ch0000036?line=0'>1</a>\u001b[0m \u001b[39m#modificar un elemento del indice de columnas de un DataFrame\u001b[39;00m\n\u001b[1;32m----> <a href='vscode-notebook-cell:/c%3A/Users/Facu/Desktop/aprendiendoPython/numpy/aprendiendoPANDAS.ipynb#ch0000036?line=1'>2</a>\u001b[0m dataframe\u001b[39m.\u001b[39mcolumns[\u001b[39m0\u001b[39m] \u001b[39m=\u001b[39m \u001b[39m4\u001b[39m\n",
      "File \u001b[1;32m~\\AppData\\Local\\Programs\\Python\\Python310\\lib\\site-packages\\pandas\\core\\indexes\\base.py:5021\u001b[0m, in \u001b[0;36mIndex.__setitem__\u001b[1;34m(self, key, value)\u001b[0m\n\u001b[0;32m   <a href='file:///~/AppData/Local/Programs/Python/Python310/lib/site-packages/pandas/core/indexes/base.py?line=5018'>5019</a>\u001b[0m \u001b[39m@final\u001b[39m\n\u001b[0;32m   <a href='file:///~/AppData/Local/Programs/Python/Python310/lib/site-packages/pandas/core/indexes/base.py?line=5019'>5020</a>\u001b[0m \u001b[39mdef\u001b[39;00m \u001b[39m__setitem__\u001b[39m(\u001b[39mself\u001b[39m, key, value):\n\u001b[1;32m-> <a href='file:///~/AppData/Local/Programs/Python/Python310/lib/site-packages/pandas/core/indexes/base.py?line=5020'>5021</a>\u001b[0m     \u001b[39mraise\u001b[39;00m \u001b[39mTypeError\u001b[39;00m(\u001b[39m\"\u001b[39m\u001b[39mIndex does not support mutable operations\u001b[39m\u001b[39m\"\u001b[39m)\n",
      "\u001b[1;31mTypeError\u001b[0m: Index does not support mutable operations"
     ]
    }
   ],
   "source": [
    "#modificar un elemento del indice de columnas de un DataFrame               #NO SE PUEDE\n",
    "dataframe.columns[0] = 4"
   ]
  },
  {
   "cell_type": "code",
   "execution_count": 30,
   "metadata": {},
   "outputs": [
    {
     "data": {
      "text/html": [
       "<div>\n",
       "<style scoped>\n",
       "    .dataframe tbody tr th:only-of-type {\n",
       "        vertical-align: middle;\n",
       "    }\n",
       "\n",
       "    .dataframe tbody tr th {\n",
       "        vertical-align: top;\n",
       "    }\n",
       "\n",
       "    .dataframe thead th {\n",
       "        text-align: right;\n",
       "    }\n",
       "</style>\n",
       "<table border=\"1\" class=\"dataframe\">\n",
       "  <thead>\n",
       "    <tr style=\"text-align: right;\">\n",
       "      <th></th>\n",
       "      <th>var1</th>\n",
       "      <th>var2</th>\n",
       "      <th>var3</th>\n",
       "    </tr>\n",
       "  </thead>\n",
       "  <tbody>\n",
       "    <tr>\n",
       "      <th>f1</th>\n",
       "      <td>1</td>\n",
       "      <td>uno</td>\n",
       "      <td>1.0</td>\n",
       "    </tr>\n",
       "    <tr>\n",
       "      <th>f2</th>\n",
       "      <td>2</td>\n",
       "      <td>dos</td>\n",
       "      <td>2.0</td>\n",
       "    </tr>\n",
       "    <tr>\n",
       "      <th>f3</th>\n",
       "      <td>3</td>\n",
       "      <td>tres</td>\n",
       "      <td>3.0</td>\n",
       "    </tr>\n",
       "    <tr>\n",
       "      <th>f4</th>\n",
       "      <td>4</td>\n",
       "      <td>cuatro</td>\n",
       "      <td>4.0</td>\n",
       "    </tr>\n",
       "  </tbody>\n",
       "</table>\n",
       "</div>"
      ],
      "text/plain": [
       "    var1    var2  var3\n",
       "f1     1     uno   1.0\n",
       "f2     2     dos   2.0\n",
       "f3     3    tres   3.0\n",
       "f4     4  cuatro   4.0"
      ]
     },
     "execution_count": 30,
     "metadata": {},
     "output_type": "execute_result"
    }
   ],
   "source": [
    "#modificar el indice de las filas de un DataFrame \n",
    "dataframe.index = ['f1','f2','f3','f4']\n",
    "dataframe"
   ]
  },
  {
   "cell_type": "code",
   "execution_count": 32,
   "metadata": {},
   "outputs": [
    {
     "data": {
      "text/html": [
       "<div>\n",
       "<style scoped>\n",
       "    .dataframe tbody tr th:only-of-type {\n",
       "        vertical-align: middle;\n",
       "    }\n",
       "\n",
       "    .dataframe tbody tr th {\n",
       "        vertical-align: top;\n",
       "    }\n",
       "\n",
       "    .dataframe thead th {\n",
       "        text-align: right;\n",
       "    }\n",
       "</style>\n",
       "<table border=\"1\" class=\"dataframe\">\n",
       "  <thead>\n",
       "    <tr style=\"text-align: right;\">\n",
       "      <th></th>\n",
       "      <th>c1</th>\n",
       "      <th>c2</th>\n",
       "      <th>c3</th>\n",
       "    </tr>\n",
       "  </thead>\n",
       "  <tbody>\n",
       "    <tr>\n",
       "      <th>f1</th>\n",
       "      <td>1</td>\n",
       "      <td>uno</td>\n",
       "      <td>1.0</td>\n",
       "    </tr>\n",
       "    <tr>\n",
       "      <th>f2</th>\n",
       "      <td>2</td>\n",
       "      <td>dos</td>\n",
       "      <td>2.0</td>\n",
       "    </tr>\n",
       "    <tr>\n",
       "      <th>f3</th>\n",
       "      <td>3</td>\n",
       "      <td>tres</td>\n",
       "      <td>3.0</td>\n",
       "    </tr>\n",
       "    <tr>\n",
       "      <th>f4</th>\n",
       "      <td>4</td>\n",
       "      <td>cuatro</td>\n",
       "      <td>4.0</td>\n",
       "    </tr>\n",
       "  </tbody>\n",
       "</table>\n",
       "</div>"
      ],
      "text/plain": [
       "    c1      c2   c3\n",
       "f1   1     uno  1.0\n",
       "f2   2     dos  2.0\n",
       "f3   3    tres  3.0\n",
       "f4   4  cuatro  4.0"
      ]
     },
     "execution_count": 32,
     "metadata": {},
     "output_type": "execute_result"
    }
   ],
   "source": [
    "#modificar el indice de las filas de un DataFrame\n",
    "dataframe.columns = ['c1','c2','c3']\n",
    "dataframe"
   ]
  },
  {
   "cell_type": "code",
   "execution_count": 43,
   "metadata": {},
   "outputs": [
    {
     "data": {
      "text/html": [
       "<div>\n",
       "<style scoped>\n",
       "    .dataframe tbody tr th:only-of-type {\n",
       "        vertical-align: middle;\n",
       "    }\n",
       "\n",
       "    .dataframe tbody tr th {\n",
       "        vertical-align: top;\n",
       "    }\n",
       "\n",
       "    .dataframe thead th {\n",
       "        text-align: right;\n",
       "    }\n",
       "</style>\n",
       "<table border=\"1\" class=\"dataframe\">\n",
       "  <thead>\n",
       "    <tr style=\"text-align: right;\">\n",
       "      <th></th>\n",
       "      <th>col1</th>\n",
       "      <th>c2</th>\n",
       "      <th>c3</th>\n",
       "    </tr>\n",
       "  </thead>\n",
       "  <tbody>\n",
       "    <tr>\n",
       "      <th>f1</th>\n",
       "      <td>1</td>\n",
       "      <td>uno</td>\n",
       "      <td>1.0</td>\n",
       "    </tr>\n",
       "    <tr>\n",
       "      <th>f2</th>\n",
       "      <td>2</td>\n",
       "      <td>dos</td>\n",
       "      <td>2.0</td>\n",
       "    </tr>\n",
       "    <tr>\n",
       "      <th>f3</th>\n",
       "      <td>3</td>\n",
       "      <td>tres</td>\n",
       "      <td>3.0</td>\n",
       "    </tr>\n",
       "    <tr>\n",
       "      <th>f4</th>\n",
       "      <td>4</td>\n",
       "      <td>cuatro</td>\n",
       "      <td>4.0</td>\n",
       "    </tr>\n",
       "  </tbody>\n",
       "</table>\n",
       "</div>"
      ],
      "text/plain": [
       "    col1      c2   c3\n",
       "f1     1     uno  1.0\n",
       "f2     2     dos  2.0\n",
       "f3     3    tres  3.0\n",
       "f4     4  cuatro  4.0"
      ]
     },
     "execution_count": 43,
     "metadata": {},
     "output_type": "execute_result"
    }
   ],
   "source": [
    "#forma de cambiar un solo elemento de mi columna\n",
    "dataframe.rename(columns = {\"c1\":\"col1\"})"
   ]
  },
  {
   "cell_type": "markdown",
   "metadata": {},
   "source": [
    "Operaciones Basicas\n",
    "\n",
    "Trataremos aqui las operaciones mas basicas que se pueden realizar sobre las estructuras de datos pandas. Estas operaciones tienen un funcionamiento practicamente identico en Series y DataFrames. En caso de que no sea asi en algun caso concreto se indicara explicitamente"
   ]
  },
  {
   "cell_type": "markdown",
   "metadata": {},
   "source": [
    "Tratamiento de Series y DataFrames como diccionarios\n",
    "\n",
    "Dado que internamente tanto las Series como los DataFrames pueden verse como diccionarios, podemos aplicar sobre los mismos cualquier funcionalidad que aplicariamos sobre diccionarios basicos del core de Python.\n",
    "IMPORTANTE: hay que tener en cuenta que en DataFrame el diccionario es un diccionario de \"columnas\""
   ]
  },
  {
   "cell_type": "code",
   "execution_count": 44,
   "metadata": {},
   "outputs": [
    {
     "data": {
      "text/plain": [
       "a    1\n",
       "b    2\n",
       "c    3\n",
       "d    4\n",
       "dtype: int64"
      ]
     },
     "execution_count": 44,
     "metadata": {},
     "output_type": "execute_result"
    }
   ],
   "source": [
    "serie = pd.Series([1,2,3,4], index=['a','b','c','d'])\n",
    "serie"
   ]
  },
  {
   "cell_type": "code",
   "execution_count": 45,
   "metadata": {},
   "outputs": [
    {
     "data": {
      "text/html": [
       "<div>\n",
       "<style scoped>\n",
       "    .dataframe tbody tr th:only-of-type {\n",
       "        vertical-align: middle;\n",
       "    }\n",
       "\n",
       "    .dataframe tbody tr th {\n",
       "        vertical-align: top;\n",
       "    }\n",
       "\n",
       "    .dataframe thead th {\n",
       "        text-align: right;\n",
       "    }\n",
       "</style>\n",
       "<table border=\"1\" class=\"dataframe\">\n",
       "  <thead>\n",
       "    <tr style=\"text-align: right;\">\n",
       "      <th></th>\n",
       "      <th>var1</th>\n",
       "      <th>var2</th>\n",
       "    </tr>\n",
       "  </thead>\n",
       "  <tbody>\n",
       "    <tr>\n",
       "      <th>a</th>\n",
       "      <td>1</td>\n",
       "      <td>1</td>\n",
       "    </tr>\n",
       "    <tr>\n",
       "      <th>b</th>\n",
       "      <td>2</td>\n",
       "      <td>2</td>\n",
       "    </tr>\n",
       "    <tr>\n",
       "      <th>c</th>\n",
       "      <td>3</td>\n",
       "      <td>3</td>\n",
       "    </tr>\n",
       "    <tr>\n",
       "      <th>d</th>\n",
       "      <td>4</td>\n",
       "      <td>4</td>\n",
       "    </tr>\n",
       "  </tbody>\n",
       "</table>\n",
       "</div>"
      ],
      "text/plain": [
       "   var1  var2\n",
       "a     1     1\n",
       "b     2     2\n",
       "c     3     3\n",
       "d     4     4"
      ]
     },
     "execution_count": 45,
     "metadata": {},
     "output_type": "execute_result"
    }
   ],
   "source": [
    "dataframe = pd.DataFrame({'var1':serie,'var2':serie})\n",
    "dataframe"
   ]
  },
  {
   "cell_type": "markdown",
   "metadata": {},
   "source": [
    "Indexacion por clave"
   ]
  },
  {
   "cell_type": "code",
   "execution_count": 46,
   "metadata": {},
   "outputs": [
    {
     "data": {
      "text/plain": [
       "1"
      ]
     },
     "execution_count": 46,
     "metadata": {},
     "output_type": "execute_result"
    }
   ],
   "source": [
    "#indexacion mediante clave del indice en series\n",
    "serie['a']"
   ]
  },
  {
   "cell_type": "code",
   "execution_count": 49,
   "metadata": {},
   "outputs": [
    {
     "data": {
      "text/plain": [
       "a    1\n",
       "b    2\n",
       "c    3\n",
       "d    4\n",
       "Name: var2, dtype: int64"
      ]
     },
     "execution_count": 49,
     "metadata": {},
     "output_type": "execute_result"
    }
   ],
   "source": [
    "#indexacion por nombre de columna en dataframes\n",
    "dataframe['var2']"
   ]
  },
  {
   "cell_type": "markdown",
   "metadata": {},
   "source": [
    "comprobacion de la existencia de una clave"
   ]
  },
  {
   "cell_type": "code",
   "execution_count": 50,
   "metadata": {},
   "outputs": [
    {
     "data": {
      "text/plain": [
       "True"
      ]
     },
     "execution_count": 50,
     "metadata": {},
     "output_type": "execute_result"
    }
   ],
   "source": [
    "#comprobacion de la existencia de una clave en el indice de series\n",
    "'b' in serie"
   ]
  },
  {
   "cell_type": "code",
   "execution_count": 51,
   "metadata": {},
   "outputs": [
    {
     "data": {
      "text/plain": [
       "False"
      ]
     },
     "execution_count": 51,
     "metadata": {},
     "output_type": "execute_result"
    }
   ],
   "source": [
    "#comprobacion de la existencia de un nombre de columna en dataframes\n",
    "'b' in dataframe"
   ]
  },
  {
   "cell_type": "code",
   "execution_count": 52,
   "metadata": {},
   "outputs": [
    {
     "data": {
      "text/plain": [
       "True"
      ]
     },
     "execution_count": 52,
     "metadata": {},
     "output_type": "execute_result"
    }
   ],
   "source": [
    "#comprobacion de la existencia de un nombre de columna en dataframes\n",
    "'var1' in dataframe"
   ]
  },
  {
   "cell_type": "markdown",
   "metadata": {},
   "source": [
    "Adicion de elementos\n",
    "\n",
    "IMPORTANTE: Al añadir columnas a un DataFrame, el tamaño del vector añadido debera coincidir con el del DataFrame original. En caso contrario se recibira un error"
   ]
  },
  {
   "cell_type": "code",
   "execution_count": 53,
   "metadata": {},
   "outputs": [
    {
     "data": {
      "text/plain": [
       "a    1\n",
       "b    2\n",
       "c    3\n",
       "d    4\n",
       "e    5\n",
       "dtype: int64"
      ]
     },
     "execution_count": 53,
     "metadata": {},
     "output_type": "execute_result"
    }
   ],
   "source": [
    "#adicion de elementos a series\n",
    "serie['e'] = 5\n",
    "serie"
   ]
  },
  {
   "cell_type": "code",
   "execution_count": 57,
   "metadata": {},
   "outputs": [
    {
     "data": {
      "text/html": [
       "<div>\n",
       "<style scoped>\n",
       "    .dataframe tbody tr th:only-of-type {\n",
       "        vertical-align: middle;\n",
       "    }\n",
       "\n",
       "    .dataframe tbody tr th {\n",
       "        vertical-align: top;\n",
       "    }\n",
       "\n",
       "    .dataframe thead th {\n",
       "        text-align: right;\n",
       "    }\n",
       "</style>\n",
       "<table border=\"1\" class=\"dataframe\">\n",
       "  <thead>\n",
       "    <tr style=\"text-align: right;\">\n",
       "      <th></th>\n",
       "      <th>var1</th>\n",
       "      <th>var2</th>\n",
       "      <th>var3</th>\n",
       "    </tr>\n",
       "  </thead>\n",
       "  <tbody>\n",
       "    <tr>\n",
       "      <th>a</th>\n",
       "      <td>1</td>\n",
       "      <td>1</td>\n",
       "      <td>5</td>\n",
       "    </tr>\n",
       "    <tr>\n",
       "      <th>b</th>\n",
       "      <td>2</td>\n",
       "      <td>2</td>\n",
       "      <td>6</td>\n",
       "    </tr>\n",
       "    <tr>\n",
       "      <th>c</th>\n",
       "      <td>3</td>\n",
       "      <td>3</td>\n",
       "      <td>7</td>\n",
       "    </tr>\n",
       "    <tr>\n",
       "      <th>d</th>\n",
       "      <td>4</td>\n",
       "      <td>4</td>\n",
       "      <td>4</td>\n",
       "    </tr>\n",
       "  </tbody>\n",
       "</table>\n",
       "</div>"
      ],
      "text/plain": [
       "   var1  var2  var3\n",
       "a     1     1     5\n",
       "b     2     2     6\n",
       "c     3     3     7\n",
       "d     4     4     4"
      ]
     },
     "execution_count": 57,
     "metadata": {},
     "output_type": "execute_result"
    }
   ],
   "source": [
    "#adicion de elementos a dataframes\n",
    "dataframe['var3'] = [5,6,7,4]\n",
    "dataframe"
   ]
  },
  {
   "cell_type": "markdown",
   "metadata": {},
   "source": [
    "Eliminacion de elementos"
   ]
  },
  {
   "cell_type": "code",
   "execution_count": 58,
   "metadata": {},
   "outputs": [
    {
     "data": {
      "text/plain": [
       "a    1\n",
       "b    2\n",
       "c    3\n",
       "d    4\n",
       "dtype: int64"
      ]
     },
     "execution_count": 58,
     "metadata": {},
     "output_type": "execute_result"
    }
   ],
   "source": [
    "#eliminacion de elementos en series\n",
    "del serie['e']\n",
    "serie"
   ]
  },
  {
   "cell_type": "code",
   "execution_count": 59,
   "metadata": {},
   "outputs": [
    {
     "data": {
      "text/html": [
       "<div>\n",
       "<style scoped>\n",
       "    .dataframe tbody tr th:only-of-type {\n",
       "        vertical-align: middle;\n",
       "    }\n",
       "\n",
       "    .dataframe tbody tr th {\n",
       "        vertical-align: top;\n",
       "    }\n",
       "\n",
       "    .dataframe thead th {\n",
       "        text-align: right;\n",
       "    }\n",
       "</style>\n",
       "<table border=\"1\" class=\"dataframe\">\n",
       "  <thead>\n",
       "    <tr style=\"text-align: right;\">\n",
       "      <th></th>\n",
       "      <th>var1</th>\n",
       "      <th>var2</th>\n",
       "    </tr>\n",
       "  </thead>\n",
       "  <tbody>\n",
       "    <tr>\n",
       "      <th>a</th>\n",
       "      <td>1</td>\n",
       "      <td>1</td>\n",
       "    </tr>\n",
       "    <tr>\n",
       "      <th>b</th>\n",
       "      <td>2</td>\n",
       "      <td>2</td>\n",
       "    </tr>\n",
       "    <tr>\n",
       "      <th>c</th>\n",
       "      <td>3</td>\n",
       "      <td>3</td>\n",
       "    </tr>\n",
       "    <tr>\n",
       "      <th>d</th>\n",
       "      <td>4</td>\n",
       "      <td>4</td>\n",
       "    </tr>\n",
       "  </tbody>\n",
       "</table>\n",
       "</div>"
      ],
      "text/plain": [
       "   var1  var2\n",
       "a     1     1\n",
       "b     2     2\n",
       "c     3     3\n",
       "d     4     4"
      ]
     },
     "execution_count": 59,
     "metadata": {},
     "output_type": "execute_result"
    }
   ],
   "source": [
    "#eliminacion de columnas en dataframe\n",
    "del dataframe['var3']\n",
    "dataframe"
   ]
  },
  {
   "cell_type": "markdown",
   "metadata": {},
   "source": [
    "Tratamiento de sereis y DataFrames como ndarrays\n",
    "\n",
    "Dado que, internamente, cualquier estructura de pandas esta implementada sobre ndarrays de NumPy, es posible realizar sobre Series y DataFrames todas las operaciones que se pueden realizar sobre los ndarrays\n",
    "IMPORTANTE: dado que un ndarray no puede mezclar elementos de diferentes tipos y un dataframe si, algunas de las operaciones sobre los dataframes estaran supeditadas a que todas sus columnas tengan el mismo tipo"
   ]
  },
  {
   "cell_type": "code",
   "execution_count": 3,
   "metadata": {},
   "outputs": [
    {
     "data": {
      "text/plain": [
       "a    1\n",
       "b    2\n",
       "c    3\n",
       "d    4\n",
       "dtype: int64"
      ]
     },
     "execution_count": 3,
     "metadata": {},
     "output_type": "execute_result"
    }
   ],
   "source": [
    "serie = pd.Series([1,2,3,4], index=['a','b','c','d'])\n",
    "serie"
   ]
  },
  {
   "cell_type": "code",
   "execution_count": 4,
   "metadata": {},
   "outputs": [
    {
     "data": {
      "text/html": [
       "<div>\n",
       "<style scoped>\n",
       "    .dataframe tbody tr th:only-of-type {\n",
       "        vertical-align: middle;\n",
       "    }\n",
       "\n",
       "    .dataframe tbody tr th {\n",
       "        vertical-align: top;\n",
       "    }\n",
       "\n",
       "    .dataframe thead th {\n",
       "        text-align: right;\n",
       "    }\n",
       "</style>\n",
       "<table border=\"1\" class=\"dataframe\">\n",
       "  <thead>\n",
       "    <tr style=\"text-align: right;\">\n",
       "      <th></th>\n",
       "      <th>var1</th>\n",
       "      <th>var2</th>\n",
       "    </tr>\n",
       "  </thead>\n",
       "  <tbody>\n",
       "    <tr>\n",
       "      <th>a</th>\n",
       "      <td>1</td>\n",
       "      <td>b'1'</td>\n",
       "    </tr>\n",
       "    <tr>\n",
       "      <th>b</th>\n",
       "      <td>2</td>\n",
       "      <td>b'2'</td>\n",
       "    </tr>\n",
       "    <tr>\n",
       "      <th>c</th>\n",
       "      <td>3</td>\n",
       "      <td>b'3'</td>\n",
       "    </tr>\n",
       "    <tr>\n",
       "      <th>d</th>\n",
       "      <td>4</td>\n",
       "      <td>b'4'</td>\n",
       "    </tr>\n",
       "  </tbody>\n",
       "</table>\n",
       "</div>"
      ],
      "text/plain": [
       "   var1  var2\n",
       "a     1  b'1'\n",
       "b     2  b'2'\n",
       "c     3  b'3'\n",
       "d     4  b'4'"
      ]
     },
     "execution_count": 4,
     "metadata": {},
     "output_type": "execute_result"
    }
   ],
   "source": [
    "dataframe = pd.DataFrame({'var1': pd.Series(serie, dtype= np.int32), 'var2': pd.Series(serie, dtype=np.string_)})\n",
    "dataframe"
   ]
  },
  {
   "cell_type": "markdown",
   "metadata": {},
   "source": [
    "Consulta de composicion\n",
    "\n",
    "Disponemos de los mismos atributos de consulta que en ndarrays, si bien hay que tener en cuenta que:\n",
    "    -El atributo dtype será dtypes en DataFrames dada la posibilidad de multiples tipos\n",
    "    -el atributo ndim en Series simepre valdrá 1 dado que siempre son estructuras unidimensionales y 2 en DataFrames dado que siempre son estructuras bidimensionales"
   ]
  },
  {
   "cell_type": "code",
   "execution_count": 64,
   "metadata": {},
   "outputs": [
    {
     "data": {
      "text/plain": [
       "dtype('int64')"
      ]
     },
     "execution_count": 64,
     "metadata": {},
     "output_type": "execute_result"
    }
   ],
   "source": [
    "#coonsulta del tipo almacenado en una serie\n",
    "serie.dtype"
   ]
  },
  {
   "cell_type": "code",
   "execution_count": 65,
   "metadata": {},
   "outputs": [
    {
     "data": {
      "text/plain": [
       "var1     int32\n",
       "var2    object\n",
       "dtype: object"
      ]
     },
     "execution_count": 65,
     "metadata": {},
     "output_type": "execute_result"
    }
   ],
   "source": [
    "#consulta de los tipos almacenados en un dataframe\n",
    "dataframe.dtypes"
   ]
  },
  {
   "cell_type": "code",
   "execution_count": 66,
   "metadata": {},
   "outputs": [
    {
     "data": {
      "text/plain": [
       "1"
      ]
     },
     "execution_count": 66,
     "metadata": {},
     "output_type": "execute_result"
    }
   ],
   "source": [
    "#condsulta del numero de dimensiones de una serie\n",
    "serie.ndim"
   ]
  },
  {
   "cell_type": "code",
   "execution_count": 67,
   "metadata": {},
   "outputs": [
    {
     "data": {
      "text/plain": [
       "2"
      ]
     },
     "execution_count": 67,
     "metadata": {},
     "output_type": "execute_result"
    }
   ],
   "source": [
    "#consulta del numero de dimensiones de un dataframe\n",
    "dataframe.ndim"
   ]
  },
  {
   "cell_type": "code",
   "execution_count": 68,
   "metadata": {},
   "outputs": [
    {
     "data": {
      "text/plain": [
       "(4,)"
      ]
     },
     "execution_count": 68,
     "metadata": {},
     "output_type": "execute_result"
    }
   ],
   "source": [
    "#consulta de la forma de una serie\n",
    "serie.shape"
   ]
  },
  {
   "cell_type": "code",
   "execution_count": 69,
   "metadata": {},
   "outputs": [
    {
     "data": {
      "text/plain": [
       "(4, 2)"
      ]
     },
     "execution_count": 69,
     "metadata": {},
     "output_type": "execute_result"
    }
   ],
   "source": [
    "#consulta de la forma de un dataframe\n",
    "dataframe.shape"
   ]
  },
  {
   "cell_type": "code",
   "execution_count": 70,
   "metadata": {},
   "outputs": [
    {
     "data": {
      "text/plain": [
       "4"
      ]
     },
     "execution_count": 70,
     "metadata": {},
     "output_type": "execute_result"
    }
   ],
   "source": [
    "#consulta del numero de elementos de una serie\n",
    "serie.size"
   ]
  },
  {
   "cell_type": "code",
   "execution_count": 71,
   "metadata": {},
   "outputs": [
    {
     "data": {
      "text/plain": [
       "8"
      ]
     },
     "execution_count": 71,
     "metadata": {},
     "output_type": "execute_result"
    }
   ],
   "source": [
    "#consulta del numero de elementos de un dataframe\n",
    "dataframe.size"
   ]
  },
  {
   "cell_type": "markdown",
   "metadata": {},
   "source": [
    "Operaciones Escalares \n",
    "\n",
    "Al aplicar una operacion sobre una estrucutrua de pandas y un escalar se obtendra otra estructura de pandas de indenticas caracteristicas a la inicial pero con la operacion aplicada elemento a elemento, manteniendo el indice inalterado\n",
    "\n",
    "IMPORTANTE: dadto que un datafram puede mezclar tipos muy diferentes en sus columnas, la aplicacion de una operacion con un escalar elemento a elemento puede no ser valida "
   ]
  },
  {
   "cell_type": "code",
   "execution_count": 5,
   "metadata": {},
   "outputs": [
    {
     "data": {
      "text/plain": [
       "a    3\n",
       "b    4\n",
       "c    5\n",
       "d    6\n",
       "dtype: int64"
      ]
     },
     "execution_count": 5,
     "metadata": {},
     "output_type": "execute_result"
    }
   ],
   "source": [
    "#suma de series y escalar\n",
    "serie + 2"
   ]
  },
  {
   "cell_type": "code",
   "execution_count": 6,
   "metadata": {},
   "outputs": [
    {
     "data": {
      "text/plain": [
       "a    1.000000\n",
       "b    0.500000\n",
       "c    0.333333\n",
       "d    0.250000\n",
       "dtype: float64"
      ]
     },
     "execution_count": 6,
     "metadata": {},
     "output_type": "execute_result"
    }
   ],
   "source": [
    "#division de series y escalar\n",
    "1/serie"
   ]
  },
  {
   "cell_type": "code",
   "execution_count": 7,
   "metadata": {},
   "outputs": [
    {
     "data": {
      "text/html": [
       "<div>\n",
       "<style scoped>\n",
       "    .dataframe tbody tr th:only-of-type {\n",
       "        vertical-align: middle;\n",
       "    }\n",
       "\n",
       "    .dataframe tbody tr th {\n",
       "        vertical-align: top;\n",
       "    }\n",
       "\n",
       "    .dataframe thead th {\n",
       "        text-align: right;\n",
       "    }\n",
       "</style>\n",
       "<table border=\"1\" class=\"dataframe\">\n",
       "  <thead>\n",
       "    <tr style=\"text-align: right;\">\n",
       "      <th></th>\n",
       "      <th>var1</th>\n",
       "      <th>var2</th>\n",
       "    </tr>\n",
       "  </thead>\n",
       "  <tbody>\n",
       "    <tr>\n",
       "      <th>a</th>\n",
       "      <td>2</td>\n",
       "      <td>b'11'</td>\n",
       "    </tr>\n",
       "    <tr>\n",
       "      <th>b</th>\n",
       "      <td>4</td>\n",
       "      <td>b'22'</td>\n",
       "    </tr>\n",
       "    <tr>\n",
       "      <th>c</th>\n",
       "      <td>6</td>\n",
       "      <td>b'33'</td>\n",
       "    </tr>\n",
       "    <tr>\n",
       "      <th>d</th>\n",
       "      <td>8</td>\n",
       "      <td>b'44'</td>\n",
       "    </tr>\n",
       "  </tbody>\n",
       "</table>\n",
       "</div>"
      ],
      "text/plain": [
       "   var1   var2\n",
       "a     2  b'11'\n",
       "b     4  b'22'\n",
       "c     6  b'33'\n",
       "d     8  b'44'"
      ]
     },
     "execution_count": 7,
     "metadata": {},
     "output_type": "execute_result"
    }
   ],
   "source": [
    "#multiplicaiopn de dataframe y escalar\n",
    "dataframe * 2"
   ]
  },
  {
   "cell_type": "code",
   "execution_count": 8,
   "metadata": {},
   "outputs": [
    {
     "ename": "TypeError",
     "evalue": "unsupported operand type(s) for /: 'int' and 'bytes'",
     "output_type": "error",
     "traceback": [
      "\u001b[1;31m---------------------------------------------------------------------------\u001b[0m",
      "\u001b[1;31mTypeError\u001b[0m                                 Traceback (most recent call last)",
      "File \u001b[1;32m~\\AppData\\Local\\Programs\\Python\\Python310\\lib\\site-packages\\pandas\\core\\ops\\array_ops.py:163\u001b[0m, in \u001b[0;36m_na_arithmetic_op\u001b[1;34m(left, right, op, is_cmp)\u001b[0m\n\u001b[0;32m    <a href='file:///~/AppData/Local/Programs/Python/Python310/lib/site-packages/pandas/core/ops/array_ops.py?line=161'>162</a>\u001b[0m \u001b[39mtry\u001b[39;00m:\n\u001b[1;32m--> <a href='file:///~/AppData/Local/Programs/Python/Python310/lib/site-packages/pandas/core/ops/array_ops.py?line=162'>163</a>\u001b[0m     result \u001b[39m=\u001b[39m func(left, right)\n\u001b[0;32m    <a href='file:///~/AppData/Local/Programs/Python/Python310/lib/site-packages/pandas/core/ops/array_ops.py?line=163'>164</a>\u001b[0m \u001b[39mexcept\u001b[39;00m \u001b[39mTypeError\u001b[39;00m:\n",
      "File \u001b[1;32m~\\AppData\\Local\\Programs\\Python\\Python310\\lib\\site-packages\\pandas\\core\\computation\\expressions.py:239\u001b[0m, in \u001b[0;36mevaluate\u001b[1;34m(op, a, b, use_numexpr)\u001b[0m\n\u001b[0;32m    <a href='file:///~/AppData/Local/Programs/Python/Python310/lib/site-packages/pandas/core/computation/expressions.py?line=236'>237</a>\u001b[0m     \u001b[39mif\u001b[39;00m use_numexpr:\n\u001b[0;32m    <a href='file:///~/AppData/Local/Programs/Python/Python310/lib/site-packages/pandas/core/computation/expressions.py?line=237'>238</a>\u001b[0m         \u001b[39m# error: \"None\" not callable\u001b[39;00m\n\u001b[1;32m--> <a href='file:///~/AppData/Local/Programs/Python/Python310/lib/site-packages/pandas/core/computation/expressions.py?line=238'>239</a>\u001b[0m         \u001b[39mreturn\u001b[39;00m _evaluate(op, op_str, a, b)  \u001b[39m# type: ignore[misc]\u001b[39;00m\n\u001b[0;32m    <a href='file:///~/AppData/Local/Programs/Python/Python310/lib/site-packages/pandas/core/computation/expressions.py?line=239'>240</a>\u001b[0m \u001b[39mreturn\u001b[39;00m _evaluate_standard(op, op_str, a, b)\n",
      "File \u001b[1;32m~\\AppData\\Local\\Programs\\Python\\Python310\\lib\\site-packages\\pandas\\core\\computation\\expressions.py:69\u001b[0m, in \u001b[0;36m_evaluate_standard\u001b[1;34m(op, op_str, a, b)\u001b[0m\n\u001b[0;32m     <a href='file:///~/AppData/Local/Programs/Python/Python310/lib/site-packages/pandas/core/computation/expressions.py?line=67'>68</a>\u001b[0m     _store_test_result(\u001b[39mFalse\u001b[39;00m)\n\u001b[1;32m---> <a href='file:///~/AppData/Local/Programs/Python/Python310/lib/site-packages/pandas/core/computation/expressions.py?line=68'>69</a>\u001b[0m \u001b[39mreturn\u001b[39;00m op(a, b)\n",
      "File \u001b[1;32m~\\AppData\\Local\\Programs\\Python\\Python310\\lib\\site-packages\\pandas\\core\\roperator.py:25\u001b[0m, in \u001b[0;36mrtruediv\u001b[1;34m(left, right)\u001b[0m\n\u001b[0;32m     <a href='file:///~/AppData/Local/Programs/Python/Python310/lib/site-packages/pandas/core/roperator.py?line=23'>24</a>\u001b[0m \u001b[39mdef\u001b[39;00m \u001b[39mrtruediv\u001b[39m(left, right):\n\u001b[1;32m---> <a href='file:///~/AppData/Local/Programs/Python/Python310/lib/site-packages/pandas/core/roperator.py?line=24'>25</a>\u001b[0m     \u001b[39mreturn\u001b[39;00m right \u001b[39m/\u001b[39;49m left\n",
      "\u001b[1;31mTypeError\u001b[0m: unsupported operand type(s) for /: 'int' and 'bytes'",
      "\nDuring handling of the above exception, another exception occurred:\n",
      "\u001b[1;31mTypeError\u001b[0m                                 Traceback (most recent call last)",
      "\u001b[1;32mc:\\Users\\Facu\\Desktop\\aprendiendoPython\\numpy\\aprendiendoPANDAS.ipynb Cell 70'\u001b[0m in \u001b[0;36m<module>\u001b[1;34m\u001b[0m\n\u001b[0;32m      <a href='vscode-notebook-cell:/c%3A/Users/Facu/Desktop/aprendiendoPython/numpy/aprendiendoPANDAS.ipynb#ch0000071?line=0'>1</a>\u001b[0m \u001b[39m#division de datafram y escalar\u001b[39;00m\n\u001b[1;32m----> <a href='vscode-notebook-cell:/c%3A/Users/Facu/Desktop/aprendiendoPython/numpy/aprendiendoPANDAS.ipynb#ch0000071?line=1'>2</a>\u001b[0m \u001b[39m1\u001b[39;49m\u001b[39m/\u001b[39;49mdataframe\n",
      "File \u001b[1;32m~\\AppData\\Local\\Programs\\Python\\Python310\\lib\\site-packages\\pandas\\core\\ops\\common.py:70\u001b[0m, in \u001b[0;36m_unpack_zerodim_and_defer.<locals>.new_method\u001b[1;34m(self, other)\u001b[0m\n\u001b[0;32m     <a href='file:///~/AppData/Local/Programs/Python/Python310/lib/site-packages/pandas/core/ops/common.py?line=65'>66</a>\u001b[0m             \u001b[39mreturn\u001b[39;00m \u001b[39mNotImplemented\u001b[39m\n\u001b[0;32m     <a href='file:///~/AppData/Local/Programs/Python/Python310/lib/site-packages/pandas/core/ops/common.py?line=67'>68</a>\u001b[0m other \u001b[39m=\u001b[39m item_from_zerodim(other)\n\u001b[1;32m---> <a href='file:///~/AppData/Local/Programs/Python/Python310/lib/site-packages/pandas/core/ops/common.py?line=69'>70</a>\u001b[0m \u001b[39mreturn\u001b[39;00m method(\u001b[39mself\u001b[39;49m, other)\n",
      "File \u001b[1;32m~\\AppData\\Local\\Programs\\Python\\Python310\\lib\\site-packages\\pandas\\core\\arraylike.py:128\u001b[0m, in \u001b[0;36mOpsMixin.__rtruediv__\u001b[1;34m(self, other)\u001b[0m\n\u001b[0;32m    <a href='file:///~/AppData/Local/Programs/Python/Python310/lib/site-packages/pandas/core/arraylike.py?line=125'>126</a>\u001b[0m \u001b[39m@unpack_zerodim_and_defer\u001b[39m(\u001b[39m\"\u001b[39m\u001b[39m__rtruediv__\u001b[39m\u001b[39m\"\u001b[39m)\n\u001b[0;32m    <a href='file:///~/AppData/Local/Programs/Python/Python310/lib/site-packages/pandas/core/arraylike.py?line=126'>127</a>\u001b[0m \u001b[39mdef\u001b[39;00m \u001b[39m__rtruediv__\u001b[39m(\u001b[39mself\u001b[39m, other):\n\u001b[1;32m--> <a href='file:///~/AppData/Local/Programs/Python/Python310/lib/site-packages/pandas/core/arraylike.py?line=127'>128</a>\u001b[0m     \u001b[39mreturn\u001b[39;00m \u001b[39mself\u001b[39;49m\u001b[39m.\u001b[39;49m_arith_method(other, roperator\u001b[39m.\u001b[39;49mrtruediv)\n",
      "File \u001b[1;32m~\\AppData\\Local\\Programs\\Python\\Python310\\lib\\site-packages\\pandas\\core\\frame.py:6940\u001b[0m, in \u001b[0;36mDataFrame._arith_method\u001b[1;34m(self, other, op)\u001b[0m\n\u001b[0;32m   <a href='file:///~/AppData/Local/Programs/Python/Python310/lib/site-packages/pandas/core/frame.py?line=6935'>6936</a>\u001b[0m other \u001b[39m=\u001b[39m ops\u001b[39m.\u001b[39mmaybe_prepare_scalar_for_op(other, (\u001b[39mself\u001b[39m\u001b[39m.\u001b[39mshape[axis],))\n\u001b[0;32m   <a href='file:///~/AppData/Local/Programs/Python/Python310/lib/site-packages/pandas/core/frame.py?line=6937'>6938</a>\u001b[0m \u001b[39mself\u001b[39m, other \u001b[39m=\u001b[39m ops\u001b[39m.\u001b[39malign_method_FRAME(\u001b[39mself\u001b[39m, other, axis, flex\u001b[39m=\u001b[39m\u001b[39mTrue\u001b[39;00m, level\u001b[39m=\u001b[39m\u001b[39mNone\u001b[39;00m)\n\u001b[1;32m-> <a href='file:///~/AppData/Local/Programs/Python/Python310/lib/site-packages/pandas/core/frame.py?line=6939'>6940</a>\u001b[0m new_data \u001b[39m=\u001b[39m \u001b[39mself\u001b[39;49m\u001b[39m.\u001b[39;49m_dispatch_frame_op(other, op, axis\u001b[39m=\u001b[39;49maxis)\n\u001b[0;32m   <a href='file:///~/AppData/Local/Programs/Python/Python310/lib/site-packages/pandas/core/frame.py?line=6940'>6941</a>\u001b[0m \u001b[39mreturn\u001b[39;00m \u001b[39mself\u001b[39m\u001b[39m.\u001b[39m_construct_result(new_data)\n",
      "File \u001b[1;32m~\\AppData\\Local\\Programs\\Python\\Python310\\lib\\site-packages\\pandas\\core\\frame.py:6967\u001b[0m, in \u001b[0;36mDataFrame._dispatch_frame_op\u001b[1;34m(self, right, func, axis)\u001b[0m\n\u001b[0;32m   <a href='file:///~/AppData/Local/Programs/Python/Python310/lib/site-packages/pandas/core/frame.py?line=6963'>6964</a>\u001b[0m \u001b[39mif\u001b[39;00m \u001b[39mnot\u001b[39;00m is_list_like(right):\n\u001b[0;32m   <a href='file:///~/AppData/Local/Programs/Python/Python310/lib/site-packages/pandas/core/frame.py?line=6964'>6965</a>\u001b[0m     \u001b[39m# i.e. scalar, faster than checking np.ndim(right) == 0\u001b[39;00m\n\u001b[0;32m   <a href='file:///~/AppData/Local/Programs/Python/Python310/lib/site-packages/pandas/core/frame.py?line=6965'>6966</a>\u001b[0m     \u001b[39mwith\u001b[39;00m np\u001b[39m.\u001b[39merrstate(\u001b[39mall\u001b[39m\u001b[39m=\u001b[39m\u001b[39m\"\u001b[39m\u001b[39mignore\u001b[39m\u001b[39m\"\u001b[39m):\n\u001b[1;32m-> <a href='file:///~/AppData/Local/Programs/Python/Python310/lib/site-packages/pandas/core/frame.py?line=6966'>6967</a>\u001b[0m         bm \u001b[39m=\u001b[39m \u001b[39mself\u001b[39;49m\u001b[39m.\u001b[39;49m_mgr\u001b[39m.\u001b[39;49mapply(array_op, right\u001b[39m=\u001b[39;49mright)\n\u001b[0;32m   <a href='file:///~/AppData/Local/Programs/Python/Python310/lib/site-packages/pandas/core/frame.py?line=6967'>6968</a>\u001b[0m     \u001b[39mreturn\u001b[39;00m \u001b[39mself\u001b[39m\u001b[39m.\u001b[39m_constructor(bm)\n\u001b[0;32m   <a href='file:///~/AppData/Local/Programs/Python/Python310/lib/site-packages/pandas/core/frame.py?line=6969'>6970</a>\u001b[0m \u001b[39melif\u001b[39;00m \u001b[39misinstance\u001b[39m(right, DataFrame):\n",
      "File \u001b[1;32m~\\AppData\\Local\\Programs\\Python\\Python310\\lib\\site-packages\\pandas\\core\\internals\\managers.py:302\u001b[0m, in \u001b[0;36mBaseBlockManager.apply\u001b[1;34m(self, f, align_keys, ignore_failures, **kwargs)\u001b[0m\n\u001b[0;32m    <a href='file:///~/AppData/Local/Programs/Python/Python310/lib/site-packages/pandas/core/internals/managers.py?line=299'>300</a>\u001b[0m \u001b[39mtry\u001b[39;00m:\n\u001b[0;32m    <a href='file:///~/AppData/Local/Programs/Python/Python310/lib/site-packages/pandas/core/internals/managers.py?line=300'>301</a>\u001b[0m     \u001b[39mif\u001b[39;00m callable(f):\n\u001b[1;32m--> <a href='file:///~/AppData/Local/Programs/Python/Python310/lib/site-packages/pandas/core/internals/managers.py?line=301'>302</a>\u001b[0m         applied \u001b[39m=\u001b[39m b\u001b[39m.\u001b[39mapply(f, \u001b[39m*\u001b[39m\u001b[39m*\u001b[39mkwargs)\n\u001b[0;32m    <a href='file:///~/AppData/Local/Programs/Python/Python310/lib/site-packages/pandas/core/internals/managers.py?line=302'>303</a>\u001b[0m     \u001b[39melse\u001b[39;00m:\n\u001b[0;32m    <a href='file:///~/AppData/Local/Programs/Python/Python310/lib/site-packages/pandas/core/internals/managers.py?line=303'>304</a>\u001b[0m         applied \u001b[39m=\u001b[39m \u001b[39mgetattr\u001b[39m(b, f)(\u001b[39m*\u001b[39m\u001b[39m*\u001b[39mkwargs)\n",
      "File \u001b[1;32m~\\AppData\\Local\\Programs\\Python\\Python310\\lib\\site-packages\\pandas\\core\\internals\\blocks.py:402\u001b[0m, in \u001b[0;36mBlock.apply\u001b[1;34m(self, func, **kwargs)\u001b[0m\n\u001b[0;32m    <a href='file:///~/AppData/Local/Programs/Python/Python310/lib/site-packages/pandas/core/internals/blocks.py?line=395'>396</a>\u001b[0m \u001b[39m@final\u001b[39m\n\u001b[0;32m    <a href='file:///~/AppData/Local/Programs/Python/Python310/lib/site-packages/pandas/core/internals/blocks.py?line=396'>397</a>\u001b[0m \u001b[39mdef\u001b[39;00m \u001b[39mapply\u001b[39m(\u001b[39mself\u001b[39m, func, \u001b[39m*\u001b[39m\u001b[39m*\u001b[39mkwargs) \u001b[39m-\u001b[39m\u001b[39m>\u001b[39m \u001b[39mlist\u001b[39m[Block]:\n\u001b[0;32m    <a href='file:///~/AppData/Local/Programs/Python/Python310/lib/site-packages/pandas/core/internals/blocks.py?line=397'>398</a>\u001b[0m     \u001b[39m\"\"\"\u001b[39;00m\n\u001b[0;32m    <a href='file:///~/AppData/Local/Programs/Python/Python310/lib/site-packages/pandas/core/internals/blocks.py?line=398'>399</a>\u001b[0m \u001b[39m    apply the function to my values; return a block if we are not\u001b[39;00m\n\u001b[0;32m    <a href='file:///~/AppData/Local/Programs/Python/Python310/lib/site-packages/pandas/core/internals/blocks.py?line=399'>400</a>\u001b[0m \u001b[39m    one\u001b[39;00m\n\u001b[0;32m    <a href='file:///~/AppData/Local/Programs/Python/Python310/lib/site-packages/pandas/core/internals/blocks.py?line=400'>401</a>\u001b[0m \u001b[39m    \"\"\"\u001b[39;00m\n\u001b[1;32m--> <a href='file:///~/AppData/Local/Programs/Python/Python310/lib/site-packages/pandas/core/internals/blocks.py?line=401'>402</a>\u001b[0m     result \u001b[39m=\u001b[39m func(\u001b[39mself\u001b[39m\u001b[39m.\u001b[39mvalues, \u001b[39m*\u001b[39m\u001b[39m*\u001b[39mkwargs)\n\u001b[0;32m    <a href='file:///~/AppData/Local/Programs/Python/Python310/lib/site-packages/pandas/core/internals/blocks.py?line=403'>404</a>\u001b[0m     \u001b[39mreturn\u001b[39;00m \u001b[39mself\u001b[39m\u001b[39m.\u001b[39m_split_op_result(result)\n",
      "File \u001b[1;32m~\\AppData\\Local\\Programs\\Python\\Python310\\lib\\site-packages\\pandas\\core\\ops\\array_ops.py:222\u001b[0m, in \u001b[0;36marithmetic_op\u001b[1;34m(left, right, op)\u001b[0m\n\u001b[0;32m    <a href='file:///~/AppData/Local/Programs/Python/Python310/lib/site-packages/pandas/core/ops/array_ops.py?line=216'>217</a>\u001b[0m \u001b[39melse\u001b[39;00m:\n\u001b[0;32m    <a href='file:///~/AppData/Local/Programs/Python/Python310/lib/site-packages/pandas/core/ops/array_ops.py?line=217'>218</a>\u001b[0m     \u001b[39m# TODO we should handle EAs consistently and move this check before the if/else\u001b[39;00m\n\u001b[0;32m    <a href='file:///~/AppData/Local/Programs/Python/Python310/lib/site-packages/pandas/core/ops/array_ops.py?line=218'>219</a>\u001b[0m     \u001b[39m# (https://github.com/pandas-dev/pandas/issues/41165)\u001b[39;00m\n\u001b[0;32m    <a href='file:///~/AppData/Local/Programs/Python/Python310/lib/site-packages/pandas/core/ops/array_ops.py?line=219'>220</a>\u001b[0m     _bool_arith_check(op, left, right)\n\u001b[1;32m--> <a href='file:///~/AppData/Local/Programs/Python/Python310/lib/site-packages/pandas/core/ops/array_ops.py?line=221'>222</a>\u001b[0m     res_values \u001b[39m=\u001b[39m _na_arithmetic_op(left, right, op)\n\u001b[0;32m    <a href='file:///~/AppData/Local/Programs/Python/Python310/lib/site-packages/pandas/core/ops/array_ops.py?line=223'>224</a>\u001b[0m \u001b[39mreturn\u001b[39;00m res_values\n",
      "File \u001b[1;32m~\\AppData\\Local\\Programs\\Python\\Python310\\lib\\site-packages\\pandas\\core\\ops\\array_ops.py:170\u001b[0m, in \u001b[0;36m_na_arithmetic_op\u001b[1;34m(left, right, op, is_cmp)\u001b[0m\n\u001b[0;32m    <a href='file:///~/AppData/Local/Programs/Python/Python310/lib/site-packages/pandas/core/ops/array_ops.py?line=163'>164</a>\u001b[0m \u001b[39mexcept\u001b[39;00m \u001b[39mTypeError\u001b[39;00m:\n\u001b[0;32m    <a href='file:///~/AppData/Local/Programs/Python/Python310/lib/site-packages/pandas/core/ops/array_ops.py?line=164'>165</a>\u001b[0m     \u001b[39mif\u001b[39;00m \u001b[39mnot\u001b[39;00m is_cmp \u001b[39mand\u001b[39;00m (is_object_dtype(left\u001b[39m.\u001b[39mdtype) \u001b[39mor\u001b[39;00m is_object_dtype(right)):\n\u001b[0;32m    <a href='file:///~/AppData/Local/Programs/Python/Python310/lib/site-packages/pandas/core/ops/array_ops.py?line=165'>166</a>\u001b[0m         \u001b[39m# For object dtype, fallback to a masked operation (only operating\u001b[39;00m\n\u001b[0;32m    <a href='file:///~/AppData/Local/Programs/Python/Python310/lib/site-packages/pandas/core/ops/array_ops.py?line=166'>167</a>\u001b[0m         \u001b[39m#  on the non-missing values)\u001b[39;00m\n\u001b[0;32m    <a href='file:///~/AppData/Local/Programs/Python/Python310/lib/site-packages/pandas/core/ops/array_ops.py?line=167'>168</a>\u001b[0m         \u001b[39m# Don't do this for comparisons, as that will handle complex numbers\u001b[39;00m\n\u001b[0;32m    <a href='file:///~/AppData/Local/Programs/Python/Python310/lib/site-packages/pandas/core/ops/array_ops.py?line=168'>169</a>\u001b[0m         \u001b[39m#  incorrectly, see GH#32047\u001b[39;00m\n\u001b[1;32m--> <a href='file:///~/AppData/Local/Programs/Python/Python310/lib/site-packages/pandas/core/ops/array_ops.py?line=169'>170</a>\u001b[0m         result \u001b[39m=\u001b[39m _masked_arith_op(left, right, op)\n\u001b[0;32m    <a href='file:///~/AppData/Local/Programs/Python/Python310/lib/site-packages/pandas/core/ops/array_ops.py?line=170'>171</a>\u001b[0m     \u001b[39melse\u001b[39;00m:\n\u001b[0;32m    <a href='file:///~/AppData/Local/Programs/Python/Python310/lib/site-packages/pandas/core/ops/array_ops.py?line=171'>172</a>\u001b[0m         \u001b[39mraise\u001b[39;00m\n",
      "File \u001b[1;32m~\\AppData\\Local\\Programs\\Python\\Python310\\lib\\site-packages\\pandas\\core\\ops\\array_ops.py:127\u001b[0m, in \u001b[0;36m_masked_arith_op\u001b[1;34m(x, y, op)\u001b[0m\n\u001b[0;32m    <a href='file:///~/AppData/Local/Programs/Python/Python310/lib/site-packages/pandas/core/ops/array_ops.py?line=123'>124</a>\u001b[0m         mask \u001b[39m=\u001b[39m np\u001b[39m.\u001b[39mwhere(y \u001b[39m==\u001b[39m \u001b[39m1\u001b[39m, \u001b[39mFalse\u001b[39;00m, mask)\n\u001b[0;32m    <a href='file:///~/AppData/Local/Programs/Python/Python310/lib/site-packages/pandas/core/ops/array_ops.py?line=125'>126</a>\u001b[0m     \u001b[39mif\u001b[39;00m mask\u001b[39m.\u001b[39many():\n\u001b[1;32m--> <a href='file:///~/AppData/Local/Programs/Python/Python310/lib/site-packages/pandas/core/ops/array_ops.py?line=126'>127</a>\u001b[0m         result[mask] \u001b[39m=\u001b[39m op(xrav[mask], y)\n\u001b[0;32m    <a href='file:///~/AppData/Local/Programs/Python/Python310/lib/site-packages/pandas/core/ops/array_ops.py?line=128'>129</a>\u001b[0m np\u001b[39m.\u001b[39mputmask(result, \u001b[39m~\u001b[39mmask, np\u001b[39m.\u001b[39mnan)\n\u001b[0;32m    <a href='file:///~/AppData/Local/Programs/Python/Python310/lib/site-packages/pandas/core/ops/array_ops.py?line=129'>130</a>\u001b[0m result \u001b[39m=\u001b[39m result\u001b[39m.\u001b[39mreshape(x\u001b[39m.\u001b[39mshape)  \u001b[39m# 2D compat\u001b[39;00m\n",
      "File \u001b[1;32m~\\AppData\\Local\\Programs\\Python\\Python310\\lib\\site-packages\\pandas\\core\\roperator.py:25\u001b[0m, in \u001b[0;36mrtruediv\u001b[1;34m(left, right)\u001b[0m\n\u001b[0;32m     <a href='file:///~/AppData/Local/Programs/Python/Python310/lib/site-packages/pandas/core/roperator.py?line=23'>24</a>\u001b[0m \u001b[39mdef\u001b[39;00m \u001b[39mrtruediv\u001b[39m(left, right):\n\u001b[1;32m---> <a href='file:///~/AppData/Local/Programs/Python/Python310/lib/site-packages/pandas/core/roperator.py?line=24'>25</a>\u001b[0m     \u001b[39mreturn\u001b[39;00m right \u001b[39m/\u001b[39;49m left\n",
      "\u001b[1;31mTypeError\u001b[0m: unsupported operand type(s) for /: 'int' and 'bytes'"
     ]
    }
   ],
   "source": [
    "#division de datafram y escalar                             #NO SE PUEDE\n",
    "1/dataframe"
   ]
  },
  {
   "cell_type": "markdown",
   "metadata": {},
   "source": [
    "operaciones entre estructuras de pandas\n",
    "\n",
    "Al aplicar una operacion entre estructuras de pandas se aplicara la misma elemento a elmento. En el caso de pandas no es necesario, como lo era en NumPy, que los operandos tengan el mismo tamaño y forma ya que se aplicara un proceso de \"alineacion\". Este proceso devolvera:\n",
    "    -como indices: la union de las claves de ambos operandos\n",
    "    -como valores: el resultado de aplicar la operacion entre cada pareja de elementos(si coinciden las claves entre ambos operandos) o NaN (en caso contrario)\n",
    "\n",
    "IMPORTANTE: De nuevo, el hecho de que un DataFrame pueda mezclar tipos en sus contenidos hace que no todas las operaciones matematicas se puedan aplicar a los mismos"
   ]
  },
  {
   "cell_type": "code",
   "execution_count": 9,
   "metadata": {},
   "outputs": [
    {
     "data": {
      "text/plain": [
       "a    1\n",
       "b    2\n",
       "c    3\n",
       "d    4\n",
       "dtype: int64"
      ]
     },
     "execution_count": 9,
     "metadata": {},
     "output_type": "execute_result"
    }
   ],
   "source": [
    "serie"
   ]
  },
  {
   "cell_type": "code",
   "execution_count": 10,
   "metadata": {},
   "outputs": [
    {
     "data": {
      "text/html": [
       "<div>\n",
       "<style scoped>\n",
       "    .dataframe tbody tr th:only-of-type {\n",
       "        vertical-align: middle;\n",
       "    }\n",
       "\n",
       "    .dataframe tbody tr th {\n",
       "        vertical-align: top;\n",
       "    }\n",
       "\n",
       "    .dataframe thead th {\n",
       "        text-align: right;\n",
       "    }\n",
       "</style>\n",
       "<table border=\"1\" class=\"dataframe\">\n",
       "  <thead>\n",
       "    <tr style=\"text-align: right;\">\n",
       "      <th></th>\n",
       "      <th>var1</th>\n",
       "      <th>var2</th>\n",
       "    </tr>\n",
       "  </thead>\n",
       "  <tbody>\n",
       "    <tr>\n",
       "      <th>a</th>\n",
       "      <td>1</td>\n",
       "      <td>b'1'</td>\n",
       "    </tr>\n",
       "    <tr>\n",
       "      <th>b</th>\n",
       "      <td>2</td>\n",
       "      <td>b'2'</td>\n",
       "    </tr>\n",
       "    <tr>\n",
       "      <th>c</th>\n",
       "      <td>3</td>\n",
       "      <td>b'3'</td>\n",
       "    </tr>\n",
       "    <tr>\n",
       "      <th>d</th>\n",
       "      <td>4</td>\n",
       "      <td>b'4'</td>\n",
       "    </tr>\n",
       "  </tbody>\n",
       "</table>\n",
       "</div>"
      ],
      "text/plain": [
       "   var1  var2\n",
       "a     1  b'1'\n",
       "b     2  b'2'\n",
       "c     3  b'3'\n",
       "d     4  b'4'"
      ]
     },
     "execution_count": 10,
     "metadata": {},
     "output_type": "execute_result"
    }
   ],
   "source": [
    "dataframe"
   ]
  },
  {
   "cell_type": "code",
   "execution_count": 11,
   "metadata": {},
   "outputs": [
    {
     "data": {
      "text/plain": [
       "a    1\n",
       "b    2\n",
       "c    3\n",
       "d    4\n",
       "dtype: int64"
      ]
     },
     "execution_count": 11,
     "metadata": {},
     "output_type": "execute_result"
    }
   ],
   "source": [
    "serie1 = serie[:]\n",
    "serie1"
   ]
  },
  {
   "cell_type": "code",
   "execution_count": 12,
   "metadata": {},
   "outputs": [
    {
     "data": {
      "text/plain": [
       "a    1\n",
       "b    2\n",
       "c    3\n",
       "d    4\n",
       "e    7\n",
       "dtype: int64"
      ]
     },
     "execution_count": 12,
     "metadata": {},
     "output_type": "execute_result"
    }
   ],
   "source": [
    "serie1['e'] = 7\n",
    "serie1"
   ]
  },
  {
   "cell_type": "code",
   "execution_count": 13,
   "metadata": {},
   "outputs": [
    {
     "data": {
      "text/html": [
       "<div>\n",
       "<style scoped>\n",
       "    .dataframe tbody tr th:only-of-type {\n",
       "        vertical-align: middle;\n",
       "    }\n",
       "\n",
       "    .dataframe tbody tr th {\n",
       "        vertical-align: top;\n",
       "    }\n",
       "\n",
       "    .dataframe thead th {\n",
       "        text-align: right;\n",
       "    }\n",
       "</style>\n",
       "<table border=\"1\" class=\"dataframe\">\n",
       "  <thead>\n",
       "    <tr style=\"text-align: right;\">\n",
       "      <th></th>\n",
       "      <th>var1</th>\n",
       "      <th>var2</th>\n",
       "      <th>var3</th>\n",
       "    </tr>\n",
       "  </thead>\n",
       "  <tbody>\n",
       "    <tr>\n",
       "      <th>a</th>\n",
       "      <td>1</td>\n",
       "      <td>b'1'</td>\n",
       "      <td>1</td>\n",
       "    </tr>\n",
       "    <tr>\n",
       "      <th>b</th>\n",
       "      <td>2</td>\n",
       "      <td>b'2'</td>\n",
       "      <td>2</td>\n",
       "    </tr>\n",
       "    <tr>\n",
       "      <th>c</th>\n",
       "      <td>3</td>\n",
       "      <td>b'3'</td>\n",
       "      <td>3</td>\n",
       "    </tr>\n",
       "    <tr>\n",
       "      <th>d</th>\n",
       "      <td>4</td>\n",
       "      <td>b'4'</td>\n",
       "      <td>4</td>\n",
       "    </tr>\n",
       "  </tbody>\n",
       "</table>\n",
       "</div>"
      ],
      "text/plain": [
       "   var1  var2  var3\n",
       "a     1  b'1'     1\n",
       "b     2  b'2'     2\n",
       "c     3  b'3'     3\n",
       "d     4  b'4'     4"
      ]
     },
     "execution_count": 13,
     "metadata": {},
     "output_type": "execute_result"
    }
   ],
   "source": [
    "dataframe1 = dataframe\n",
    "dataframe1['var3'] = [1,2,3,4] \n",
    "dataframe1"
   ]
  },
  {
   "cell_type": "code",
   "execution_count": 14,
   "metadata": {},
   "outputs": [
    {
     "data": {
      "text/plain": [
       "a    2.0\n",
       "b    4.0\n",
       "c    6.0\n",
       "d    8.0\n",
       "e    NaN\n",
       "dtype: float64"
      ]
     },
     "execution_count": 14,
     "metadata": {},
     "output_type": "execute_result"
    }
   ],
   "source": [
    "#suma de series\n",
    "serie + serie1"
   ]
  },
  {
   "cell_type": "code",
   "execution_count": 15,
   "metadata": {},
   "outputs": [
    {
     "data": {
      "text/html": [
       "<div>\n",
       "<style scoped>\n",
       "    .dataframe tbody tr th:only-of-type {\n",
       "        vertical-align: middle;\n",
       "    }\n",
       "\n",
       "    .dataframe tbody tr th {\n",
       "        vertical-align: top;\n",
       "    }\n",
       "\n",
       "    .dataframe thead th {\n",
       "        text-align: right;\n",
       "    }\n",
       "</style>\n",
       "<table border=\"1\" class=\"dataframe\">\n",
       "  <thead>\n",
       "    <tr style=\"text-align: right;\">\n",
       "      <th></th>\n",
       "      <th>var1</th>\n",
       "      <th>var2</th>\n",
       "      <th>var3</th>\n",
       "    </tr>\n",
       "  </thead>\n",
       "  <tbody>\n",
       "    <tr>\n",
       "      <th>a</th>\n",
       "      <td>2</td>\n",
       "      <td>b'11'</td>\n",
       "      <td>2</td>\n",
       "    </tr>\n",
       "    <tr>\n",
       "      <th>b</th>\n",
       "      <td>4</td>\n",
       "      <td>b'22'</td>\n",
       "      <td>4</td>\n",
       "    </tr>\n",
       "    <tr>\n",
       "      <th>c</th>\n",
       "      <td>6</td>\n",
       "      <td>b'33'</td>\n",
       "      <td>6</td>\n",
       "    </tr>\n",
       "    <tr>\n",
       "      <th>d</th>\n",
       "      <td>8</td>\n",
       "      <td>b'44'</td>\n",
       "      <td>8</td>\n",
       "    </tr>\n",
       "  </tbody>\n",
       "</table>\n",
       "</div>"
      ],
      "text/plain": [
       "   var1   var2  var3\n",
       "a     2  b'11'     2\n",
       "b     4  b'22'     4\n",
       "c     6  b'33'     6\n",
       "d     8  b'44'     8"
      ]
     },
     "execution_count": 15,
     "metadata": {},
     "output_type": "execute_result"
    }
   ],
   "source": [
    "#suma de dataframe\n",
    "dataframe + dataframe1              #var3 tambien se crea en dataframe por eso se suma en la 3er columna la 3er columna del otro "
   ]
  },
  {
   "cell_type": "markdown",
   "metadata": {},
   "source": [
    "si copio algo asi \"serie1 = serie[:]\" se va a hacer una copia y puedo modificar lo que quiera en serie1 que serie ni se va a enterar pero si yo hago una copia asi \"dataframe1 = dataframe\" lo que estoy haciendo es que valgan lo mismo y si modifico uno se modifica el otro"
   ]
  },
  {
   "cell_type": "code",
   "execution_count": 16,
   "metadata": {},
   "outputs": [
    {
     "ename": "TypeError",
     "evalue": "can't multiply sequence by non-int of type 'bytes'",
     "output_type": "error",
     "traceback": [
      "\u001b[1;31m---------------------------------------------------------------------------\u001b[0m",
      "\u001b[1;31mTypeError\u001b[0m                                 Traceback (most recent call last)",
      "File \u001b[1;32m~\\AppData\\Local\\Programs\\Python\\Python310\\lib\\site-packages\\pandas\\core\\ops\\array_ops.py:163\u001b[0m, in \u001b[0;36m_na_arithmetic_op\u001b[1;34m(left, right, op, is_cmp)\u001b[0m\n\u001b[0;32m    <a href='file:///~/AppData/Local/Programs/Python/Python310/lib/site-packages/pandas/core/ops/array_ops.py?line=161'>162</a>\u001b[0m \u001b[39mtry\u001b[39;00m:\n\u001b[1;32m--> <a href='file:///~/AppData/Local/Programs/Python/Python310/lib/site-packages/pandas/core/ops/array_ops.py?line=162'>163</a>\u001b[0m     result \u001b[39m=\u001b[39m func(left, right)\n\u001b[0;32m    <a href='file:///~/AppData/Local/Programs/Python/Python310/lib/site-packages/pandas/core/ops/array_ops.py?line=163'>164</a>\u001b[0m \u001b[39mexcept\u001b[39;00m \u001b[39mTypeError\u001b[39;00m:\n",
      "File \u001b[1;32m~\\AppData\\Local\\Programs\\Python\\Python310\\lib\\site-packages\\pandas\\core\\computation\\expressions.py:239\u001b[0m, in \u001b[0;36mevaluate\u001b[1;34m(op, a, b, use_numexpr)\u001b[0m\n\u001b[0;32m    <a href='file:///~/AppData/Local/Programs/Python/Python310/lib/site-packages/pandas/core/computation/expressions.py?line=236'>237</a>\u001b[0m     \u001b[39mif\u001b[39;00m use_numexpr:\n\u001b[0;32m    <a href='file:///~/AppData/Local/Programs/Python/Python310/lib/site-packages/pandas/core/computation/expressions.py?line=237'>238</a>\u001b[0m         \u001b[39m# error: \"None\" not callable\u001b[39;00m\n\u001b[1;32m--> <a href='file:///~/AppData/Local/Programs/Python/Python310/lib/site-packages/pandas/core/computation/expressions.py?line=238'>239</a>\u001b[0m         \u001b[39mreturn\u001b[39;00m _evaluate(op, op_str, a, b)  \u001b[39m# type: ignore[misc]\u001b[39;00m\n\u001b[0;32m    <a href='file:///~/AppData/Local/Programs/Python/Python310/lib/site-packages/pandas/core/computation/expressions.py?line=239'>240</a>\u001b[0m \u001b[39mreturn\u001b[39;00m _evaluate_standard(op, op_str, a, b)\n",
      "File \u001b[1;32m~\\AppData\\Local\\Programs\\Python\\Python310\\lib\\site-packages\\pandas\\core\\computation\\expressions.py:69\u001b[0m, in \u001b[0;36m_evaluate_standard\u001b[1;34m(op, op_str, a, b)\u001b[0m\n\u001b[0;32m     <a href='file:///~/AppData/Local/Programs/Python/Python310/lib/site-packages/pandas/core/computation/expressions.py?line=67'>68</a>\u001b[0m     _store_test_result(\u001b[39mFalse\u001b[39;00m)\n\u001b[1;32m---> <a href='file:///~/AppData/Local/Programs/Python/Python310/lib/site-packages/pandas/core/computation/expressions.py?line=68'>69</a>\u001b[0m \u001b[39mreturn\u001b[39;00m op(a, b)\n",
      "\u001b[1;31mTypeError\u001b[0m: can't multiply sequence by non-int of type 'bytes'",
      "\nDuring handling of the above exception, another exception occurred:\n",
      "\u001b[1;31mTypeError\u001b[0m                                 Traceback (most recent call last)",
      "\u001b[1;32mc:\\Users\\Facu\\Desktop\\aprendiendoPython\\numpy\\aprendiendoPANDAS.ipynb Cell 79'\u001b[0m in \u001b[0;36m<module>\u001b[1;34m\u001b[0m\n\u001b[0;32m      <a href='vscode-notebook-cell:/c%3A/Users/Facu/Desktop/aprendiendoPython/numpy/aprendiendoPANDAS.ipynb#ch0000080?line=0'>1</a>\u001b[0m \u001b[39m#producto de dataframe\u001b[39;00m\n\u001b[1;32m----> <a href='vscode-notebook-cell:/c%3A/Users/Facu/Desktop/aprendiendoPython/numpy/aprendiendoPANDAS.ipynb#ch0000080?line=1'>2</a>\u001b[0m dataframe \u001b[39m*\u001b[39;49m dataframe1\n",
      "File \u001b[1;32m~\\AppData\\Local\\Programs\\Python\\Python310\\lib\\site-packages\\pandas\\core\\ops\\common.py:70\u001b[0m, in \u001b[0;36m_unpack_zerodim_and_defer.<locals>.new_method\u001b[1;34m(self, other)\u001b[0m\n\u001b[0;32m     <a href='file:///~/AppData/Local/Programs/Python/Python310/lib/site-packages/pandas/core/ops/common.py?line=65'>66</a>\u001b[0m             \u001b[39mreturn\u001b[39;00m \u001b[39mNotImplemented\u001b[39m\n\u001b[0;32m     <a href='file:///~/AppData/Local/Programs/Python/Python310/lib/site-packages/pandas/core/ops/common.py?line=67'>68</a>\u001b[0m other \u001b[39m=\u001b[39m item_from_zerodim(other)\n\u001b[1;32m---> <a href='file:///~/AppData/Local/Programs/Python/Python310/lib/site-packages/pandas/core/ops/common.py?line=69'>70</a>\u001b[0m \u001b[39mreturn\u001b[39;00m method(\u001b[39mself\u001b[39;49m, other)\n",
      "File \u001b[1;32m~\\AppData\\Local\\Programs\\Python\\Python310\\lib\\site-packages\\pandas\\core\\arraylike.py:116\u001b[0m, in \u001b[0;36mOpsMixin.__mul__\u001b[1;34m(self, other)\u001b[0m\n\u001b[0;32m    <a href='file:///~/AppData/Local/Programs/Python/Python310/lib/site-packages/pandas/core/arraylike.py?line=113'>114</a>\u001b[0m \u001b[39m@unpack_zerodim_and_defer\u001b[39m(\u001b[39m\"\u001b[39m\u001b[39m__mul__\u001b[39m\u001b[39m\"\u001b[39m)\n\u001b[0;32m    <a href='file:///~/AppData/Local/Programs/Python/Python310/lib/site-packages/pandas/core/arraylike.py?line=114'>115</a>\u001b[0m \u001b[39mdef\u001b[39;00m \u001b[39m__mul__\u001b[39m(\u001b[39mself\u001b[39m, other):\n\u001b[1;32m--> <a href='file:///~/AppData/Local/Programs/Python/Python310/lib/site-packages/pandas/core/arraylike.py?line=115'>116</a>\u001b[0m     \u001b[39mreturn\u001b[39;00m \u001b[39mself\u001b[39;49m\u001b[39m.\u001b[39;49m_arith_method(other, operator\u001b[39m.\u001b[39;49mmul)\n",
      "File \u001b[1;32m~\\AppData\\Local\\Programs\\Python\\Python310\\lib\\site-packages\\pandas\\core\\frame.py:6940\u001b[0m, in \u001b[0;36mDataFrame._arith_method\u001b[1;34m(self, other, op)\u001b[0m\n\u001b[0;32m   <a href='file:///~/AppData/Local/Programs/Python/Python310/lib/site-packages/pandas/core/frame.py?line=6935'>6936</a>\u001b[0m other \u001b[39m=\u001b[39m ops\u001b[39m.\u001b[39mmaybe_prepare_scalar_for_op(other, (\u001b[39mself\u001b[39m\u001b[39m.\u001b[39mshape[axis],))\n\u001b[0;32m   <a href='file:///~/AppData/Local/Programs/Python/Python310/lib/site-packages/pandas/core/frame.py?line=6937'>6938</a>\u001b[0m \u001b[39mself\u001b[39m, other \u001b[39m=\u001b[39m ops\u001b[39m.\u001b[39malign_method_FRAME(\u001b[39mself\u001b[39m, other, axis, flex\u001b[39m=\u001b[39m\u001b[39mTrue\u001b[39;00m, level\u001b[39m=\u001b[39m\u001b[39mNone\u001b[39;00m)\n\u001b[1;32m-> <a href='file:///~/AppData/Local/Programs/Python/Python310/lib/site-packages/pandas/core/frame.py?line=6939'>6940</a>\u001b[0m new_data \u001b[39m=\u001b[39m \u001b[39mself\u001b[39;49m\u001b[39m.\u001b[39;49m_dispatch_frame_op(other, op, axis\u001b[39m=\u001b[39;49maxis)\n\u001b[0;32m   <a href='file:///~/AppData/Local/Programs/Python/Python310/lib/site-packages/pandas/core/frame.py?line=6940'>6941</a>\u001b[0m \u001b[39mreturn\u001b[39;00m \u001b[39mself\u001b[39m\u001b[39m.\u001b[39m_construct_result(new_data)\n",
      "File \u001b[1;32m~\\AppData\\Local\\Programs\\Python\\Python310\\lib\\site-packages\\pandas\\core\\frame.py:6979\u001b[0m, in \u001b[0;36mDataFrame._dispatch_frame_op\u001b[1;34m(self, right, func, axis)\u001b[0m\n\u001b[0;32m   <a href='file:///~/AppData/Local/Programs/Python/Python310/lib/site-packages/pandas/core/frame.py?line=6972'>6973</a>\u001b[0m     \u001b[39m# TODO: The previous assertion `assert right._indexed_same(self)`\u001b[39;00m\n\u001b[0;32m   <a href='file:///~/AppData/Local/Programs/Python/Python310/lib/site-packages/pandas/core/frame.py?line=6973'>6974</a>\u001b[0m     \u001b[39m#  fails in cases with empty columns reached via\u001b[39;00m\n\u001b[0;32m   <a href='file:///~/AppData/Local/Programs/Python/Python310/lib/site-packages/pandas/core/frame.py?line=6974'>6975</a>\u001b[0m     \u001b[39m#  _frame_arith_method_with_reindex\u001b[39;00m\n\u001b[0;32m   <a href='file:///~/AppData/Local/Programs/Python/Python310/lib/site-packages/pandas/core/frame.py?line=6975'>6976</a>\u001b[0m \n\u001b[0;32m   <a href='file:///~/AppData/Local/Programs/Python/Python310/lib/site-packages/pandas/core/frame.py?line=6976'>6977</a>\u001b[0m     \u001b[39m# TODO operate_blockwise expects a manager of the same type\u001b[39;00m\n\u001b[0;32m   <a href='file:///~/AppData/Local/Programs/Python/Python310/lib/site-packages/pandas/core/frame.py?line=6977'>6978</a>\u001b[0m     \u001b[39mwith\u001b[39;00m np\u001b[39m.\u001b[39merrstate(\u001b[39mall\u001b[39m\u001b[39m=\u001b[39m\u001b[39m\"\u001b[39m\u001b[39mignore\u001b[39m\u001b[39m\"\u001b[39m):\n\u001b[1;32m-> <a href='file:///~/AppData/Local/Programs/Python/Python310/lib/site-packages/pandas/core/frame.py?line=6978'>6979</a>\u001b[0m         bm \u001b[39m=\u001b[39m \u001b[39mself\u001b[39;49m\u001b[39m.\u001b[39;49m_mgr\u001b[39m.\u001b[39;49moperate_blockwise(\n\u001b[0;32m   <a href='file:///~/AppData/Local/Programs/Python/Python310/lib/site-packages/pandas/core/frame.py?line=6979'>6980</a>\u001b[0m             \u001b[39m# error: Argument 1 to \"operate_blockwise\" of \"ArrayManager\" has\u001b[39;49;00m\n\u001b[0;32m   <a href='file:///~/AppData/Local/Programs/Python/Python310/lib/site-packages/pandas/core/frame.py?line=6980'>6981</a>\u001b[0m             \u001b[39m# incompatible type \"Union[ArrayManager, BlockManager]\"; expected\u001b[39;49;00m\n\u001b[0;32m   <a href='file:///~/AppData/Local/Programs/Python/Python310/lib/site-packages/pandas/core/frame.py?line=6981'>6982</a>\u001b[0m             \u001b[39m# \"ArrayManager\"\u001b[39;49;00m\n\u001b[0;32m   <a href='file:///~/AppData/Local/Programs/Python/Python310/lib/site-packages/pandas/core/frame.py?line=6982'>6983</a>\u001b[0m             \u001b[39m# error: Argument 1 to \"operate_blockwise\" of \"BlockManager\" has\u001b[39;49;00m\n\u001b[0;32m   <a href='file:///~/AppData/Local/Programs/Python/Python310/lib/site-packages/pandas/core/frame.py?line=6983'>6984</a>\u001b[0m             \u001b[39m# incompatible type \"Union[ArrayManager, BlockManager]\"; expected\u001b[39;49;00m\n\u001b[0;32m   <a href='file:///~/AppData/Local/Programs/Python/Python310/lib/site-packages/pandas/core/frame.py?line=6984'>6985</a>\u001b[0m             \u001b[39m# \"BlockManager\"\u001b[39;49;00m\n\u001b[0;32m   <a href='file:///~/AppData/Local/Programs/Python/Python310/lib/site-packages/pandas/core/frame.py?line=6985'>6986</a>\u001b[0m             right\u001b[39m.\u001b[39;49m_mgr,  \u001b[39m# type: ignore[arg-type]\u001b[39;49;00m\n\u001b[0;32m   <a href='file:///~/AppData/Local/Programs/Python/Python310/lib/site-packages/pandas/core/frame.py?line=6986'>6987</a>\u001b[0m             array_op,\n\u001b[0;32m   <a href='file:///~/AppData/Local/Programs/Python/Python310/lib/site-packages/pandas/core/frame.py?line=6987'>6988</a>\u001b[0m         )\n\u001b[0;32m   <a href='file:///~/AppData/Local/Programs/Python/Python310/lib/site-packages/pandas/core/frame.py?line=6988'>6989</a>\u001b[0m     \u001b[39mreturn\u001b[39;00m \u001b[39mself\u001b[39m\u001b[39m.\u001b[39m_constructor(bm)\n\u001b[0;32m   <a href='file:///~/AppData/Local/Programs/Python/Python310/lib/site-packages/pandas/core/frame.py?line=6990'>6991</a>\u001b[0m \u001b[39melif\u001b[39;00m \u001b[39misinstance\u001b[39m(right, Series) \u001b[39mand\u001b[39;00m axis \u001b[39m==\u001b[39m \u001b[39m1\u001b[39m:\n\u001b[0;32m   <a href='file:///~/AppData/Local/Programs/Python/Python310/lib/site-packages/pandas/core/frame.py?line=6991'>6992</a>\u001b[0m     \u001b[39m# axis=1 means we want to operate row-by-row\u001b[39;00m\n",
      "File \u001b[1;32m~\\AppData\\Local\\Programs\\Python\\Python310\\lib\\site-packages\\pandas\\core\\internals\\managers.py:1409\u001b[0m, in \u001b[0;36mBlockManager.operate_blockwise\u001b[1;34m(self, other, array_op)\u001b[0m\n\u001b[0;32m   <a href='file:///~/AppData/Local/Programs/Python/Python310/lib/site-packages/pandas/core/internals/managers.py?line=1404'>1405</a>\u001b[0m \u001b[39mdef\u001b[39;00m \u001b[39moperate_blockwise\u001b[39m(\u001b[39mself\u001b[39m, other: BlockManager, array_op) \u001b[39m-\u001b[39m\u001b[39m>\u001b[39m BlockManager:\n\u001b[0;32m   <a href='file:///~/AppData/Local/Programs/Python/Python310/lib/site-packages/pandas/core/internals/managers.py?line=1405'>1406</a>\u001b[0m     \u001b[39m\"\"\"\u001b[39;00m\n\u001b[0;32m   <a href='file:///~/AppData/Local/Programs/Python/Python310/lib/site-packages/pandas/core/internals/managers.py?line=1406'>1407</a>\u001b[0m \u001b[39m    Apply array_op blockwise with another (aligned) BlockManager.\u001b[39;00m\n\u001b[0;32m   <a href='file:///~/AppData/Local/Programs/Python/Python310/lib/site-packages/pandas/core/internals/managers.py?line=1407'>1408</a>\u001b[0m \u001b[39m    \"\"\"\u001b[39;00m\n\u001b[1;32m-> <a href='file:///~/AppData/Local/Programs/Python/Python310/lib/site-packages/pandas/core/internals/managers.py?line=1408'>1409</a>\u001b[0m     \u001b[39mreturn\u001b[39;00m operate_blockwise(\u001b[39mself\u001b[39;49m, other, array_op)\n",
      "File \u001b[1;32m~\\AppData\\Local\\Programs\\Python\\Python310\\lib\\site-packages\\pandas\\core\\internals\\ops.py:63\u001b[0m, in \u001b[0;36moperate_blockwise\u001b[1;34m(left, right, array_op)\u001b[0m\n\u001b[0;32m     <a href='file:///~/AppData/Local/Programs/Python/Python310/lib/site-packages/pandas/core/internals/ops.py?line=60'>61</a>\u001b[0m res_blks: \u001b[39mlist\u001b[39m[Block] \u001b[39m=\u001b[39m []\n\u001b[0;32m     <a href='file:///~/AppData/Local/Programs/Python/Python310/lib/site-packages/pandas/core/internals/ops.py?line=61'>62</a>\u001b[0m \u001b[39mfor\u001b[39;00m lvals, rvals, locs, left_ea, right_ea, rblk \u001b[39min\u001b[39;00m _iter_block_pairs(left, right):\n\u001b[1;32m---> <a href='file:///~/AppData/Local/Programs/Python/Python310/lib/site-packages/pandas/core/internals/ops.py?line=62'>63</a>\u001b[0m     res_values \u001b[39m=\u001b[39m array_op(lvals, rvals)\n\u001b[0;32m     <a href='file:///~/AppData/Local/Programs/Python/Python310/lib/site-packages/pandas/core/internals/ops.py?line=63'>64</a>\u001b[0m     \u001b[39mif\u001b[39;00m left_ea \u001b[39mand\u001b[39;00m \u001b[39mnot\u001b[39;00m right_ea \u001b[39mand\u001b[39;00m \u001b[39mhasattr\u001b[39m(res_values, \u001b[39m\"\u001b[39m\u001b[39mreshape\u001b[39m\u001b[39m\"\u001b[39m):\n\u001b[0;32m     <a href='file:///~/AppData/Local/Programs/Python/Python310/lib/site-packages/pandas/core/internals/ops.py?line=64'>65</a>\u001b[0m         res_values \u001b[39m=\u001b[39m res_values\u001b[39m.\u001b[39mreshape(\u001b[39m1\u001b[39m, \u001b[39m-\u001b[39m\u001b[39m1\u001b[39m)\n",
      "File \u001b[1;32m~\\AppData\\Local\\Programs\\Python\\Python310\\lib\\site-packages\\pandas\\core\\ops\\array_ops.py:222\u001b[0m, in \u001b[0;36marithmetic_op\u001b[1;34m(left, right, op)\u001b[0m\n\u001b[0;32m    <a href='file:///~/AppData/Local/Programs/Python/Python310/lib/site-packages/pandas/core/ops/array_ops.py?line=216'>217</a>\u001b[0m \u001b[39melse\u001b[39;00m:\n\u001b[0;32m    <a href='file:///~/AppData/Local/Programs/Python/Python310/lib/site-packages/pandas/core/ops/array_ops.py?line=217'>218</a>\u001b[0m     \u001b[39m# TODO we should handle EAs consistently and move this check before the if/else\u001b[39;00m\n\u001b[0;32m    <a href='file:///~/AppData/Local/Programs/Python/Python310/lib/site-packages/pandas/core/ops/array_ops.py?line=218'>219</a>\u001b[0m     \u001b[39m# (https://github.com/pandas-dev/pandas/issues/41165)\u001b[39;00m\n\u001b[0;32m    <a href='file:///~/AppData/Local/Programs/Python/Python310/lib/site-packages/pandas/core/ops/array_ops.py?line=219'>220</a>\u001b[0m     _bool_arith_check(op, left, right)\n\u001b[1;32m--> <a href='file:///~/AppData/Local/Programs/Python/Python310/lib/site-packages/pandas/core/ops/array_ops.py?line=221'>222</a>\u001b[0m     res_values \u001b[39m=\u001b[39m _na_arithmetic_op(left, right, op)\n\u001b[0;32m    <a href='file:///~/AppData/Local/Programs/Python/Python310/lib/site-packages/pandas/core/ops/array_ops.py?line=223'>224</a>\u001b[0m \u001b[39mreturn\u001b[39;00m res_values\n",
      "File \u001b[1;32m~\\AppData\\Local\\Programs\\Python\\Python310\\lib\\site-packages\\pandas\\core\\ops\\array_ops.py:170\u001b[0m, in \u001b[0;36m_na_arithmetic_op\u001b[1;34m(left, right, op, is_cmp)\u001b[0m\n\u001b[0;32m    <a href='file:///~/AppData/Local/Programs/Python/Python310/lib/site-packages/pandas/core/ops/array_ops.py?line=163'>164</a>\u001b[0m \u001b[39mexcept\u001b[39;00m \u001b[39mTypeError\u001b[39;00m:\n\u001b[0;32m    <a href='file:///~/AppData/Local/Programs/Python/Python310/lib/site-packages/pandas/core/ops/array_ops.py?line=164'>165</a>\u001b[0m     \u001b[39mif\u001b[39;00m \u001b[39mnot\u001b[39;00m is_cmp \u001b[39mand\u001b[39;00m (is_object_dtype(left\u001b[39m.\u001b[39mdtype) \u001b[39mor\u001b[39;00m is_object_dtype(right)):\n\u001b[0;32m    <a href='file:///~/AppData/Local/Programs/Python/Python310/lib/site-packages/pandas/core/ops/array_ops.py?line=165'>166</a>\u001b[0m         \u001b[39m# For object dtype, fallback to a masked operation (only operating\u001b[39;00m\n\u001b[0;32m    <a href='file:///~/AppData/Local/Programs/Python/Python310/lib/site-packages/pandas/core/ops/array_ops.py?line=166'>167</a>\u001b[0m         \u001b[39m#  on the non-missing values)\u001b[39;00m\n\u001b[0;32m    <a href='file:///~/AppData/Local/Programs/Python/Python310/lib/site-packages/pandas/core/ops/array_ops.py?line=167'>168</a>\u001b[0m         \u001b[39m# Don't do this for comparisons, as that will handle complex numbers\u001b[39;00m\n\u001b[0;32m    <a href='file:///~/AppData/Local/Programs/Python/Python310/lib/site-packages/pandas/core/ops/array_ops.py?line=168'>169</a>\u001b[0m         \u001b[39m#  incorrectly, see GH#32047\u001b[39;00m\n\u001b[1;32m--> <a href='file:///~/AppData/Local/Programs/Python/Python310/lib/site-packages/pandas/core/ops/array_ops.py?line=169'>170</a>\u001b[0m         result \u001b[39m=\u001b[39m _masked_arith_op(left, right, op)\n\u001b[0;32m    <a href='file:///~/AppData/Local/Programs/Python/Python310/lib/site-packages/pandas/core/ops/array_ops.py?line=170'>171</a>\u001b[0m     \u001b[39melse\u001b[39;00m:\n\u001b[0;32m    <a href='file:///~/AppData/Local/Programs/Python/Python310/lib/site-packages/pandas/core/ops/array_ops.py?line=171'>172</a>\u001b[0m         \u001b[39mraise\u001b[39;00m\n",
      "File \u001b[1;32m~\\AppData\\Local\\Programs\\Python\\Python310\\lib\\site-packages\\pandas\\core\\ops\\array_ops.py:108\u001b[0m, in \u001b[0;36m_masked_arith_op\u001b[1;34m(x, y, op)\u001b[0m\n\u001b[0;32m    <a href='file:///~/AppData/Local/Programs/Python/Python310/lib/site-packages/pandas/core/ops/array_ops.py?line=105'>106</a>\u001b[0m     \u001b[39m# See GH#5284, GH#5035, GH#19448 for historical reference\u001b[39;00m\n\u001b[0;32m    <a href='file:///~/AppData/Local/Programs/Python/Python310/lib/site-packages/pandas/core/ops/array_ops.py?line=106'>107</a>\u001b[0m     \u001b[39mif\u001b[39;00m mask\u001b[39m.\u001b[39many():\n\u001b[1;32m--> <a href='file:///~/AppData/Local/Programs/Python/Python310/lib/site-packages/pandas/core/ops/array_ops.py?line=107'>108</a>\u001b[0m         result[mask] \u001b[39m=\u001b[39m op(xrav[mask], yrav[mask])\n\u001b[0;32m    <a href='file:///~/AppData/Local/Programs/Python/Python310/lib/site-packages/pandas/core/ops/array_ops.py?line=109'>110</a>\u001b[0m \u001b[39melse\u001b[39;00m:\n\u001b[0;32m    <a href='file:///~/AppData/Local/Programs/Python/Python310/lib/site-packages/pandas/core/ops/array_ops.py?line=110'>111</a>\u001b[0m     \u001b[39mif\u001b[39;00m \u001b[39mnot\u001b[39;00m is_scalar(y):\n",
      "\u001b[1;31mTypeError\u001b[0m: can't multiply sequence by non-int of type 'bytes'"
     ]
    }
   ],
   "source": [
    "#producto de dataframe                                                          #NO SE PUEDE MULTIPLICAR DATAFRAMES\n",
    "dataframe * dataframe1"
   ]
  },
  {
   "cell_type": "markdown",
   "metadata": {},
   "source": [
    "Traspocicion -  solo DataFrames\n",
    "\n",
    "podemos transponer filas por columnas, pero unicamente en DataFrame (ya que las Series pueden ser unidimensionales). Basicamente lo que se realizara es intercambiar el indice de columnas por el de filas\n",
    "con \"nombreDelDataFrame.T\""
   ]
  },
  {
   "cell_type": "code",
   "execution_count": 17,
   "metadata": {},
   "outputs": [
    {
     "data": {
      "text/html": [
       "<div>\n",
       "<style scoped>\n",
       "    .dataframe tbody tr th:only-of-type {\n",
       "        vertical-align: middle;\n",
       "    }\n",
       "\n",
       "    .dataframe tbody tr th {\n",
       "        vertical-align: top;\n",
       "    }\n",
       "\n",
       "    .dataframe thead th {\n",
       "        text-align: right;\n",
       "    }\n",
       "</style>\n",
       "<table border=\"1\" class=\"dataframe\">\n",
       "  <thead>\n",
       "    <tr style=\"text-align: right;\">\n",
       "      <th></th>\n",
       "      <th>var1</th>\n",
       "      <th>var2</th>\n",
       "      <th>var3</th>\n",
       "    </tr>\n",
       "  </thead>\n",
       "  <tbody>\n",
       "    <tr>\n",
       "      <th>a</th>\n",
       "      <td>1</td>\n",
       "      <td>b'1'</td>\n",
       "      <td>1</td>\n",
       "    </tr>\n",
       "    <tr>\n",
       "      <th>b</th>\n",
       "      <td>2</td>\n",
       "      <td>b'2'</td>\n",
       "      <td>2</td>\n",
       "    </tr>\n",
       "    <tr>\n",
       "      <th>c</th>\n",
       "      <td>3</td>\n",
       "      <td>b'3'</td>\n",
       "      <td>3</td>\n",
       "    </tr>\n",
       "    <tr>\n",
       "      <th>d</th>\n",
       "      <td>4</td>\n",
       "      <td>b'4'</td>\n",
       "      <td>4</td>\n",
       "    </tr>\n",
       "  </tbody>\n",
       "</table>\n",
       "</div>"
      ],
      "text/plain": [
       "   var1  var2  var3\n",
       "a     1  b'1'     1\n",
       "b     2  b'2'     2\n",
       "c     3  b'3'     3\n",
       "d     4  b'4'     4"
      ]
     },
     "execution_count": 17,
     "metadata": {},
     "output_type": "execute_result"
    }
   ],
   "source": [
    "dataframe"
   ]
  },
  {
   "cell_type": "code",
   "execution_count": 18,
   "metadata": {},
   "outputs": [
    {
     "data": {
      "text/html": [
       "<div>\n",
       "<style scoped>\n",
       "    .dataframe tbody tr th:only-of-type {\n",
       "        vertical-align: middle;\n",
       "    }\n",
       "\n",
       "    .dataframe tbody tr th {\n",
       "        vertical-align: top;\n",
       "    }\n",
       "\n",
       "    .dataframe thead th {\n",
       "        text-align: right;\n",
       "    }\n",
       "</style>\n",
       "<table border=\"1\" class=\"dataframe\">\n",
       "  <thead>\n",
       "    <tr style=\"text-align: right;\">\n",
       "      <th></th>\n",
       "      <th>a</th>\n",
       "      <th>b</th>\n",
       "      <th>c</th>\n",
       "      <th>d</th>\n",
       "    </tr>\n",
       "  </thead>\n",
       "  <tbody>\n",
       "    <tr>\n",
       "      <th>var1</th>\n",
       "      <td>1</td>\n",
       "      <td>2</td>\n",
       "      <td>3</td>\n",
       "      <td>4</td>\n",
       "    </tr>\n",
       "    <tr>\n",
       "      <th>var2</th>\n",
       "      <td>b'1'</td>\n",
       "      <td>b'2'</td>\n",
       "      <td>b'3'</td>\n",
       "      <td>b'4'</td>\n",
       "    </tr>\n",
       "    <tr>\n",
       "      <th>var3</th>\n",
       "      <td>1</td>\n",
       "      <td>2</td>\n",
       "      <td>3</td>\n",
       "      <td>4</td>\n",
       "    </tr>\n",
       "  </tbody>\n",
       "</table>\n",
       "</div>"
      ],
      "text/plain": [
       "         a     b     c     d\n",
       "var1     1     2     3     4\n",
       "var2  b'1'  b'2'  b'3'  b'4'\n",
       "var3     1     2     3     4"
      ]
     },
     "execution_count": 18,
     "metadata": {},
     "output_type": "execute_result"
    }
   ],
   "source": [
    "dataframe.T"
   ]
  },
  {
   "cell_type": "markdown",
   "metadata": {},
   "source": [
    "Funciones de NumPy (universal functions, operaciones matematicas...)\n",
    "\n",
    "Podemos aplicar cualquier funcion de NumPy a cualquier estructura de pandas\n",
    "IMPORTANTE: de nuevo, al poder tener multiples tipos en DataFrames no siempre se podran aplicar las operaciones (o el resultado obtenido no sera el esperado). Ademas, en el caso de DataFrames en caso de no indicar un valor para axis se aplicara la operacion por columnas y nunca sobre el DataFrame completo."
   ]
  },
  {
   "cell_type": "code",
   "execution_count": 19,
   "metadata": {},
   "outputs": [
    {
     "data": {
      "text/plain": [
       "a    1.000000\n",
       "b    1.414214\n",
       "c    1.732051\n",
       "d    2.000000\n",
       "dtype: float64"
      ]
     },
     "execution_count": 19,
     "metadata": {},
     "output_type": "execute_result"
    }
   ],
   "source": [
    "#operaciones sobre series\n",
    "np.sqrt(serie)"
   ]
  },
  {
   "cell_type": "code",
   "execution_count": 20,
   "metadata": {},
   "outputs": [
    {
     "data": {
      "text/html": [
       "<div>\n",
       "<style scoped>\n",
       "    .dataframe tbody tr th:only-of-type {\n",
       "        vertical-align: middle;\n",
       "    }\n",
       "\n",
       "    .dataframe tbody tr th {\n",
       "        vertical-align: top;\n",
       "    }\n",
       "\n",
       "    .dataframe thead th {\n",
       "        text-align: right;\n",
       "    }\n",
       "</style>\n",
       "<table border=\"1\" class=\"dataframe\">\n",
       "  <thead>\n",
       "    <tr style=\"text-align: right;\">\n",
       "      <th></th>\n",
       "      <th>var1</th>\n",
       "      <th>var2</th>\n",
       "      <th>var3</th>\n",
       "    </tr>\n",
       "  </thead>\n",
       "  <tbody>\n",
       "    <tr>\n",
       "      <th>a</th>\n",
       "      <td>1</td>\n",
       "      <td>b'1'</td>\n",
       "      <td>1</td>\n",
       "    </tr>\n",
       "    <tr>\n",
       "      <th>b</th>\n",
       "      <td>2</td>\n",
       "      <td>b'2'</td>\n",
       "      <td>2</td>\n",
       "    </tr>\n",
       "    <tr>\n",
       "      <th>c</th>\n",
       "      <td>3</td>\n",
       "      <td>b'3'</td>\n",
       "      <td>3</td>\n",
       "    </tr>\n",
       "    <tr>\n",
       "      <th>d</th>\n",
       "      <td>4</td>\n",
       "      <td>b'4'</td>\n",
       "      <td>4</td>\n",
       "    </tr>\n",
       "  </tbody>\n",
       "</table>\n",
       "</div>"
      ],
      "text/plain": [
       "   var1  var2  var3\n",
       "a     1  b'1'     1\n",
       "b     2  b'2'     2\n",
       "c     3  b'3'     3\n",
       "d     4  b'4'     4"
      ]
     },
     "execution_count": 20,
     "metadata": {},
     "output_type": "execute_result"
    }
   ],
   "source": [
    "dataframe"
   ]
  },
  {
   "cell_type": "code",
   "execution_count": 21,
   "metadata": {},
   "outputs": [
    {
     "data": {
      "text/plain": [
       "var1         10\n",
       "var2    b'1234'\n",
       "var3         10\n",
       "dtype: object"
      ]
     },
     "execution_count": 21,
     "metadata": {},
     "output_type": "execute_result"
    }
   ],
   "source": [
    "#operaciones sobre dataframes (columna a columna, por defecto)\n",
    "np.sum(dataframe)"
   ]
  },
  {
   "cell_type": "code",
   "execution_count": 22,
   "metadata": {},
   "outputs": [
    {
     "name": "stderr",
     "output_type": "stream",
     "text": [
      "C:\\Users\\Facu\\AppData\\Local\\Programs\\Python\\Python310\\lib\\site-packages\\numpy\\core\\fromnumeric.py:84: FutureWarning: Dropping of nuisance columns in DataFrame reductions (with 'numeric_only=None') is deprecated; in a future version this will raise TypeError.  Select only valid columns before calling the reduction.\n",
      "  return reduction(axis=axis, out=out, **passkwargs)\n"
     ]
    },
    {
     "data": {
      "text/plain": [
       "a    2\n",
       "b    4\n",
       "c    6\n",
       "d    8\n",
       "dtype: int64"
      ]
     },
     "execution_count": 22,
     "metadata": {},
     "output_type": "execute_result"
    }
   ],
   "source": [
    "#operacoines sobre dataframes (especificando eje)\n",
    "np.sum(dataframe, axis=1)"
   ]
  },
  {
   "cell_type": "markdown",
   "metadata": {},
   "source": [
    "Operaciones basicas (II)"
   ]
  },
  {
   "cell_type": "markdown",
   "metadata": {},
   "source": [
    "indexacion y slicing en pandas\n",
    "Ademas de poder reutilizar los metodos de indexacion y slicing de NumPy sobre Series y DataFrames (con las limitaciones ya comentadas), pandas pone a nuestra disposicion nuevos metodos de indexacion que permiten tener un mayor control sobre la misma y superar las limitaciones que nos pone NumPy frente a estas estructuras. Veamos todas las posibles combinaciones."
   ]
  },
  {
   "cell_type": "markdown",
   "metadata": {},
   "source": [
    "Indexacion por atributo de clave\n",
    "\n",
    "Podemos indexar un elemento concreto de una Serie o una columna concreta de un DataFrame mediante el uso de su etiqueta/clave como atributo, con sintaxis obj.etiqueta"
   ]
  },
  {
   "cell_type": "code",
   "execution_count": 8,
   "metadata": {},
   "outputs": [
    {
     "data": {
      "text/plain": [
       "a    1\n",
       "b    2\n",
       "c    3\n",
       "d    4\n",
       "dtype: int64"
      ]
     },
     "execution_count": 8,
     "metadata": {},
     "output_type": "execute_result"
    }
   ],
   "source": [
    "serie = pd.Series([1,2,3,4], index=['a','b','c','d'])\n",
    "serie"
   ]
  },
  {
   "cell_type": "code",
   "execution_count": 9,
   "metadata": {},
   "outputs": [
    {
     "data": {
      "text/plain": [
       "1"
      ]
     },
     "execution_count": 9,
     "metadata": {},
     "output_type": "execute_result"
    }
   ],
   "source": [
    "serie.a"
   ]
  },
  {
   "cell_type": "code",
   "execution_count": 5,
   "metadata": {},
   "outputs": [
    {
     "data": {
      "text/html": [
       "<div>\n",
       "<style scoped>\n",
       "    .dataframe tbody tr th:only-of-type {\n",
       "        vertical-align: middle;\n",
       "    }\n",
       "\n",
       "    .dataframe tbody tr th {\n",
       "        vertical-align: top;\n",
       "    }\n",
       "\n",
       "    .dataframe thead th {\n",
       "        text-align: right;\n",
       "    }\n",
       "</style>\n",
       "<table border=\"1\" class=\"dataframe\">\n",
       "  <thead>\n",
       "    <tr style=\"text-align: right;\">\n",
       "      <th></th>\n",
       "      <th>c1</th>\n",
       "      <th>c2</th>\n",
       "      <th>c3</th>\n",
       "      <th>c4</th>\n",
       "    </tr>\n",
       "  </thead>\n",
       "  <tbody>\n",
       "    <tr>\n",
       "      <th>f1</th>\n",
       "      <td>0</td>\n",
       "      <td>1</td>\n",
       "      <td>2</td>\n",
       "      <td>3</td>\n",
       "    </tr>\n",
       "    <tr>\n",
       "      <th>f2</th>\n",
       "      <td>4</td>\n",
       "      <td>5</td>\n",
       "      <td>6</td>\n",
       "      <td>7</td>\n",
       "    </tr>\n",
       "    <tr>\n",
       "      <th>f3</th>\n",
       "      <td>8</td>\n",
       "      <td>9</td>\n",
       "      <td>10</td>\n",
       "      <td>11</td>\n",
       "    </tr>\n",
       "    <tr>\n",
       "      <th>f4</th>\n",
       "      <td>12</td>\n",
       "      <td>13</td>\n",
       "      <td>14</td>\n",
       "      <td>15</td>\n",
       "    </tr>\n",
       "  </tbody>\n",
       "</table>\n",
       "</div>"
      ],
      "text/plain": [
       "    c1  c2  c3  c4\n",
       "f1   0   1   2   3\n",
       "f2   4   5   6   7\n",
       "f3   8   9  10  11\n",
       "f4  12  13  14  15"
      ]
     },
     "execution_count": 5,
     "metadata": {},
     "output_type": "execute_result"
    }
   ],
   "source": [
    "dataframe = pd.DataFrame(np.arange(16).reshape(4,4), index=['f1','f2','f3','f4'], columns=['c1','c2','c3','c4'])\n",
    "dataframe"
   ]
  },
  {
   "cell_type": "code",
   "execution_count": 6,
   "metadata": {},
   "outputs": [
    {
     "data": {
      "text/plain": [
       "f1     0\n",
       "f2     4\n",
       "f3     8\n",
       "f4    12\n",
       "Name: c1, dtype: int32"
      ]
     },
     "execution_count": 6,
     "metadata": {},
     "output_type": "execute_result"
    }
   ],
   "source": [
    "dataframe.c1"
   ]
  },
  {
   "cell_type": "markdown",
   "metadata": {},
   "source": [
    "indexacion con sintaxis [] directa\n"
   ]
  },
  {
   "cell_type": "markdown",
   "metadata": {},
   "source": [
    "<img src= imgs/indexacionconsintaxis[]directa.png>"
   ]
  },
  {
   "cell_type": "code",
   "execution_count": 7,
   "metadata": {},
   "outputs": [
    {
     "data": {
      "text/plain": [
       "1"
      ]
     },
     "execution_count": 7,
     "metadata": {},
     "output_type": "execute_result"
    }
   ],
   "source": [
    "serie[0]"
   ]
  },
  {
   "cell_type": "code",
   "execution_count": 18,
   "metadata": {},
   "outputs": [
    {
     "data": {
      "text/plain": [
       "4"
      ]
     },
     "execution_count": 18,
     "metadata": {},
     "output_type": "execute_result"
    }
   ],
   "source": [
    "serie['d']"
   ]
  },
  {
   "cell_type": "code",
   "execution_count": 19,
   "metadata": {},
   "outputs": [
    {
     "data": {
      "text/plain": [
       "a    1\n",
       "b    2\n",
       "dtype: int64"
      ]
     },
     "execution_count": 19,
     "metadata": {},
     "output_type": "execute_result"
    }
   ],
   "source": [
    "serie[0:2]"
   ]
  },
  {
   "cell_type": "code",
   "execution_count": 20,
   "metadata": {},
   "outputs": [
    {
     "data": {
      "text/plain": [
       "a    1\n",
       "b    2\n",
       "c    3\n",
       "dtype: int64"
      ]
     },
     "execution_count": 20,
     "metadata": {},
     "output_type": "execute_result"
    }
   ],
   "source": [
    "serie['a':'c']"
   ]
  },
  {
   "cell_type": "code",
   "execution_count": 21,
   "metadata": {},
   "outputs": [
    {
     "data": {
      "text/plain": [
       "a    1\n",
       "c    3\n",
       "dtype: int64"
      ]
     },
     "execution_count": 21,
     "metadata": {},
     "output_type": "execute_result"
    }
   ],
   "source": [
    "serie[['a','c']]"
   ]
  },
  {
   "cell_type": "code",
   "execution_count": 22,
   "metadata": {},
   "outputs": [
    {
     "data": {
      "text/html": [
       "<div>\n",
       "<style scoped>\n",
       "    .dataframe tbody tr th:only-of-type {\n",
       "        vertical-align: middle;\n",
       "    }\n",
       "\n",
       "    .dataframe tbody tr th {\n",
       "        vertical-align: top;\n",
       "    }\n",
       "\n",
       "    .dataframe thead th {\n",
       "        text-align: right;\n",
       "    }\n",
       "</style>\n",
       "<table border=\"1\" class=\"dataframe\">\n",
       "  <thead>\n",
       "    <tr style=\"text-align: right;\">\n",
       "      <th></th>\n",
       "      <th>c1</th>\n",
       "      <th>c2</th>\n",
       "      <th>c3</th>\n",
       "      <th>c4</th>\n",
       "    </tr>\n",
       "  </thead>\n",
       "  <tbody>\n",
       "    <tr>\n",
       "      <th>f1</th>\n",
       "      <td>0</td>\n",
       "      <td>1</td>\n",
       "      <td>2</td>\n",
       "      <td>3</td>\n",
       "    </tr>\n",
       "    <tr>\n",
       "      <th>f2</th>\n",
       "      <td>4</td>\n",
       "      <td>5</td>\n",
       "      <td>6</td>\n",
       "      <td>7</td>\n",
       "    </tr>\n",
       "    <tr>\n",
       "      <th>f3</th>\n",
       "      <td>8</td>\n",
       "      <td>9</td>\n",
       "      <td>10</td>\n",
       "      <td>11</td>\n",
       "    </tr>\n",
       "    <tr>\n",
       "      <th>f4</th>\n",
       "      <td>12</td>\n",
       "      <td>13</td>\n",
       "      <td>14</td>\n",
       "      <td>15</td>\n",
       "    </tr>\n",
       "  </tbody>\n",
       "</table>\n",
       "</div>"
      ],
      "text/plain": [
       "    c1  c2  c3  c4\n",
       "f1   0   1   2   3\n",
       "f2   4   5   6   7\n",
       "f3   8   9  10  11\n",
       "f4  12  13  14  15"
      ]
     },
     "execution_count": 22,
     "metadata": {},
     "output_type": "execute_result"
    }
   ],
   "source": [
    "dataframe"
   ]
  },
  {
   "cell_type": "code",
   "execution_count": 10,
   "metadata": {},
   "outputs": [
    {
     "ename": "KeyError",
     "evalue": "0",
     "output_type": "error",
     "traceback": [
      "\u001b[1;31m---------------------------------------------------------------------------\u001b[0m",
      "\u001b[1;31mKeyError\u001b[0m                                  Traceback (most recent call last)",
      "File \u001b[1;32m~\\AppData\\Local\\Programs\\Python\\Python310\\lib\\site-packages\\pandas\\core\\indexes\\base.py:3621\u001b[0m, in \u001b[0;36mIndex.get_loc\u001b[1;34m(self, key, method, tolerance)\u001b[0m\n\u001b[0;32m   <a href='file:///~/AppData/Local/Programs/Python/Python310/lib/site-packages/pandas/core/indexes/base.py?line=3619'>3620</a>\u001b[0m \u001b[39mtry\u001b[39;00m:\n\u001b[1;32m-> <a href='file:///~/AppData/Local/Programs/Python/Python310/lib/site-packages/pandas/core/indexes/base.py?line=3620'>3621</a>\u001b[0m     \u001b[39mreturn\u001b[39;00m \u001b[39mself\u001b[39;49m\u001b[39m.\u001b[39;49m_engine\u001b[39m.\u001b[39;49mget_loc(casted_key)\n\u001b[0;32m   <a href='file:///~/AppData/Local/Programs/Python/Python310/lib/site-packages/pandas/core/indexes/base.py?line=3621'>3622</a>\u001b[0m \u001b[39mexcept\u001b[39;00m \u001b[39mKeyError\u001b[39;00m \u001b[39mas\u001b[39;00m err:\n",
      "File \u001b[1;32m~\\AppData\\Local\\Programs\\Python\\Python310\\lib\\site-packages\\pandas\\_libs\\index.pyx:136\u001b[0m, in \u001b[0;36mpandas._libs.index.IndexEngine.get_loc\u001b[1;34m()\u001b[0m\n",
      "File \u001b[1;32m~\\AppData\\Local\\Programs\\Python\\Python310\\lib\\site-packages\\pandas\\_libs\\index.pyx:163\u001b[0m, in \u001b[0;36mpandas._libs.index.IndexEngine.get_loc\u001b[1;34m()\u001b[0m\n",
      "File \u001b[1;32mpandas\\_libs\\hashtable_class_helper.pxi:5198\u001b[0m, in \u001b[0;36mpandas._libs.hashtable.PyObjectHashTable.get_item\u001b[1;34m()\u001b[0m\n",
      "File \u001b[1;32mpandas\\_libs\\hashtable_class_helper.pxi:5206\u001b[0m, in \u001b[0;36mpandas._libs.hashtable.PyObjectHashTable.get_item\u001b[1;34m()\u001b[0m\n",
      "\u001b[1;31mKeyError\u001b[0m: 0",
      "\nThe above exception was the direct cause of the following exception:\n",
      "\u001b[1;31mKeyError\u001b[0m                                  Traceback (most recent call last)",
      "\u001b[1;32mc:\\Users\\Facu\\Desktop\\aprendiendoPython\\creadoPorMi\\aprendiendoPANDAS.ipynb Cell 98'\u001b[0m in \u001b[0;36m<module>\u001b[1;34m\u001b[0m\n\u001b[1;32m----> <a href='vscode-notebook-cell:/c%3A/Users/Facu/Desktop/aprendiendoPython/creadoPorMi/aprendiendoPANDAS.ipynb#ch0000097?line=0'>1</a>\u001b[0m dataframe[\u001b[39m0\u001b[39;49m]\n",
      "File \u001b[1;32m~\\AppData\\Local\\Programs\\Python\\Python310\\lib\\site-packages\\pandas\\core\\frame.py:3505\u001b[0m, in \u001b[0;36mDataFrame.__getitem__\u001b[1;34m(self, key)\u001b[0m\n\u001b[0;32m   <a href='file:///~/AppData/Local/Programs/Python/Python310/lib/site-packages/pandas/core/frame.py?line=3502'>3503</a>\u001b[0m \u001b[39mif\u001b[39;00m \u001b[39mself\u001b[39m\u001b[39m.\u001b[39mcolumns\u001b[39m.\u001b[39mnlevels \u001b[39m>\u001b[39m \u001b[39m1\u001b[39m:\n\u001b[0;32m   <a href='file:///~/AppData/Local/Programs/Python/Python310/lib/site-packages/pandas/core/frame.py?line=3503'>3504</a>\u001b[0m     \u001b[39mreturn\u001b[39;00m \u001b[39mself\u001b[39m\u001b[39m.\u001b[39m_getitem_multilevel(key)\n\u001b[1;32m-> <a href='file:///~/AppData/Local/Programs/Python/Python310/lib/site-packages/pandas/core/frame.py?line=3504'>3505</a>\u001b[0m indexer \u001b[39m=\u001b[39m \u001b[39mself\u001b[39;49m\u001b[39m.\u001b[39;49mcolumns\u001b[39m.\u001b[39;49mget_loc(key)\n\u001b[0;32m   <a href='file:///~/AppData/Local/Programs/Python/Python310/lib/site-packages/pandas/core/frame.py?line=3505'>3506</a>\u001b[0m \u001b[39mif\u001b[39;00m is_integer(indexer):\n\u001b[0;32m   <a href='file:///~/AppData/Local/Programs/Python/Python310/lib/site-packages/pandas/core/frame.py?line=3506'>3507</a>\u001b[0m     indexer \u001b[39m=\u001b[39m [indexer]\n",
      "File \u001b[1;32m~\\AppData\\Local\\Programs\\Python\\Python310\\lib\\site-packages\\pandas\\core\\indexes\\base.py:3623\u001b[0m, in \u001b[0;36mIndex.get_loc\u001b[1;34m(self, key, method, tolerance)\u001b[0m\n\u001b[0;32m   <a href='file:///~/AppData/Local/Programs/Python/Python310/lib/site-packages/pandas/core/indexes/base.py?line=3620'>3621</a>\u001b[0m     \u001b[39mreturn\u001b[39;00m \u001b[39mself\u001b[39m\u001b[39m.\u001b[39m_engine\u001b[39m.\u001b[39mget_loc(casted_key)\n\u001b[0;32m   <a href='file:///~/AppData/Local/Programs/Python/Python310/lib/site-packages/pandas/core/indexes/base.py?line=3621'>3622</a>\u001b[0m \u001b[39mexcept\u001b[39;00m \u001b[39mKeyError\u001b[39;00m \u001b[39mas\u001b[39;00m err:\n\u001b[1;32m-> <a href='file:///~/AppData/Local/Programs/Python/Python310/lib/site-packages/pandas/core/indexes/base.py?line=3622'>3623</a>\u001b[0m     \u001b[39mraise\u001b[39;00m \u001b[39mKeyError\u001b[39;00m(key) \u001b[39mfrom\u001b[39;00m \u001b[39merr\u001b[39;00m\n\u001b[0;32m   <a href='file:///~/AppData/Local/Programs/Python/Python310/lib/site-packages/pandas/core/indexes/base.py?line=3623'>3624</a>\u001b[0m \u001b[39mexcept\u001b[39;00m \u001b[39mTypeError\u001b[39;00m:\n\u001b[0;32m   <a href='file:///~/AppData/Local/Programs/Python/Python310/lib/site-packages/pandas/core/indexes/base.py?line=3624'>3625</a>\u001b[0m     \u001b[39m# If we have a listlike key, _check_indexing_error will raise\u001b[39;00m\n\u001b[0;32m   <a href='file:///~/AppData/Local/Programs/Python/Python310/lib/site-packages/pandas/core/indexes/base.py?line=3625'>3626</a>\u001b[0m     \u001b[39m#  InvalidIndexError. Otherwise we fall through and re-raise\u001b[39;00m\n\u001b[0;32m   <a href='file:///~/AppData/Local/Programs/Python/Python310/lib/site-packages/pandas/core/indexes/base.py?line=3626'>3627</a>\u001b[0m     \u001b[39m#  the TypeError.\u001b[39;00m\n\u001b[0;32m   <a href='file:///~/AppData/Local/Programs/Python/Python310/lib/site-packages/pandas/core/indexes/base.py?line=3627'>3628</a>\u001b[0m     \u001b[39mself\u001b[39m\u001b[39m.\u001b[39m_check_indexing_error(key)\n",
      "\u001b[1;31mKeyError\u001b[0m: 0"
     ]
    }
   ],
   "source": [
    "dataframe[0] #error por que esta intentadno encontrar una columna que se llame 0, y no hay ninguna columna que se llame 0"
   ]
  },
  {
   "cell_type": "markdown",
   "metadata": {},
   "source": [
    "indexacion con metodo .loc - por claves"
   ]
  },
  {
   "cell_type": "markdown",
   "metadata": {},
   "source": [
    "<img src= \"imgs/indexacion.locPorClaves.png\">"
   ]
  },
  {
   "cell_type": "code",
   "execution_count": 23,
   "metadata": {},
   "outputs": [
    {
     "data": {
      "text/plain": [
       "2"
      ]
     },
     "execution_count": 23,
     "metadata": {},
     "output_type": "execute_result"
    }
   ],
   "source": [
    "serie.loc['b']"
   ]
  },
  {
   "cell_type": "code",
   "execution_count": 25,
   "metadata": {},
   "outputs": [
    {
     "data": {
      "text/plain": [
       "b    2\n",
       "c    3\n",
       "d    4\n",
       "dtype: int64"
      ]
     },
     "execution_count": 25,
     "metadata": {},
     "output_type": "execute_result"
    }
   ],
   "source": [
    "serie.loc['b':'d']"
   ]
  },
  {
   "cell_type": "code",
   "execution_count": 27,
   "metadata": {},
   "outputs": [
    {
     "data": {
      "text/plain": [
       "b    2\n",
       "d    4\n",
       "dtype: int64"
      ]
     },
     "execution_count": 27,
     "metadata": {},
     "output_type": "execute_result"
    }
   ],
   "source": [
    "serie.loc[['b','d']]"
   ]
  },
  {
   "cell_type": "code",
   "execution_count": 28,
   "metadata": {},
   "outputs": [
    {
     "data": {
      "text/plain": [
       "a    1\n",
       "b    2\n",
       "d    4\n",
       "dtype: int64"
      ]
     },
     "execution_count": 28,
     "metadata": {},
     "output_type": "execute_result"
    }
   ],
   "source": [
    "serie.loc[[True, True, False, True]]"
   ]
  },
  {
   "cell_type": "code",
   "execution_count": 24,
   "metadata": {},
   "outputs": [
    {
     "data": {
      "text/plain": [
       "c1    0\n",
       "c2    1\n",
       "c3    2\n",
       "c4    3\n",
       "Name: f1, dtype: int32"
      ]
     },
     "execution_count": 24,
     "metadata": {},
     "output_type": "execute_result"
    }
   ],
   "source": [
    "dataframe.loc['f1']"
   ]
  },
  {
   "cell_type": "code",
   "execution_count": 29,
   "metadata": {},
   "outputs": [
    {
     "data": {
      "text/plain": [
       "0"
      ]
     },
     "execution_count": 29,
     "metadata": {},
     "output_type": "execute_result"
    }
   ],
   "source": [
    "dataframe.loc['f1', 'c1']"
   ]
  },
  {
   "cell_type": "code",
   "execution_count": 31,
   "metadata": {},
   "outputs": [
    {
     "data": {
      "text/plain": [
       "f1     0\n",
       "f2     4\n",
       "f3     8\n",
       "f4    12\n",
       "Name: c1, dtype: int32"
      ]
     },
     "execution_count": 31,
     "metadata": {},
     "output_type": "execute_result"
    }
   ],
   "source": [
    "dataframe.loc[:,'c1']"
   ]
  },
  {
   "cell_type": "markdown",
   "metadata": {},
   "source": [
    "indexacion con metodo .iloc - por indices"
   ]
  },
  {
   "cell_type": "markdown",
   "metadata": {},
   "source": [
    "<img src='imgs/indexacion.ilocPorIndices.png'>"
   ]
  },
  {
   "cell_type": "code",
   "execution_count": 68,
   "metadata": {},
   "outputs": [
    {
     "data": {
      "text/html": [
       "<div>\n",
       "<style scoped>\n",
       "    .dataframe tbody tr th:only-of-type {\n",
       "        vertical-align: middle;\n",
       "    }\n",
       "\n",
       "    .dataframe tbody tr th {\n",
       "        vertical-align: top;\n",
       "    }\n",
       "\n",
       "    .dataframe thead th {\n",
       "        text-align: right;\n",
       "    }\n",
       "</style>\n",
       "<table border=\"1\" class=\"dataframe\">\n",
       "  <thead>\n",
       "    <tr style=\"text-align: right;\">\n",
       "      <th></th>\n",
       "      <th>Tipo</th>\n",
       "      <th>En Series</th>\n",
       "      <th>En DataFrames</th>\n",
       "    </tr>\n",
       "  </thead>\n",
       "  <tbody>\n",
       "    <tr>\n",
       "      <th>0</th>\n",
       "      <td>obj.iloc[num_val]</td>\n",
       "      <td>Seleccion por posicion</td>\n",
       "      <td>Seleccion por posicion de filas</td>\n",
       "    </tr>\n",
       "    <tr>\n",
       "      <th>1</th>\n",
       "      <td>obj.iloc[num_val1:nom_val2]</td>\n",
       "      <td>Seleccion por posicion</td>\n",
       "      <td>Seleccion por posicion de filas</td>\n",
       "    </tr>\n",
       "    <tr>\n",
       "      <th>2</th>\n",
       "      <td>obj.iloc[[num_val1,...,num_valn]]</td>\n",
       "      <td>Seleccion por posicion</td>\n",
       "      <td>Seleccion por posicion de filas</td>\n",
       "    </tr>\n",
       "    <tr>\n",
       "      <th>3</th>\n",
       "      <td>obj.iloc[sel1,sel2]</td>\n",
       "      <td>ERROR: seleccion por clave de fila (sel1) y co...</td>\n",
       "      <td>None</td>\n",
       "    </tr>\n",
       "  </tbody>\n",
       "</table>\n",
       "</div>"
      ],
      "text/plain": [
       "                                Tipo  \\\n",
       "0                  obj.iloc[num_val]   \n",
       "1        obj.iloc[num_val1:nom_val2]   \n",
       "2  obj.iloc[[num_val1,...,num_valn]]   \n",
       "3                obj.iloc[sel1,sel2]   \n",
       "\n",
       "                                           En Series  \\\n",
       "0                             Seleccion por posicion   \n",
       "1                             Seleccion por posicion   \n",
       "2                             Seleccion por posicion   \n",
       "3  ERROR: seleccion por clave de fila (sel1) y co...   \n",
       "\n",
       "                     En DataFrames  \n",
       "0  Seleccion por posicion de filas  \n",
       "1  Seleccion por posicion de filas  \n",
       "2  Seleccion por posicion de filas  \n",
       "3                             None  "
      ]
     },
     "execution_count": 68,
     "metadata": {},
     "output_type": "execute_result"
    }
   ],
   "source": [
    "#hice la tabla de arriba\n",
    "\n",
    "iloc = pd.DataFrame(\n",
    "            {'Tipo':['obj.iloc[num_val]', 'obj.iloc[num_val1:nom_val2]', 'obj.iloc[[num_val1,...,num_valn]]', 'obj.iloc[sel1,sel2]'],\n",
    "             'En Series':['Seleccion por posicion','Seleccion por posicion','Seleccion por posicion','ERROR: seleccion por clave de fila (sel1) y columna (sel2). Selectrores:posicion, slice o secuencia'],\n",
    "             'En DataFrames':['Seleccion por posicion de filas', 'Seleccion por posicion de filas', 'Seleccion por posicion de filas', None]},\n",
    ")\n",
    "iloc"
   ]
  },
  {
   "cell_type": "code",
   "execution_count": 32,
   "metadata": {},
   "outputs": [
    {
     "data": {
      "text/plain": [
       "1"
      ]
     },
     "execution_count": 32,
     "metadata": {},
     "output_type": "execute_result"
    }
   ],
   "source": [
    "serie.iloc[0]"
   ]
  },
  {
   "cell_type": "code",
   "execution_count": 36,
   "metadata": {},
   "outputs": [
    {
     "data": {
      "text/plain": [
       "a    1\n",
       "c    3\n",
       "dtype: int64"
      ]
     },
     "execution_count": 36,
     "metadata": {},
     "output_type": "execute_result"
    }
   ],
   "source": [
    "serie.iloc[[0,2]]"
   ]
  },
  {
   "cell_type": "code",
   "execution_count": 41,
   "metadata": {},
   "outputs": [
    {
     "data": {
      "text/plain": [
       "c1    0\n",
       "c2    1\n",
       "c3    2\n",
       "c4    3\n",
       "Name: f1, dtype: int32"
      ]
     },
     "execution_count": 41,
     "metadata": {},
     "output_type": "execute_result"
    }
   ],
   "source": [
    "dataframe.iloc[0]"
   ]
  },
  {
   "cell_type": "code",
   "execution_count": 39,
   "metadata": {},
   "outputs": [
    {
     "data": {
      "text/plain": [
       "14"
      ]
     },
     "execution_count": 39,
     "metadata": {},
     "output_type": "execute_result"
    }
   ],
   "source": [
    "dataframe.iloc[3,2]"
   ]
  },
  {
   "cell_type": "code",
   "execution_count": 40,
   "metadata": {},
   "outputs": [
    {
     "data": {
      "text/plain": [
       "f1     2\n",
       "f2     6\n",
       "f3    10\n",
       "f4    14\n",
       "Name: c3, dtype: int32"
      ]
     },
     "execution_count": 40,
     "metadata": {},
     "output_type": "execute_result"
    }
   ],
   "source": [
    "dataframe.iloc[:,2]"
   ]
  },
  {
   "cell_type": "markdown",
   "metadata": {},
   "source": [
    "Índices jerárquicos en pandas\n",
    "\n",
    "Los índices jerárquicos de 'pandas' permiten tener más de un nivel en cualquiera de los índices de una estructura. Esto puede servir para agrupar más claramente los datos, o para conseguir identificar las filas por una clave única. En cierto modo, también es una forma de poder trabajar con tablas de más de dos dimensiones."
   ]
  },
  {
   "cell_type": "code",
   "execution_count": 43,
   "metadata": {},
   "outputs": [
    {
     "data": {
      "text/html": [
       "<div>\n",
       "<style scoped>\n",
       "    .dataframe tbody tr th:only-of-type {\n",
       "        vertical-align: middle;\n",
       "    }\n",
       "\n",
       "    .dataframe tbody tr th {\n",
       "        vertical-align: top;\n",
       "    }\n",
       "\n",
       "    .dataframe thead th {\n",
       "        text-align: right;\n",
       "    }\n",
       "</style>\n",
       "<table border=\"1\" class=\"dataframe\">\n",
       "  <thead>\n",
       "    <tr style=\"text-align: right;\">\n",
       "      <th></th>\n",
       "      <th></th>\n",
       "      <th>Valoración</th>\n",
       "      <th>Presupuesto</th>\n",
       "      <th>Director</th>\n",
       "    </tr>\n",
       "  </thead>\n",
       "  <tbody>\n",
       "    <tr>\n",
       "      <th rowspan=\"2\" valign=\"top\">2014</th>\n",
       "      <th>Godzilla</th>\n",
       "      <td>6.00</td>\n",
       "      <td>160.0</td>\n",
       "      <td>Peter Jackson</td>\n",
       "    </tr>\n",
       "    <tr>\n",
       "      <th>El Hobbit III</th>\n",
       "      <td>NaN</td>\n",
       "      <td>250.0</td>\n",
       "      <td>Gareth Edwards</td>\n",
       "    </tr>\n",
       "    <tr>\n",
       "      <th rowspan=\"2\" valign=\"top\">2013</th>\n",
       "      <th>El lobo de Wall Street</th>\n",
       "      <td>8.75</td>\n",
       "      <td>100.0</td>\n",
       "      <td>Martin Scorsese</td>\n",
       "    </tr>\n",
       "    <tr>\n",
       "      <th>Gravity</th>\n",
       "      <td>NaN</td>\n",
       "      <td>NaN</td>\n",
       "      <td>Alfonso Cuarón</td>\n",
       "    </tr>\n",
       "  </tbody>\n",
       "</table>\n",
       "</div>"
      ],
      "text/plain": [
       "                             Valoración  Presupuesto         Director\n",
       "2014 Godzilla                      6.00        160.0    Peter Jackson\n",
       "     El Hobbit III                  NaN        250.0   Gareth Edwards\n",
       "2013 El lobo de Wall Street        8.75        100.0  Martin Scorsese\n",
       "     Gravity                        NaN          NaN   Alfonso Cuarón"
      ]
     },
     "execution_count": 43,
     "metadata": {},
     "output_type": "execute_result"
    }
   ],
   "source": [
    "peliculas = pd.DataFrame(\n",
    "            {'Valoración':[6, None, 8.75, None],\n",
    "             'Presupuesto':[160, 250, 100, None],\n",
    "             'Director':['Peter Jackson', 'Gareth Edwards', 'Martin Scorsese', 'Alfonso Cuarón']},\n",
    "            index = [[2014, 2014, 2013, 2013], ['Godzilla', 'El Hobbit III', 'El lobo de Wall Street', 'Gravity']]\n",
    ")\n",
    "peliculas"
   ]
  },
  {
   "cell_type": "markdown",
   "metadata": {},
   "source": [
    "A partir de la construcción del índice jerárquico, podemos hacer indexaciones totales (mediante tuplas) o parciales (mediante selección de uno de los elementos del índice)."
   ]
  },
  {
   "cell_type": "code",
   "execution_count": 44,
   "metadata": {},
   "outputs": [
    {
     "data": {
      "text/plain": [
       "Valoración               6.0\n",
       "Presupuesto            160.0\n",
       "Director       Peter Jackson\n",
       "Name: (2014, Godzilla), dtype: object"
      ]
     },
     "execution_count": 44,
     "metadata": {},
     "output_type": "execute_result"
    }
   ],
   "source": [
    "# Indexación total\n",
    "peliculas.loc[(2014, 'Godzilla')]"
   ]
  },
  {
   "cell_type": "code",
   "execution_count": 45,
   "metadata": {},
   "outputs": [
    {
     "data": {
      "text/html": [
       "<div>\n",
       "<style scoped>\n",
       "    .dataframe tbody tr th:only-of-type {\n",
       "        vertical-align: middle;\n",
       "    }\n",
       "\n",
       "    .dataframe tbody tr th {\n",
       "        vertical-align: top;\n",
       "    }\n",
       "\n",
       "    .dataframe thead th {\n",
       "        text-align: right;\n",
       "    }\n",
       "</style>\n",
       "<table border=\"1\" class=\"dataframe\">\n",
       "  <thead>\n",
       "    <tr style=\"text-align: right;\">\n",
       "      <th></th>\n",
       "      <th>Valoración</th>\n",
       "      <th>Presupuesto</th>\n",
       "      <th>Director</th>\n",
       "    </tr>\n",
       "  </thead>\n",
       "  <tbody>\n",
       "    <tr>\n",
       "      <th>Godzilla</th>\n",
       "      <td>6.0</td>\n",
       "      <td>160.0</td>\n",
       "      <td>Peter Jackson</td>\n",
       "    </tr>\n",
       "    <tr>\n",
       "      <th>El Hobbit III</th>\n",
       "      <td>NaN</td>\n",
       "      <td>250.0</td>\n",
       "      <td>Gareth Edwards</td>\n",
       "    </tr>\n",
       "  </tbody>\n",
       "</table>\n",
       "</div>"
      ],
      "text/plain": [
       "               Valoración  Presupuesto        Director\n",
       "Godzilla              6.0        160.0   Peter Jackson\n",
       "El Hobbit III         NaN        250.0  Gareth Edwards"
      ]
     },
     "execution_count": 45,
     "metadata": {},
     "output_type": "execute_result"
    }
   ],
   "source": [
    "# Indexación parcial\n",
    "peliculas.loc[2014]"
   ]
  },
  {
   "cell_type": "markdown",
   "metadata": {},
   "source": [
    "Podemos pasar niveles del índice jerárquico de las filas a las columnas mediante la función <b>unstack</b>, como si de una Pivot Table de Excel se tratase. Con <b>stack</b> realizarmeos la operación contraria."
   ]
  },
  {
   "cell_type": "code",
   "execution_count": 46,
   "metadata": {},
   "outputs": [
    {
     "data": {
      "text/html": [
       "<div>\n",
       "<style scoped>\n",
       "    .dataframe tbody tr th:only-of-type {\n",
       "        vertical-align: middle;\n",
       "    }\n",
       "\n",
       "    .dataframe tbody tr th {\n",
       "        vertical-align: top;\n",
       "    }\n",
       "\n",
       "    .dataframe thead tr th {\n",
       "        text-align: left;\n",
       "    }\n",
       "</style>\n",
       "<table border=\"1\" class=\"dataframe\">\n",
       "  <thead>\n",
       "    <tr>\n",
       "      <th></th>\n",
       "      <th colspan=\"4\" halign=\"left\">Valoración</th>\n",
       "      <th colspan=\"4\" halign=\"left\">Presupuesto</th>\n",
       "      <th colspan=\"4\" halign=\"left\">Director</th>\n",
       "    </tr>\n",
       "    <tr>\n",
       "      <th></th>\n",
       "      <th>El Hobbit III</th>\n",
       "      <th>El lobo de Wall Street</th>\n",
       "      <th>Godzilla</th>\n",
       "      <th>Gravity</th>\n",
       "      <th>El Hobbit III</th>\n",
       "      <th>El lobo de Wall Street</th>\n",
       "      <th>Godzilla</th>\n",
       "      <th>Gravity</th>\n",
       "      <th>El Hobbit III</th>\n",
       "      <th>El lobo de Wall Street</th>\n",
       "      <th>Godzilla</th>\n",
       "      <th>Gravity</th>\n",
       "    </tr>\n",
       "  </thead>\n",
       "  <tbody>\n",
       "    <tr>\n",
       "      <th>2013</th>\n",
       "      <td>NaN</td>\n",
       "      <td>8.75</td>\n",
       "      <td>NaN</td>\n",
       "      <td>NaN</td>\n",
       "      <td>NaN</td>\n",
       "      <td>100.0</td>\n",
       "      <td>NaN</td>\n",
       "      <td>NaN</td>\n",
       "      <td>NaN</td>\n",
       "      <td>Martin Scorsese</td>\n",
       "      <td>NaN</td>\n",
       "      <td>Alfonso Cuarón</td>\n",
       "    </tr>\n",
       "    <tr>\n",
       "      <th>2014</th>\n",
       "      <td>NaN</td>\n",
       "      <td>NaN</td>\n",
       "      <td>6.0</td>\n",
       "      <td>NaN</td>\n",
       "      <td>250.0</td>\n",
       "      <td>NaN</td>\n",
       "      <td>160.0</td>\n",
       "      <td>NaN</td>\n",
       "      <td>Gareth Edwards</td>\n",
       "      <td>NaN</td>\n",
       "      <td>Peter Jackson</td>\n",
       "      <td>NaN</td>\n",
       "    </tr>\n",
       "  </tbody>\n",
       "</table>\n",
       "</div>"
      ],
      "text/plain": [
       "        Valoración                                           Presupuesto  \\\n",
       "     El Hobbit III El lobo de Wall Street Godzilla Gravity El Hobbit III   \n",
       "2013           NaN                   8.75      NaN     NaN           NaN   \n",
       "2014           NaN                    NaN      6.0     NaN         250.0   \n",
       "\n",
       "                                                    Director  \\\n",
       "     El lobo de Wall Street Godzilla Gravity   El Hobbit III   \n",
       "2013                  100.0      NaN     NaN             NaN   \n",
       "2014                    NaN    160.0     NaN  Gareth Edwards   \n",
       "\n",
       "                                                            \n",
       "     El lobo de Wall Street       Godzilla         Gravity  \n",
       "2013        Martin Scorsese            NaN  Alfonso Cuarón  \n",
       "2014                    NaN  Peter Jackson             NaN  "
      ]
     },
     "execution_count": 46,
     "metadata": {},
     "output_type": "execute_result"
    }
   ],
   "source": [
    "# Pasamos el último nivel del índice de filas al de columnas\n",
    "peliculas_2 = peliculas.unstack()\n",
    "peliculas_2"
   ]
  },
  {
   "cell_type": "code",
   "execution_count": 47,
   "metadata": {},
   "outputs": [
    {
     "data": {
      "text/html": [
       "<div>\n",
       "<style scoped>\n",
       "    .dataframe tbody tr th:only-of-type {\n",
       "        vertical-align: middle;\n",
       "    }\n",
       "\n",
       "    .dataframe tbody tr th {\n",
       "        vertical-align: top;\n",
       "    }\n",
       "\n",
       "    .dataframe thead th {\n",
       "        text-align: right;\n",
       "    }\n",
       "</style>\n",
       "<table border=\"1\" class=\"dataframe\">\n",
       "  <thead>\n",
       "    <tr style=\"text-align: right;\">\n",
       "      <th></th>\n",
       "      <th></th>\n",
       "      <th>Valoración</th>\n",
       "      <th>Presupuesto</th>\n",
       "      <th>Director</th>\n",
       "    </tr>\n",
       "  </thead>\n",
       "  <tbody>\n",
       "    <tr>\n",
       "      <th rowspan=\"2\" valign=\"top\">2014</th>\n",
       "      <th>Godzilla</th>\n",
       "      <td>6.00</td>\n",
       "      <td>160.0</td>\n",
       "      <td>Peter Jackson</td>\n",
       "    </tr>\n",
       "    <tr>\n",
       "      <th>El Hobbit III</th>\n",
       "      <td>NaN</td>\n",
       "      <td>250.0</td>\n",
       "      <td>Gareth Edwards</td>\n",
       "    </tr>\n",
       "    <tr>\n",
       "      <th rowspan=\"2\" valign=\"top\">2013</th>\n",
       "      <th>El lobo de Wall Street</th>\n",
       "      <td>8.75</td>\n",
       "      <td>100.0</td>\n",
       "      <td>Martin Scorsese</td>\n",
       "    </tr>\n",
       "    <tr>\n",
       "      <th>Gravity</th>\n",
       "      <td>NaN</td>\n",
       "      <td>NaN</td>\n",
       "      <td>Alfonso Cuarón</td>\n",
       "    </tr>\n",
       "  </tbody>\n",
       "</table>\n",
       "</div>"
      ],
      "text/plain": [
       "                             Valoración  Presupuesto         Director\n",
       "2014 Godzilla                      6.00        160.0    Peter Jackson\n",
       "     El Hobbit III                  NaN        250.0   Gareth Edwards\n",
       "2013 El lobo de Wall Street        8.75        100.0  Martin Scorsese\n",
       "     Gravity                        NaN          NaN   Alfonso Cuarón"
      ]
     },
     "execution_count": 47,
     "metadata": {},
     "output_type": "execute_result"
    }
   ],
   "source": [
    "peliculas"
   ]
  },
  {
   "cell_type": "code",
   "execution_count": 48,
   "metadata": {},
   "outputs": [
    {
     "data": {
      "text/plain": [
       "2014  Godzilla                Valoración                 6.0\n",
       "                              Presupuesto              160.0\n",
       "                              Director         Peter Jackson\n",
       "      El Hobbit III           Presupuesto              250.0\n",
       "                              Director        Gareth Edwards\n",
       "2013  El lobo de Wall Street  Valoración                8.75\n",
       "                              Presupuesto              100.0\n",
       "                              Director       Martin Scorsese\n",
       "      Gravity                 Director        Alfonso Cuarón\n",
       "dtype: object"
      ]
     },
     "execution_count": 48,
     "metadata": {},
     "output_type": "execute_result"
    }
   ],
   "source": [
    "# Pasamos el último nivel del índice de columnas al de filas\n",
    "peliculas.stack()"
   ]
  },
  {
   "cell_type": "code",
   "execution_count": 49,
   "metadata": {},
   "outputs": [
    {
     "data": {
      "text/html": [
       "<div>\n",
       "<style scoped>\n",
       "    .dataframe tbody tr th:only-of-type {\n",
       "        vertical-align: middle;\n",
       "    }\n",
       "\n",
       "    .dataframe tbody tr th {\n",
       "        vertical-align: top;\n",
       "    }\n",
       "\n",
       "    .dataframe thead th {\n",
       "        text-align: right;\n",
       "    }\n",
       "</style>\n",
       "<table border=\"1\" class=\"dataframe\">\n",
       "  <thead>\n",
       "    <tr style=\"text-align: right;\">\n",
       "      <th></th>\n",
       "      <th></th>\n",
       "      <th>Valoración</th>\n",
       "      <th>Presupuesto</th>\n",
       "      <th>Director</th>\n",
       "    </tr>\n",
       "  </thead>\n",
       "  <tbody>\n",
       "    <tr>\n",
       "      <th rowspan=\"2\" valign=\"top\">2013</th>\n",
       "      <th>El lobo de Wall Street</th>\n",
       "      <td>8.75</td>\n",
       "      <td>100.0</td>\n",
       "      <td>Martin Scorsese</td>\n",
       "    </tr>\n",
       "    <tr>\n",
       "      <th>Gravity</th>\n",
       "      <td>NaN</td>\n",
       "      <td>NaN</td>\n",
       "      <td>Alfonso Cuarón</td>\n",
       "    </tr>\n",
       "    <tr>\n",
       "      <th rowspan=\"2\" valign=\"top\">2014</th>\n",
       "      <th>El Hobbit III</th>\n",
       "      <td>NaN</td>\n",
       "      <td>250.0</td>\n",
       "      <td>Gareth Edwards</td>\n",
       "    </tr>\n",
       "    <tr>\n",
       "      <th>Godzilla</th>\n",
       "      <td>6.00</td>\n",
       "      <td>160.0</td>\n",
       "      <td>Peter Jackson</td>\n",
       "    </tr>\n",
       "  </tbody>\n",
       "</table>\n",
       "</div>"
      ],
      "text/plain": [
       "                             Valoración  Presupuesto         Director\n",
       "2013 El lobo de Wall Street        8.75        100.0  Martin Scorsese\n",
       "     Gravity                        NaN          NaN   Alfonso Cuarón\n",
       "2014 El Hobbit III                  NaN        250.0   Gareth Edwards\n",
       "     Godzilla                      6.00        160.0    Peter Jackson"
      ]
     },
     "execution_count": 49,
     "metadata": {},
     "output_type": "execute_result"
    }
   ],
   "source": [
    "peliculas_2.stack()"
   ]
  },
  {
   "cell_type": "markdown",
   "metadata": {},
   "source": [
    "Reindexacion, establecimiento y descarte de indices\n",
    "\n",
    "Pueden existir ocasiones en las que se desee modificar el indice de una estructura tras haberla creado. En este caso no se trata d ecmabiar las etiquetas asignadas sino de reordenaciones, eliminacion o adicion de etiquetas.Para ello, pandas nos ofrece el metodo reindex. Lo que obtendremos sera una nueva estructura (copia) con el indice seleccionado\n",
    "\n",
    "En el caso de un nuevo indice, los elementos nuevos se rellenaran a NaN. Para evitarlo, dsiponemos de los sigueintes parametros:\n",
    "    -fill_value: rellen0o a un valor fijo establecido\n",
    "    -method: relleno segun un metodo definido:\n",
    "            -ffill: relleno mediante la observacion de los ultimos valores rellenos\n",
    "            -bfill: relleno mediante la observacon de los proximos valores rellenos"
   ]
  },
  {
   "cell_type": "code",
   "execution_count": 50,
   "metadata": {},
   "outputs": [
    {
     "data": {
      "text/plain": [
       "a    1\n",
       "b    2\n",
       "c    3\n",
       "d    4\n",
       "dtype: int64"
      ]
     },
     "execution_count": 50,
     "metadata": {},
     "output_type": "execute_result"
    }
   ],
   "source": [
    "serie = pd.Series([1,2,3,4], index=['a','b','c','d'])\n",
    "serie"
   ]
  },
  {
   "cell_type": "code",
   "execution_count": 51,
   "metadata": {},
   "outputs": [
    {
     "data": {
      "text/html": [
       "<div>\n",
       "<style scoped>\n",
       "    .dataframe tbody tr th:only-of-type {\n",
       "        vertical-align: middle;\n",
       "    }\n",
       "\n",
       "    .dataframe tbody tr th {\n",
       "        vertical-align: top;\n",
       "    }\n",
       "\n",
       "    .dataframe thead th {\n",
       "        text-align: right;\n",
       "    }\n",
       "</style>\n",
       "<table border=\"1\" class=\"dataframe\">\n",
       "  <thead>\n",
       "    <tr style=\"text-align: right;\">\n",
       "      <th></th>\n",
       "      <th>c1</th>\n",
       "      <th>c2</th>\n",
       "      <th>c3</th>\n",
       "      <th>c4</th>\n",
       "    </tr>\n",
       "  </thead>\n",
       "  <tbody>\n",
       "    <tr>\n",
       "      <th>f1</th>\n",
       "      <td>0</td>\n",
       "      <td>1</td>\n",
       "      <td>2</td>\n",
       "      <td>3</td>\n",
       "    </tr>\n",
       "    <tr>\n",
       "      <th>f2</th>\n",
       "      <td>4</td>\n",
       "      <td>5</td>\n",
       "      <td>6</td>\n",
       "      <td>7</td>\n",
       "    </tr>\n",
       "    <tr>\n",
       "      <th>f3</th>\n",
       "      <td>8</td>\n",
       "      <td>9</td>\n",
       "      <td>10</td>\n",
       "      <td>11</td>\n",
       "    </tr>\n",
       "    <tr>\n",
       "      <th>f4</th>\n",
       "      <td>12</td>\n",
       "      <td>13</td>\n",
       "      <td>14</td>\n",
       "      <td>15</td>\n",
       "    </tr>\n",
       "  </tbody>\n",
       "</table>\n",
       "</div>"
      ],
      "text/plain": [
       "    c1  c2  c3  c4\n",
       "f1   0   1   2   3\n",
       "f2   4   5   6   7\n",
       "f3   8   9  10  11\n",
       "f4  12  13  14  15"
      ]
     },
     "execution_count": 51,
     "metadata": {},
     "output_type": "execute_result"
    }
   ],
   "source": [
    "dataframe = pd.DataFrame(np.arange(16).reshape(4,4), index=['f1','f2','f3','f4'], columns=['c1','c2','c3','c4'])\n",
    "dataframe"
   ]
  },
  {
   "cell_type": "code",
   "execution_count": 52,
   "metadata": {},
   "outputs": [
    {
     "data": {
      "text/plain": [
       "d    4\n",
       "c    3\n",
       "b    2\n",
       "a    1\n",
       "dtype: int64"
      ]
     },
     "execution_count": 52,
     "metadata": {},
     "output_type": "execute_result"
    }
   ],
   "source": [
    "#reordenacion del indice de una serie\n",
    "serie.reindex(['d','c','b','a'])  #todo en orden inverso"
   ]
  },
  {
   "cell_type": "code",
   "execution_count": 53,
   "metadata": {},
   "outputs": [
    {
     "data": {
      "text/plain": [
       "a    1.0\n",
       "b    2.0\n",
       "e    NaN\n",
       "d    4.0\n",
       "c    3.0\n",
       "dtype: float64"
      ]
     },
     "execution_count": 53,
     "metadata": {},
     "output_type": "execute_result"
    }
   ],
   "source": [
    "#adicion de etiquetas a un indice de una serie\n",
    "serie.reindex(['a','b','e','d','c'])"
   ]
  },
  {
   "cell_type": "code",
   "execution_count": 54,
   "metadata": {},
   "outputs": [
    {
     "data": {
      "text/plain": [
       "a    1\n",
       "b    2\n",
       "e    0\n",
       "d    4\n",
       "c    3\n",
       "dtype: int64"
      ]
     },
     "execution_count": 54,
     "metadata": {},
     "output_type": "execute_result"
    }
   ],
   "source": [
    "#adicion de etiquetas con valor de relleno a un indice de una serie\n",
    "serie.reindex(['a','b','e','d','c'], fill_value=0)"
   ]
  },
  {
   "cell_type": "code",
   "execution_count": 69,
   "metadata": {},
   "outputs": [
    {
     "data": {
      "text/html": [
       "<div>\n",
       "<style scoped>\n",
       "    .dataframe tbody tr th:only-of-type {\n",
       "        vertical-align: middle;\n",
       "    }\n",
       "\n",
       "    .dataframe tbody tr th {\n",
       "        vertical-align: top;\n",
       "    }\n",
       "\n",
       "    .dataframe thead th {\n",
       "        text-align: right;\n",
       "    }\n",
       "</style>\n",
       "<table border=\"1\" class=\"dataframe\">\n",
       "  <thead>\n",
       "    <tr style=\"text-align: right;\">\n",
       "      <th></th>\n",
       "      <th>c1</th>\n",
       "      <th>c2</th>\n",
       "      <th>c3</th>\n",
       "      <th>c4</th>\n",
       "    </tr>\n",
       "  </thead>\n",
       "  <tbody>\n",
       "    <tr>\n",
       "      <th>f1</th>\n",
       "      <td>0</td>\n",
       "      <td>1</td>\n",
       "      <td>2</td>\n",
       "      <td>3</td>\n",
       "    </tr>\n",
       "    <tr>\n",
       "      <th>f3</th>\n",
       "      <td>8</td>\n",
       "      <td>9</td>\n",
       "      <td>10</td>\n",
       "      <td>11</td>\n",
       "    </tr>\n",
       "  </tbody>\n",
       "</table>\n",
       "</div>"
      ],
      "text/plain": [
       "    c1  c2  c3  c4\n",
       "f1   0   1   2   3\n",
       "f3   8   9  10  11"
      ]
     },
     "execution_count": 69,
     "metadata": {},
     "output_type": "execute_result"
    }
   ],
   "source": [
    "#seleccion de indice de filas de un DataFrame\n",
    "dataframe.reindex(['f1','f3'])"
   ]
  },
  {
   "cell_type": "code",
   "execution_count": 70,
   "metadata": {},
   "outputs": [
    {
     "data": {
      "text/html": [
       "<div>\n",
       "<style scoped>\n",
       "    .dataframe tbody tr th:only-of-type {\n",
       "        vertical-align: middle;\n",
       "    }\n",
       "\n",
       "    .dataframe tbody tr th {\n",
       "        vertical-align: top;\n",
       "    }\n",
       "\n",
       "    .dataframe thead th {\n",
       "        text-align: right;\n",
       "    }\n",
       "</style>\n",
       "<table border=\"1\" class=\"dataframe\">\n",
       "  <thead>\n",
       "    <tr style=\"text-align: right;\">\n",
       "      <th></th>\n",
       "      <th>c1</th>\n",
       "      <th>c2</th>\n",
       "      <th>c3</th>\n",
       "      <th>c4</th>\n",
       "    </tr>\n",
       "  </thead>\n",
       "  <tbody>\n",
       "    <tr>\n",
       "      <th>f1</th>\n",
       "      <td>0.0</td>\n",
       "      <td>1.0</td>\n",
       "      <td>2.0</td>\n",
       "      <td>3.0</td>\n",
       "    </tr>\n",
       "    <tr>\n",
       "      <th>f3</th>\n",
       "      <td>8.0</td>\n",
       "      <td>9.0</td>\n",
       "      <td>10.0</td>\n",
       "      <td>11.0</td>\n",
       "    </tr>\n",
       "    <tr>\n",
       "      <th>f6</th>\n",
       "      <td>NaN</td>\n",
       "      <td>NaN</td>\n",
       "      <td>NaN</td>\n",
       "      <td>NaN</td>\n",
       "    </tr>\n",
       "  </tbody>\n",
       "</table>\n",
       "</div>"
      ],
      "text/plain": [
       "     c1   c2    c3    c4\n",
       "f1  0.0  1.0   2.0   3.0\n",
       "f3  8.0  9.0  10.0  11.0\n",
       "f6  NaN  NaN   NaN   NaN"
      ]
     },
     "execution_count": 70,
     "metadata": {},
     "output_type": "execute_result"
    }
   ],
   "source": [
    "#adicion de etiquetas al indice de filas de un DataFrame\n",
    "dataframe.reindex(['f1','f3','f6'])"
   ]
  },
  {
   "cell_type": "code",
   "execution_count": 81,
   "metadata": {},
   "outputs": [
    {
     "data": {
      "text/html": [
       "<div>\n",
       "<style scoped>\n",
       "    .dataframe tbody tr th:only-of-type {\n",
       "        vertical-align: middle;\n",
       "    }\n",
       "\n",
       "    .dataframe tbody tr th {\n",
       "        vertical-align: top;\n",
       "    }\n",
       "\n",
       "    .dataframe thead th {\n",
       "        text-align: right;\n",
       "    }\n",
       "</style>\n",
       "<table border=\"1\" class=\"dataframe\">\n",
       "  <thead>\n",
       "    <tr style=\"text-align: right;\">\n",
       "      <th></th>\n",
       "      <th>c1</th>\n",
       "      <th>c2</th>\n",
       "      <th>c3</th>\n",
       "      <th>c4</th>\n",
       "    </tr>\n",
       "  </thead>\n",
       "  <tbody>\n",
       "    <tr>\n",
       "      <th>f1</th>\n",
       "      <td>0</td>\n",
       "      <td>1</td>\n",
       "      <td>2</td>\n",
       "      <td>3</td>\n",
       "    </tr>\n",
       "    <tr>\n",
       "      <th>f3</th>\n",
       "      <td>8</td>\n",
       "      <td>9</td>\n",
       "      <td>10</td>\n",
       "      <td>11</td>\n",
       "    </tr>\n",
       "    <tr>\n",
       "      <th>f10</th>\n",
       "      <td>0</td>\n",
       "      <td>1</td>\n",
       "      <td>2</td>\n",
       "      <td>3</td>\n",
       "    </tr>\n",
       "  </tbody>\n",
       "</table>\n",
       "</div>"
      ],
      "text/plain": [
       "     c1  c2  c3  c4\n",
       "f1    0   1   2   3\n",
       "f3    8   9  10  11\n",
       "f10   0   1   2   3"
      ]
     },
     "execution_count": 81,
     "metadata": {},
     "output_type": "execute_result"
    }
   ],
   "source": [
    "#adicion de etiquetas al indice de filas de un DtaFrame cin metodo de relleno\n",
    "dataframe.reindex(['f1','f3','f10'], method='ffill')"
   ]
  },
  {
   "cell_type": "code",
   "execution_count": 84,
   "metadata": {},
   "outputs": [
    {
     "data": {
      "text/html": [
       "<div>\n",
       "<style scoped>\n",
       "    .dataframe tbody tr th:only-of-type {\n",
       "        vertical-align: middle;\n",
       "    }\n",
       "\n",
       "    .dataframe tbody tr th {\n",
       "        vertical-align: top;\n",
       "    }\n",
       "\n",
       "    .dataframe thead th {\n",
       "        text-align: right;\n",
       "    }\n",
       "</style>\n",
       "<table border=\"1\" class=\"dataframe\">\n",
       "  <thead>\n",
       "    <tr style=\"text-align: right;\">\n",
       "      <th></th>\n",
       "      <th>c1</th>\n",
       "      <th>c2</th>\n",
       "      <th>c3</th>\n",
       "      <th>c4</th>\n",
       "    </tr>\n",
       "  </thead>\n",
       "  <tbody>\n",
       "    <tr>\n",
       "      <th>f1</th>\n",
       "      <td>0</td>\n",
       "      <td>1</td>\n",
       "      <td>2</td>\n",
       "      <td>3</td>\n",
       "    </tr>\n",
       "    <tr>\n",
       "      <th>f2</th>\n",
       "      <td>4</td>\n",
       "      <td>5</td>\n",
       "      <td>6</td>\n",
       "      <td>7</td>\n",
       "    </tr>\n",
       "    <tr>\n",
       "      <th>f3</th>\n",
       "      <td>8</td>\n",
       "      <td>9</td>\n",
       "      <td>10</td>\n",
       "      <td>11</td>\n",
       "    </tr>\n",
       "    <tr>\n",
       "      <th>f4</th>\n",
       "      <td>12</td>\n",
       "      <td>13</td>\n",
       "      <td>14</td>\n",
       "      <td>15</td>\n",
       "    </tr>\n",
       "  </tbody>\n",
       "</table>\n",
       "</div>"
      ],
      "text/plain": [
       "    c1  c2  c3  c4\n",
       "f1   0   1   2   3\n",
       "f2   4   5   6   7\n",
       "f3   8   9  10  11\n",
       "f4  12  13  14  15"
      ]
     },
     "execution_count": 84,
     "metadata": {},
     "output_type": "execute_result"
    }
   ],
   "source": [
    "dataframe"
   ]
  },
  {
   "cell_type": "code",
   "execution_count": 85,
   "metadata": {},
   "outputs": [
    {
     "data": {
      "text/html": [
       "<div>\n",
       "<style scoped>\n",
       "    .dataframe tbody tr th:only-of-type {\n",
       "        vertical-align: middle;\n",
       "    }\n",
       "\n",
       "    .dataframe tbody tr th {\n",
       "        vertical-align: top;\n",
       "    }\n",
       "\n",
       "    .dataframe thead th {\n",
       "        text-align: right;\n",
       "    }\n",
       "</style>\n",
       "<table border=\"1\" class=\"dataframe\">\n",
       "  <thead>\n",
       "    <tr style=\"text-align: right;\">\n",
       "      <th></th>\n",
       "      <th>c1</th>\n",
       "      <th>c2</th>\n",
       "      <th>c3</th>\n",
       "      <th>c4</th>\n",
       "    </tr>\n",
       "  </thead>\n",
       "  <tbody>\n",
       "    <tr>\n",
       "      <th>f1</th>\n",
       "      <td>0</td>\n",
       "      <td>1</td>\n",
       "      <td>2</td>\n",
       "      <td>3</td>\n",
       "    </tr>\n",
       "    <tr>\n",
       "      <th>f3</th>\n",
       "      <td>8</td>\n",
       "      <td>9</td>\n",
       "      <td>10</td>\n",
       "      <td>11</td>\n",
       "    </tr>\n",
       "    <tr>\n",
       "      <th>f10</th>\n",
       "      <td>4</td>\n",
       "      <td>5</td>\n",
       "      <td>6</td>\n",
       "      <td>7</td>\n",
       "    </tr>\n",
       "  </tbody>\n",
       "</table>\n",
       "</div>"
      ],
      "text/plain": [
       "     c1  c2  c3  c4\n",
       "f1    0   1   2   3\n",
       "f3    8   9  10  11\n",
       "f10   4   5   6   7"
      ]
     },
     "execution_count": 85,
     "metadata": {},
     "output_type": "execute_result"
    }
   ],
   "source": [
    "#adicion de etiquetas al indice de filas de un DtaFrame cin metodo de relleno\n",
    "dataframe.reindex(['f1','f3','f10'], method='bfill')"
   ]
  },
  {
   "cell_type": "code",
   "execution_count": 86,
   "metadata": {},
   "outputs": [
    {
     "data": {
      "text/html": [
       "<div>\n",
       "<style scoped>\n",
       "    .dataframe tbody tr th:only-of-type {\n",
       "        vertical-align: middle;\n",
       "    }\n",
       "\n",
       "    .dataframe tbody tr th {\n",
       "        vertical-align: top;\n",
       "    }\n",
       "\n",
       "    .dataframe thead th {\n",
       "        text-align: right;\n",
       "    }\n",
       "</style>\n",
       "<table border=\"1\" class=\"dataframe\">\n",
       "  <thead>\n",
       "    <tr style=\"text-align: right;\">\n",
       "      <th></th>\n",
       "      <th>c1</th>\n",
       "      <th>c2</th>\n",
       "      <th>c3</th>\n",
       "      <th>c4</th>\n",
       "    </tr>\n",
       "  </thead>\n",
       "  <tbody>\n",
       "    <tr>\n",
       "      <th>f1</th>\n",
       "      <td>0</td>\n",
       "      <td>1</td>\n",
       "      <td>2</td>\n",
       "      <td>3</td>\n",
       "    </tr>\n",
       "    <tr>\n",
       "      <th>f2</th>\n",
       "      <td>4</td>\n",
       "      <td>5</td>\n",
       "      <td>6</td>\n",
       "      <td>7</td>\n",
       "    </tr>\n",
       "    <tr>\n",
       "      <th>f3</th>\n",
       "      <td>8</td>\n",
       "      <td>9</td>\n",
       "      <td>10</td>\n",
       "      <td>11</td>\n",
       "    </tr>\n",
       "    <tr>\n",
       "      <th>f4</th>\n",
       "      <td>12</td>\n",
       "      <td>13</td>\n",
       "      <td>14</td>\n",
       "      <td>15</td>\n",
       "    </tr>\n",
       "  </tbody>\n",
       "</table>\n",
       "</div>"
      ],
      "text/plain": [
       "    c1  c2  c3  c4\n",
       "f1   0   1   2   3\n",
       "f2   4   5   6   7\n",
       "f3   8   9  10  11\n",
       "f4  12  13  14  15"
      ]
     },
     "execution_count": 86,
     "metadata": {},
     "output_type": "execute_result"
    }
   ],
   "source": [
    "dataframe"
   ]
  },
  {
   "cell_type": "code",
   "execution_count": 82,
   "metadata": {},
   "outputs": [
    {
     "data": {
      "text/html": [
       "<div>\n",
       "<style scoped>\n",
       "    .dataframe tbody tr th:only-of-type {\n",
       "        vertical-align: middle;\n",
       "    }\n",
       "\n",
       "    .dataframe tbody tr th {\n",
       "        vertical-align: top;\n",
       "    }\n",
       "\n",
       "    .dataframe thead th {\n",
       "        text-align: right;\n",
       "    }\n",
       "</style>\n",
       "<table border=\"1\" class=\"dataframe\">\n",
       "  <thead>\n",
       "    <tr style=\"text-align: right;\">\n",
       "      <th></th>\n",
       "      <th>c1</th>\n",
       "      <th>c3</th>\n",
       "      <th>c2</th>\n",
       "    </tr>\n",
       "  </thead>\n",
       "  <tbody>\n",
       "    <tr>\n",
       "      <th>f1</th>\n",
       "      <td>0</td>\n",
       "      <td>2</td>\n",
       "      <td>1</td>\n",
       "    </tr>\n",
       "    <tr>\n",
       "      <th>f2</th>\n",
       "      <td>4</td>\n",
       "      <td>6</td>\n",
       "      <td>5</td>\n",
       "    </tr>\n",
       "    <tr>\n",
       "      <th>f3</th>\n",
       "      <td>8</td>\n",
       "      <td>10</td>\n",
       "      <td>9</td>\n",
       "    </tr>\n",
       "    <tr>\n",
       "      <th>f4</th>\n",
       "      <td>12</td>\n",
       "      <td>14</td>\n",
       "      <td>13</td>\n",
       "    </tr>\n",
       "  </tbody>\n",
       "</table>\n",
       "</div>"
      ],
      "text/plain": [
       "    c1  c3  c2\n",
       "f1   0   2   1\n",
       "f2   4   6   5\n",
       "f3   8  10   9\n",
       "f4  12  14  13"
      ]
     },
     "execution_count": 82,
     "metadata": {},
     "output_type": "execute_result"
    }
   ],
   "source": [
    "#modificacion del indice de columnas de un DataFrame\n",
    "dataframe.reindex(columns=['c1','c3','c2'])\n"
   ]
  },
  {
   "cell_type": "markdown",
   "metadata": {},
   "source": [
    "En cualquier momento, podemos descartar el índice de un DataFrame incorporando el mismo como una columna más de nuestros datos. Esto lo haremos mediante la función <b>reset_index</b>. Esto hará que el índice pase a ser una secuencia numérica."
   ]
  },
  {
   "cell_type": "code",
   "execution_count": 87,
   "metadata": {},
   "outputs": [
    {
     "data": {
      "text/html": [
       "<div>\n",
       "<style scoped>\n",
       "    .dataframe tbody tr th:only-of-type {\n",
       "        vertical-align: middle;\n",
       "    }\n",
       "\n",
       "    .dataframe tbody tr th {\n",
       "        vertical-align: top;\n",
       "    }\n",
       "\n",
       "    .dataframe thead th {\n",
       "        text-align: right;\n",
       "    }\n",
       "</style>\n",
       "<table border=\"1\" class=\"dataframe\">\n",
       "  <thead>\n",
       "    <tr style=\"text-align: right;\">\n",
       "      <th></th>\n",
       "      <th>index</th>\n",
       "      <th>c1</th>\n",
       "      <th>c2</th>\n",
       "      <th>c3</th>\n",
       "      <th>c4</th>\n",
       "    </tr>\n",
       "  </thead>\n",
       "  <tbody>\n",
       "    <tr>\n",
       "      <th>0</th>\n",
       "      <td>f1</td>\n",
       "      <td>0</td>\n",
       "      <td>1</td>\n",
       "      <td>2</td>\n",
       "      <td>3</td>\n",
       "    </tr>\n",
       "    <tr>\n",
       "      <th>1</th>\n",
       "      <td>f2</td>\n",
       "      <td>4</td>\n",
       "      <td>5</td>\n",
       "      <td>6</td>\n",
       "      <td>7</td>\n",
       "    </tr>\n",
       "    <tr>\n",
       "      <th>2</th>\n",
       "      <td>f3</td>\n",
       "      <td>8</td>\n",
       "      <td>9</td>\n",
       "      <td>10</td>\n",
       "      <td>11</td>\n",
       "    </tr>\n",
       "    <tr>\n",
       "      <th>3</th>\n",
       "      <td>f4</td>\n",
       "      <td>12</td>\n",
       "      <td>13</td>\n",
       "      <td>14</td>\n",
       "      <td>15</td>\n",
       "    </tr>\n",
       "  </tbody>\n",
       "</table>\n",
       "</div>"
      ],
      "text/plain": [
       "  index  c1  c2  c3  c4\n",
       "0    f1   0   1   2   3\n",
       "1    f2   4   5   6   7\n",
       "2    f3   8   9  10  11\n",
       "3    f4  12  13  14  15"
      ]
     },
     "execution_count": 87,
     "metadata": {},
     "output_type": "execute_result"
    }
   ],
   "source": [
    "dataframe.reset_index()"
   ]
  },
  {
   "cell_type": "markdown",
   "metadata": {},
   "source": [
    "Del mismo modo, podemos reestablecer un conjunto de columnas como índice de un DataFrame con la función <b>set_index</b>."
   ]
  },
  {
   "cell_type": "code",
   "execution_count": 88,
   "metadata": {},
   "outputs": [
    {
     "data": {
      "text/html": [
       "<div>\n",
       "<style scoped>\n",
       "    .dataframe tbody tr th:only-of-type {\n",
       "        vertical-align: middle;\n",
       "    }\n",
       "\n",
       "    .dataframe tbody tr th {\n",
       "        vertical-align: top;\n",
       "    }\n",
       "\n",
       "    .dataframe thead th {\n",
       "        text-align: right;\n",
       "    }\n",
       "</style>\n",
       "<table border=\"1\" class=\"dataframe\">\n",
       "  <thead>\n",
       "    <tr style=\"text-align: right;\">\n",
       "      <th></th>\n",
       "      <th>c2</th>\n",
       "      <th>c3</th>\n",
       "      <th>c4</th>\n",
       "    </tr>\n",
       "    <tr>\n",
       "      <th>c1</th>\n",
       "      <th></th>\n",
       "      <th></th>\n",
       "      <th></th>\n",
       "    </tr>\n",
       "  </thead>\n",
       "  <tbody>\n",
       "    <tr>\n",
       "      <th>0</th>\n",
       "      <td>1</td>\n",
       "      <td>2</td>\n",
       "      <td>3</td>\n",
       "    </tr>\n",
       "    <tr>\n",
       "      <th>4</th>\n",
       "      <td>5</td>\n",
       "      <td>6</td>\n",
       "      <td>7</td>\n",
       "    </tr>\n",
       "    <tr>\n",
       "      <th>8</th>\n",
       "      <td>9</td>\n",
       "      <td>10</td>\n",
       "      <td>11</td>\n",
       "    </tr>\n",
       "    <tr>\n",
       "      <th>12</th>\n",
       "      <td>13</td>\n",
       "      <td>14</td>\n",
       "      <td>15</td>\n",
       "    </tr>\n",
       "  </tbody>\n",
       "</table>\n",
       "</div>"
      ],
      "text/plain": [
       "    c2  c3  c4\n",
       "c1            \n",
       "0    1   2   3\n",
       "4    5   6   7\n",
       "8    9  10  11\n",
       "12  13  14  15"
      ]
     },
     "execution_count": 88,
     "metadata": {},
     "output_type": "execute_result"
    }
   ],
   "source": [
    "dataframe.set_index(['c1'])"
   ]
  },
  {
   "cell_type": "markdown",
   "metadata": {},
   "source": [
    "Operaciones básicas (III)"
   ]
  },
  {
   "cell_type": "markdown",
   "metadata": {},
   "source": [
    "Tablas pivote\n",
    "\n",
    "Siguiendo con las funciones de gestión de índices, pandas incluye la posibilidad de gestionar los mismos como si de una Pivot Table de Excel se tratase, haciendo mucho más sencillo el análisis de información resultante."
   ]
  },
  {
   "cell_type": "code",
   "execution_count": 89,
   "metadata": {},
   "outputs": [
    {
     "data": {
      "text/html": [
       "<div>\n",
       "<style scoped>\n",
       "    .dataframe tbody tr th:only-of-type {\n",
       "        vertical-align: middle;\n",
       "    }\n",
       "\n",
       "    .dataframe tbody tr th {\n",
       "        vertical-align: top;\n",
       "    }\n",
       "\n",
       "    .dataframe thead th {\n",
       "        text-align: right;\n",
       "    }\n",
       "</style>\n",
       "<table border=\"1\" class=\"dataframe\">\n",
       "  <thead>\n",
       "    <tr style=\"text-align: right;\">\n",
       "      <th></th>\n",
       "      <th>Año</th>\n",
       "      <th>Valoración</th>\n",
       "      <th>Presupuesto</th>\n",
       "      <th>Director</th>\n",
       "      <th>Título</th>\n",
       "    </tr>\n",
       "  </thead>\n",
       "  <tbody>\n",
       "    <tr>\n",
       "      <th>0</th>\n",
       "      <td>2014</td>\n",
       "      <td>6.00</td>\n",
       "      <td>160.0</td>\n",
       "      <td>Gareth Edwards</td>\n",
       "      <td>Godzilla</td>\n",
       "    </tr>\n",
       "    <tr>\n",
       "      <th>1</th>\n",
       "      <td>2014</td>\n",
       "      <td>NaN</td>\n",
       "      <td>250.0</td>\n",
       "      <td>Peter Jackson</td>\n",
       "      <td>El Hobbit III</td>\n",
       "    </tr>\n",
       "    <tr>\n",
       "      <th>2</th>\n",
       "      <td>2013</td>\n",
       "      <td>8.75</td>\n",
       "      <td>100.0</td>\n",
       "      <td>Martin Scorsese</td>\n",
       "      <td>El lobo de Wall Street</td>\n",
       "    </tr>\n",
       "    <tr>\n",
       "      <th>3</th>\n",
       "      <td>2013</td>\n",
       "      <td>NaN</td>\n",
       "      <td>NaN</td>\n",
       "      <td>Alfonso Cuarón</td>\n",
       "      <td>Gravity</td>\n",
       "    </tr>\n",
       "    <tr>\n",
       "      <th>4</th>\n",
       "      <td>2001</td>\n",
       "      <td>8.90</td>\n",
       "      <td>93.0</td>\n",
       "      <td>Peter Jackson</td>\n",
       "      <td>Lord of the Rings</td>\n",
       "    </tr>\n",
       "  </tbody>\n",
       "</table>\n",
       "</div>"
      ],
      "text/plain": [
       "    Año  Valoración  Presupuesto         Director                  Título\n",
       "0  2014        6.00        160.0   Gareth Edwards                Godzilla\n",
       "1  2014         NaN        250.0    Peter Jackson           El Hobbit III\n",
       "2  2013        8.75        100.0  Martin Scorsese  El lobo de Wall Street\n",
       "3  2013         NaN          NaN   Alfonso Cuarón                 Gravity\n",
       "4  2001        8.90         93.0    Peter Jackson       Lord of the Rings"
      ]
     },
     "execution_count": 89,
     "metadata": {},
     "output_type": "execute_result"
    }
   ],
   "source": [
    "peliculas = pd.DataFrame(\n",
    "            {'Año':[2014, 2014, 2013, 2013, 2001], \n",
    "             'Valoración':[6, None, 8.75, None, 8.9],\n",
    "             'Presupuesto':[160, 250, 100, None, 93],\n",
    "             'Director':['Gareth Edwards', 'Peter Jackson', 'Martin Scorsese', 'Alfonso Cuarón', 'Peter Jackson'],\n",
    "             'Título':['Godzilla', 'El Hobbit III', 'El lobo de Wall Street', 'Gravity', 'Lord of the Rings']}\n",
    ")\n",
    "peliculas"
   ]
  },
  {
   "cell_type": "code",
   "execution_count": 90,
   "metadata": {},
   "outputs": [
    {
     "data": {
      "text/html": [
       "<div>\n",
       "<style scoped>\n",
       "    .dataframe tbody tr th:only-of-type {\n",
       "        vertical-align: middle;\n",
       "    }\n",
       "\n",
       "    .dataframe tbody tr th {\n",
       "        vertical-align: top;\n",
       "    }\n",
       "\n",
       "    .dataframe thead th {\n",
       "        text-align: right;\n",
       "    }\n",
       "</style>\n",
       "<table border=\"1\" class=\"dataframe\">\n",
       "  <thead>\n",
       "    <tr style=\"text-align: right;\">\n",
       "      <th>Director</th>\n",
       "      <th>Alfonso Cuarón</th>\n",
       "      <th>Gareth Edwards</th>\n",
       "      <th>Martin Scorsese</th>\n",
       "      <th>Peter Jackson</th>\n",
       "    </tr>\n",
       "    <tr>\n",
       "      <th>Año</th>\n",
       "      <th></th>\n",
       "      <th></th>\n",
       "      <th></th>\n",
       "      <th></th>\n",
       "    </tr>\n",
       "  </thead>\n",
       "  <tbody>\n",
       "    <tr>\n",
       "      <th>2001</th>\n",
       "      <td>NaN</td>\n",
       "      <td>NaN</td>\n",
       "      <td>NaN</td>\n",
       "      <td>Lord of the Rings</td>\n",
       "    </tr>\n",
       "    <tr>\n",
       "      <th>2013</th>\n",
       "      <td>Gravity</td>\n",
       "      <td>NaN</td>\n",
       "      <td>El lobo de Wall Street</td>\n",
       "      <td>NaN</td>\n",
       "    </tr>\n",
       "    <tr>\n",
       "      <th>2014</th>\n",
       "      <td>NaN</td>\n",
       "      <td>Godzilla</td>\n",
       "      <td>NaN</td>\n",
       "      <td>El Hobbit III</td>\n",
       "    </tr>\n",
       "  </tbody>\n",
       "</table>\n",
       "</div>"
      ],
      "text/plain": [
       "Director Alfonso Cuarón Gareth Edwards         Martin Scorsese  \\\n",
       "Año                                                              \n",
       "2001                NaN            NaN                     NaN   \n",
       "2013            Gravity            NaN  El lobo de Wall Street   \n",
       "2014                NaN       Godzilla                     NaN   \n",
       "\n",
       "Director      Peter Jackson  \n",
       "Año                          \n",
       "2001      Lord of the Rings  \n",
       "2013                    NaN  \n",
       "2014          El Hobbit III  "
      ]
     },
     "execution_count": 90,
     "metadata": {},
     "output_type": "execute_result"
    }
   ],
   "source": [
    "# Filas: Año, Columnas: Director, Valores: Título\n",
    "peliculas.pivot(columns = 'Director', index = 'Año', values = 'Título')"
   ]
  },
  {
   "cell_type": "markdown",
   "metadata": {},
   "source": [
    "Si bien esto mismo ya lo podíamos realizar con las operaciones vistas hasta ahora."
   ]
  },
  {
   "cell_type": "code",
   "execution_count": 91,
   "metadata": {},
   "outputs": [
    {
     "data": {
      "text/html": [
       "<div>\n",
       "<style scoped>\n",
       "    .dataframe tbody tr th:only-of-type {\n",
       "        vertical-align: middle;\n",
       "    }\n",
       "\n",
       "    .dataframe tbody tr th {\n",
       "        vertical-align: top;\n",
       "    }\n",
       "\n",
       "    .dataframe thead th {\n",
       "        text-align: right;\n",
       "    }\n",
       "</style>\n",
       "<table border=\"1\" class=\"dataframe\">\n",
       "  <thead>\n",
       "    <tr style=\"text-align: right;\">\n",
       "      <th></th>\n",
       "      <th></th>\n",
       "      <th>Valoración</th>\n",
       "      <th>Presupuesto</th>\n",
       "      <th>Título</th>\n",
       "    </tr>\n",
       "    <tr>\n",
       "      <th>Año</th>\n",
       "      <th>Director</th>\n",
       "      <th></th>\n",
       "      <th></th>\n",
       "      <th></th>\n",
       "    </tr>\n",
       "  </thead>\n",
       "  <tbody>\n",
       "    <tr>\n",
       "      <th rowspan=\"2\" valign=\"top\">2014</th>\n",
       "      <th>Gareth Edwards</th>\n",
       "      <td>6.00</td>\n",
       "      <td>160.0</td>\n",
       "      <td>Godzilla</td>\n",
       "    </tr>\n",
       "    <tr>\n",
       "      <th>Peter Jackson</th>\n",
       "      <td>NaN</td>\n",
       "      <td>250.0</td>\n",
       "      <td>El Hobbit III</td>\n",
       "    </tr>\n",
       "    <tr>\n",
       "      <th rowspan=\"2\" valign=\"top\">2013</th>\n",
       "      <th>Martin Scorsese</th>\n",
       "      <td>8.75</td>\n",
       "      <td>100.0</td>\n",
       "      <td>El lobo de Wall Street</td>\n",
       "    </tr>\n",
       "    <tr>\n",
       "      <th>Alfonso Cuarón</th>\n",
       "      <td>NaN</td>\n",
       "      <td>NaN</td>\n",
       "      <td>Gravity</td>\n",
       "    </tr>\n",
       "    <tr>\n",
       "      <th>2001</th>\n",
       "      <th>Peter Jackson</th>\n",
       "      <td>8.90</td>\n",
       "      <td>93.0</td>\n",
       "      <td>Lord of the Rings</td>\n",
       "    </tr>\n",
       "  </tbody>\n",
       "</table>\n",
       "</div>"
      ],
      "text/plain": [
       "                      Valoración  Presupuesto                  Título\n",
       "Año  Director                                                        \n",
       "2014 Gareth Edwards         6.00        160.0                Godzilla\n",
       "     Peter Jackson           NaN        250.0           El Hobbit III\n",
       "2013 Martin Scorsese        8.75        100.0  El lobo de Wall Street\n",
       "     Alfonso Cuarón          NaN          NaN                 Gravity\n",
       "2001 Peter Jackson          8.90         93.0       Lord of the Rings"
      ]
     },
     "execution_count": 91,
     "metadata": {},
     "output_type": "execute_result"
    }
   ],
   "source": [
    "# Establecemos el índice a las dos variables sobre las que queremos \"pivotar\"\n",
    "p = peliculas.set_index(['Año', 'Director'])\n",
    "p"
   ]
  },
  {
   "cell_type": "code",
   "execution_count": 92,
   "metadata": {},
   "outputs": [
    {
     "data": {
      "text/html": [
       "<div>\n",
       "<style scoped>\n",
       "    .dataframe tbody tr th:only-of-type {\n",
       "        vertical-align: middle;\n",
       "    }\n",
       "\n",
       "    .dataframe tbody tr th {\n",
       "        vertical-align: top;\n",
       "    }\n",
       "\n",
       "    .dataframe thead tr th {\n",
       "        text-align: left;\n",
       "    }\n",
       "\n",
       "    .dataframe thead tr:last-of-type th {\n",
       "        text-align: right;\n",
       "    }\n",
       "</style>\n",
       "<table border=\"1\" class=\"dataframe\">\n",
       "  <thead>\n",
       "    <tr>\n",
       "      <th></th>\n",
       "      <th colspan=\"4\" halign=\"left\">Valoración</th>\n",
       "      <th colspan=\"4\" halign=\"left\">Presupuesto</th>\n",
       "      <th colspan=\"4\" halign=\"left\">Título</th>\n",
       "    </tr>\n",
       "    <tr>\n",
       "      <th>Director</th>\n",
       "      <th>Alfonso Cuarón</th>\n",
       "      <th>Gareth Edwards</th>\n",
       "      <th>Martin Scorsese</th>\n",
       "      <th>Peter Jackson</th>\n",
       "      <th>Alfonso Cuarón</th>\n",
       "      <th>Gareth Edwards</th>\n",
       "      <th>Martin Scorsese</th>\n",
       "      <th>Peter Jackson</th>\n",
       "      <th>Alfonso Cuarón</th>\n",
       "      <th>Gareth Edwards</th>\n",
       "      <th>Martin Scorsese</th>\n",
       "      <th>Peter Jackson</th>\n",
       "    </tr>\n",
       "    <tr>\n",
       "      <th>Año</th>\n",
       "      <th></th>\n",
       "      <th></th>\n",
       "      <th></th>\n",
       "      <th></th>\n",
       "      <th></th>\n",
       "      <th></th>\n",
       "      <th></th>\n",
       "      <th></th>\n",
       "      <th></th>\n",
       "      <th></th>\n",
       "      <th></th>\n",
       "      <th></th>\n",
       "    </tr>\n",
       "  </thead>\n",
       "  <tbody>\n",
       "    <tr>\n",
       "      <th>2001</th>\n",
       "      <td>NaN</td>\n",
       "      <td>NaN</td>\n",
       "      <td>NaN</td>\n",
       "      <td>8.9</td>\n",
       "      <td>NaN</td>\n",
       "      <td>NaN</td>\n",
       "      <td>NaN</td>\n",
       "      <td>93.0</td>\n",
       "      <td>NaN</td>\n",
       "      <td>NaN</td>\n",
       "      <td>NaN</td>\n",
       "      <td>Lord of the Rings</td>\n",
       "    </tr>\n",
       "    <tr>\n",
       "      <th>2013</th>\n",
       "      <td>NaN</td>\n",
       "      <td>NaN</td>\n",
       "      <td>8.75</td>\n",
       "      <td>NaN</td>\n",
       "      <td>NaN</td>\n",
       "      <td>NaN</td>\n",
       "      <td>100.0</td>\n",
       "      <td>NaN</td>\n",
       "      <td>Gravity</td>\n",
       "      <td>NaN</td>\n",
       "      <td>El lobo de Wall Street</td>\n",
       "      <td>NaN</td>\n",
       "    </tr>\n",
       "    <tr>\n",
       "      <th>2014</th>\n",
       "      <td>NaN</td>\n",
       "      <td>6.0</td>\n",
       "      <td>NaN</td>\n",
       "      <td>NaN</td>\n",
       "      <td>NaN</td>\n",
       "      <td>160.0</td>\n",
       "      <td>NaN</td>\n",
       "      <td>250.0</td>\n",
       "      <td>NaN</td>\n",
       "      <td>Godzilla</td>\n",
       "      <td>NaN</td>\n",
       "      <td>El Hobbit III</td>\n",
       "    </tr>\n",
       "  </tbody>\n",
       "</table>\n",
       "</div>"
      ],
      "text/plain": [
       "             Valoración                                               \\\n",
       "Director Alfonso Cuarón Gareth Edwards Martin Scorsese Peter Jackson   \n",
       "Año                                                                    \n",
       "2001                NaN            NaN             NaN           8.9   \n",
       "2013                NaN            NaN            8.75           NaN   \n",
       "2014                NaN            6.0             NaN           NaN   \n",
       "\n",
       "            Presupuesto                                               \\\n",
       "Director Alfonso Cuarón Gareth Edwards Martin Scorsese Peter Jackson   \n",
       "Año                                                                    \n",
       "2001                NaN            NaN             NaN          93.0   \n",
       "2013                NaN            NaN           100.0           NaN   \n",
       "2014                NaN          160.0             NaN         250.0   \n",
       "\n",
       "                 Título                                         \\\n",
       "Director Alfonso Cuarón Gareth Edwards         Martin Scorsese   \n",
       "Año                                                              \n",
       "2001                NaN            NaN                     NaN   \n",
       "2013            Gravity            NaN  El lobo de Wall Street   \n",
       "2014                NaN       Godzilla                     NaN   \n",
       "\n",
       "                             \n",
       "Director      Peter Jackson  \n",
       "Año                          \n",
       "2001      Lord of the Rings  \n",
       "2013                    NaN  \n",
       "2014          El Hobbit III  "
      ]
     },
     "execution_count": 92,
     "metadata": {},
     "output_type": "execute_result"
    }
   ],
   "source": [
    "# Pasamos el último nivel de índice de filas a columnas\n",
    "p = p.unstack()\n",
    "p"
   ]
  },
  {
   "cell_type": "code",
   "execution_count": 93,
   "metadata": {},
   "outputs": [
    {
     "data": {
      "text/html": [
       "<div>\n",
       "<style scoped>\n",
       "    .dataframe tbody tr th:only-of-type {\n",
       "        vertical-align: middle;\n",
       "    }\n",
       "\n",
       "    .dataframe tbody tr th {\n",
       "        vertical-align: top;\n",
       "    }\n",
       "\n",
       "    .dataframe thead th {\n",
       "        text-align: right;\n",
       "    }\n",
       "</style>\n",
       "<table border=\"1\" class=\"dataframe\">\n",
       "  <thead>\n",
       "    <tr style=\"text-align: right;\">\n",
       "      <th>Director</th>\n",
       "      <th>Alfonso Cuarón</th>\n",
       "      <th>Gareth Edwards</th>\n",
       "      <th>Martin Scorsese</th>\n",
       "      <th>Peter Jackson</th>\n",
       "    </tr>\n",
       "    <tr>\n",
       "      <th>Año</th>\n",
       "      <th></th>\n",
       "      <th></th>\n",
       "      <th></th>\n",
       "      <th></th>\n",
       "    </tr>\n",
       "  </thead>\n",
       "  <tbody>\n",
       "    <tr>\n",
       "      <th>2001</th>\n",
       "      <td>NaN</td>\n",
       "      <td>NaN</td>\n",
       "      <td>NaN</td>\n",
       "      <td>Lord of the Rings</td>\n",
       "    </tr>\n",
       "    <tr>\n",
       "      <th>2013</th>\n",
       "      <td>Gravity</td>\n",
       "      <td>NaN</td>\n",
       "      <td>El lobo de Wall Street</td>\n",
       "      <td>NaN</td>\n",
       "    </tr>\n",
       "    <tr>\n",
       "      <th>2014</th>\n",
       "      <td>NaN</td>\n",
       "      <td>Godzilla</td>\n",
       "      <td>NaN</td>\n",
       "      <td>El Hobbit III</td>\n",
       "    </tr>\n",
       "  </tbody>\n",
       "</table>\n",
       "</div>"
      ],
      "text/plain": [
       "Director Alfonso Cuarón Gareth Edwards         Martin Scorsese  \\\n",
       "Año                                                              \n",
       "2001                NaN            NaN                     NaN   \n",
       "2013            Gravity            NaN  El lobo de Wall Street   \n",
       "2014                NaN       Godzilla                     NaN   \n",
       "\n",
       "Director      Peter Jackson  \n",
       "Año                          \n",
       "2001      Lord of the Rings  \n",
       "2013                    NaN  \n",
       "2014          El Hobbit III  "
      ]
     },
     "execution_count": 93,
     "metadata": {},
     "output_type": "execute_result"
    }
   ],
   "source": [
    "# Elegimos únicamente el valor de la columna Título\n",
    "p['Título']"
   ]
  },
  {
   "cell_type": "markdown",
   "metadata": {},
   "source": [
    "También podemos crear tablas pivote utilizando una función de agregación para los valores, de forma que se haga una agrupación de resultados."
   ]
  },
  {
   "cell_type": "code",
   "execution_count": 94,
   "metadata": {},
   "outputs": [
    {
     "data": {
      "text/html": [
       "<div>\n",
       "<style scoped>\n",
       "    .dataframe tbody tr th:only-of-type {\n",
       "        vertical-align: middle;\n",
       "    }\n",
       "\n",
       "    .dataframe tbody tr th {\n",
       "        vertical-align: top;\n",
       "    }\n",
       "\n",
       "    .dataframe thead th {\n",
       "        text-align: right;\n",
       "    }\n",
       "</style>\n",
       "<table border=\"1\" class=\"dataframe\">\n",
       "  <thead>\n",
       "    <tr style=\"text-align: right;\">\n",
       "      <th></th>\n",
       "      <th>Año</th>\n",
       "      <th>Valoración</th>\n",
       "      <th>Presupuesto</th>\n",
       "      <th>Director</th>\n",
       "      <th>Título</th>\n",
       "    </tr>\n",
       "  </thead>\n",
       "  <tbody>\n",
       "    <tr>\n",
       "      <th>0</th>\n",
       "      <td>2014</td>\n",
       "      <td>6.00</td>\n",
       "      <td>160.0</td>\n",
       "      <td>Gareth Edwards</td>\n",
       "      <td>Godzilla</td>\n",
       "    </tr>\n",
       "    <tr>\n",
       "      <th>1</th>\n",
       "      <td>2014</td>\n",
       "      <td>NaN</td>\n",
       "      <td>250.0</td>\n",
       "      <td>Peter Jackson</td>\n",
       "      <td>El Hobbit III</td>\n",
       "    </tr>\n",
       "    <tr>\n",
       "      <th>2</th>\n",
       "      <td>2013</td>\n",
       "      <td>8.75</td>\n",
       "      <td>100.0</td>\n",
       "      <td>Martin Scorsese</td>\n",
       "      <td>El lobo de Wall Street</td>\n",
       "    </tr>\n",
       "    <tr>\n",
       "      <th>3</th>\n",
       "      <td>2013</td>\n",
       "      <td>NaN</td>\n",
       "      <td>NaN</td>\n",
       "      <td>Alfonso Cuarón</td>\n",
       "      <td>Gravity</td>\n",
       "    </tr>\n",
       "    <tr>\n",
       "      <th>4</th>\n",
       "      <td>2001</td>\n",
       "      <td>8.90</td>\n",
       "      <td>93.0</td>\n",
       "      <td>Peter Jackson</td>\n",
       "      <td>Lord of the Rings</td>\n",
       "    </tr>\n",
       "  </tbody>\n",
       "</table>\n",
       "</div>"
      ],
      "text/plain": [
       "    Año  Valoración  Presupuesto         Director                  Título\n",
       "0  2014        6.00        160.0   Gareth Edwards                Godzilla\n",
       "1  2014         NaN        250.0    Peter Jackson           El Hobbit III\n",
       "2  2013        8.75        100.0  Martin Scorsese  El lobo de Wall Street\n",
       "3  2013         NaN          NaN   Alfonso Cuarón                 Gravity\n",
       "4  2001        8.90         93.0    Peter Jackson       Lord of the Rings"
      ]
     },
     "execution_count": 94,
     "metadata": {},
     "output_type": "execute_result"
    }
   ],
   "source": [
    "peliculas"
   ]
  },
  {
   "cell_type": "code",
   "execution_count": 95,
   "metadata": {},
   "outputs": [
    {
     "data": {
      "text/plain": [
       "4    2001\n",
       "Name: Año, dtype: int64"
      ]
     },
     "execution_count": 95,
     "metadata": {},
     "output_type": "execute_result"
    }
   ],
   "source": [
    "peliculas.loc[peliculas['Año'] == 2001, 'Año']"
   ]
  },
  {
   "cell_type": "code",
   "execution_count": 96,
   "metadata": {},
   "outputs": [
    {
     "data": {
      "text/html": [
       "<div>\n",
       "<style scoped>\n",
       "    .dataframe tbody tr th:only-of-type {\n",
       "        vertical-align: middle;\n",
       "    }\n",
       "\n",
       "    .dataframe tbody tr th {\n",
       "        vertical-align: top;\n",
       "    }\n",
       "\n",
       "    .dataframe thead th {\n",
       "        text-align: right;\n",
       "    }\n",
       "</style>\n",
       "<table border=\"1\" class=\"dataframe\">\n",
       "  <thead>\n",
       "    <tr style=\"text-align: right;\">\n",
       "      <th></th>\n",
       "      <th>Año</th>\n",
       "      <th>Valoración</th>\n",
       "      <th>Presupuesto</th>\n",
       "      <th>Director</th>\n",
       "      <th>Título</th>\n",
       "    </tr>\n",
       "  </thead>\n",
       "  <tbody>\n",
       "    <tr>\n",
       "      <th>0</th>\n",
       "      <td>2014</td>\n",
       "      <td>6.00</td>\n",
       "      <td>160.0</td>\n",
       "      <td>Gareth Edwards</td>\n",
       "      <td>Godzilla</td>\n",
       "    </tr>\n",
       "    <tr>\n",
       "      <th>1</th>\n",
       "      <td>2014</td>\n",
       "      <td>NaN</td>\n",
       "      <td>250.0</td>\n",
       "      <td>Peter Jackson</td>\n",
       "      <td>El Hobbit III</td>\n",
       "    </tr>\n",
       "    <tr>\n",
       "      <th>2</th>\n",
       "      <td>2013</td>\n",
       "      <td>8.75</td>\n",
       "      <td>100.0</td>\n",
       "      <td>Martin Scorsese</td>\n",
       "      <td>El lobo de Wall Street</td>\n",
       "    </tr>\n",
       "    <tr>\n",
       "      <th>3</th>\n",
       "      <td>2013</td>\n",
       "      <td>NaN</td>\n",
       "      <td>NaN</td>\n",
       "      <td>Alfonso Cuarón</td>\n",
       "      <td>Gravity</td>\n",
       "    </tr>\n",
       "    <tr>\n",
       "      <th>4</th>\n",
       "      <td>2014</td>\n",
       "      <td>8.90</td>\n",
       "      <td>93.0</td>\n",
       "      <td>Peter Jackson</td>\n",
       "      <td>Lord of the Rings</td>\n",
       "    </tr>\n",
       "  </tbody>\n",
       "</table>\n",
       "</div>"
      ],
      "text/plain": [
       "    Año  Valoración  Presupuesto         Director                  Título\n",
       "0  2014        6.00        160.0   Gareth Edwards                Godzilla\n",
       "1  2014         NaN        250.0    Peter Jackson           El Hobbit III\n",
       "2  2013        8.75        100.0  Martin Scorsese  El lobo de Wall Street\n",
       "3  2013         NaN          NaN   Alfonso Cuarón                 Gravity\n",
       "4  2014        8.90         93.0    Peter Jackson       Lord of the Rings"
      ]
     },
     "execution_count": 96,
     "metadata": {},
     "output_type": "execute_result"
    }
   ],
   "source": [
    "# Hacemos que haya dos películas para el mismo año y director\n",
    "peliculas.loc[peliculas['Año'] == 2001, 'Año'] = 2014\n",
    "peliculas"
   ]
  },
  {
   "cell_type": "code",
   "execution_count": 97,
   "metadata": {},
   "outputs": [
    {
     "data": {
      "text/html": [
       "<div>\n",
       "<style scoped>\n",
       "    .dataframe tbody tr th:only-of-type {\n",
       "        vertical-align: middle;\n",
       "    }\n",
       "\n",
       "    .dataframe tbody tr th {\n",
       "        vertical-align: top;\n",
       "    }\n",
       "\n",
       "    .dataframe thead th {\n",
       "        text-align: right;\n",
       "    }\n",
       "</style>\n",
       "<table border=\"1\" class=\"dataframe\">\n",
       "  <thead>\n",
       "    <tr style=\"text-align: right;\">\n",
       "      <th>Año</th>\n",
       "      <th>2013</th>\n",
       "      <th>2014</th>\n",
       "    </tr>\n",
       "    <tr>\n",
       "      <th>Director</th>\n",
       "      <th></th>\n",
       "      <th></th>\n",
       "    </tr>\n",
       "  </thead>\n",
       "  <tbody>\n",
       "    <tr>\n",
       "      <th>Alfonso Cuarón</th>\n",
       "      <td>0.0</td>\n",
       "      <td>NaN</td>\n",
       "    </tr>\n",
       "    <tr>\n",
       "      <th>Gareth Edwards</th>\n",
       "      <td>NaN</td>\n",
       "      <td>160.0</td>\n",
       "    </tr>\n",
       "    <tr>\n",
       "      <th>Martin Scorsese</th>\n",
       "      <td>100.0</td>\n",
       "      <td>NaN</td>\n",
       "    </tr>\n",
       "    <tr>\n",
       "      <th>Peter Jackson</th>\n",
       "      <td>NaN</td>\n",
       "      <td>343.0</td>\n",
       "    </tr>\n",
       "  </tbody>\n",
       "</table>\n",
       "</div>"
      ],
      "text/plain": [
       "Año               2013   2014\n",
       "Director                     \n",
       "Alfonso Cuarón     0.0    NaN\n",
       "Gareth Edwards     NaN  160.0\n",
       "Martin Scorsese  100.0    NaN\n",
       "Peter Jackson      NaN  343.0"
      ]
     },
     "execution_count": 97,
     "metadata": {},
     "output_type": "execute_result"
    }
   ],
   "source": [
    "# Utilizamos la función pivot_table para establecer: valor, índice, columnas y función de agregación en caso de colisión\n",
    "pd.pivot_table(peliculas, values='Presupuesto', index=['Director'], columns=['Año'], aggfunc=np.sum)"
   ]
  },
  {
   "cell_type": "markdown",
   "metadata": {},
   "source": [
    "Eliminación de filas y/o columnas en pandas\n",
    "\n",
    "Aunque el proceso de eliminación de columnas se puede hacer mediante la aplicación de los mismos métodos que en el caso de diccionarios, pandas pone a nuestra disposición el método <b>drop</b>."
   ]
  },
  {
   "cell_type": "code",
   "execution_count": 98,
   "metadata": {},
   "outputs": [
    {
     "data": {
      "text/plain": [
       "a    1\n",
       "b    2\n",
       "c    3\n",
       "d    4\n",
       "dtype: int64"
      ]
     },
     "execution_count": 98,
     "metadata": {},
     "output_type": "execute_result"
    }
   ],
   "source": [
    "serie = pd.Series([1,2,3,4], index=['a','b','c','d'])\n",
    "serie"
   ]
  },
  {
   "cell_type": "code",
   "execution_count": 99,
   "metadata": {},
   "outputs": [
    {
     "data": {
      "text/html": [
       "<div>\n",
       "<style scoped>\n",
       "    .dataframe tbody tr th:only-of-type {\n",
       "        vertical-align: middle;\n",
       "    }\n",
       "\n",
       "    .dataframe tbody tr th {\n",
       "        vertical-align: top;\n",
       "    }\n",
       "\n",
       "    .dataframe thead th {\n",
       "        text-align: right;\n",
       "    }\n",
       "</style>\n",
       "<table border=\"1\" class=\"dataframe\">\n",
       "  <thead>\n",
       "    <tr style=\"text-align: right;\">\n",
       "      <th></th>\n",
       "      <th>c1</th>\n",
       "      <th>c2</th>\n",
       "      <th>c3</th>\n",
       "      <th>c4</th>\n",
       "    </tr>\n",
       "  </thead>\n",
       "  <tbody>\n",
       "    <tr>\n",
       "      <th>f1</th>\n",
       "      <td>0</td>\n",
       "      <td>1</td>\n",
       "      <td>2</td>\n",
       "      <td>3</td>\n",
       "    </tr>\n",
       "    <tr>\n",
       "      <th>f2</th>\n",
       "      <td>4</td>\n",
       "      <td>5</td>\n",
       "      <td>6</td>\n",
       "      <td>7</td>\n",
       "    </tr>\n",
       "    <tr>\n",
       "      <th>f3</th>\n",
       "      <td>8</td>\n",
       "      <td>9</td>\n",
       "      <td>10</td>\n",
       "      <td>11</td>\n",
       "    </tr>\n",
       "    <tr>\n",
       "      <th>f4</th>\n",
       "      <td>12</td>\n",
       "      <td>13</td>\n",
       "      <td>14</td>\n",
       "      <td>15</td>\n",
       "    </tr>\n",
       "  </tbody>\n",
       "</table>\n",
       "</div>"
      ],
      "text/plain": [
       "    c1  c2  c3  c4\n",
       "f1   0   1   2   3\n",
       "f2   4   5   6   7\n",
       "f3   8   9  10  11\n",
       "f4  12  13  14  15"
      ]
     },
     "execution_count": 99,
     "metadata": {},
     "output_type": "execute_result"
    }
   ],
   "source": [
    "dataframe = pd.DataFrame(np.arange(16).reshape(4, 4), index=['f1', 'f2', 'f3', 'f4'], columns=['c1','c2','c3','c4'])\n",
    "dataframe"
   ]
  },
  {
   "cell_type": "code",
   "execution_count": 100,
   "metadata": {},
   "outputs": [
    {
     "data": {
      "text/plain": [
       "b    2\n",
       "c    3\n",
       "d    4\n",
       "dtype: int64"
      ]
     },
     "execution_count": 100,
     "metadata": {},
     "output_type": "execute_result"
    }
   ],
   "source": [
    "# Eliminación de valores de una Serie\n",
    "serie.drop('a')"
   ]
  },
  {
   "cell_type": "code",
   "execution_count": 101,
   "metadata": {},
   "outputs": [],
   "source": [
    "del serie['b']"
   ]
  },
  {
   "cell_type": "code",
   "execution_count": 102,
   "metadata": {},
   "outputs": [
    {
     "data": {
      "text/plain": [
       "a    1\n",
       "c    3\n",
       "d    4\n",
       "dtype: int64"
      ]
     },
     "execution_count": 102,
     "metadata": {},
     "output_type": "execute_result"
    }
   ],
   "source": [
    "serie"
   ]
  },
  {
   "cell_type": "code",
   "execution_count": 103,
   "metadata": {},
   "outputs": [
    {
     "data": {
      "text/html": [
       "<div>\n",
       "<style scoped>\n",
       "    .dataframe tbody tr th:only-of-type {\n",
       "        vertical-align: middle;\n",
       "    }\n",
       "\n",
       "    .dataframe tbody tr th {\n",
       "        vertical-align: top;\n",
       "    }\n",
       "\n",
       "    .dataframe thead th {\n",
       "        text-align: right;\n",
       "    }\n",
       "</style>\n",
       "<table border=\"1\" class=\"dataframe\">\n",
       "  <thead>\n",
       "    <tr style=\"text-align: right;\">\n",
       "      <th></th>\n",
       "      <th>c1</th>\n",
       "      <th>c2</th>\n",
       "      <th>c3</th>\n",
       "      <th>c4</th>\n",
       "    </tr>\n",
       "  </thead>\n",
       "  <tbody>\n",
       "    <tr>\n",
       "      <th>f3</th>\n",
       "      <td>8</td>\n",
       "      <td>9</td>\n",
       "      <td>10</td>\n",
       "      <td>11</td>\n",
       "    </tr>\n",
       "    <tr>\n",
       "      <th>f4</th>\n",
       "      <td>12</td>\n",
       "      <td>13</td>\n",
       "      <td>14</td>\n",
       "      <td>15</td>\n",
       "    </tr>\n",
       "  </tbody>\n",
       "</table>\n",
       "</div>"
      ],
      "text/plain": [
       "    c1  c2  c3  c4\n",
       "f3   8   9  10  11\n",
       "f4  12  13  14  15"
      ]
     },
     "execution_count": 103,
     "metadata": {},
     "output_type": "execute_result"
    }
   ],
   "source": [
    "# Eliminación de filas de un DataFrame\n",
    "dataframe.drop(['f1',  'f2'])"
   ]
  },
  {
   "cell_type": "code",
   "execution_count": 104,
   "metadata": {},
   "outputs": [
    {
     "data": {
      "text/html": [
       "<div>\n",
       "<style scoped>\n",
       "    .dataframe tbody tr th:only-of-type {\n",
       "        vertical-align: middle;\n",
       "    }\n",
       "\n",
       "    .dataframe tbody tr th {\n",
       "        vertical-align: top;\n",
       "    }\n",
       "\n",
       "    .dataframe thead th {\n",
       "        text-align: right;\n",
       "    }\n",
       "</style>\n",
       "<table border=\"1\" class=\"dataframe\">\n",
       "  <thead>\n",
       "    <tr style=\"text-align: right;\">\n",
       "      <th></th>\n",
       "      <th>c1</th>\n",
       "      <th>c2</th>\n",
       "      <th>c3</th>\n",
       "      <th>c4</th>\n",
       "    </tr>\n",
       "  </thead>\n",
       "  <tbody>\n",
       "    <tr>\n",
       "      <th>f1</th>\n",
       "      <td>0</td>\n",
       "      <td>1</td>\n",
       "      <td>2</td>\n",
       "      <td>3</td>\n",
       "    </tr>\n",
       "    <tr>\n",
       "      <th>f2</th>\n",
       "      <td>4</td>\n",
       "      <td>5</td>\n",
       "      <td>6</td>\n",
       "      <td>7</td>\n",
       "    </tr>\n",
       "    <tr>\n",
       "      <th>f3</th>\n",
       "      <td>8</td>\n",
       "      <td>9</td>\n",
       "      <td>10</td>\n",
       "      <td>11</td>\n",
       "    </tr>\n",
       "    <tr>\n",
       "      <th>f4</th>\n",
       "      <td>12</td>\n",
       "      <td>13</td>\n",
       "      <td>14</td>\n",
       "      <td>15</td>\n",
       "    </tr>\n",
       "  </tbody>\n",
       "</table>\n",
       "</div>"
      ],
      "text/plain": [
       "    c1  c2  c3  c4\n",
       "f1   0   1   2   3\n",
       "f2   4   5   6   7\n",
       "f3   8   9  10  11\n",
       "f4  12  13  14  15"
      ]
     },
     "execution_count": 104,
     "metadata": {},
     "output_type": "execute_result"
    }
   ],
   "source": [
    "dataframe"
   ]
  },
  {
   "cell_type": "code",
   "execution_count": 105,
   "metadata": {},
   "outputs": [
    {
     "data": {
      "text/html": [
       "<div>\n",
       "<style scoped>\n",
       "    .dataframe tbody tr th:only-of-type {\n",
       "        vertical-align: middle;\n",
       "    }\n",
       "\n",
       "    .dataframe tbody tr th {\n",
       "        vertical-align: top;\n",
       "    }\n",
       "\n",
       "    .dataframe thead th {\n",
       "        text-align: right;\n",
       "    }\n",
       "</style>\n",
       "<table border=\"1\" class=\"dataframe\">\n",
       "  <thead>\n",
       "    <tr style=\"text-align: right;\">\n",
       "      <th></th>\n",
       "      <th>c1</th>\n",
       "      <th>c3</th>\n",
       "      <th>c4</th>\n",
       "    </tr>\n",
       "  </thead>\n",
       "  <tbody>\n",
       "    <tr>\n",
       "      <th>f1</th>\n",
       "      <td>0</td>\n",
       "      <td>2</td>\n",
       "      <td>3</td>\n",
       "    </tr>\n",
       "    <tr>\n",
       "      <th>f2</th>\n",
       "      <td>4</td>\n",
       "      <td>6</td>\n",
       "      <td>7</td>\n",
       "    </tr>\n",
       "    <tr>\n",
       "      <th>f3</th>\n",
       "      <td>8</td>\n",
       "      <td>10</td>\n",
       "      <td>11</td>\n",
       "    </tr>\n",
       "    <tr>\n",
       "      <th>f4</th>\n",
       "      <td>12</td>\n",
       "      <td>14</td>\n",
       "      <td>15</td>\n",
       "    </tr>\n",
       "  </tbody>\n",
       "</table>\n",
       "</div>"
      ],
      "text/plain": [
       "    c1  c3  c4\n",
       "f1   0   2   3\n",
       "f2   4   6   7\n",
       "f3   8  10  11\n",
       "f4  12  14  15"
      ]
     },
     "execution_count": 105,
     "metadata": {},
     "output_type": "execute_result"
    }
   ],
   "source": [
    "# Eliminación de columnas de un DataFrame\n",
    "dataframe.drop('c2', axis=1)"
   ]
  },
  {
   "cell_type": "code",
   "execution_count": 106,
   "metadata": {},
   "outputs": [
    {
     "data": {
      "text/html": [
       "<div>\n",
       "<style scoped>\n",
       "    .dataframe tbody tr th:only-of-type {\n",
       "        vertical-align: middle;\n",
       "    }\n",
       "\n",
       "    .dataframe tbody tr th {\n",
       "        vertical-align: top;\n",
       "    }\n",
       "\n",
       "    .dataframe thead th {\n",
       "        text-align: right;\n",
       "    }\n",
       "</style>\n",
       "<table border=\"1\" class=\"dataframe\">\n",
       "  <thead>\n",
       "    <tr style=\"text-align: right;\">\n",
       "      <th></th>\n",
       "      <th>c1</th>\n",
       "      <th>c2</th>\n",
       "      <th>c3</th>\n",
       "      <th>c4</th>\n",
       "    </tr>\n",
       "  </thead>\n",
       "  <tbody>\n",
       "    <tr>\n",
       "      <th>f1</th>\n",
       "      <td>0</td>\n",
       "      <td>1</td>\n",
       "      <td>2</td>\n",
       "      <td>3</td>\n",
       "    </tr>\n",
       "    <tr>\n",
       "      <th>f2</th>\n",
       "      <td>4</td>\n",
       "      <td>5</td>\n",
       "      <td>6</td>\n",
       "      <td>7</td>\n",
       "    </tr>\n",
       "    <tr>\n",
       "      <th>f3</th>\n",
       "      <td>8</td>\n",
       "      <td>9</td>\n",
       "      <td>10</td>\n",
       "      <td>11</td>\n",
       "    </tr>\n",
       "    <tr>\n",
       "      <th>f4</th>\n",
       "      <td>12</td>\n",
       "      <td>13</td>\n",
       "      <td>14</td>\n",
       "      <td>15</td>\n",
       "    </tr>\n",
       "  </tbody>\n",
       "</table>\n",
       "</div>"
      ],
      "text/plain": [
       "    c1  c2  c3  c4\n",
       "f1   0   1   2   3\n",
       "f2   4   5   6   7\n",
       "f3   8   9  10  11\n",
       "f4  12  13  14  15"
      ]
     },
     "execution_count": 106,
     "metadata": {},
     "output_type": "execute_result"
    }
   ],
   "source": [
    "dataframe"
   ]
  },
  {
   "cell_type": "markdown",
   "metadata": {},
   "source": [
    "Aritmética con estructuras de pandas\n",
    "\n",
    "Aunque, como ya se ha visto, podemos aprovechar la compatibilidad con NumPy para llevar a cabo operaciones aritméticas básicas, estas operaciones aplican el proceso de \"alineación\" de índices introduciendo valores NaN en los resultados cuando no hay coincidencia de claves. Para solucionar este problema, pandas nos ofrece algunas funciones de utilidad para las más básicas (suma, resta, multiplicación y división) que permiten establecer un valor de \"relleno\" en el caso de claves no coincidentes"
   ]
  },
  {
   "cell_type": "code",
   "execution_count": 107,
   "metadata": {},
   "outputs": [
    {
     "data": {
      "text/plain": [
       "a    1\n",
       "b    2\n",
       "c    3\n",
       "d    4\n",
       "dtype: int64"
      ]
     },
     "execution_count": 107,
     "metadata": {},
     "output_type": "execute_result"
    }
   ],
   "source": [
    "serie1 = pd.Series([1, 2, 3, 4], index=['a', 'b', 'c', 'd'])\n",
    "serie1"
   ]
  },
  {
   "cell_type": "code",
   "execution_count": 108,
   "metadata": {},
   "outputs": [
    {
     "data": {
      "text/plain": [
       "c    5\n",
       "d    6\n",
       "e    7\n",
       "f    8\n",
       "dtype: int64"
      ]
     },
     "execution_count": 108,
     "metadata": {},
     "output_type": "execute_result"
    }
   ],
   "source": [
    "serie2 = pd.Series([5, 6, 7, 8], index=['c', 'd', 'e', 'f'])\n",
    "serie2"
   ]
  },
  {
   "cell_type": "code",
   "execution_count": 109,
   "metadata": {},
   "outputs": [
    {
     "data": {
      "text/plain": [
       "a     NaN\n",
       "b     NaN\n",
       "c     8.0\n",
       "d    10.0\n",
       "e     NaN\n",
       "f     NaN\n",
       "dtype: float64"
      ]
     },
     "execution_count": 109,
     "metadata": {},
     "output_type": "execute_result"
    }
   ],
   "source": [
    "# Resultado de operación básica\"\n",
    "serie1 + serie2"
   ]
  },
  {
   "cell_type": "code",
   "execution_count": 110,
   "metadata": {},
   "outputs": [
    {
     "data": {
      "text/plain": [
       "a     NaN\n",
       "b     NaN\n",
       "c     8.0\n",
       "d    10.0\n",
       "e     NaN\n",
       "f     NaN\n",
       "dtype: float64"
      ]
     },
     "execution_count": 110,
     "metadata": {},
     "output_type": "execute_result"
    }
   ],
   "source": [
    "# Resultado con operación pandas\n",
    "serie1.add(serie2)"
   ]
  },
  {
   "cell_type": "code",
   "execution_count": 111,
   "metadata": {},
   "outputs": [
    {
     "data": {
      "text/plain": [
       "a     1.0\n",
       "b     2.0\n",
       "c     8.0\n",
       "d    10.0\n",
       "e     7.0\n",
       "f     8.0\n",
       "dtype: float64"
      ]
     },
     "execution_count": 111,
     "metadata": {},
     "output_type": "execute_result"
    }
   ],
   "source": [
    "# Resultado con operación pandas y relleno\n",
    "serie1.add(serie2, fill_value=0)"
   ]
  },
  {
   "cell_type": "code",
   "execution_count": 112,
   "metadata": {},
   "outputs": [
    {
     "data": {
      "text/plain": [
       "a    1.0\n",
       "b    2.0\n",
       "c   -2.0\n",
       "d   -2.0\n",
       "e   -7.0\n",
       "f   -8.0\n",
       "dtype: float64"
      ]
     },
     "execution_count": 112,
     "metadata": {},
     "output_type": "execute_result"
    }
   ],
   "source": [
    "serie1.sub(serie2, fill_value=0)"
   ]
  },
  {
   "cell_type": "code",
   "execution_count": 113,
   "metadata": {},
   "outputs": [
    {
     "data": {
      "text/plain": [
       "a     0.0\n",
       "b     0.0\n",
       "c    15.0\n",
       "d    24.0\n",
       "e     0.0\n",
       "f     0.0\n",
       "dtype: float64"
      ]
     },
     "execution_count": 113,
     "metadata": {},
     "output_type": "execute_result"
    }
   ],
   "source": [
    "serie1.mul(serie2, fill_value=0)"
   ]
  },
  {
   "cell_type": "code",
   "execution_count": 114,
   "metadata": {},
   "outputs": [
    {
     "data": {
      "text/plain": [
       "a         inf\n",
       "b         inf\n",
       "c    0.600000\n",
       "d    0.666667\n",
       "e    0.000000\n",
       "f    0.000000\n",
       "dtype: float64"
      ]
     },
     "execution_count": 114,
     "metadata": {},
     "output_type": "execute_result"
    }
   ],
   "source": [
    "serie1.div(serie2, fill_value=0)"
   ]
  },
  {
   "cell_type": "markdown",
   "metadata": {},
   "source": [
    "Ordenación en estructuras de pandas\n",
    "\n",
    "pandas pone a nuestra disposición varias formas de realizar ordenaciones de los contenidos de una Serie o un DataFrame. Vamos a ver los más utilizados."
   ]
  },
  {
   "cell_type": "markdown",
   "metadata": {},
   "source": [
    "Ordenación en Series"
   ]
  },
  {
   "cell_type": "code",
   "execution_count": 115,
   "metadata": {},
   "outputs": [
    {
     "data": {
      "text/plain": [
       "d    3\n",
       "a    2\n",
       "c    1\n",
       "b    4\n",
       "dtype: int64"
      ]
     },
     "execution_count": 115,
     "metadata": {},
     "output_type": "execute_result"
    }
   ],
   "source": [
    "serie = pd.Series([3, 2, 1, 4], index=['d', 'a', 'c', 'b'])\n",
    "serie"
   ]
  },
  {
   "cell_type": "code",
   "execution_count": 116,
   "metadata": {},
   "outputs": [
    {
     "data": {
      "text/plain": [
       "a    2\n",
       "b    4\n",
       "c    1\n",
       "d    3\n",
       "dtype: int64"
      ]
     },
     "execution_count": 116,
     "metadata": {},
     "output_type": "execute_result"
    }
   ],
   "source": [
    "# Ordenación por índice\n",
    "serie.sort_index()"
   ]
  },
  {
   "cell_type": "code",
   "execution_count": 117,
   "metadata": {},
   "outputs": [
    {
     "data": {
      "text/plain": [
       "d    3\n",
       "c    1\n",
       "b    4\n",
       "a    2\n",
       "dtype: int64"
      ]
     },
     "execution_count": 117,
     "metadata": {},
     "output_type": "execute_result"
    }
   ],
   "source": [
    "# Ordenación descendente por índice\n",
    "serie.sort_index(ascending=False)"
   ]
  },
  {
   "cell_type": "code",
   "execution_count": 118,
   "metadata": {},
   "outputs": [
    {
     "data": {
      "text/plain": [
       "c    1\n",
       "a    2\n",
       "d    3\n",
       "b    4\n",
       "dtype: int64"
      ]
     },
     "execution_count": 118,
     "metadata": {},
     "output_type": "execute_result"
    }
   ],
   "source": [
    "# Ordenación por valores\n",
    "serie.sort_values()"
   ]
  },
  {
   "cell_type": "code",
   "execution_count": 119,
   "metadata": {},
   "outputs": [
    {
     "data": {
      "text/plain": [
       "b    4\n",
       "d    3\n",
       "a    2\n",
       "c    1\n",
       "dtype: int64"
      ]
     },
     "execution_count": 119,
     "metadata": {},
     "output_type": "execute_result"
    }
   ],
   "source": [
    "# Ordenación por valores descendente\n",
    "serie.sort_values(ascending=False)"
   ]
  },
  {
   "cell_type": "markdown",
   "metadata": {},
   "source": [
    "Ordenación en DataFrames"
   ]
  },
  {
   "cell_type": "code",
   "execution_count": 120,
   "metadata": {},
   "outputs": [
    {
     "data": {
      "text/html": [
       "<div>\n",
       "<style scoped>\n",
       "    .dataframe tbody tr th:only-of-type {\n",
       "        vertical-align: middle;\n",
       "    }\n",
       "\n",
       "    .dataframe tbody tr th {\n",
       "        vertical-align: top;\n",
       "    }\n",
       "\n",
       "    .dataframe thead th {\n",
       "        text-align: right;\n",
       "    }\n",
       "</style>\n",
       "<table border=\"1\" class=\"dataframe\">\n",
       "  <thead>\n",
       "    <tr style=\"text-align: right;\">\n",
       "      <th></th>\n",
       "      <th>c3</th>\n",
       "      <th>c1</th>\n",
       "      <th>c4</th>\n",
       "      <th>c2</th>\n",
       "    </tr>\n",
       "  </thead>\n",
       "  <tbody>\n",
       "    <tr>\n",
       "      <th>f3</th>\n",
       "      <td>0</td>\n",
       "      <td>1</td>\n",
       "      <td>2</td>\n",
       "      <td>3</td>\n",
       "    </tr>\n",
       "    <tr>\n",
       "      <th>f1</th>\n",
       "      <td>4</td>\n",
       "      <td>5</td>\n",
       "      <td>6</td>\n",
       "      <td>7</td>\n",
       "    </tr>\n",
       "    <tr>\n",
       "      <th>f4</th>\n",
       "      <td>8</td>\n",
       "      <td>9</td>\n",
       "      <td>10</td>\n",
       "      <td>11</td>\n",
       "    </tr>\n",
       "    <tr>\n",
       "      <th>f2</th>\n",
       "      <td>12</td>\n",
       "      <td>13</td>\n",
       "      <td>14</td>\n",
       "      <td>15</td>\n",
       "    </tr>\n",
       "  </tbody>\n",
       "</table>\n",
       "</div>"
      ],
      "text/plain": [
       "    c3  c1  c4  c2\n",
       "f3   0   1   2   3\n",
       "f1   4   5   6   7\n",
       "f4   8   9  10  11\n",
       "f2  12  13  14  15"
      ]
     },
     "execution_count": 120,
     "metadata": {},
     "output_type": "execute_result"
    }
   ],
   "source": [
    "dataframe = pd.DataFrame(np.arange(16).reshape(4, 4), index=['f3', 'f1', 'f4', 'f2'], columns=['c3', 'c1', 'c4', 'c2'])\n",
    "dataframe"
   ]
  },
  {
   "cell_type": "code",
   "execution_count": 121,
   "metadata": {},
   "outputs": [
    {
     "data": {
      "text/html": [
       "<div>\n",
       "<style scoped>\n",
       "    .dataframe tbody tr th:only-of-type {\n",
       "        vertical-align: middle;\n",
       "    }\n",
       "\n",
       "    .dataframe tbody tr th {\n",
       "        vertical-align: top;\n",
       "    }\n",
       "\n",
       "    .dataframe thead th {\n",
       "        text-align: right;\n",
       "    }\n",
       "</style>\n",
       "<table border=\"1\" class=\"dataframe\">\n",
       "  <thead>\n",
       "    <tr style=\"text-align: right;\">\n",
       "      <th></th>\n",
       "      <th>c3</th>\n",
       "      <th>c1</th>\n",
       "      <th>c4</th>\n",
       "      <th>c2</th>\n",
       "    </tr>\n",
       "  </thead>\n",
       "  <tbody>\n",
       "    <tr>\n",
       "      <th>f1</th>\n",
       "      <td>4</td>\n",
       "      <td>5</td>\n",
       "      <td>6</td>\n",
       "      <td>7</td>\n",
       "    </tr>\n",
       "    <tr>\n",
       "      <th>f2</th>\n",
       "      <td>12</td>\n",
       "      <td>13</td>\n",
       "      <td>14</td>\n",
       "      <td>15</td>\n",
       "    </tr>\n",
       "    <tr>\n",
       "      <th>f3</th>\n",
       "      <td>0</td>\n",
       "      <td>1</td>\n",
       "      <td>2</td>\n",
       "      <td>3</td>\n",
       "    </tr>\n",
       "    <tr>\n",
       "      <th>f4</th>\n",
       "      <td>8</td>\n",
       "      <td>9</td>\n",
       "      <td>10</td>\n",
       "      <td>11</td>\n",
       "    </tr>\n",
       "  </tbody>\n",
       "</table>\n",
       "</div>"
      ],
      "text/plain": [
       "    c3  c1  c4  c2\n",
       "f1   4   5   6   7\n",
       "f2  12  13  14  15\n",
       "f3   0   1   2   3\n",
       "f4   8   9  10  11"
      ]
     },
     "execution_count": 121,
     "metadata": {},
     "output_type": "execute_result"
    }
   ],
   "source": [
    "# Ordenación por índice de filas\n",
    "dataframe.sort_index()"
   ]
  },
  {
   "cell_type": "code",
   "execution_count": 122,
   "metadata": {},
   "outputs": [
    {
     "data": {
      "text/html": [
       "<div>\n",
       "<style scoped>\n",
       "    .dataframe tbody tr th:only-of-type {\n",
       "        vertical-align: middle;\n",
       "    }\n",
       "\n",
       "    .dataframe tbody tr th {\n",
       "        vertical-align: top;\n",
       "    }\n",
       "\n",
       "    .dataframe thead th {\n",
       "        text-align: right;\n",
       "    }\n",
       "</style>\n",
       "<table border=\"1\" class=\"dataframe\">\n",
       "  <thead>\n",
       "    <tr style=\"text-align: right;\">\n",
       "      <th></th>\n",
       "      <th>c1</th>\n",
       "      <th>c2</th>\n",
       "      <th>c3</th>\n",
       "      <th>c4</th>\n",
       "    </tr>\n",
       "  </thead>\n",
       "  <tbody>\n",
       "    <tr>\n",
       "      <th>f3</th>\n",
       "      <td>1</td>\n",
       "      <td>3</td>\n",
       "      <td>0</td>\n",
       "      <td>2</td>\n",
       "    </tr>\n",
       "    <tr>\n",
       "      <th>f1</th>\n",
       "      <td>5</td>\n",
       "      <td>7</td>\n",
       "      <td>4</td>\n",
       "      <td>6</td>\n",
       "    </tr>\n",
       "    <tr>\n",
       "      <th>f4</th>\n",
       "      <td>9</td>\n",
       "      <td>11</td>\n",
       "      <td>8</td>\n",
       "      <td>10</td>\n",
       "    </tr>\n",
       "    <tr>\n",
       "      <th>f2</th>\n",
       "      <td>13</td>\n",
       "      <td>15</td>\n",
       "      <td>12</td>\n",
       "      <td>14</td>\n",
       "    </tr>\n",
       "  </tbody>\n",
       "</table>\n",
       "</div>"
      ],
      "text/plain": [
       "    c1  c2  c3  c4\n",
       "f3   1   3   0   2\n",
       "f1   5   7   4   6\n",
       "f4   9  11   8  10\n",
       "f2  13  15  12  14"
      ]
     },
     "execution_count": 122,
     "metadata": {},
     "output_type": "execute_result"
    }
   ],
   "source": [
    "# Ordenación por índice de columnas\n",
    "dataframe.sort_index(axis=1)"
   ]
  },
  {
   "cell_type": "code",
   "execution_count": 123,
   "metadata": {},
   "outputs": [
    {
     "data": {
      "text/html": [
       "<div>\n",
       "<style scoped>\n",
       "    .dataframe tbody tr th:only-of-type {\n",
       "        vertical-align: middle;\n",
       "    }\n",
       "\n",
       "    .dataframe tbody tr th {\n",
       "        vertical-align: top;\n",
       "    }\n",
       "\n",
       "    .dataframe thead th {\n",
       "        text-align: right;\n",
       "    }\n",
       "</style>\n",
       "<table border=\"1\" class=\"dataframe\">\n",
       "  <thead>\n",
       "    <tr style=\"text-align: right;\">\n",
       "      <th></th>\n",
       "      <th>c3</th>\n",
       "      <th>c1</th>\n",
       "      <th>c4</th>\n",
       "      <th>c2</th>\n",
       "    </tr>\n",
       "  </thead>\n",
       "  <tbody>\n",
       "    <tr>\n",
       "      <th>f4</th>\n",
       "      <td>8</td>\n",
       "      <td>9</td>\n",
       "      <td>10</td>\n",
       "      <td>11</td>\n",
       "    </tr>\n",
       "    <tr>\n",
       "      <th>f3</th>\n",
       "      <td>0</td>\n",
       "      <td>1</td>\n",
       "      <td>2</td>\n",
       "      <td>3</td>\n",
       "    </tr>\n",
       "    <tr>\n",
       "      <th>f2</th>\n",
       "      <td>12</td>\n",
       "      <td>13</td>\n",
       "      <td>14</td>\n",
       "      <td>15</td>\n",
       "    </tr>\n",
       "    <tr>\n",
       "      <th>f1</th>\n",
       "      <td>4</td>\n",
       "      <td>5</td>\n",
       "      <td>6</td>\n",
       "      <td>7</td>\n",
       "    </tr>\n",
       "  </tbody>\n",
       "</table>\n",
       "</div>"
      ],
      "text/plain": [
       "    c3  c1  c4  c2\n",
       "f4   8   9  10  11\n",
       "f3   0   1   2   3\n",
       "f2  12  13  14  15\n",
       "f1   4   5   6   7"
      ]
     },
     "execution_count": 123,
     "metadata": {},
     "output_type": "execute_result"
    }
   ],
   "source": [
    "# Ordenación descendente por índice de filas\n",
    "dataframe.sort_index(ascending=False)"
   ]
  },
  {
   "cell_type": "code",
   "execution_count": 124,
   "metadata": {},
   "outputs": [
    {
     "data": {
      "text/html": [
       "<div>\n",
       "<style scoped>\n",
       "    .dataframe tbody tr th:only-of-type {\n",
       "        vertical-align: middle;\n",
       "    }\n",
       "\n",
       "    .dataframe tbody tr th {\n",
       "        vertical-align: top;\n",
       "    }\n",
       "\n",
       "    .dataframe thead th {\n",
       "        text-align: right;\n",
       "    }\n",
       "</style>\n",
       "<table border=\"1\" class=\"dataframe\">\n",
       "  <thead>\n",
       "    <tr style=\"text-align: right;\">\n",
       "      <th></th>\n",
       "      <th>c3</th>\n",
       "      <th>c1</th>\n",
       "      <th>c4</th>\n",
       "      <th>c2</th>\n",
       "    </tr>\n",
       "  </thead>\n",
       "  <tbody>\n",
       "    <tr>\n",
       "      <th>f3</th>\n",
       "      <td>0</td>\n",
       "      <td>1</td>\n",
       "      <td>2</td>\n",
       "      <td>3</td>\n",
       "    </tr>\n",
       "    <tr>\n",
       "      <th>f1</th>\n",
       "      <td>4</td>\n",
       "      <td>5</td>\n",
       "      <td>6</td>\n",
       "      <td>7</td>\n",
       "    </tr>\n",
       "    <tr>\n",
       "      <th>f4</th>\n",
       "      <td>8</td>\n",
       "      <td>9</td>\n",
       "      <td>10</td>\n",
       "      <td>11</td>\n",
       "    </tr>\n",
       "    <tr>\n",
       "      <th>f2</th>\n",
       "      <td>12</td>\n",
       "      <td>13</td>\n",
       "      <td>14</td>\n",
       "      <td>15</td>\n",
       "    </tr>\n",
       "  </tbody>\n",
       "</table>\n",
       "</div>"
      ],
      "text/plain": [
       "    c3  c1  c4  c2\n",
       "f3   0   1   2   3\n",
       "f1   4   5   6   7\n",
       "f4   8   9  10  11\n",
       "f2  12  13  14  15"
      ]
     },
     "execution_count": 124,
     "metadata": {},
     "output_type": "execute_result"
    }
   ],
   "source": [
    "# Ordenación por valores de filas\n",
    "dataframe.sort_values(['f1'], axis=1)"
   ]
  },
  {
   "cell_type": "code",
   "execution_count": 125,
   "metadata": {},
   "outputs": [
    {
     "data": {
      "text/html": [
       "<div>\n",
       "<style scoped>\n",
       "    .dataframe tbody tr th:only-of-type {\n",
       "        vertical-align: middle;\n",
       "    }\n",
       "\n",
       "    .dataframe tbody tr th {\n",
       "        vertical-align: top;\n",
       "    }\n",
       "\n",
       "    .dataframe thead th {\n",
       "        text-align: right;\n",
       "    }\n",
       "</style>\n",
       "<table border=\"1\" class=\"dataframe\">\n",
       "  <thead>\n",
       "    <tr style=\"text-align: right;\">\n",
       "      <th></th>\n",
       "      <th>c3</th>\n",
       "      <th>c1</th>\n",
       "      <th>c4</th>\n",
       "      <th>c2</th>\n",
       "    </tr>\n",
       "  </thead>\n",
       "  <tbody>\n",
       "    <tr>\n",
       "      <th>f3</th>\n",
       "      <td>0</td>\n",
       "      <td>1</td>\n",
       "      <td>2</td>\n",
       "      <td>3</td>\n",
       "    </tr>\n",
       "    <tr>\n",
       "      <th>f1</th>\n",
       "      <td>4</td>\n",
       "      <td>5</td>\n",
       "      <td>6</td>\n",
       "      <td>7</td>\n",
       "    </tr>\n",
       "    <tr>\n",
       "      <th>f4</th>\n",
       "      <td>8</td>\n",
       "      <td>9</td>\n",
       "      <td>10</td>\n",
       "      <td>11</td>\n",
       "    </tr>\n",
       "    <tr>\n",
       "      <th>f2</th>\n",
       "      <td>12</td>\n",
       "      <td>13</td>\n",
       "      <td>14</td>\n",
       "      <td>15</td>\n",
       "    </tr>\n",
       "  </tbody>\n",
       "</table>\n",
       "</div>"
      ],
      "text/plain": [
       "    c3  c1  c4  c2\n",
       "f3   0   1   2   3\n",
       "f1   4   5   6   7\n",
       "f4   8   9  10  11\n",
       "f2  12  13  14  15"
      ]
     },
     "execution_count": 125,
     "metadata": {},
     "output_type": "execute_result"
    }
   ],
   "source": [
    "# Ordenación por valores de columnas\n",
    "dataframe.sort_values(['c1'])"
   ]
  },
  {
   "cell_type": "markdown",
   "metadata": {},
   "source": [
    "Recuperación de muestras parciales del contenido\n",
    "\n",
    "En estructuras de datos potencialmente grandes, suele ser muy necesaria la recuperación de una muestra de ejemplo de un conjunto reducido de elementos que permitan hacerse una idea del contenido de la estructura sin necesidad de listar TODO el contenido de la misma. Pandas, como R, pone a nuestra disposición dos métodos <b>head</b> (para obtener un muestra del inicio de la estructura) y <b>tail</b> para obtener la muestras del final. Ambos métodos recibirán como parámetro el número de registros a recuperar."
   ]
  },
  {
   "cell_type": "code",
   "execution_count": 126,
   "metadata": {},
   "outputs": [
    {
     "data": {
      "text/plain": [
       "0      0\n",
       "1      1\n",
       "2      2\n",
       "3      3\n",
       "4      4\n",
       "      ..\n",
       "95    95\n",
       "96    96\n",
       "97    97\n",
       "98    98\n",
       "99    99\n",
       "Length: 100, dtype: int32"
      ]
     },
     "execution_count": 126,
     "metadata": {},
     "output_type": "execute_result"
    }
   ],
   "source": [
    "serie = pd.Series(np.arange(100))\n",
    "serie"
   ]
  },
  {
   "cell_type": "code",
   "execution_count": 127,
   "metadata": {},
   "outputs": [
    {
     "data": {
      "text/html": [
       "<div>\n",
       "<style scoped>\n",
       "    .dataframe tbody tr th:only-of-type {\n",
       "        vertical-align: middle;\n",
       "    }\n",
       "\n",
       "    .dataframe tbody tr th {\n",
       "        vertical-align: top;\n",
       "    }\n",
       "\n",
       "    .dataframe thead th {\n",
       "        text-align: right;\n",
       "    }\n",
       "</style>\n",
       "<table border=\"1\" class=\"dataframe\">\n",
       "  <thead>\n",
       "    <tr style=\"text-align: right;\">\n",
       "      <th></th>\n",
       "      <th>0</th>\n",
       "      <th>1</th>\n",
       "      <th>2</th>\n",
       "      <th>3</th>\n",
       "      <th>4</th>\n",
       "      <th>5</th>\n",
       "      <th>6</th>\n",
       "      <th>7</th>\n",
       "      <th>8</th>\n",
       "      <th>9</th>\n",
       "    </tr>\n",
       "  </thead>\n",
       "  <tbody>\n",
       "    <tr>\n",
       "      <th>0</th>\n",
       "      <td>0</td>\n",
       "      <td>1</td>\n",
       "      <td>2</td>\n",
       "      <td>3</td>\n",
       "      <td>4</td>\n",
       "      <td>5</td>\n",
       "      <td>6</td>\n",
       "      <td>7</td>\n",
       "      <td>8</td>\n",
       "      <td>9</td>\n",
       "    </tr>\n",
       "    <tr>\n",
       "      <th>1</th>\n",
       "      <td>10</td>\n",
       "      <td>11</td>\n",
       "      <td>12</td>\n",
       "      <td>13</td>\n",
       "      <td>14</td>\n",
       "      <td>15</td>\n",
       "      <td>16</td>\n",
       "      <td>17</td>\n",
       "      <td>18</td>\n",
       "      <td>19</td>\n",
       "    </tr>\n",
       "    <tr>\n",
       "      <th>2</th>\n",
       "      <td>20</td>\n",
       "      <td>21</td>\n",
       "      <td>22</td>\n",
       "      <td>23</td>\n",
       "      <td>24</td>\n",
       "      <td>25</td>\n",
       "      <td>26</td>\n",
       "      <td>27</td>\n",
       "      <td>28</td>\n",
       "      <td>29</td>\n",
       "    </tr>\n",
       "    <tr>\n",
       "      <th>3</th>\n",
       "      <td>30</td>\n",
       "      <td>31</td>\n",
       "      <td>32</td>\n",
       "      <td>33</td>\n",
       "      <td>34</td>\n",
       "      <td>35</td>\n",
       "      <td>36</td>\n",
       "      <td>37</td>\n",
       "      <td>38</td>\n",
       "      <td>39</td>\n",
       "    </tr>\n",
       "    <tr>\n",
       "      <th>4</th>\n",
       "      <td>40</td>\n",
       "      <td>41</td>\n",
       "      <td>42</td>\n",
       "      <td>43</td>\n",
       "      <td>44</td>\n",
       "      <td>45</td>\n",
       "      <td>46</td>\n",
       "      <td>47</td>\n",
       "      <td>48</td>\n",
       "      <td>49</td>\n",
       "    </tr>\n",
       "    <tr>\n",
       "      <th>5</th>\n",
       "      <td>50</td>\n",
       "      <td>51</td>\n",
       "      <td>52</td>\n",
       "      <td>53</td>\n",
       "      <td>54</td>\n",
       "      <td>55</td>\n",
       "      <td>56</td>\n",
       "      <td>57</td>\n",
       "      <td>58</td>\n",
       "      <td>59</td>\n",
       "    </tr>\n",
       "    <tr>\n",
       "      <th>6</th>\n",
       "      <td>60</td>\n",
       "      <td>61</td>\n",
       "      <td>62</td>\n",
       "      <td>63</td>\n",
       "      <td>64</td>\n",
       "      <td>65</td>\n",
       "      <td>66</td>\n",
       "      <td>67</td>\n",
       "      <td>68</td>\n",
       "      <td>69</td>\n",
       "    </tr>\n",
       "    <tr>\n",
       "      <th>7</th>\n",
       "      <td>70</td>\n",
       "      <td>71</td>\n",
       "      <td>72</td>\n",
       "      <td>73</td>\n",
       "      <td>74</td>\n",
       "      <td>75</td>\n",
       "      <td>76</td>\n",
       "      <td>77</td>\n",
       "      <td>78</td>\n",
       "      <td>79</td>\n",
       "    </tr>\n",
       "    <tr>\n",
       "      <th>8</th>\n",
       "      <td>80</td>\n",
       "      <td>81</td>\n",
       "      <td>82</td>\n",
       "      <td>83</td>\n",
       "      <td>84</td>\n",
       "      <td>85</td>\n",
       "      <td>86</td>\n",
       "      <td>87</td>\n",
       "      <td>88</td>\n",
       "      <td>89</td>\n",
       "    </tr>\n",
       "    <tr>\n",
       "      <th>9</th>\n",
       "      <td>90</td>\n",
       "      <td>91</td>\n",
       "      <td>92</td>\n",
       "      <td>93</td>\n",
       "      <td>94</td>\n",
       "      <td>95</td>\n",
       "      <td>96</td>\n",
       "      <td>97</td>\n",
       "      <td>98</td>\n",
       "      <td>99</td>\n",
       "    </tr>\n",
       "  </tbody>\n",
       "</table>\n",
       "</div>"
      ],
      "text/plain": [
       "    0   1   2   3   4   5   6   7   8   9\n",
       "0   0   1   2   3   4   5   6   7   8   9\n",
       "1  10  11  12  13  14  15  16  17  18  19\n",
       "2  20  21  22  23  24  25  26  27  28  29\n",
       "3  30  31  32  33  34  35  36  37  38  39\n",
       "4  40  41  42  43  44  45  46  47  48  49\n",
       "5  50  51  52  53  54  55  56  57  58  59\n",
       "6  60  61  62  63  64  65  66  67  68  69\n",
       "7  70  71  72  73  74  75  76  77  78  79\n",
       "8  80  81  82  83  84  85  86  87  88  89\n",
       "9  90  91  92  93  94  95  96  97  98  99"
      ]
     },
     "execution_count": 127,
     "metadata": {},
     "output_type": "execute_result"
    }
   ],
   "source": [
    "dataframe = pd.DataFrame(np.arange(100).reshape(10, 10))\n",
    "dataframe"
   ]
  },
  {
   "cell_type": "code",
   "execution_count": 130,
   "metadata": {},
   "outputs": [
    {
     "data": {
      "text/plain": [
       "0    0\n",
       "1    1\n",
       "2    2\n",
       "3    3\n",
       "4    4\n",
       "dtype: int32"
      ]
     },
     "execution_count": 130,
     "metadata": {},
     "output_type": "execute_result"
    }
   ],
   "source": [
    "# Recuperación de los 5 primeros elementos de una Serie\n",
    "serie.head()"
   ]
  },
  {
   "cell_type": "code",
   "execution_count": 131,
   "metadata": {},
   "outputs": [
    {
     "data": {
      "text/plain": [
       "95    95\n",
       "96    96\n",
       "97    97\n",
       "98    98\n",
       "99    99\n",
       "dtype: int32"
      ]
     },
     "execution_count": 131,
     "metadata": {},
     "output_type": "execute_result"
    }
   ],
   "source": [
    "# Recueperación de los 5 últimos elementos de una Serie\n",
    "serie.tail()"
   ]
  },
  {
   "cell_type": "code",
   "execution_count": 133,
   "metadata": {},
   "outputs": [
    {
     "data": {
      "text/html": [
       "<div>\n",
       "<style scoped>\n",
       "    .dataframe tbody tr th:only-of-type {\n",
       "        vertical-align: middle;\n",
       "    }\n",
       "\n",
       "    .dataframe tbody tr th {\n",
       "        vertical-align: top;\n",
       "    }\n",
       "\n",
       "    .dataframe thead th {\n",
       "        text-align: right;\n",
       "    }\n",
       "</style>\n",
       "<table border=\"1\" class=\"dataframe\">\n",
       "  <thead>\n",
       "    <tr style=\"text-align: right;\">\n",
       "      <th></th>\n",
       "      <th>0</th>\n",
       "      <th>1</th>\n",
       "      <th>2</th>\n",
       "      <th>3</th>\n",
       "      <th>4</th>\n",
       "      <th>5</th>\n",
       "      <th>6</th>\n",
       "      <th>7</th>\n",
       "      <th>8</th>\n",
       "      <th>9</th>\n",
       "    </tr>\n",
       "  </thead>\n",
       "  <tbody>\n",
       "    <tr>\n",
       "      <th>0</th>\n",
       "      <td>0</td>\n",
       "      <td>1</td>\n",
       "      <td>2</td>\n",
       "      <td>3</td>\n",
       "      <td>4</td>\n",
       "      <td>5</td>\n",
       "      <td>6</td>\n",
       "      <td>7</td>\n",
       "      <td>8</td>\n",
       "      <td>9</td>\n",
       "    </tr>\n",
       "    <tr>\n",
       "      <th>1</th>\n",
       "      <td>10</td>\n",
       "      <td>11</td>\n",
       "      <td>12</td>\n",
       "      <td>13</td>\n",
       "      <td>14</td>\n",
       "      <td>15</td>\n",
       "      <td>16</td>\n",
       "      <td>17</td>\n",
       "      <td>18</td>\n",
       "      <td>19</td>\n",
       "    </tr>\n",
       "    <tr>\n",
       "      <th>2</th>\n",
       "      <td>20</td>\n",
       "      <td>21</td>\n",
       "      <td>22</td>\n",
       "      <td>23</td>\n",
       "      <td>24</td>\n",
       "      <td>25</td>\n",
       "      <td>26</td>\n",
       "      <td>27</td>\n",
       "      <td>28</td>\n",
       "      <td>29</td>\n",
       "    </tr>\n",
       "    <tr>\n",
       "      <th>3</th>\n",
       "      <td>30</td>\n",
       "      <td>31</td>\n",
       "      <td>32</td>\n",
       "      <td>33</td>\n",
       "      <td>34</td>\n",
       "      <td>35</td>\n",
       "      <td>36</td>\n",
       "      <td>37</td>\n",
       "      <td>38</td>\n",
       "      <td>39</td>\n",
       "    </tr>\n",
       "    <tr>\n",
       "      <th>4</th>\n",
       "      <td>40</td>\n",
       "      <td>41</td>\n",
       "      <td>42</td>\n",
       "      <td>43</td>\n",
       "      <td>44</td>\n",
       "      <td>45</td>\n",
       "      <td>46</td>\n",
       "      <td>47</td>\n",
       "      <td>48</td>\n",
       "      <td>49</td>\n",
       "    </tr>\n",
       "  </tbody>\n",
       "</table>\n",
       "</div>"
      ],
      "text/plain": [
       "    0   1   2   3   4   5   6   7   8   9\n",
       "0   0   1   2   3   4   5   6   7   8   9\n",
       "1  10  11  12  13  14  15  16  17  18  19\n",
       "2  20  21  22  23  24  25  26  27  28  29\n",
       "3  30  31  32  33  34  35  36  37  38  39\n",
       "4  40  41  42  43  44  45  46  47  48  49"
      ]
     },
     "execution_count": 133,
     "metadata": {},
     "output_type": "execute_result"
    }
   ],
   "source": [
    "dataframe.head()"
   ]
  },
  {
   "cell_type": "code",
   "execution_count": 134,
   "metadata": {},
   "outputs": [
    {
     "data": {
      "text/html": [
       "<div>\n",
       "<style scoped>\n",
       "    .dataframe tbody tr th:only-of-type {\n",
       "        vertical-align: middle;\n",
       "    }\n",
       "\n",
       "    .dataframe tbody tr th {\n",
       "        vertical-align: top;\n",
       "    }\n",
       "\n",
       "    .dataframe thead th {\n",
       "        text-align: right;\n",
       "    }\n",
       "</style>\n",
       "<table border=\"1\" class=\"dataframe\">\n",
       "  <thead>\n",
       "    <tr style=\"text-align: right;\">\n",
       "      <th></th>\n",
       "      <th>0</th>\n",
       "      <th>1</th>\n",
       "      <th>2</th>\n",
       "      <th>3</th>\n",
       "      <th>4</th>\n",
       "      <th>5</th>\n",
       "      <th>6</th>\n",
       "      <th>7</th>\n",
       "      <th>8</th>\n",
       "      <th>9</th>\n",
       "    </tr>\n",
       "  </thead>\n",
       "  <tbody>\n",
       "    <tr>\n",
       "      <th>5</th>\n",
       "      <td>50</td>\n",
       "      <td>51</td>\n",
       "      <td>52</td>\n",
       "      <td>53</td>\n",
       "      <td>54</td>\n",
       "      <td>55</td>\n",
       "      <td>56</td>\n",
       "      <td>57</td>\n",
       "      <td>58</td>\n",
       "      <td>59</td>\n",
       "    </tr>\n",
       "    <tr>\n",
       "      <th>6</th>\n",
       "      <td>60</td>\n",
       "      <td>61</td>\n",
       "      <td>62</td>\n",
       "      <td>63</td>\n",
       "      <td>64</td>\n",
       "      <td>65</td>\n",
       "      <td>66</td>\n",
       "      <td>67</td>\n",
       "      <td>68</td>\n",
       "      <td>69</td>\n",
       "    </tr>\n",
       "    <tr>\n",
       "      <th>7</th>\n",
       "      <td>70</td>\n",
       "      <td>71</td>\n",
       "      <td>72</td>\n",
       "      <td>73</td>\n",
       "      <td>74</td>\n",
       "      <td>75</td>\n",
       "      <td>76</td>\n",
       "      <td>77</td>\n",
       "      <td>78</td>\n",
       "      <td>79</td>\n",
       "    </tr>\n",
       "    <tr>\n",
       "      <th>8</th>\n",
       "      <td>80</td>\n",
       "      <td>81</td>\n",
       "      <td>82</td>\n",
       "      <td>83</td>\n",
       "      <td>84</td>\n",
       "      <td>85</td>\n",
       "      <td>86</td>\n",
       "      <td>87</td>\n",
       "      <td>88</td>\n",
       "      <td>89</td>\n",
       "    </tr>\n",
       "    <tr>\n",
       "      <th>9</th>\n",
       "      <td>90</td>\n",
       "      <td>91</td>\n",
       "      <td>92</td>\n",
       "      <td>93</td>\n",
       "      <td>94</td>\n",
       "      <td>95</td>\n",
       "      <td>96</td>\n",
       "      <td>97</td>\n",
       "      <td>98</td>\n",
       "      <td>99</td>\n",
       "    </tr>\n",
       "  </tbody>\n",
       "</table>\n",
       "</div>"
      ],
      "text/plain": [
       "    0   1   2   3   4   5   6   7   8   9\n",
       "5  50  51  52  53  54  55  56  57  58  59\n",
       "6  60  61  62  63  64  65  66  67  68  69\n",
       "7  70  71  72  73  74  75  76  77  78  79\n",
       "8  80  81  82  83  84  85  86  87  88  89\n",
       "9  90  91  92  93  94  95  96  97  98  99"
      ]
     },
     "execution_count": 134,
     "metadata": {},
     "output_type": "execute_result"
    }
   ],
   "source": [
    "dataframe.tail()"
   ]
  },
  {
   "cell_type": "code",
   "execution_count": 132,
   "metadata": {},
   "outputs": [
    {
     "data": {
      "text/html": [
       "<div>\n",
       "<style scoped>\n",
       "    .dataframe tbody tr th:only-of-type {\n",
       "        vertical-align: middle;\n",
       "    }\n",
       "\n",
       "    .dataframe tbody tr th {\n",
       "        vertical-align: top;\n",
       "    }\n",
       "\n",
       "    .dataframe thead th {\n",
       "        text-align: right;\n",
       "    }\n",
       "</style>\n",
       "<table border=\"1\" class=\"dataframe\">\n",
       "  <thead>\n",
       "    <tr style=\"text-align: right;\">\n",
       "      <th></th>\n",
       "      <th>0</th>\n",
       "      <th>1</th>\n",
       "      <th>2</th>\n",
       "      <th>3</th>\n",
       "      <th>4</th>\n",
       "      <th>5</th>\n",
       "      <th>6</th>\n",
       "      <th>7</th>\n",
       "      <th>8</th>\n",
       "      <th>9</th>\n",
       "    </tr>\n",
       "  </thead>\n",
       "  <tbody>\n",
       "    <tr>\n",
       "      <th>0</th>\n",
       "      <td>0</td>\n",
       "      <td>1</td>\n",
       "      <td>2</td>\n",
       "      <td>3</td>\n",
       "      <td>4</td>\n",
       "      <td>5</td>\n",
       "      <td>6</td>\n",
       "      <td>7</td>\n",
       "      <td>8</td>\n",
       "      <td>9</td>\n",
       "    </tr>\n",
       "    <tr>\n",
       "      <th>1</th>\n",
       "      <td>10</td>\n",
       "      <td>11</td>\n",
       "      <td>12</td>\n",
       "      <td>13</td>\n",
       "      <td>14</td>\n",
       "      <td>15</td>\n",
       "      <td>16</td>\n",
       "      <td>17</td>\n",
       "      <td>18</td>\n",
       "      <td>19</td>\n",
       "    </tr>\n",
       "    <tr>\n",
       "      <th>2</th>\n",
       "      <td>20</td>\n",
       "      <td>21</td>\n",
       "      <td>22</td>\n",
       "      <td>23</td>\n",
       "      <td>24</td>\n",
       "      <td>25</td>\n",
       "      <td>26</td>\n",
       "      <td>27</td>\n",
       "      <td>28</td>\n",
       "      <td>29</td>\n",
       "    </tr>\n",
       "  </tbody>\n",
       "</table>\n",
       "</div>"
      ],
      "text/plain": [
       "    0   1   2   3   4   5   6   7   8   9\n",
       "0   0   1   2   3   4   5   6   7   8   9\n",
       "1  10  11  12  13  14  15  16  17  18  19\n",
       "2  20  21  22  23  24  25  26  27  28  29"
      ]
     },
     "execution_count": 132,
     "metadata": {},
     "output_type": "execute_result"
    }
   ],
   "source": [
    "# Recuperación de los 3 primeros elementos de un DataFrame\n",
    "dataframe.head(3)"
   ]
  },
  {
   "cell_type": "code",
   "execution_count": 135,
   "metadata": {},
   "outputs": [
    {
     "data": {
      "text/html": [
       "<div>\n",
       "<style scoped>\n",
       "    .dataframe tbody tr th:only-of-type {\n",
       "        vertical-align: middle;\n",
       "    }\n",
       "\n",
       "    .dataframe tbody tr th {\n",
       "        vertical-align: top;\n",
       "    }\n",
       "\n",
       "    .dataframe thead th {\n",
       "        text-align: right;\n",
       "    }\n",
       "</style>\n",
       "<table border=\"1\" class=\"dataframe\">\n",
       "  <thead>\n",
       "    <tr style=\"text-align: right;\">\n",
       "      <th></th>\n",
       "      <th>0</th>\n",
       "      <th>1</th>\n",
       "      <th>2</th>\n",
       "      <th>3</th>\n",
       "      <th>4</th>\n",
       "      <th>5</th>\n",
       "      <th>6</th>\n",
       "      <th>7</th>\n",
       "      <th>8</th>\n",
       "      <th>9</th>\n",
       "    </tr>\n",
       "  </thead>\n",
       "  <tbody>\n",
       "    <tr>\n",
       "      <th>7</th>\n",
       "      <td>70</td>\n",
       "      <td>71</td>\n",
       "      <td>72</td>\n",
       "      <td>73</td>\n",
       "      <td>74</td>\n",
       "      <td>75</td>\n",
       "      <td>76</td>\n",
       "      <td>77</td>\n",
       "      <td>78</td>\n",
       "      <td>79</td>\n",
       "    </tr>\n",
       "    <tr>\n",
       "      <th>8</th>\n",
       "      <td>80</td>\n",
       "      <td>81</td>\n",
       "      <td>82</td>\n",
       "      <td>83</td>\n",
       "      <td>84</td>\n",
       "      <td>85</td>\n",
       "      <td>86</td>\n",
       "      <td>87</td>\n",
       "      <td>88</td>\n",
       "      <td>89</td>\n",
       "    </tr>\n",
       "    <tr>\n",
       "      <th>9</th>\n",
       "      <td>90</td>\n",
       "      <td>91</td>\n",
       "      <td>92</td>\n",
       "      <td>93</td>\n",
       "      <td>94</td>\n",
       "      <td>95</td>\n",
       "      <td>96</td>\n",
       "      <td>97</td>\n",
       "      <td>98</td>\n",
       "      <td>99</td>\n",
       "    </tr>\n",
       "  </tbody>\n",
       "</table>\n",
       "</div>"
      ],
      "text/plain": [
       "    0   1   2   3   4   5   6   7   8   9\n",
       "7  70  71  72  73  74  75  76  77  78  79\n",
       "8  80  81  82  83  84  85  86  87  88  89\n",
       "9  90  91  92  93  94  95  96  97  98  99"
      ]
     },
     "execution_count": 135,
     "metadata": {},
     "output_type": "execute_result"
    }
   ],
   "source": [
    "# Recueperación de los 3 últimos elementos de un DataFrame\n",
    "dataframe.tail(3)"
   ]
  },
  {
   "cell_type": "markdown",
   "metadata": {},
   "source": [
    "# Lectura y escritura de información\n",
    "\n",
    "Más que creando Series o DataFrames de cero, o incluso a partir de secuencias del core de Python o ndarrays, el uso más típico de pandas se basa en la carga de información desde ficheros/fuentes de información para su posterior exploración, transformación y análisis."
   ]
  },
  {
   "cell_type": "markdown",
   "metadata": {},
   "source": [
    "## Lectura de ficheros en formato texto\n",
    "\n",
    "Probablemente, una de las formas más recurrentes de trabajo para el análisis de datos: fuentes de datos públicas, logs, tablas históricas de información, exportaciones desde base de datos... La librería pandas, nos ofrece funciones para trabajar con ficheros en múltiples formatos, todos ellos creando un DataFrame con la información leída:<br/>\n",
    "<ul>\n",
    "<li>Ficheros separados por coma (.csv): mediante la función <b>read_csv</b>.</li>\n",
    "<li>Ficheros separados por tabulador (.tsv): mediante la función <b>read_table</b></li>\n",
    "<li>Ficheros de ancho fijo: mediante la función <b>read_fwf</b>.</li>\n",
    "</ul>\n",
    "\n",
    "De estos tres métodos de lectura de información, el más común es el segundo, ya que, por un lado, engloba al primero permitiendo el establecimiento del carácter separador por parte del desarrollado y, por otro, porque los ficheros de ancho fijo son cada vez menos frecuentes (aunque se siguen usando).<br/>\n",
    "\n",
    "Tanto <b>read_csv</b> como <b>read_table</b> tienen un conjunto muy amplio de parámetros que permiten configurar de un modo preciso la lectura de información que se va a hacer. Los parámetros más importantes/comunes son los siguientes:<br/>\n",
    "<ul>\n",
    "<li><b>path:</b> Ruta del fichero del que se va a realizar la lectura.</li>\n",
    "<li><b>sep:</b> Carácter(es) que se utilizan como separador de campos en el fichero.</li>\n",
    "<li><b>header:</b> Índice de la fila que contiene los nombres de las columnas (None en caso de no haber).</li>\n",
    "<li><b>index_col:</b> Índice de la columna o secuencia de índices que se deben usar como índice de filas de los datos.</li>\n",
    "<li><b>skiprows:</b> Número de filas o secuencia de índices de fila que se deben ignorar en la carga.</li>\n",
    "<li><b>names:</b> Secuencia que contiene los nombres de las columnas (usado junto con header=None).</li>\n",
    "<li><b>na_values:</b> Secuencia de valores que, de encontrarse en el fichero, deben ser tratados como NaN.</li>\n",
    "<li><b>dtype:</b> Diccionario en el que las claves serán nombres de columnas y los valores serán tipos de NumPy a los que se debe convertir su contenido.</li>\n",
    "<li><b>parse_dates:</b> Flag que indica si Python debe intentar parsear datos con formato semejante a las fechas como fechas. Puede contenter un listado de nombres de columnas que deberán unirse para el parseo como fecha.</li>\n",
    "<li><b>converters:</b> Diccionario en el que las claves serán nombres de columnas y los valores funciones que se deberán aplicar al contenido de dichas columnas durante la carga.</li>\n",
    "<li><b>dayfirst:</b> Indica si al parsear fechas se debe esperar el día primero o el mes. </li>\n",
    "<li><b>nrows:</b> Número de filas a leer desde el principio del fichero.</li>\n",
    "<li><b>chunksize:</b> Tamaño a utilizar para la lectura incremental del fichero.</li>\n",
    "<li><b>skip_footer:</b> Número de filas a ignorar del final del fichero.</li>\n",
    "<li><b>enconding:</b> Codificación a esperar del fichero leído.</li>\n",
    "<li><b>squeeze:</b> Flag que indica que si los datos leídos sólo contienen una columna el resultado sea una Serie en lugar de un DataFrame.</li>\n",
    "<li><b>thousands:</b> Carácter a utilizar para detectar el separador de miles.</li>\n",
    "<li><b>decimal:</b> Carácter a utilizar para detectar el separador de decimales.</li>\n",
    "</ul>"
   ]
  },
  {
   "cell_type": "code",
   "execution_count": 136,
   "metadata": {},
   "outputs": [
    {
     "data": {
      "text/plain": [
       "'c:\\\\Users\\\\Facu\\\\Desktop\\\\aprendiendoPython\\\\creadoPorMi'"
      ]
     },
     "execution_count": 136,
     "metadata": {},
     "output_type": "execute_result"
    }
   ],
   "source": [
    "%pwd"
   ]
  },
  {
   "cell_type": "code",
   "execution_count": 138,
   "metadata": {},
   "outputs": [
    {
     "data": {
      "text/html": [
       "<div>\n",
       "<style scoped>\n",
       "    .dataframe tbody tr th:only-of-type {\n",
       "        vertical-align: middle;\n",
       "    }\n",
       "\n",
       "    .dataframe tbody tr th {\n",
       "        vertical-align: top;\n",
       "    }\n",
       "\n",
       "    .dataframe thead th {\n",
       "        text-align: right;\n",
       "    }\n",
       "</style>\n",
       "<table border=\"1\" class=\"dataframe\">\n",
       "  <thead>\n",
       "    <tr style=\"text-align: right;\">\n",
       "      <th></th>\n",
       "      <th>año</th>\n",
       "      <th>id_distrito</th>\n",
       "      <th>distrito</th>\n",
       "      <th>id_barrio</th>\n",
       "      <th>barrio</th>\n",
       "      <th>id_uso</th>\n",
       "      <th>uso</th>\n",
       "      <th>num_inmuebles</th>\n",
       "      <th>año_cons_medio</th>\n",
       "      <th>sup_cons</th>\n",
       "      <th>sup_suelo</th>\n",
       "      <th>valor_catastral</th>\n",
       "    </tr>\n",
       "  </thead>\n",
       "  <tbody>\n",
       "    <tr>\n",
       "      <th>0</th>\n",
       "      <td>2014</td>\n",
       "      <td>1</td>\n",
       "      <td>Centro</td>\n",
       "      <td>11</td>\n",
       "      <td>PALACIO</td>\n",
       "      <td>A</td>\n",
       "      <td>Almacén-Estacionamiento</td>\n",
       "      <td>3034</td>\n",
       "      <td>1969.0</td>\n",
       "      <td>214457.0</td>\n",
       "      <td>NaN</td>\n",
       "      <td>1.295259e+08</td>\n",
       "    </tr>\n",
       "    <tr>\n",
       "      <th>1</th>\n",
       "      <td>2014</td>\n",
       "      <td>1</td>\n",
       "      <td>Centro</td>\n",
       "      <td>11</td>\n",
       "      <td>PALACIO</td>\n",
       "      <td>C</td>\n",
       "      <td>Comercial</td>\n",
       "      <td>1407</td>\n",
       "      <td>1921.0</td>\n",
       "      <td>223552.0</td>\n",
       "      <td>NaN</td>\n",
       "      <td>4.076055e+08</td>\n",
       "    </tr>\n",
       "    <tr>\n",
       "      <th>2</th>\n",
       "      <td>2014</td>\n",
       "      <td>1</td>\n",
       "      <td>Centro</td>\n",
       "      <td>11</td>\n",
       "      <td>PALACIO</td>\n",
       "      <td>E</td>\n",
       "      <td>Cultural</td>\n",
       "      <td>36</td>\n",
       "      <td>1937.0</td>\n",
       "      <td>62963.0</td>\n",
       "      <td>NaN</td>\n",
       "      <td>7.582872e+07</td>\n",
       "    </tr>\n",
       "    <tr>\n",
       "      <th>3</th>\n",
       "      <td>2014</td>\n",
       "      <td>1</td>\n",
       "      <td>Centro</td>\n",
       "      <td>11</td>\n",
       "      <td>PALACIO</td>\n",
       "      <td>G</td>\n",
       "      <td>Ocio y Hostelería</td>\n",
       "      <td>254</td>\n",
       "      <td>1919.0</td>\n",
       "      <td>114226.0</td>\n",
       "      <td>NaN</td>\n",
       "      <td>1.954138e+08</td>\n",
       "    </tr>\n",
       "    <tr>\n",
       "      <th>4</th>\n",
       "      <td>2014</td>\n",
       "      <td>1</td>\n",
       "      <td>Centro</td>\n",
       "      <td>11</td>\n",
       "      <td>PALACIO</td>\n",
       "      <td>I</td>\n",
       "      <td>Industrial</td>\n",
       "      <td>22</td>\n",
       "      <td>1942.0</td>\n",
       "      <td>13228.0</td>\n",
       "      <td>NaN</td>\n",
       "      <td>1.180795e+07</td>\n",
       "    </tr>\n",
       "  </tbody>\n",
       "</table>\n",
       "</div>"
      ],
      "text/plain": [
       "    año  id_distrito distrito  id_barrio   barrio id_uso  \\\n",
       "0  2014            1   Centro         11  PALACIO      A   \n",
       "1  2014            1   Centro         11  PALACIO      C   \n",
       "2  2014            1   Centro         11  PALACIO      E   \n",
       "3  2014            1   Centro         11  PALACIO      G   \n",
       "4  2014            1   Centro         11  PALACIO      I   \n",
       "\n",
       "                       uso  num_inmuebles  año_cons_medio  sup_cons  \\\n",
       "0  Almacén-Estacionamiento           3034          1969.0  214457.0   \n",
       "1                Comercial           1407          1921.0  223552.0   \n",
       "2                 Cultural             36          1937.0   62963.0   \n",
       "3        Ocio y Hostelería            254          1919.0  114226.0   \n",
       "4               Industrial             22          1942.0   13228.0   \n",
       "\n",
       "   sup_suelo  valor_catastral  \n",
       "0        NaN     1.295259e+08  \n",
       "1        NaN     4.076055e+08  \n",
       "2        NaN     7.582872e+07  \n",
       "3        NaN     1.954138e+08  \n",
       "4        NaN     1.180795e+07  "
      ]
     },
     "execution_count": 138,
     "metadata": {},
     "output_type": "execute_result"
    }
   ],
   "source": [
    "catastro = pd.read_csv('datos/catastro.tsv', sep = \"\\t\")\n",
    "catastro.head()"
   ]
  },
  {
   "cell_type": "code",
   "execution_count": 139,
   "metadata": {},
   "outputs": [
    {
     "data": {
      "text/plain": [
       "['año',\n",
       " 'id_distrito',\n",
       " 'distrito',\n",
       " 'id_barrio',\n",
       " 'barrio',\n",
       " 'id_uso',\n",
       " 'uso',\n",
       " 'num_inmuebles',\n",
       " 'año_cons_medio',\n",
       " 'sup_cons',\n",
       " 'sup_suelo',\n",
       " 'valor_catastral']"
      ]
     },
     "execution_count": 139,
     "metadata": {},
     "output_type": "execute_result"
    }
   ],
   "source": [
    "col = list(catastro.columns)\n",
    "col"
   ]
  },
  {
   "cell_type": "code",
   "execution_count": 143,
   "metadata": {},
   "outputs": [
    {
     "data": {
      "text/html": [
       "<div>\n",
       "<style scoped>\n",
       "    .dataframe tbody tr th:only-of-type {\n",
       "        vertical-align: middle;\n",
       "    }\n",
       "\n",
       "    .dataframe tbody tr th {\n",
       "        vertical-align: top;\n",
       "    }\n",
       "\n",
       "    .dataframe thead th {\n",
       "        text-align: right;\n",
       "    }\n",
       "</style>\n",
       "<table border=\"1\" class=\"dataframe\">\n",
       "  <thead>\n",
       "    <tr style=\"text-align: right;\">\n",
       "      <th></th>\n",
       "      <th>0</th>\n",
       "      <th>1</th>\n",
       "      <th>2</th>\n",
       "      <th>3</th>\n",
       "      <th>4</th>\n",
       "      <th>5</th>\n",
       "      <th>6</th>\n",
       "      <th>7</th>\n",
       "      <th>8</th>\n",
       "      <th>9</th>\n",
       "      <th>10</th>\n",
       "      <th>11</th>\n",
       "    </tr>\n",
       "  </thead>\n",
       "  <tbody>\n",
       "    <tr>\n",
       "      <th>0</th>\n",
       "      <td>año</td>\n",
       "      <td>id_distrito</td>\n",
       "      <td>distrito</td>\n",
       "      <td>id_barrio</td>\n",
       "      <td>barrio</td>\n",
       "      <td>id_uso</td>\n",
       "      <td>uso</td>\n",
       "      <td>num_inmuebles</td>\n",
       "      <td>año_cons_medio</td>\n",
       "      <td>sup_cons</td>\n",
       "      <td>sup_suelo</td>\n",
       "      <td>valor_catastral</td>\n",
       "    </tr>\n",
       "    <tr>\n",
       "      <th>1</th>\n",
       "      <td>2014</td>\n",
       "      <td>01</td>\n",
       "      <td>Centro</td>\n",
       "      <td>011</td>\n",
       "      <td>PALACIO</td>\n",
       "      <td>A</td>\n",
       "      <td>Almacén-Estacionamiento</td>\n",
       "      <td>3034</td>\n",
       "      <td>1969</td>\n",
       "      <td>214457</td>\n",
       "      <td>NaN</td>\n",
       "      <td>129525903.84</td>\n",
       "    </tr>\n",
       "    <tr>\n",
       "      <th>2</th>\n",
       "      <td>2014</td>\n",
       "      <td>01</td>\n",
       "      <td>Centro</td>\n",
       "      <td>011</td>\n",
       "      <td>PALACIO</td>\n",
       "      <td>C</td>\n",
       "      <td>Comercial</td>\n",
       "      <td>1407</td>\n",
       "      <td>1921</td>\n",
       "      <td>223552</td>\n",
       "      <td>NaN</td>\n",
       "      <td>407605466.44</td>\n",
       "    </tr>\n",
       "    <tr>\n",
       "      <th>3</th>\n",
       "      <td>2014</td>\n",
       "      <td>01</td>\n",
       "      <td>Centro</td>\n",
       "      <td>011</td>\n",
       "      <td>PALACIO</td>\n",
       "      <td>E</td>\n",
       "      <td>Cultural</td>\n",
       "      <td>36</td>\n",
       "      <td>1937</td>\n",
       "      <td>62963</td>\n",
       "      <td>NaN</td>\n",
       "      <td>75828716.00</td>\n",
       "    </tr>\n",
       "    <tr>\n",
       "      <th>4</th>\n",
       "      <td>2014</td>\n",
       "      <td>01</td>\n",
       "      <td>Centro</td>\n",
       "      <td>011</td>\n",
       "      <td>PALACIO</td>\n",
       "      <td>G</td>\n",
       "      <td>Ocio y Hostelería</td>\n",
       "      <td>254</td>\n",
       "      <td>1919</td>\n",
       "      <td>114226</td>\n",
       "      <td>NaN</td>\n",
       "      <td>195413848.02</td>\n",
       "    </tr>\n",
       "  </tbody>\n",
       "</table>\n",
       "</div>"
      ],
      "text/plain": [
       "     0            1         2          3        4       5   \\\n",
       "0   año  id_distrito  distrito  id_barrio   barrio  id_uso   \n",
       "1  2014           01    Centro        011  PALACIO       A   \n",
       "2  2014           01    Centro        011  PALACIO       C   \n",
       "3  2014           01    Centro        011  PALACIO       E   \n",
       "4  2014           01    Centro        011  PALACIO       G   \n",
       "\n",
       "                        6              7               8         9   \\\n",
       "0                      uso  num_inmuebles  año_cons_medio  sup_cons   \n",
       "1  Almacén-Estacionamiento           3034            1969    214457   \n",
       "2                Comercial           1407            1921    223552   \n",
       "3                 Cultural             36            1937     62963   \n",
       "4        Ocio y Hostelería            254            1919    114226   \n",
       "\n",
       "          10               11  \n",
       "0  sup_suelo  valor_catastral  \n",
       "1        NaN     129525903.84  \n",
       "2        NaN     407605466.44  \n",
       "3        NaN      75828716.00  \n",
       "4        NaN     195413848.02  "
      ]
     },
     "execution_count": 143,
     "metadata": {},
     "output_type": "execute_result"
    }
   ],
   "source": [
    "catastro = pd.read_csv('datos/catastro.tsv', sep=\"\\t\", header=None)\n",
    "catastro.head()"
   ]
  },
  {
   "cell_type": "code",
   "execution_count": 144,
   "metadata": {},
   "outputs": [
    {
     "data": {
      "text/html": [
       "<div>\n",
       "<style scoped>\n",
       "    .dataframe tbody tr th:only-of-type {\n",
       "        vertical-align: middle;\n",
       "    }\n",
       "\n",
       "    .dataframe tbody tr th {\n",
       "        vertical-align: top;\n",
       "    }\n",
       "\n",
       "    .dataframe thead th {\n",
       "        text-align: right;\n",
       "    }\n",
       "</style>\n",
       "<table border=\"1\" class=\"dataframe\">\n",
       "  <thead>\n",
       "    <tr style=\"text-align: right;\">\n",
       "      <th></th>\n",
       "      <th>año</th>\n",
       "      <th>id_distrito</th>\n",
       "      <th>distrito</th>\n",
       "      <th>id_barrio</th>\n",
       "      <th>barrio</th>\n",
       "      <th>id_uso</th>\n",
       "      <th>uso</th>\n",
       "      <th>num_inmuebles</th>\n",
       "      <th>año_cons_medio</th>\n",
       "      <th>sup_cons</th>\n",
       "      <th>sup_suelo</th>\n",
       "      <th>valor_catastral</th>\n",
       "    </tr>\n",
       "  </thead>\n",
       "  <tbody>\n",
       "    <tr>\n",
       "      <th>0</th>\n",
       "      <td>año</td>\n",
       "      <td>id_distrito</td>\n",
       "      <td>distrito</td>\n",
       "      <td>id_barrio</td>\n",
       "      <td>barrio</td>\n",
       "      <td>id_uso</td>\n",
       "      <td>uso</td>\n",
       "      <td>num_inmuebles</td>\n",
       "      <td>año_cons_medio</td>\n",
       "      <td>sup_cons</td>\n",
       "      <td>sup_suelo</td>\n",
       "      <td>valor_catastral</td>\n",
       "    </tr>\n",
       "    <tr>\n",
       "      <th>1</th>\n",
       "      <td>2014</td>\n",
       "      <td>01</td>\n",
       "      <td>Centro</td>\n",
       "      <td>011</td>\n",
       "      <td>PALACIO</td>\n",
       "      <td>A</td>\n",
       "      <td>Almacén-Estacionamiento</td>\n",
       "      <td>3034</td>\n",
       "      <td>1969</td>\n",
       "      <td>214457</td>\n",
       "      <td>NaN</td>\n",
       "      <td>129525903.84</td>\n",
       "    </tr>\n",
       "    <tr>\n",
       "      <th>2</th>\n",
       "      <td>2014</td>\n",
       "      <td>01</td>\n",
       "      <td>Centro</td>\n",
       "      <td>011</td>\n",
       "      <td>PALACIO</td>\n",
       "      <td>C</td>\n",
       "      <td>Comercial</td>\n",
       "      <td>1407</td>\n",
       "      <td>1921</td>\n",
       "      <td>223552</td>\n",
       "      <td>NaN</td>\n",
       "      <td>407605466.44</td>\n",
       "    </tr>\n",
       "    <tr>\n",
       "      <th>3</th>\n",
       "      <td>2014</td>\n",
       "      <td>01</td>\n",
       "      <td>Centro</td>\n",
       "      <td>011</td>\n",
       "      <td>PALACIO</td>\n",
       "      <td>E</td>\n",
       "      <td>Cultural</td>\n",
       "      <td>36</td>\n",
       "      <td>1937</td>\n",
       "      <td>62963</td>\n",
       "      <td>NaN</td>\n",
       "      <td>75828716.00</td>\n",
       "    </tr>\n",
       "    <tr>\n",
       "      <th>4</th>\n",
       "      <td>2014</td>\n",
       "      <td>01</td>\n",
       "      <td>Centro</td>\n",
       "      <td>011</td>\n",
       "      <td>PALACIO</td>\n",
       "      <td>G</td>\n",
       "      <td>Ocio y Hostelería</td>\n",
       "      <td>254</td>\n",
       "      <td>1919</td>\n",
       "      <td>114226</td>\n",
       "      <td>NaN</td>\n",
       "      <td>195413848.02</td>\n",
       "    </tr>\n",
       "  </tbody>\n",
       "</table>\n",
       "</div>"
      ],
      "text/plain": [
       "    año  id_distrito  distrito  id_barrio   barrio  id_uso  \\\n",
       "0   año  id_distrito  distrito  id_barrio   barrio  id_uso   \n",
       "1  2014           01    Centro        011  PALACIO       A   \n",
       "2  2014           01    Centro        011  PALACIO       C   \n",
       "3  2014           01    Centro        011  PALACIO       E   \n",
       "4  2014           01    Centro        011  PALACIO       G   \n",
       "\n",
       "                       uso  num_inmuebles  año_cons_medio  sup_cons  \\\n",
       "0                      uso  num_inmuebles  año_cons_medio  sup_cons   \n",
       "1  Almacén-Estacionamiento           3034            1969    214457   \n",
       "2                Comercial           1407            1921    223552   \n",
       "3                 Cultural             36            1937     62963   \n",
       "4        Ocio y Hostelería            254            1919    114226   \n",
       "\n",
       "   sup_suelo  valor_catastral  \n",
       "0  sup_suelo  valor_catastral  \n",
       "1        NaN     129525903.84  \n",
       "2        NaN     407605466.44  \n",
       "3        NaN      75828716.00  \n",
       "4        NaN     195413848.02  "
      ]
     },
     "execution_count": 144,
     "metadata": {},
     "output_type": "execute_result"
    }
   ],
   "source": [
    "catastro = pd.read_csv('datos/catastro.tsv', sep=\"\\t\", header=None, names= col)\n",
    "catastro.head()"
   ]
  },
  {
   "cell_type": "markdown",
   "metadata": {},
   "source": [
    "## Escritura de ficheros en formato texto\n",
    "\n",
    "En el caso de la escritura de estructuras de datos de pandas como ficheros de texto, las posibilidades están mucho más unificadas, existiendo una única función <b>to_csv</b>. Es importante indicar que, por defecto, el fichero seleccionado será SIEMPRE sobreescrito.<br/>\n",
    "\n",
    "Los parámetros más comunes de esta función son:<br/>\n",
    "<ul>\n",
    "<li><b>path:</b> Ruta del fichero que se utilizará para la escritura.</li>\n",
    "<li><b>sep:</b> Carácter utilizado como separador de campos.</li>\n",
    "<li><b>na_rep:</b> Cadena que se deberá utilizar para darle representación a los valores NaN.</li>\n",
    "<li><b>float_format:</b> Indicador de formato para los números en coma flotante.</li>\n",
    "<li><b>columns:</b> Secuencia de selección del conjunto de columnas que se desea volcar al fichero.</li>\n",
    "<li><b>header:</b> Flag o secuencia de cadenas que indica si se debe volcar la cabecera al fichero.</li>\n",
    "<li><b>index:</b> Flag que indica si el índice debe ser incluido o no como una columna más en el fichero.</li>\n",
    "<li><b>index_label:</b> Nombre que se le debe dar a la columna de índice en el fichero.</li>\n",
    "<li><b>mode:</b> Modo de apertura del fichero. Por defecto, \"w\".</li>\n",
    "<li><b>encoding:</b> Codificación a utilizar en la escritura del fichero.</li>\n",
    "<li><b>date_format:</b> Indicador de formato a utilizar para escribir fechas.</li>\n",
    "<li><b>decimal:</b> Carácter a utilizar como separador de decimales</li>\n",
    "</ul>"
   ]
  },
  {
   "cell_type": "code",
   "execution_count": 145,
   "metadata": {},
   "outputs": [],
   "source": [
    "catastro.to_csv('datos/catastro_copia.csv', sep = \"|\", index = False)"
   ]
  },
  {
   "cell_type": "markdown",
   "metadata": {},
   "source": [
    "## Trabajo con otros formatos\n",
    "\n",
    "Pandas ofrece facilidades para trabajar con otro tipo de formatos como pueden ser:<br/>\n",
    "<ul>\n",
    "<li><b>Ficheros binarios \"pickle\":</b> <i>pickle</i> es un módulo del core de Python que establece un formato binario que permite almacenar y recuperar cualquier objeto Python en disco. Todos los objetos de pandas tienen un método <b>save</b> y otro <b>load</b> que permiten almacenar y recuperar información en este formato.</li>\n",
    "<li><b>Ficheros binarios \"HDF5\":</b> HDF5 es un \"estándar\" de almacenamiento de información binaria que optimiza las lecturas y escrituras (mediante el almacenamiento de una estructura jerárquica de índices) y permite llevar a cabo diferentes niveles de compresión sobre la información (a costa de rendimiento). Pandas ofrece clases y funciones para trabajar con este tipo de ficheros.</li>\n",
    "<li><b>Ficheros Excel:</b> Pandas contiene clases y funciones que permiten llevar a cabo la carga directa de información desde hojas de ficheros Excel (que deben tener un formato tabular). Por rendimiento y consumo de memoria, siempre que sea viable, es mejor traducir estos ficheros a formatos de texto.</li>\n",
    "</ul>"
   ]
  },
  {
   "cell_type": "markdown",
   "metadata": {},
   "source": [
    "# Preparación y exploración de datos\n",
    "\n",
    "Una vez conocidas las estructuras de datos de pandas, las operaciones básicas que se pueden realizar sobre las mismas y el modo en el que realizar la carga y almacenamiento de dichas estructuras en discos, vamos a centrarnos en aquellas funcionalidades ofrecidas por pandas que están más orientadas al tratamiento y análisis de datos.\n"
   ]
  },
  {
   "cell_type": "markdown",
   "metadata": {},
   "source": [
    "## Gestión de datos en blanco (<i>missing values</i>)\n",
    "\n",
    "Uno de los objetivos de pandas en su construcción fue facilitar el tratamiento de este tipo de datos no existentes ofreciendo múltiples funciones que permiten llevar a cabo tanto su detección, como su eliminación o imputación...\n"
   ]
  },
  {
   "cell_type": "markdown",
   "metadata": {},
   "source": [
    "#### Detección de <i>missing values</i>\n",
    "\n",
    "\n",
    "Pandas ofrece principalmente dos funciones para manejar la detección de valores nulos.<br/>\n",
    "<ul>\n",
    "<li><b>isnull:</b> Que devuelve una Serie o DataFrame booleano indicando qué elemetos son NaN o None.</li>\n",
    "<li><b>notnull:</b> Que devuelve el inverso del anterior.</li>"
   ]
  },
  {
   "cell_type": "code",
   "execution_count": 146,
   "metadata": {},
   "outputs": [
    {
     "data": {
      "text/html": [
       "<div>\n",
       "<style scoped>\n",
       "    .dataframe tbody tr th:only-of-type {\n",
       "        vertical-align: middle;\n",
       "    }\n",
       "\n",
       "    .dataframe tbody tr th {\n",
       "        vertical-align: top;\n",
       "    }\n",
       "\n",
       "    .dataframe thead th {\n",
       "        text-align: right;\n",
       "    }\n",
       "</style>\n",
       "<table border=\"1\" class=\"dataframe\">\n",
       "  <thead>\n",
       "    <tr style=\"text-align: right;\">\n",
       "      <th></th>\n",
       "      <th>año</th>\n",
       "      <th>id_distrito</th>\n",
       "      <th>distrito</th>\n",
       "      <th>id_barrio</th>\n",
       "      <th>barrio</th>\n",
       "      <th>id_uso</th>\n",
       "      <th>uso</th>\n",
       "      <th>num_inmuebles</th>\n",
       "      <th>año_cons_medio</th>\n",
       "      <th>sup_cons</th>\n",
       "      <th>sup_suelo</th>\n",
       "      <th>valor_catastral</th>\n",
       "    </tr>\n",
       "  </thead>\n",
       "  <tbody>\n",
       "    <tr>\n",
       "      <th>0</th>\n",
       "      <td>2014</td>\n",
       "      <td>1</td>\n",
       "      <td>Centro</td>\n",
       "      <td>11</td>\n",
       "      <td>PALACIO</td>\n",
       "      <td>A</td>\n",
       "      <td>Almacén-Estacionamiento</td>\n",
       "      <td>3034</td>\n",
       "      <td>1969.0</td>\n",
       "      <td>214457.0</td>\n",
       "      <td>NaN</td>\n",
       "      <td>1.295259e+08</td>\n",
       "    </tr>\n",
       "    <tr>\n",
       "      <th>1</th>\n",
       "      <td>2014</td>\n",
       "      <td>1</td>\n",
       "      <td>Centro</td>\n",
       "      <td>11</td>\n",
       "      <td>PALACIO</td>\n",
       "      <td>C</td>\n",
       "      <td>Comercial</td>\n",
       "      <td>1407</td>\n",
       "      <td>1921.0</td>\n",
       "      <td>223552.0</td>\n",
       "      <td>NaN</td>\n",
       "      <td>4.076055e+08</td>\n",
       "    </tr>\n",
       "    <tr>\n",
       "      <th>2</th>\n",
       "      <td>2014</td>\n",
       "      <td>1</td>\n",
       "      <td>Centro</td>\n",
       "      <td>11</td>\n",
       "      <td>PALACIO</td>\n",
       "      <td>E</td>\n",
       "      <td>Cultural</td>\n",
       "      <td>36</td>\n",
       "      <td>1937.0</td>\n",
       "      <td>62963.0</td>\n",
       "      <td>NaN</td>\n",
       "      <td>7.582872e+07</td>\n",
       "    </tr>\n",
       "    <tr>\n",
       "      <th>3</th>\n",
       "      <td>2014</td>\n",
       "      <td>1</td>\n",
       "      <td>Centro</td>\n",
       "      <td>11</td>\n",
       "      <td>PALACIO</td>\n",
       "      <td>G</td>\n",
       "      <td>Ocio y Hostelería</td>\n",
       "      <td>254</td>\n",
       "      <td>1919.0</td>\n",
       "      <td>114226.0</td>\n",
       "      <td>NaN</td>\n",
       "      <td>1.954138e+08</td>\n",
       "    </tr>\n",
       "    <tr>\n",
       "      <th>4</th>\n",
       "      <td>2014</td>\n",
       "      <td>1</td>\n",
       "      <td>Centro</td>\n",
       "      <td>11</td>\n",
       "      <td>PALACIO</td>\n",
       "      <td>I</td>\n",
       "      <td>Industrial</td>\n",
       "      <td>22</td>\n",
       "      <td>1942.0</td>\n",
       "      <td>13228.0</td>\n",
       "      <td>NaN</td>\n",
       "      <td>1.180795e+07</td>\n",
       "    </tr>\n",
       "    <tr>\n",
       "      <th>5</th>\n",
       "      <td>2014</td>\n",
       "      <td>1</td>\n",
       "      <td>Centro</td>\n",
       "      <td>11</td>\n",
       "      <td>PALACIO</td>\n",
       "      <td>K</td>\n",
       "      <td>Deportivo</td>\n",
       "      <td>8</td>\n",
       "      <td>1946.0</td>\n",
       "      <td>7238.0</td>\n",
       "      <td>NaN</td>\n",
       "      <td>1.061466e+07</td>\n",
       "    </tr>\n",
       "    <tr>\n",
       "      <th>6</th>\n",
       "      <td>2014</td>\n",
       "      <td>1</td>\n",
       "      <td>Centro</td>\n",
       "      <td>11</td>\n",
       "      <td>PALACIO</td>\n",
       "      <td>M</td>\n",
       "      <td>Suelos sin edificar, obras de urbanización y j...</td>\n",
       "      <td>47</td>\n",
       "      <td>NaN</td>\n",
       "      <td>NaN</td>\n",
       "      <td>130010.0</td>\n",
       "      <td>1.991520e+07</td>\n",
       "    </tr>\n",
       "    <tr>\n",
       "      <th>7</th>\n",
       "      <td>2014</td>\n",
       "      <td>1</td>\n",
       "      <td>Centro</td>\n",
       "      <td>11</td>\n",
       "      <td>PALACIO</td>\n",
       "      <td>O</td>\n",
       "      <td>Oficinas</td>\n",
       "      <td>559</td>\n",
       "      <td>1947.0</td>\n",
       "      <td>196893.0</td>\n",
       "      <td>NaN</td>\n",
       "      <td>3.407841e+08</td>\n",
       "    </tr>\n",
       "    <tr>\n",
       "      <th>8</th>\n",
       "      <td>2014</td>\n",
       "      <td>1</td>\n",
       "      <td>Centro</td>\n",
       "      <td>11</td>\n",
       "      <td>PALACIO</td>\n",
       "      <td>P</td>\n",
       "      <td>Edificio Singular</td>\n",
       "      <td>15</td>\n",
       "      <td>1891.0</td>\n",
       "      <td>197518.0</td>\n",
       "      <td>NaN</td>\n",
       "      <td>2.816668e+08</td>\n",
       "    </tr>\n",
       "    <tr>\n",
       "      <th>9</th>\n",
       "      <td>2014</td>\n",
       "      <td>1</td>\n",
       "      <td>Centro</td>\n",
       "      <td>11</td>\n",
       "      <td>PALACIO</td>\n",
       "      <td>R</td>\n",
       "      <td>Religioso</td>\n",
       "      <td>17</td>\n",
       "      <td>1884.0</td>\n",
       "      <td>102718.0</td>\n",
       "      <td>NaN</td>\n",
       "      <td>1.142542e+08</td>\n",
       "    </tr>\n",
       "  </tbody>\n",
       "</table>\n",
       "</div>"
      ],
      "text/plain": [
       "    año  id_distrito distrito  id_barrio   barrio id_uso  \\\n",
       "0  2014            1   Centro         11  PALACIO      A   \n",
       "1  2014            1   Centro         11  PALACIO      C   \n",
       "2  2014            1   Centro         11  PALACIO      E   \n",
       "3  2014            1   Centro         11  PALACIO      G   \n",
       "4  2014            1   Centro         11  PALACIO      I   \n",
       "5  2014            1   Centro         11  PALACIO      K   \n",
       "6  2014            1   Centro         11  PALACIO      M   \n",
       "7  2014            1   Centro         11  PALACIO      O   \n",
       "8  2014            1   Centro         11  PALACIO      P   \n",
       "9  2014            1   Centro         11  PALACIO      R   \n",
       "\n",
       "                                                 uso  num_inmuebles  \\\n",
       "0                            Almacén-Estacionamiento           3034   \n",
       "1                                          Comercial           1407   \n",
       "2                                           Cultural             36   \n",
       "3                                  Ocio y Hostelería            254   \n",
       "4                                         Industrial             22   \n",
       "5                                          Deportivo              8   \n",
       "6  Suelos sin edificar, obras de urbanización y j...             47   \n",
       "7                                           Oficinas            559   \n",
       "8                                  Edificio Singular             15   \n",
       "9                                          Religioso             17   \n",
       "\n",
       "   año_cons_medio  sup_cons  sup_suelo  valor_catastral  \n",
       "0          1969.0  214457.0        NaN     1.295259e+08  \n",
       "1          1921.0  223552.0        NaN     4.076055e+08  \n",
       "2          1937.0   62963.0        NaN     7.582872e+07  \n",
       "3          1919.0  114226.0        NaN     1.954138e+08  \n",
       "4          1942.0   13228.0        NaN     1.180795e+07  \n",
       "5          1946.0    7238.0        NaN     1.061466e+07  \n",
       "6             NaN       NaN   130010.0     1.991520e+07  \n",
       "7          1947.0  196893.0        NaN     3.407841e+08  \n",
       "8          1891.0  197518.0        NaN     2.816668e+08  \n",
       "9          1884.0  102718.0        NaN     1.142542e+08  "
      ]
     },
     "execution_count": 146,
     "metadata": {},
     "output_type": "execute_result"
    }
   ],
   "source": [
    "catastro = pd.read_table('datos/catastro.tsv', nrows=10)\n",
    "catastro"
   ]
  },
  {
   "cell_type": "code",
   "execution_count": 147,
   "metadata": {},
   "outputs": [
    {
     "data": {
      "text/html": [
       "<div>\n",
       "<style scoped>\n",
       "    .dataframe tbody tr th:only-of-type {\n",
       "        vertical-align: middle;\n",
       "    }\n",
       "\n",
       "    .dataframe tbody tr th {\n",
       "        vertical-align: top;\n",
       "    }\n",
       "\n",
       "    .dataframe thead th {\n",
       "        text-align: right;\n",
       "    }\n",
       "</style>\n",
       "<table border=\"1\" class=\"dataframe\">\n",
       "  <thead>\n",
       "    <tr style=\"text-align: right;\">\n",
       "      <th></th>\n",
       "      <th>año</th>\n",
       "      <th>id_distrito</th>\n",
       "      <th>distrito</th>\n",
       "      <th>id_barrio</th>\n",
       "      <th>barrio</th>\n",
       "      <th>id_uso</th>\n",
       "      <th>uso</th>\n",
       "      <th>num_inmuebles</th>\n",
       "      <th>año_cons_medio</th>\n",
       "      <th>sup_cons</th>\n",
       "      <th>sup_suelo</th>\n",
       "      <th>valor_catastral</th>\n",
       "    </tr>\n",
       "  </thead>\n",
       "  <tbody>\n",
       "    <tr>\n",
       "      <th>0</th>\n",
       "      <td>False</td>\n",
       "      <td>False</td>\n",
       "      <td>False</td>\n",
       "      <td>False</td>\n",
       "      <td>False</td>\n",
       "      <td>False</td>\n",
       "      <td>False</td>\n",
       "      <td>False</td>\n",
       "      <td>False</td>\n",
       "      <td>False</td>\n",
       "      <td>True</td>\n",
       "      <td>False</td>\n",
       "    </tr>\n",
       "    <tr>\n",
       "      <th>1</th>\n",
       "      <td>False</td>\n",
       "      <td>False</td>\n",
       "      <td>False</td>\n",
       "      <td>False</td>\n",
       "      <td>False</td>\n",
       "      <td>False</td>\n",
       "      <td>False</td>\n",
       "      <td>False</td>\n",
       "      <td>False</td>\n",
       "      <td>False</td>\n",
       "      <td>True</td>\n",
       "      <td>False</td>\n",
       "    </tr>\n",
       "    <tr>\n",
       "      <th>2</th>\n",
       "      <td>False</td>\n",
       "      <td>False</td>\n",
       "      <td>False</td>\n",
       "      <td>False</td>\n",
       "      <td>False</td>\n",
       "      <td>False</td>\n",
       "      <td>False</td>\n",
       "      <td>False</td>\n",
       "      <td>False</td>\n",
       "      <td>False</td>\n",
       "      <td>True</td>\n",
       "      <td>False</td>\n",
       "    </tr>\n",
       "    <tr>\n",
       "      <th>3</th>\n",
       "      <td>False</td>\n",
       "      <td>False</td>\n",
       "      <td>False</td>\n",
       "      <td>False</td>\n",
       "      <td>False</td>\n",
       "      <td>False</td>\n",
       "      <td>False</td>\n",
       "      <td>False</td>\n",
       "      <td>False</td>\n",
       "      <td>False</td>\n",
       "      <td>True</td>\n",
       "      <td>False</td>\n",
       "    </tr>\n",
       "    <tr>\n",
       "      <th>4</th>\n",
       "      <td>False</td>\n",
       "      <td>False</td>\n",
       "      <td>False</td>\n",
       "      <td>False</td>\n",
       "      <td>False</td>\n",
       "      <td>False</td>\n",
       "      <td>False</td>\n",
       "      <td>False</td>\n",
       "      <td>False</td>\n",
       "      <td>False</td>\n",
       "      <td>True</td>\n",
       "      <td>False</td>\n",
       "    </tr>\n",
       "    <tr>\n",
       "      <th>5</th>\n",
       "      <td>False</td>\n",
       "      <td>False</td>\n",
       "      <td>False</td>\n",
       "      <td>False</td>\n",
       "      <td>False</td>\n",
       "      <td>False</td>\n",
       "      <td>False</td>\n",
       "      <td>False</td>\n",
       "      <td>False</td>\n",
       "      <td>False</td>\n",
       "      <td>True</td>\n",
       "      <td>False</td>\n",
       "    </tr>\n",
       "    <tr>\n",
       "      <th>6</th>\n",
       "      <td>False</td>\n",
       "      <td>False</td>\n",
       "      <td>False</td>\n",
       "      <td>False</td>\n",
       "      <td>False</td>\n",
       "      <td>False</td>\n",
       "      <td>False</td>\n",
       "      <td>False</td>\n",
       "      <td>True</td>\n",
       "      <td>True</td>\n",
       "      <td>False</td>\n",
       "      <td>False</td>\n",
       "    </tr>\n",
       "    <tr>\n",
       "      <th>7</th>\n",
       "      <td>False</td>\n",
       "      <td>False</td>\n",
       "      <td>False</td>\n",
       "      <td>False</td>\n",
       "      <td>False</td>\n",
       "      <td>False</td>\n",
       "      <td>False</td>\n",
       "      <td>False</td>\n",
       "      <td>False</td>\n",
       "      <td>False</td>\n",
       "      <td>True</td>\n",
       "      <td>False</td>\n",
       "    </tr>\n",
       "    <tr>\n",
       "      <th>8</th>\n",
       "      <td>False</td>\n",
       "      <td>False</td>\n",
       "      <td>False</td>\n",
       "      <td>False</td>\n",
       "      <td>False</td>\n",
       "      <td>False</td>\n",
       "      <td>False</td>\n",
       "      <td>False</td>\n",
       "      <td>False</td>\n",
       "      <td>False</td>\n",
       "      <td>True</td>\n",
       "      <td>False</td>\n",
       "    </tr>\n",
       "    <tr>\n",
       "      <th>9</th>\n",
       "      <td>False</td>\n",
       "      <td>False</td>\n",
       "      <td>False</td>\n",
       "      <td>False</td>\n",
       "      <td>False</td>\n",
       "      <td>False</td>\n",
       "      <td>False</td>\n",
       "      <td>False</td>\n",
       "      <td>False</td>\n",
       "      <td>False</td>\n",
       "      <td>True</td>\n",
       "      <td>False</td>\n",
       "    </tr>\n",
       "  </tbody>\n",
       "</table>\n",
       "</div>"
      ],
      "text/plain": [
       "     año  id_distrito  distrito  id_barrio  barrio  id_uso    uso  \\\n",
       "0  False        False     False      False   False   False  False   \n",
       "1  False        False     False      False   False   False  False   \n",
       "2  False        False     False      False   False   False  False   \n",
       "3  False        False     False      False   False   False  False   \n",
       "4  False        False     False      False   False   False  False   \n",
       "5  False        False     False      False   False   False  False   \n",
       "6  False        False     False      False   False   False  False   \n",
       "7  False        False     False      False   False   False  False   \n",
       "8  False        False     False      False   False   False  False   \n",
       "9  False        False     False      False   False   False  False   \n",
       "\n",
       "   num_inmuebles  año_cons_medio  sup_cons  sup_suelo  valor_catastral  \n",
       "0          False           False     False       True            False  \n",
       "1          False           False     False       True            False  \n",
       "2          False           False     False       True            False  \n",
       "3          False           False     False       True            False  \n",
       "4          False           False     False       True            False  \n",
       "5          False           False     False       True            False  \n",
       "6          False            True      True      False            False  \n",
       "7          False           False     False       True            False  \n",
       "8          False           False     False       True            False  \n",
       "9          False           False     False       True            False  "
      ]
     },
     "execution_count": 147,
     "metadata": {},
     "output_type": "execute_result"
    }
   ],
   "source": [
    "# Detección de valores nulos\n",
    "catastro.isnull()"
   ]
  },
  {
   "cell_type": "code",
   "execution_count": 148,
   "metadata": {},
   "outputs": [
    {
     "data": {
      "text/html": [
       "<div>\n",
       "<style scoped>\n",
       "    .dataframe tbody tr th:only-of-type {\n",
       "        vertical-align: middle;\n",
       "    }\n",
       "\n",
       "    .dataframe tbody tr th {\n",
       "        vertical-align: top;\n",
       "    }\n",
       "\n",
       "    .dataframe thead th {\n",
       "        text-align: right;\n",
       "    }\n",
       "</style>\n",
       "<table border=\"1\" class=\"dataframe\">\n",
       "  <thead>\n",
       "    <tr style=\"text-align: right;\">\n",
       "      <th></th>\n",
       "      <th>año</th>\n",
       "      <th>id_distrito</th>\n",
       "      <th>distrito</th>\n",
       "      <th>id_barrio</th>\n",
       "      <th>barrio</th>\n",
       "      <th>id_uso</th>\n",
       "      <th>uso</th>\n",
       "      <th>num_inmuebles</th>\n",
       "      <th>año_cons_medio</th>\n",
       "      <th>sup_cons</th>\n",
       "      <th>sup_suelo</th>\n",
       "      <th>valor_catastral</th>\n",
       "    </tr>\n",
       "  </thead>\n",
       "  <tbody>\n",
       "    <tr>\n",
       "      <th>0</th>\n",
       "      <td>True</td>\n",
       "      <td>True</td>\n",
       "      <td>True</td>\n",
       "      <td>True</td>\n",
       "      <td>True</td>\n",
       "      <td>True</td>\n",
       "      <td>True</td>\n",
       "      <td>True</td>\n",
       "      <td>True</td>\n",
       "      <td>True</td>\n",
       "      <td>False</td>\n",
       "      <td>True</td>\n",
       "    </tr>\n",
       "    <tr>\n",
       "      <th>1</th>\n",
       "      <td>True</td>\n",
       "      <td>True</td>\n",
       "      <td>True</td>\n",
       "      <td>True</td>\n",
       "      <td>True</td>\n",
       "      <td>True</td>\n",
       "      <td>True</td>\n",
       "      <td>True</td>\n",
       "      <td>True</td>\n",
       "      <td>True</td>\n",
       "      <td>False</td>\n",
       "      <td>True</td>\n",
       "    </tr>\n",
       "    <tr>\n",
       "      <th>2</th>\n",
       "      <td>True</td>\n",
       "      <td>True</td>\n",
       "      <td>True</td>\n",
       "      <td>True</td>\n",
       "      <td>True</td>\n",
       "      <td>True</td>\n",
       "      <td>True</td>\n",
       "      <td>True</td>\n",
       "      <td>True</td>\n",
       "      <td>True</td>\n",
       "      <td>False</td>\n",
       "      <td>True</td>\n",
       "    </tr>\n",
       "    <tr>\n",
       "      <th>3</th>\n",
       "      <td>True</td>\n",
       "      <td>True</td>\n",
       "      <td>True</td>\n",
       "      <td>True</td>\n",
       "      <td>True</td>\n",
       "      <td>True</td>\n",
       "      <td>True</td>\n",
       "      <td>True</td>\n",
       "      <td>True</td>\n",
       "      <td>True</td>\n",
       "      <td>False</td>\n",
       "      <td>True</td>\n",
       "    </tr>\n",
       "    <tr>\n",
       "      <th>4</th>\n",
       "      <td>True</td>\n",
       "      <td>True</td>\n",
       "      <td>True</td>\n",
       "      <td>True</td>\n",
       "      <td>True</td>\n",
       "      <td>True</td>\n",
       "      <td>True</td>\n",
       "      <td>True</td>\n",
       "      <td>True</td>\n",
       "      <td>True</td>\n",
       "      <td>False</td>\n",
       "      <td>True</td>\n",
       "    </tr>\n",
       "    <tr>\n",
       "      <th>5</th>\n",
       "      <td>True</td>\n",
       "      <td>True</td>\n",
       "      <td>True</td>\n",
       "      <td>True</td>\n",
       "      <td>True</td>\n",
       "      <td>True</td>\n",
       "      <td>True</td>\n",
       "      <td>True</td>\n",
       "      <td>True</td>\n",
       "      <td>True</td>\n",
       "      <td>False</td>\n",
       "      <td>True</td>\n",
       "    </tr>\n",
       "    <tr>\n",
       "      <th>6</th>\n",
       "      <td>True</td>\n",
       "      <td>True</td>\n",
       "      <td>True</td>\n",
       "      <td>True</td>\n",
       "      <td>True</td>\n",
       "      <td>True</td>\n",
       "      <td>True</td>\n",
       "      <td>True</td>\n",
       "      <td>False</td>\n",
       "      <td>False</td>\n",
       "      <td>True</td>\n",
       "      <td>True</td>\n",
       "    </tr>\n",
       "    <tr>\n",
       "      <th>7</th>\n",
       "      <td>True</td>\n",
       "      <td>True</td>\n",
       "      <td>True</td>\n",
       "      <td>True</td>\n",
       "      <td>True</td>\n",
       "      <td>True</td>\n",
       "      <td>True</td>\n",
       "      <td>True</td>\n",
       "      <td>True</td>\n",
       "      <td>True</td>\n",
       "      <td>False</td>\n",
       "      <td>True</td>\n",
       "    </tr>\n",
       "    <tr>\n",
       "      <th>8</th>\n",
       "      <td>True</td>\n",
       "      <td>True</td>\n",
       "      <td>True</td>\n",
       "      <td>True</td>\n",
       "      <td>True</td>\n",
       "      <td>True</td>\n",
       "      <td>True</td>\n",
       "      <td>True</td>\n",
       "      <td>True</td>\n",
       "      <td>True</td>\n",
       "      <td>False</td>\n",
       "      <td>True</td>\n",
       "    </tr>\n",
       "    <tr>\n",
       "      <th>9</th>\n",
       "      <td>True</td>\n",
       "      <td>True</td>\n",
       "      <td>True</td>\n",
       "      <td>True</td>\n",
       "      <td>True</td>\n",
       "      <td>True</td>\n",
       "      <td>True</td>\n",
       "      <td>True</td>\n",
       "      <td>True</td>\n",
       "      <td>True</td>\n",
       "      <td>False</td>\n",
       "      <td>True</td>\n",
       "    </tr>\n",
       "  </tbody>\n",
       "</table>\n",
       "</div>"
      ],
      "text/plain": [
       "    año  id_distrito  distrito  id_barrio  barrio  id_uso   uso  \\\n",
       "0  True         True      True       True    True    True  True   \n",
       "1  True         True      True       True    True    True  True   \n",
       "2  True         True      True       True    True    True  True   \n",
       "3  True         True      True       True    True    True  True   \n",
       "4  True         True      True       True    True    True  True   \n",
       "5  True         True      True       True    True    True  True   \n",
       "6  True         True      True       True    True    True  True   \n",
       "7  True         True      True       True    True    True  True   \n",
       "8  True         True      True       True    True    True  True   \n",
       "9  True         True      True       True    True    True  True   \n",
       "\n",
       "   num_inmuebles  año_cons_medio  sup_cons  sup_suelo  valor_catastral  \n",
       "0           True            True      True      False             True  \n",
       "1           True            True      True      False             True  \n",
       "2           True            True      True      False             True  \n",
       "3           True            True      True      False             True  \n",
       "4           True            True      True      False             True  \n",
       "5           True            True      True      False             True  \n",
       "6           True           False     False       True             True  \n",
       "7           True            True      True      False             True  \n",
       "8           True            True      True      False             True  \n",
       "9           True            True      True      False             True  "
      ]
     },
     "execution_count": 148,
     "metadata": {},
     "output_type": "execute_result"
    }
   ],
   "source": [
    "# Detección de valores no nulos\n",
    "catastro.notnull()"
   ]
  },
  {
   "cell_type": "code",
   "execution_count": 159,
   "metadata": {},
   "outputs": [
    {
     "data": {
      "text/plain": [
       "año                0\n",
       "id_distrito        0\n",
       "distrito           0\n",
       "id_barrio          0\n",
       "barrio             0\n",
       "id_uso             0\n",
       "uso                0\n",
       "num_inmuebles      0\n",
       "año_cons_medio     1\n",
       "sup_cons           1\n",
       "sup_suelo          9\n",
       "valor_catastral    0\n",
       "dtype: int64"
      ]
     },
     "execution_count": 159,
     "metadata": {},
     "output_type": "execute_result"
    }
   ],
   "source": [
    "catastro.isnull().sum()  #saber la cantidad de NaN"
   ]
  },
  {
   "cell_type": "markdown",
   "metadata": {},
   "source": [
    "#### Eliminación de registros con <i>missing values</i>\n",
    "\n",
    "Aunque SIEMPRE conviene hacer un estudio cuidadoso del por qué y la casuística de los valores nulos, uno de los posibles tratamientos a aplicar es su eliminación directa del set de datos. Pandas, nos ofrece el método <b>dropna</b> para llevar a cabo esta tarea. Los parámetros de este método son:<br/>\n",
    "<ul>\n",
    "<li><b>axis:</b> Selección de eje sobre el que realizar la eliminación.</li>\n",
    "<li><b>how:</b> Tomará posibles valores 'any' y 'all' e indica si se debe eliminar la fila o columna cuando haya uno o más valores NaN o cuando todos los valores sean NaN.</li>\n",
    "<li><b>thresh:</b> Permite indicar, el número de observaciones no nulas que se deben tener para no realizar el borrado.</li>\n",
    "</ul>"
   ]
  },
  {
   "cell_type": "code",
   "execution_count": 149,
   "metadata": {},
   "outputs": [
    {
     "data": {
      "text/html": [
       "<div>\n",
       "<style scoped>\n",
       "    .dataframe tbody tr th:only-of-type {\n",
       "        vertical-align: middle;\n",
       "    }\n",
       "\n",
       "    .dataframe tbody tr th {\n",
       "        vertical-align: top;\n",
       "    }\n",
       "\n",
       "    .dataframe thead th {\n",
       "        text-align: right;\n",
       "    }\n",
       "</style>\n",
       "<table border=\"1\" class=\"dataframe\">\n",
       "  <thead>\n",
       "    <tr style=\"text-align: right;\">\n",
       "      <th></th>\n",
       "      <th>año</th>\n",
       "      <th>id_distrito</th>\n",
       "      <th>distrito</th>\n",
       "      <th>id_barrio</th>\n",
       "      <th>barrio</th>\n",
       "      <th>id_uso</th>\n",
       "      <th>uso</th>\n",
       "      <th>num_inmuebles</th>\n",
       "      <th>año_cons_medio</th>\n",
       "      <th>sup_cons</th>\n",
       "      <th>sup_suelo</th>\n",
       "      <th>valor_catastral</th>\n",
       "    </tr>\n",
       "  </thead>\n",
       "  <tbody>\n",
       "    <tr>\n",
       "      <th>0</th>\n",
       "      <td>2014</td>\n",
       "      <td>1</td>\n",
       "      <td>Centro</td>\n",
       "      <td>11</td>\n",
       "      <td>PALACIO</td>\n",
       "      <td>A</td>\n",
       "      <td>Almacén-Estacionamiento</td>\n",
       "      <td>3034</td>\n",
       "      <td>1969.0</td>\n",
       "      <td>214457.0</td>\n",
       "      <td>NaN</td>\n",
       "      <td>1.295259e+08</td>\n",
       "    </tr>\n",
       "    <tr>\n",
       "      <th>1</th>\n",
       "      <td>2014</td>\n",
       "      <td>1</td>\n",
       "      <td>Centro</td>\n",
       "      <td>11</td>\n",
       "      <td>PALACIO</td>\n",
       "      <td>C</td>\n",
       "      <td>Comercial</td>\n",
       "      <td>1407</td>\n",
       "      <td>1921.0</td>\n",
       "      <td>223552.0</td>\n",
       "      <td>NaN</td>\n",
       "      <td>4.076055e+08</td>\n",
       "    </tr>\n",
       "    <tr>\n",
       "      <th>2</th>\n",
       "      <td>2014</td>\n",
       "      <td>1</td>\n",
       "      <td>Centro</td>\n",
       "      <td>11</td>\n",
       "      <td>PALACIO</td>\n",
       "      <td>E</td>\n",
       "      <td>Cultural</td>\n",
       "      <td>36</td>\n",
       "      <td>1937.0</td>\n",
       "      <td>62963.0</td>\n",
       "      <td>NaN</td>\n",
       "      <td>7.582872e+07</td>\n",
       "    </tr>\n",
       "    <tr>\n",
       "      <th>3</th>\n",
       "      <td>2014</td>\n",
       "      <td>1</td>\n",
       "      <td>Centro</td>\n",
       "      <td>11</td>\n",
       "      <td>PALACIO</td>\n",
       "      <td>G</td>\n",
       "      <td>Ocio y Hostelería</td>\n",
       "      <td>254</td>\n",
       "      <td>1919.0</td>\n",
       "      <td>114226.0</td>\n",
       "      <td>NaN</td>\n",
       "      <td>1.954138e+08</td>\n",
       "    </tr>\n",
       "    <tr>\n",
       "      <th>4</th>\n",
       "      <td>2014</td>\n",
       "      <td>1</td>\n",
       "      <td>Centro</td>\n",
       "      <td>11</td>\n",
       "      <td>PALACIO</td>\n",
       "      <td>I</td>\n",
       "      <td>Industrial</td>\n",
       "      <td>22</td>\n",
       "      <td>1942.0</td>\n",
       "      <td>13228.0</td>\n",
       "      <td>NaN</td>\n",
       "      <td>1.180795e+07</td>\n",
       "    </tr>\n",
       "    <tr>\n",
       "      <th>5</th>\n",
       "      <td>2014</td>\n",
       "      <td>1</td>\n",
       "      <td>Centro</td>\n",
       "      <td>11</td>\n",
       "      <td>PALACIO</td>\n",
       "      <td>K</td>\n",
       "      <td>Deportivo</td>\n",
       "      <td>8</td>\n",
       "      <td>1946.0</td>\n",
       "      <td>7238.0</td>\n",
       "      <td>NaN</td>\n",
       "      <td>1.061466e+07</td>\n",
       "    </tr>\n",
       "    <tr>\n",
       "      <th>6</th>\n",
       "      <td>2014</td>\n",
       "      <td>1</td>\n",
       "      <td>Centro</td>\n",
       "      <td>11</td>\n",
       "      <td>PALACIO</td>\n",
       "      <td>M</td>\n",
       "      <td>Suelos sin edificar, obras de urbanización y j...</td>\n",
       "      <td>47</td>\n",
       "      <td>NaN</td>\n",
       "      <td>NaN</td>\n",
       "      <td>130010.0</td>\n",
       "      <td>1.991520e+07</td>\n",
       "    </tr>\n",
       "    <tr>\n",
       "      <th>7</th>\n",
       "      <td>2014</td>\n",
       "      <td>1</td>\n",
       "      <td>Centro</td>\n",
       "      <td>11</td>\n",
       "      <td>PALACIO</td>\n",
       "      <td>O</td>\n",
       "      <td>Oficinas</td>\n",
       "      <td>559</td>\n",
       "      <td>1947.0</td>\n",
       "      <td>196893.0</td>\n",
       "      <td>NaN</td>\n",
       "      <td>3.407841e+08</td>\n",
       "    </tr>\n",
       "    <tr>\n",
       "      <th>8</th>\n",
       "      <td>2014</td>\n",
       "      <td>1</td>\n",
       "      <td>Centro</td>\n",
       "      <td>11</td>\n",
       "      <td>PALACIO</td>\n",
       "      <td>P</td>\n",
       "      <td>Edificio Singular</td>\n",
       "      <td>15</td>\n",
       "      <td>1891.0</td>\n",
       "      <td>197518.0</td>\n",
       "      <td>NaN</td>\n",
       "      <td>2.816668e+08</td>\n",
       "    </tr>\n",
       "    <tr>\n",
       "      <th>9</th>\n",
       "      <td>2014</td>\n",
       "      <td>1</td>\n",
       "      <td>Centro</td>\n",
       "      <td>11</td>\n",
       "      <td>PALACIO</td>\n",
       "      <td>R</td>\n",
       "      <td>Religioso</td>\n",
       "      <td>17</td>\n",
       "      <td>1884.0</td>\n",
       "      <td>102718.0</td>\n",
       "      <td>NaN</td>\n",
       "      <td>1.142542e+08</td>\n",
       "    </tr>\n",
       "  </tbody>\n",
       "</table>\n",
       "</div>"
      ],
      "text/plain": [
       "    año  id_distrito distrito  id_barrio   barrio id_uso  \\\n",
       "0  2014            1   Centro         11  PALACIO      A   \n",
       "1  2014            1   Centro         11  PALACIO      C   \n",
       "2  2014            1   Centro         11  PALACIO      E   \n",
       "3  2014            1   Centro         11  PALACIO      G   \n",
       "4  2014            1   Centro         11  PALACIO      I   \n",
       "5  2014            1   Centro         11  PALACIO      K   \n",
       "6  2014            1   Centro         11  PALACIO      M   \n",
       "7  2014            1   Centro         11  PALACIO      O   \n",
       "8  2014            1   Centro         11  PALACIO      P   \n",
       "9  2014            1   Centro         11  PALACIO      R   \n",
       "\n",
       "                                                 uso  num_inmuebles  \\\n",
       "0                            Almacén-Estacionamiento           3034   \n",
       "1                                          Comercial           1407   \n",
       "2                                           Cultural             36   \n",
       "3                                  Ocio y Hostelería            254   \n",
       "4                                         Industrial             22   \n",
       "5                                          Deportivo              8   \n",
       "6  Suelos sin edificar, obras de urbanización y j...             47   \n",
       "7                                           Oficinas            559   \n",
       "8                                  Edificio Singular             15   \n",
       "9                                          Religioso             17   \n",
       "\n",
       "   año_cons_medio  sup_cons  sup_suelo  valor_catastral  \n",
       "0          1969.0  214457.0        NaN     1.295259e+08  \n",
       "1          1921.0  223552.0        NaN     4.076055e+08  \n",
       "2          1937.0   62963.0        NaN     7.582872e+07  \n",
       "3          1919.0  114226.0        NaN     1.954138e+08  \n",
       "4          1942.0   13228.0        NaN     1.180795e+07  \n",
       "5          1946.0    7238.0        NaN     1.061466e+07  \n",
       "6             NaN       NaN   130010.0     1.991520e+07  \n",
       "7          1947.0  196893.0        NaN     3.407841e+08  \n",
       "8          1891.0  197518.0        NaN     2.816668e+08  \n",
       "9          1884.0  102718.0        NaN     1.142542e+08  "
      ]
     },
     "execution_count": 149,
     "metadata": {},
     "output_type": "execute_result"
    }
   ],
   "source": [
    "catastro = pd.read_table('datos/catastro.tsv', nrows=10)\n",
    "catastro"
   ]
  },
  {
   "cell_type": "code",
   "execution_count": 150,
   "metadata": {},
   "outputs": [
    {
     "data": {
      "text/html": [
       "<div>\n",
       "<style scoped>\n",
       "    .dataframe tbody tr th:only-of-type {\n",
       "        vertical-align: middle;\n",
       "    }\n",
       "\n",
       "    .dataframe tbody tr th {\n",
       "        vertical-align: top;\n",
       "    }\n",
       "\n",
       "    .dataframe thead th {\n",
       "        text-align: right;\n",
       "    }\n",
       "</style>\n",
       "<table border=\"1\" class=\"dataframe\">\n",
       "  <thead>\n",
       "    <tr style=\"text-align: right;\">\n",
       "      <th></th>\n",
       "      <th>año</th>\n",
       "      <th>id_distrito</th>\n",
       "      <th>distrito</th>\n",
       "      <th>id_barrio</th>\n",
       "      <th>barrio</th>\n",
       "      <th>id_uso</th>\n",
       "      <th>uso</th>\n",
       "      <th>num_inmuebles</th>\n",
       "      <th>año_cons_medio</th>\n",
       "      <th>sup_cons</th>\n",
       "      <th>sup_suelo</th>\n",
       "      <th>valor_catastral</th>\n",
       "    </tr>\n",
       "  </thead>\n",
       "  <tbody>\n",
       "  </tbody>\n",
       "</table>\n",
       "</div>"
      ],
      "text/plain": [
       "Empty DataFrame\n",
       "Columns: [año, id_distrito, distrito, id_barrio, barrio, id_uso, uso, num_inmuebles, año_cons_medio, sup_cons, sup_suelo, valor_catastral]\n",
       "Index: []"
      ]
     },
     "execution_count": 150,
     "metadata": {},
     "output_type": "execute_result"
    }
   ],
   "source": [
    "# Eliminación de filas con al menos 1 NA\n",
    "catastro.dropna(axis=0, how='any')"
   ]
  },
  {
   "cell_type": "code",
   "execution_count": 151,
   "metadata": {},
   "outputs": [
    {
     "data": {
      "text/html": [
       "<div>\n",
       "<style scoped>\n",
       "    .dataframe tbody tr th:only-of-type {\n",
       "        vertical-align: middle;\n",
       "    }\n",
       "\n",
       "    .dataframe tbody tr th {\n",
       "        vertical-align: top;\n",
       "    }\n",
       "\n",
       "    .dataframe thead th {\n",
       "        text-align: right;\n",
       "    }\n",
       "</style>\n",
       "<table border=\"1\" class=\"dataframe\">\n",
       "  <thead>\n",
       "    <tr style=\"text-align: right;\">\n",
       "      <th></th>\n",
       "      <th>año</th>\n",
       "      <th>id_distrito</th>\n",
       "      <th>distrito</th>\n",
       "      <th>id_barrio</th>\n",
       "      <th>barrio</th>\n",
       "      <th>id_uso</th>\n",
       "      <th>uso</th>\n",
       "      <th>num_inmuebles</th>\n",
       "      <th>valor_catastral</th>\n",
       "    </tr>\n",
       "  </thead>\n",
       "  <tbody>\n",
       "    <tr>\n",
       "      <th>0</th>\n",
       "      <td>2014</td>\n",
       "      <td>1</td>\n",
       "      <td>Centro</td>\n",
       "      <td>11</td>\n",
       "      <td>PALACIO</td>\n",
       "      <td>A</td>\n",
       "      <td>Almacén-Estacionamiento</td>\n",
       "      <td>3034</td>\n",
       "      <td>1.295259e+08</td>\n",
       "    </tr>\n",
       "    <tr>\n",
       "      <th>1</th>\n",
       "      <td>2014</td>\n",
       "      <td>1</td>\n",
       "      <td>Centro</td>\n",
       "      <td>11</td>\n",
       "      <td>PALACIO</td>\n",
       "      <td>C</td>\n",
       "      <td>Comercial</td>\n",
       "      <td>1407</td>\n",
       "      <td>4.076055e+08</td>\n",
       "    </tr>\n",
       "    <tr>\n",
       "      <th>2</th>\n",
       "      <td>2014</td>\n",
       "      <td>1</td>\n",
       "      <td>Centro</td>\n",
       "      <td>11</td>\n",
       "      <td>PALACIO</td>\n",
       "      <td>E</td>\n",
       "      <td>Cultural</td>\n",
       "      <td>36</td>\n",
       "      <td>7.582872e+07</td>\n",
       "    </tr>\n",
       "    <tr>\n",
       "      <th>3</th>\n",
       "      <td>2014</td>\n",
       "      <td>1</td>\n",
       "      <td>Centro</td>\n",
       "      <td>11</td>\n",
       "      <td>PALACIO</td>\n",
       "      <td>G</td>\n",
       "      <td>Ocio y Hostelería</td>\n",
       "      <td>254</td>\n",
       "      <td>1.954138e+08</td>\n",
       "    </tr>\n",
       "    <tr>\n",
       "      <th>4</th>\n",
       "      <td>2014</td>\n",
       "      <td>1</td>\n",
       "      <td>Centro</td>\n",
       "      <td>11</td>\n",
       "      <td>PALACIO</td>\n",
       "      <td>I</td>\n",
       "      <td>Industrial</td>\n",
       "      <td>22</td>\n",
       "      <td>1.180795e+07</td>\n",
       "    </tr>\n",
       "    <tr>\n",
       "      <th>5</th>\n",
       "      <td>2014</td>\n",
       "      <td>1</td>\n",
       "      <td>Centro</td>\n",
       "      <td>11</td>\n",
       "      <td>PALACIO</td>\n",
       "      <td>K</td>\n",
       "      <td>Deportivo</td>\n",
       "      <td>8</td>\n",
       "      <td>1.061466e+07</td>\n",
       "    </tr>\n",
       "    <tr>\n",
       "      <th>6</th>\n",
       "      <td>2014</td>\n",
       "      <td>1</td>\n",
       "      <td>Centro</td>\n",
       "      <td>11</td>\n",
       "      <td>PALACIO</td>\n",
       "      <td>M</td>\n",
       "      <td>Suelos sin edificar, obras de urbanización y j...</td>\n",
       "      <td>47</td>\n",
       "      <td>1.991520e+07</td>\n",
       "    </tr>\n",
       "    <tr>\n",
       "      <th>7</th>\n",
       "      <td>2014</td>\n",
       "      <td>1</td>\n",
       "      <td>Centro</td>\n",
       "      <td>11</td>\n",
       "      <td>PALACIO</td>\n",
       "      <td>O</td>\n",
       "      <td>Oficinas</td>\n",
       "      <td>559</td>\n",
       "      <td>3.407841e+08</td>\n",
       "    </tr>\n",
       "    <tr>\n",
       "      <th>8</th>\n",
       "      <td>2014</td>\n",
       "      <td>1</td>\n",
       "      <td>Centro</td>\n",
       "      <td>11</td>\n",
       "      <td>PALACIO</td>\n",
       "      <td>P</td>\n",
       "      <td>Edificio Singular</td>\n",
       "      <td>15</td>\n",
       "      <td>2.816668e+08</td>\n",
       "    </tr>\n",
       "    <tr>\n",
       "      <th>9</th>\n",
       "      <td>2014</td>\n",
       "      <td>1</td>\n",
       "      <td>Centro</td>\n",
       "      <td>11</td>\n",
       "      <td>PALACIO</td>\n",
       "      <td>R</td>\n",
       "      <td>Religioso</td>\n",
       "      <td>17</td>\n",
       "      <td>1.142542e+08</td>\n",
       "    </tr>\n",
       "  </tbody>\n",
       "</table>\n",
       "</div>"
      ],
      "text/plain": [
       "    año  id_distrito distrito  id_barrio   barrio id_uso  \\\n",
       "0  2014            1   Centro         11  PALACIO      A   \n",
       "1  2014            1   Centro         11  PALACIO      C   \n",
       "2  2014            1   Centro         11  PALACIO      E   \n",
       "3  2014            1   Centro         11  PALACIO      G   \n",
       "4  2014            1   Centro         11  PALACIO      I   \n",
       "5  2014            1   Centro         11  PALACIO      K   \n",
       "6  2014            1   Centro         11  PALACIO      M   \n",
       "7  2014            1   Centro         11  PALACIO      O   \n",
       "8  2014            1   Centro         11  PALACIO      P   \n",
       "9  2014            1   Centro         11  PALACIO      R   \n",
       "\n",
       "                                                 uso  num_inmuebles  \\\n",
       "0                            Almacén-Estacionamiento           3034   \n",
       "1                                          Comercial           1407   \n",
       "2                                           Cultural             36   \n",
       "3                                  Ocio y Hostelería            254   \n",
       "4                                         Industrial             22   \n",
       "5                                          Deportivo              8   \n",
       "6  Suelos sin edificar, obras de urbanización y j...             47   \n",
       "7                                           Oficinas            559   \n",
       "8                                  Edificio Singular             15   \n",
       "9                                          Religioso             17   \n",
       "\n",
       "   valor_catastral  \n",
       "0     1.295259e+08  \n",
       "1     4.076055e+08  \n",
       "2     7.582872e+07  \n",
       "3     1.954138e+08  \n",
       "4     1.180795e+07  \n",
       "5     1.061466e+07  \n",
       "6     1.991520e+07  \n",
       "7     3.407841e+08  \n",
       "8     2.816668e+08  \n",
       "9     1.142542e+08  "
      ]
     },
     "execution_count": 151,
     "metadata": {},
     "output_type": "execute_result"
    }
   ],
   "source": [
    "# Eliminación de columnas con al menos 1 NA\n",
    "catastro.dropna(axis=1, how='any')"
   ]
  },
  {
   "cell_type": "code",
   "execution_count": 152,
   "metadata": {},
   "outputs": [
    {
     "data": {
      "text/html": [
       "<div>\n",
       "<style scoped>\n",
       "    .dataframe tbody tr th:only-of-type {\n",
       "        vertical-align: middle;\n",
       "    }\n",
       "\n",
       "    .dataframe tbody tr th {\n",
       "        vertical-align: top;\n",
       "    }\n",
       "\n",
       "    .dataframe thead th {\n",
       "        text-align: right;\n",
       "    }\n",
       "</style>\n",
       "<table border=\"1\" class=\"dataframe\">\n",
       "  <thead>\n",
       "    <tr style=\"text-align: right;\">\n",
       "      <th></th>\n",
       "      <th>año</th>\n",
       "      <th>id_distrito</th>\n",
       "      <th>distrito</th>\n",
       "      <th>id_barrio</th>\n",
       "      <th>barrio</th>\n",
       "      <th>id_uso</th>\n",
       "      <th>uso</th>\n",
       "      <th>num_inmuebles</th>\n",
       "      <th>año_cons_medio</th>\n",
       "      <th>sup_cons</th>\n",
       "      <th>sup_suelo</th>\n",
       "      <th>valor_catastral</th>\n",
       "    </tr>\n",
       "  </thead>\n",
       "  <tbody>\n",
       "    <tr>\n",
       "      <th>0</th>\n",
       "      <td>2014</td>\n",
       "      <td>1</td>\n",
       "      <td>Centro</td>\n",
       "      <td>11</td>\n",
       "      <td>PALACIO</td>\n",
       "      <td>A</td>\n",
       "      <td>Almacén-Estacionamiento</td>\n",
       "      <td>3034</td>\n",
       "      <td>1969.0</td>\n",
       "      <td>214457.0</td>\n",
       "      <td>NaN</td>\n",
       "      <td>1.295259e+08</td>\n",
       "    </tr>\n",
       "    <tr>\n",
       "      <th>1</th>\n",
       "      <td>2014</td>\n",
       "      <td>1</td>\n",
       "      <td>Centro</td>\n",
       "      <td>11</td>\n",
       "      <td>PALACIO</td>\n",
       "      <td>C</td>\n",
       "      <td>Comercial</td>\n",
       "      <td>1407</td>\n",
       "      <td>1921.0</td>\n",
       "      <td>223552.0</td>\n",
       "      <td>NaN</td>\n",
       "      <td>4.076055e+08</td>\n",
       "    </tr>\n",
       "    <tr>\n",
       "      <th>2</th>\n",
       "      <td>2014</td>\n",
       "      <td>1</td>\n",
       "      <td>Centro</td>\n",
       "      <td>11</td>\n",
       "      <td>PALACIO</td>\n",
       "      <td>E</td>\n",
       "      <td>Cultural</td>\n",
       "      <td>36</td>\n",
       "      <td>1937.0</td>\n",
       "      <td>62963.0</td>\n",
       "      <td>NaN</td>\n",
       "      <td>7.582872e+07</td>\n",
       "    </tr>\n",
       "    <tr>\n",
       "      <th>3</th>\n",
       "      <td>2014</td>\n",
       "      <td>1</td>\n",
       "      <td>Centro</td>\n",
       "      <td>11</td>\n",
       "      <td>PALACIO</td>\n",
       "      <td>G</td>\n",
       "      <td>Ocio y Hostelería</td>\n",
       "      <td>254</td>\n",
       "      <td>1919.0</td>\n",
       "      <td>114226.0</td>\n",
       "      <td>NaN</td>\n",
       "      <td>1.954138e+08</td>\n",
       "    </tr>\n",
       "    <tr>\n",
       "      <th>4</th>\n",
       "      <td>2014</td>\n",
       "      <td>1</td>\n",
       "      <td>Centro</td>\n",
       "      <td>11</td>\n",
       "      <td>PALACIO</td>\n",
       "      <td>I</td>\n",
       "      <td>Industrial</td>\n",
       "      <td>22</td>\n",
       "      <td>1942.0</td>\n",
       "      <td>13228.0</td>\n",
       "      <td>NaN</td>\n",
       "      <td>1.180795e+07</td>\n",
       "    </tr>\n",
       "    <tr>\n",
       "      <th>5</th>\n",
       "      <td>2014</td>\n",
       "      <td>1</td>\n",
       "      <td>Centro</td>\n",
       "      <td>11</td>\n",
       "      <td>PALACIO</td>\n",
       "      <td>K</td>\n",
       "      <td>Deportivo</td>\n",
       "      <td>8</td>\n",
       "      <td>1946.0</td>\n",
       "      <td>7238.0</td>\n",
       "      <td>NaN</td>\n",
       "      <td>1.061466e+07</td>\n",
       "    </tr>\n",
       "    <tr>\n",
       "      <th>7</th>\n",
       "      <td>2014</td>\n",
       "      <td>1</td>\n",
       "      <td>Centro</td>\n",
       "      <td>11</td>\n",
       "      <td>PALACIO</td>\n",
       "      <td>O</td>\n",
       "      <td>Oficinas</td>\n",
       "      <td>559</td>\n",
       "      <td>1947.0</td>\n",
       "      <td>196893.0</td>\n",
       "      <td>NaN</td>\n",
       "      <td>3.407841e+08</td>\n",
       "    </tr>\n",
       "    <tr>\n",
       "      <th>8</th>\n",
       "      <td>2014</td>\n",
       "      <td>1</td>\n",
       "      <td>Centro</td>\n",
       "      <td>11</td>\n",
       "      <td>PALACIO</td>\n",
       "      <td>P</td>\n",
       "      <td>Edificio Singular</td>\n",
       "      <td>15</td>\n",
       "      <td>1891.0</td>\n",
       "      <td>197518.0</td>\n",
       "      <td>NaN</td>\n",
       "      <td>2.816668e+08</td>\n",
       "    </tr>\n",
       "    <tr>\n",
       "      <th>9</th>\n",
       "      <td>2014</td>\n",
       "      <td>1</td>\n",
       "      <td>Centro</td>\n",
       "      <td>11</td>\n",
       "      <td>PALACIO</td>\n",
       "      <td>R</td>\n",
       "      <td>Religioso</td>\n",
       "      <td>17</td>\n",
       "      <td>1884.0</td>\n",
       "      <td>102718.0</td>\n",
       "      <td>NaN</td>\n",
       "      <td>1.142542e+08</td>\n",
       "    </tr>\n",
       "  </tbody>\n",
       "</table>\n",
       "</div>"
      ],
      "text/plain": [
       "    año  id_distrito distrito  id_barrio   barrio id_uso  \\\n",
       "0  2014            1   Centro         11  PALACIO      A   \n",
       "1  2014            1   Centro         11  PALACIO      C   \n",
       "2  2014            1   Centro         11  PALACIO      E   \n",
       "3  2014            1   Centro         11  PALACIO      G   \n",
       "4  2014            1   Centro         11  PALACIO      I   \n",
       "5  2014            1   Centro         11  PALACIO      K   \n",
       "7  2014            1   Centro         11  PALACIO      O   \n",
       "8  2014            1   Centro         11  PALACIO      P   \n",
       "9  2014            1   Centro         11  PALACIO      R   \n",
       "\n",
       "                       uso  num_inmuebles  año_cons_medio  sup_cons  \\\n",
       "0  Almacén-Estacionamiento           3034          1969.0  214457.0   \n",
       "1                Comercial           1407          1921.0  223552.0   \n",
       "2                 Cultural             36          1937.0   62963.0   \n",
       "3        Ocio y Hostelería            254          1919.0  114226.0   \n",
       "4               Industrial             22          1942.0   13228.0   \n",
       "5                Deportivo              8          1946.0    7238.0   \n",
       "7                 Oficinas            559          1947.0  196893.0   \n",
       "8        Edificio Singular             15          1891.0  197518.0   \n",
       "9                Religioso             17          1884.0  102718.0   \n",
       "\n",
       "   sup_suelo  valor_catastral  \n",
       "0        NaN     1.295259e+08  \n",
       "1        NaN     4.076055e+08  \n",
       "2        NaN     7.582872e+07  \n",
       "3        NaN     1.954138e+08  \n",
       "4        NaN     1.180795e+07  \n",
       "5        NaN     1.061466e+07  \n",
       "7        NaN     3.407841e+08  \n",
       "8        NaN     2.816668e+08  \n",
       "9        NaN     1.142542e+08  "
      ]
     },
     "execution_count": 152,
     "metadata": {},
     "output_type": "execute_result"
    }
   ],
   "source": [
    "# Eliminación de filas con 2 o más NA\n",
    "catastro.dropna(thresh=len(catastro.columns)-1)"
   ]
  },
  {
   "cell_type": "markdown",
   "metadata": {},
   "source": [
    "#### Imputación de registros con <i>missing values</i>\n",
    "\n",
    "Existirán casos en los que no se desee (o no se pueda) eliminar los registros con valores nulos (p.e. podrían suponer un porcentaje demasiado elevado de nuestro set de datos). En estos casos, habrá que realizar una imputación de los mismos a un valor preestablecidor.<br/>\n",
    "Pandas pone a nuestra disposición el método <b>fillna</b>, que cuenta, entre otros, con los siguientes parámetros:<br/>\n",
    "<ul>\n",
    "<li><b>axis:</b> Que decide si aplicará el criterio de relleno por filas o columnas.</li>\n",
    "<li><b>value:</b> Que rellena los valores nulos a un valor fijo.</li>\n",
    "<li><b>method:</b> Que permite establecer un criterio de relleno de entre los siguientes:.</li>\n",
    "    <ul>\n",
    "    <li><b>ffill:</b> Relleno en base a la observacion de los ultimos elementos no nulos.</li>\n",
    "    <li><b>bfill:</b> Relleno en base a la observacion de los proximos elementos no nulos.</li>\n",
    "    </ul>\n",
    "<li><b>limit:</b> contenedor maximo de elementos imputados.</li>\n",
    "</ul>"
   ]
  },
  {
   "cell_type": "code",
   "execution_count": 164,
   "metadata": {},
   "outputs": [
    {
     "data": {
      "text/html": [
       "<div>\n",
       "<style scoped>\n",
       "    .dataframe tbody tr th:only-of-type {\n",
       "        vertical-align: middle;\n",
       "    }\n",
       "\n",
       "    .dataframe tbody tr th {\n",
       "        vertical-align: top;\n",
       "    }\n",
       "\n",
       "    .dataframe thead th {\n",
       "        text-align: right;\n",
       "    }\n",
       "</style>\n",
       "<table border=\"1\" class=\"dataframe\">\n",
       "  <thead>\n",
       "    <tr style=\"text-align: right;\">\n",
       "      <th></th>\n",
       "      <th>año</th>\n",
       "      <th>id_distrito</th>\n",
       "      <th>distrito</th>\n",
       "      <th>id_barrio</th>\n",
       "      <th>barrio</th>\n",
       "      <th>id_uso</th>\n",
       "      <th>uso</th>\n",
       "      <th>num_inmuebles</th>\n",
       "      <th>año_cons_medio</th>\n",
       "      <th>sup_cons</th>\n",
       "      <th>sup_suelo</th>\n",
       "      <th>valor_catastral</th>\n",
       "    </tr>\n",
       "  </thead>\n",
       "  <tbody>\n",
       "    <tr>\n",
       "      <th>0</th>\n",
       "      <td>2014</td>\n",
       "      <td>1</td>\n",
       "      <td>Centro</td>\n",
       "      <td>11</td>\n",
       "      <td>PALACIO</td>\n",
       "      <td>A</td>\n",
       "      <td>Almacén-Estacionamiento</td>\n",
       "      <td>3034</td>\n",
       "      <td>1969.0</td>\n",
       "      <td>214457.0</td>\n",
       "      <td>NaN</td>\n",
       "      <td>1.295259e+08</td>\n",
       "    </tr>\n",
       "    <tr>\n",
       "      <th>1</th>\n",
       "      <td>2014</td>\n",
       "      <td>1</td>\n",
       "      <td>Centro</td>\n",
       "      <td>11</td>\n",
       "      <td>PALACIO</td>\n",
       "      <td>C</td>\n",
       "      <td>Comercial</td>\n",
       "      <td>1407</td>\n",
       "      <td>1921.0</td>\n",
       "      <td>223552.0</td>\n",
       "      <td>NaN</td>\n",
       "      <td>4.076055e+08</td>\n",
       "    </tr>\n",
       "    <tr>\n",
       "      <th>2</th>\n",
       "      <td>2014</td>\n",
       "      <td>1</td>\n",
       "      <td>Centro</td>\n",
       "      <td>11</td>\n",
       "      <td>PALACIO</td>\n",
       "      <td>E</td>\n",
       "      <td>Cultural</td>\n",
       "      <td>36</td>\n",
       "      <td>1937.0</td>\n",
       "      <td>62963.0</td>\n",
       "      <td>NaN</td>\n",
       "      <td>7.582872e+07</td>\n",
       "    </tr>\n",
       "    <tr>\n",
       "      <th>3</th>\n",
       "      <td>2014</td>\n",
       "      <td>1</td>\n",
       "      <td>Centro</td>\n",
       "      <td>11</td>\n",
       "      <td>PALACIO</td>\n",
       "      <td>G</td>\n",
       "      <td>Ocio y Hostelería</td>\n",
       "      <td>254</td>\n",
       "      <td>1919.0</td>\n",
       "      <td>114226.0</td>\n",
       "      <td>NaN</td>\n",
       "      <td>1.954138e+08</td>\n",
       "    </tr>\n",
       "    <tr>\n",
       "      <th>4</th>\n",
       "      <td>2014</td>\n",
       "      <td>1</td>\n",
       "      <td>Centro</td>\n",
       "      <td>11</td>\n",
       "      <td>PALACIO</td>\n",
       "      <td>I</td>\n",
       "      <td>Industrial</td>\n",
       "      <td>22</td>\n",
       "      <td>1942.0</td>\n",
       "      <td>13228.0</td>\n",
       "      <td>NaN</td>\n",
       "      <td>1.180795e+07</td>\n",
       "    </tr>\n",
       "    <tr>\n",
       "      <th>5</th>\n",
       "      <td>2014</td>\n",
       "      <td>1</td>\n",
       "      <td>Centro</td>\n",
       "      <td>11</td>\n",
       "      <td>PALACIO</td>\n",
       "      <td>K</td>\n",
       "      <td>Deportivo</td>\n",
       "      <td>8</td>\n",
       "      <td>1946.0</td>\n",
       "      <td>7238.0</td>\n",
       "      <td>NaN</td>\n",
       "      <td>1.061466e+07</td>\n",
       "    </tr>\n",
       "    <tr>\n",
       "      <th>6</th>\n",
       "      <td>2014</td>\n",
       "      <td>1</td>\n",
       "      <td>Centro</td>\n",
       "      <td>11</td>\n",
       "      <td>PALACIO</td>\n",
       "      <td>M</td>\n",
       "      <td>Suelos sin edificar, obras de urbanización y j...</td>\n",
       "      <td>47</td>\n",
       "      <td>NaN</td>\n",
       "      <td>NaN</td>\n",
       "      <td>130010.0</td>\n",
       "      <td>1.991520e+07</td>\n",
       "    </tr>\n",
       "    <tr>\n",
       "      <th>7</th>\n",
       "      <td>2014</td>\n",
       "      <td>1</td>\n",
       "      <td>Centro</td>\n",
       "      <td>11</td>\n",
       "      <td>PALACIO</td>\n",
       "      <td>O</td>\n",
       "      <td>Oficinas</td>\n",
       "      <td>559</td>\n",
       "      <td>1947.0</td>\n",
       "      <td>196893.0</td>\n",
       "      <td>NaN</td>\n",
       "      <td>3.407841e+08</td>\n",
       "    </tr>\n",
       "    <tr>\n",
       "      <th>8</th>\n",
       "      <td>2014</td>\n",
       "      <td>1</td>\n",
       "      <td>Centro</td>\n",
       "      <td>11</td>\n",
       "      <td>PALACIO</td>\n",
       "      <td>P</td>\n",
       "      <td>Edificio Singular</td>\n",
       "      <td>15</td>\n",
       "      <td>1891.0</td>\n",
       "      <td>197518.0</td>\n",
       "      <td>NaN</td>\n",
       "      <td>2.816668e+08</td>\n",
       "    </tr>\n",
       "    <tr>\n",
       "      <th>9</th>\n",
       "      <td>2014</td>\n",
       "      <td>1</td>\n",
       "      <td>Centro</td>\n",
       "      <td>11</td>\n",
       "      <td>PALACIO</td>\n",
       "      <td>R</td>\n",
       "      <td>Religioso</td>\n",
       "      <td>17</td>\n",
       "      <td>1884.0</td>\n",
       "      <td>102718.0</td>\n",
       "      <td>NaN</td>\n",
       "      <td>1.142542e+08</td>\n",
       "    </tr>\n",
       "  </tbody>\n",
       "</table>\n",
       "</div>"
      ],
      "text/plain": [
       "    año  id_distrito distrito  id_barrio   barrio id_uso  \\\n",
       "0  2014            1   Centro         11  PALACIO      A   \n",
       "1  2014            1   Centro         11  PALACIO      C   \n",
       "2  2014            1   Centro         11  PALACIO      E   \n",
       "3  2014            1   Centro         11  PALACIO      G   \n",
       "4  2014            1   Centro         11  PALACIO      I   \n",
       "5  2014            1   Centro         11  PALACIO      K   \n",
       "6  2014            1   Centro         11  PALACIO      M   \n",
       "7  2014            1   Centro         11  PALACIO      O   \n",
       "8  2014            1   Centro         11  PALACIO      P   \n",
       "9  2014            1   Centro         11  PALACIO      R   \n",
       "\n",
       "                                                 uso  num_inmuebles  \\\n",
       "0                            Almacén-Estacionamiento           3034   \n",
       "1                                          Comercial           1407   \n",
       "2                                           Cultural             36   \n",
       "3                                  Ocio y Hostelería            254   \n",
       "4                                         Industrial             22   \n",
       "5                                          Deportivo              8   \n",
       "6  Suelos sin edificar, obras de urbanización y j...             47   \n",
       "7                                           Oficinas            559   \n",
       "8                                  Edificio Singular             15   \n",
       "9                                          Religioso             17   \n",
       "\n",
       "   año_cons_medio  sup_cons  sup_suelo  valor_catastral  \n",
       "0          1969.0  214457.0        NaN     1.295259e+08  \n",
       "1          1921.0  223552.0        NaN     4.076055e+08  \n",
       "2          1937.0   62963.0        NaN     7.582872e+07  \n",
       "3          1919.0  114226.0        NaN     1.954138e+08  \n",
       "4          1942.0   13228.0        NaN     1.180795e+07  \n",
       "5          1946.0    7238.0        NaN     1.061466e+07  \n",
       "6             NaN       NaN   130010.0     1.991520e+07  \n",
       "7          1947.0  196893.0        NaN     3.407841e+08  \n",
       "8          1891.0  197518.0        NaN     2.816668e+08  \n",
       "9          1884.0  102718.0        NaN     1.142542e+08  "
      ]
     },
     "execution_count": 164,
     "metadata": {},
     "output_type": "execute_result"
    }
   ],
   "source": [
    "catastro = pd.read_table('datos/catastro.tsv', nrows=10)\n",
    "catastro"
   ]
  },
  {
   "cell_type": "code",
   "execution_count": 160,
   "metadata": {},
   "outputs": [
    {
     "data": {
      "text/html": [
       "<div>\n",
       "<style scoped>\n",
       "    .dataframe tbody tr th:only-of-type {\n",
       "        vertical-align: middle;\n",
       "    }\n",
       "\n",
       "    .dataframe tbody tr th {\n",
       "        vertical-align: top;\n",
       "    }\n",
       "\n",
       "    .dataframe thead th {\n",
       "        text-align: right;\n",
       "    }\n",
       "</style>\n",
       "<table border=\"1\" class=\"dataframe\">\n",
       "  <thead>\n",
       "    <tr style=\"text-align: right;\">\n",
       "      <th></th>\n",
       "      <th>año</th>\n",
       "      <th>id_distrito</th>\n",
       "      <th>distrito</th>\n",
       "      <th>id_barrio</th>\n",
       "      <th>barrio</th>\n",
       "      <th>id_uso</th>\n",
       "      <th>uso</th>\n",
       "      <th>num_inmuebles</th>\n",
       "      <th>año_cons_medio</th>\n",
       "      <th>sup_cons</th>\n",
       "      <th>sup_suelo</th>\n",
       "      <th>valor_catastral</th>\n",
       "    </tr>\n",
       "  </thead>\n",
       "  <tbody>\n",
       "    <tr>\n",
       "      <th>0</th>\n",
       "      <td>2014</td>\n",
       "      <td>1</td>\n",
       "      <td>Centro</td>\n",
       "      <td>11</td>\n",
       "      <td>PALACIO</td>\n",
       "      <td>A</td>\n",
       "      <td>Almacén-Estacionamiento</td>\n",
       "      <td>3034</td>\n",
       "      <td>1969.0</td>\n",
       "      <td>214457.0</td>\n",
       "      <td>0.0</td>\n",
       "      <td>1.295259e+08</td>\n",
       "    </tr>\n",
       "    <tr>\n",
       "      <th>1</th>\n",
       "      <td>2014</td>\n",
       "      <td>1</td>\n",
       "      <td>Centro</td>\n",
       "      <td>11</td>\n",
       "      <td>PALACIO</td>\n",
       "      <td>C</td>\n",
       "      <td>Comercial</td>\n",
       "      <td>1407</td>\n",
       "      <td>1921.0</td>\n",
       "      <td>223552.0</td>\n",
       "      <td>0.0</td>\n",
       "      <td>4.076055e+08</td>\n",
       "    </tr>\n",
       "    <tr>\n",
       "      <th>2</th>\n",
       "      <td>2014</td>\n",
       "      <td>1</td>\n",
       "      <td>Centro</td>\n",
       "      <td>11</td>\n",
       "      <td>PALACIO</td>\n",
       "      <td>E</td>\n",
       "      <td>Cultural</td>\n",
       "      <td>36</td>\n",
       "      <td>1937.0</td>\n",
       "      <td>62963.0</td>\n",
       "      <td>0.0</td>\n",
       "      <td>7.582872e+07</td>\n",
       "    </tr>\n",
       "    <tr>\n",
       "      <th>3</th>\n",
       "      <td>2014</td>\n",
       "      <td>1</td>\n",
       "      <td>Centro</td>\n",
       "      <td>11</td>\n",
       "      <td>PALACIO</td>\n",
       "      <td>G</td>\n",
       "      <td>Ocio y Hostelería</td>\n",
       "      <td>254</td>\n",
       "      <td>1919.0</td>\n",
       "      <td>114226.0</td>\n",
       "      <td>0.0</td>\n",
       "      <td>1.954138e+08</td>\n",
       "    </tr>\n",
       "    <tr>\n",
       "      <th>4</th>\n",
       "      <td>2014</td>\n",
       "      <td>1</td>\n",
       "      <td>Centro</td>\n",
       "      <td>11</td>\n",
       "      <td>PALACIO</td>\n",
       "      <td>I</td>\n",
       "      <td>Industrial</td>\n",
       "      <td>22</td>\n",
       "      <td>1942.0</td>\n",
       "      <td>13228.0</td>\n",
       "      <td>0.0</td>\n",
       "      <td>1.180795e+07</td>\n",
       "    </tr>\n",
       "    <tr>\n",
       "      <th>5</th>\n",
       "      <td>2014</td>\n",
       "      <td>1</td>\n",
       "      <td>Centro</td>\n",
       "      <td>11</td>\n",
       "      <td>PALACIO</td>\n",
       "      <td>K</td>\n",
       "      <td>Deportivo</td>\n",
       "      <td>8</td>\n",
       "      <td>1946.0</td>\n",
       "      <td>7238.0</td>\n",
       "      <td>0.0</td>\n",
       "      <td>1.061466e+07</td>\n",
       "    </tr>\n",
       "    <tr>\n",
       "      <th>6</th>\n",
       "      <td>2014</td>\n",
       "      <td>1</td>\n",
       "      <td>Centro</td>\n",
       "      <td>11</td>\n",
       "      <td>PALACIO</td>\n",
       "      <td>M</td>\n",
       "      <td>Suelos sin edificar, obras de urbanización y j...</td>\n",
       "      <td>47</td>\n",
       "      <td>0.0</td>\n",
       "      <td>0.0</td>\n",
       "      <td>130010.0</td>\n",
       "      <td>1.991520e+07</td>\n",
       "    </tr>\n",
       "    <tr>\n",
       "      <th>7</th>\n",
       "      <td>2014</td>\n",
       "      <td>1</td>\n",
       "      <td>Centro</td>\n",
       "      <td>11</td>\n",
       "      <td>PALACIO</td>\n",
       "      <td>O</td>\n",
       "      <td>Oficinas</td>\n",
       "      <td>559</td>\n",
       "      <td>1947.0</td>\n",
       "      <td>196893.0</td>\n",
       "      <td>0.0</td>\n",
       "      <td>3.407841e+08</td>\n",
       "    </tr>\n",
       "    <tr>\n",
       "      <th>8</th>\n",
       "      <td>2014</td>\n",
       "      <td>1</td>\n",
       "      <td>Centro</td>\n",
       "      <td>11</td>\n",
       "      <td>PALACIO</td>\n",
       "      <td>P</td>\n",
       "      <td>Edificio Singular</td>\n",
       "      <td>15</td>\n",
       "      <td>1891.0</td>\n",
       "      <td>197518.0</td>\n",
       "      <td>0.0</td>\n",
       "      <td>2.816668e+08</td>\n",
       "    </tr>\n",
       "    <tr>\n",
       "      <th>9</th>\n",
       "      <td>2014</td>\n",
       "      <td>1</td>\n",
       "      <td>Centro</td>\n",
       "      <td>11</td>\n",
       "      <td>PALACIO</td>\n",
       "      <td>R</td>\n",
       "      <td>Religioso</td>\n",
       "      <td>17</td>\n",
       "      <td>1884.0</td>\n",
       "      <td>102718.0</td>\n",
       "      <td>0.0</td>\n",
       "      <td>1.142542e+08</td>\n",
       "    </tr>\n",
       "  </tbody>\n",
       "</table>\n",
       "</div>"
      ],
      "text/plain": [
       "    año  id_distrito distrito  id_barrio   barrio id_uso  \\\n",
       "0  2014            1   Centro         11  PALACIO      A   \n",
       "1  2014            1   Centro         11  PALACIO      C   \n",
       "2  2014            1   Centro         11  PALACIO      E   \n",
       "3  2014            1   Centro         11  PALACIO      G   \n",
       "4  2014            1   Centro         11  PALACIO      I   \n",
       "5  2014            1   Centro         11  PALACIO      K   \n",
       "6  2014            1   Centro         11  PALACIO      M   \n",
       "7  2014            1   Centro         11  PALACIO      O   \n",
       "8  2014            1   Centro         11  PALACIO      P   \n",
       "9  2014            1   Centro         11  PALACIO      R   \n",
       "\n",
       "                                                 uso  num_inmuebles  \\\n",
       "0                            Almacén-Estacionamiento           3034   \n",
       "1                                          Comercial           1407   \n",
       "2                                           Cultural             36   \n",
       "3                                  Ocio y Hostelería            254   \n",
       "4                                         Industrial             22   \n",
       "5                                          Deportivo              8   \n",
       "6  Suelos sin edificar, obras de urbanización y j...             47   \n",
       "7                                           Oficinas            559   \n",
       "8                                  Edificio Singular             15   \n",
       "9                                          Religioso             17   \n",
       "\n",
       "   año_cons_medio  sup_cons  sup_suelo  valor_catastral  \n",
       "0          1969.0  214457.0        0.0     1.295259e+08  \n",
       "1          1921.0  223552.0        0.0     4.076055e+08  \n",
       "2          1937.0   62963.0        0.0     7.582872e+07  \n",
       "3          1919.0  114226.0        0.0     1.954138e+08  \n",
       "4          1942.0   13228.0        0.0     1.180795e+07  \n",
       "5          1946.0    7238.0        0.0     1.061466e+07  \n",
       "6             0.0       0.0   130010.0     1.991520e+07  \n",
       "7          1947.0  196893.0        0.0     3.407841e+08  \n",
       "8          1891.0  197518.0        0.0     2.816668e+08  \n",
       "9          1884.0  102718.0        0.0     1.142542e+08  "
      ]
     },
     "execution_count": 160,
     "metadata": {},
     "output_type": "execute_result"
    }
   ],
   "source": [
    "#imputacion de valores a 0\n",
    "catastro.fillna(0)"
   ]
  },
  {
   "cell_type": "code",
   "execution_count": 163,
   "metadata": {},
   "outputs": [
    {
     "data": {
      "text/html": [
       "<div>\n",
       "<style scoped>\n",
       "    .dataframe tbody tr th:only-of-type {\n",
       "        vertical-align: middle;\n",
       "    }\n",
       "\n",
       "    .dataframe tbody tr th {\n",
       "        vertical-align: top;\n",
       "    }\n",
       "\n",
       "    .dataframe thead th {\n",
       "        text-align: right;\n",
       "    }\n",
       "</style>\n",
       "<table border=\"1\" class=\"dataframe\">\n",
       "  <thead>\n",
       "    <tr style=\"text-align: right;\">\n",
       "      <th></th>\n",
       "      <th>año</th>\n",
       "      <th>id_distrito</th>\n",
       "      <th>distrito</th>\n",
       "      <th>id_barrio</th>\n",
       "      <th>barrio</th>\n",
       "      <th>id_uso</th>\n",
       "      <th>uso</th>\n",
       "      <th>num_inmuebles</th>\n",
       "      <th>año_cons_medio</th>\n",
       "      <th>sup_cons</th>\n",
       "      <th>sup_suelo</th>\n",
       "      <th>valor_catastral</th>\n",
       "    </tr>\n",
       "  </thead>\n",
       "  <tbody>\n",
       "    <tr>\n",
       "      <th>0</th>\n",
       "      <td>2014</td>\n",
       "      <td>1</td>\n",
       "      <td>Centro</td>\n",
       "      <td>11</td>\n",
       "      <td>PALACIO</td>\n",
       "      <td>A</td>\n",
       "      <td>Almacén-Estacionamiento</td>\n",
       "      <td>3034</td>\n",
       "      <td>1969.0</td>\n",
       "      <td>214457.0</td>\n",
       "      <td>NaN</td>\n",
       "      <td>1.295259e+08</td>\n",
       "    </tr>\n",
       "    <tr>\n",
       "      <th>1</th>\n",
       "      <td>2014</td>\n",
       "      <td>1</td>\n",
       "      <td>Centro</td>\n",
       "      <td>11</td>\n",
       "      <td>PALACIO</td>\n",
       "      <td>C</td>\n",
       "      <td>Comercial</td>\n",
       "      <td>1407</td>\n",
       "      <td>1921.0</td>\n",
       "      <td>223552.0</td>\n",
       "      <td>NaN</td>\n",
       "      <td>4.076055e+08</td>\n",
       "    </tr>\n",
       "    <tr>\n",
       "      <th>2</th>\n",
       "      <td>2014</td>\n",
       "      <td>1</td>\n",
       "      <td>Centro</td>\n",
       "      <td>11</td>\n",
       "      <td>PALACIO</td>\n",
       "      <td>E</td>\n",
       "      <td>Cultural</td>\n",
       "      <td>36</td>\n",
       "      <td>1937.0</td>\n",
       "      <td>62963.0</td>\n",
       "      <td>NaN</td>\n",
       "      <td>7.582872e+07</td>\n",
       "    </tr>\n",
       "    <tr>\n",
       "      <th>3</th>\n",
       "      <td>2014</td>\n",
       "      <td>1</td>\n",
       "      <td>Centro</td>\n",
       "      <td>11</td>\n",
       "      <td>PALACIO</td>\n",
       "      <td>G</td>\n",
       "      <td>Ocio y Hostelería</td>\n",
       "      <td>254</td>\n",
       "      <td>1919.0</td>\n",
       "      <td>114226.0</td>\n",
       "      <td>NaN</td>\n",
       "      <td>1.954138e+08</td>\n",
       "    </tr>\n",
       "    <tr>\n",
       "      <th>4</th>\n",
       "      <td>2014</td>\n",
       "      <td>1</td>\n",
       "      <td>Centro</td>\n",
       "      <td>11</td>\n",
       "      <td>PALACIO</td>\n",
       "      <td>I</td>\n",
       "      <td>Industrial</td>\n",
       "      <td>22</td>\n",
       "      <td>1942.0</td>\n",
       "      <td>13228.0</td>\n",
       "      <td>NaN</td>\n",
       "      <td>1.180795e+07</td>\n",
       "    </tr>\n",
       "    <tr>\n",
       "      <th>5</th>\n",
       "      <td>2014</td>\n",
       "      <td>1</td>\n",
       "      <td>Centro</td>\n",
       "      <td>11</td>\n",
       "      <td>PALACIO</td>\n",
       "      <td>K</td>\n",
       "      <td>Deportivo</td>\n",
       "      <td>8</td>\n",
       "      <td>1946.0</td>\n",
       "      <td>7238.0</td>\n",
       "      <td>NaN</td>\n",
       "      <td>1.061466e+07</td>\n",
       "    </tr>\n",
       "    <tr>\n",
       "      <th>6</th>\n",
       "      <td>2014</td>\n",
       "      <td>1</td>\n",
       "      <td>Centro</td>\n",
       "      <td>11</td>\n",
       "      <td>PALACIO</td>\n",
       "      <td>M</td>\n",
       "      <td>Suelos sin edificar, obras de urbanización y j...</td>\n",
       "      <td>47</td>\n",
       "      <td>1946.0</td>\n",
       "      <td>7238.0</td>\n",
       "      <td>130010.0</td>\n",
       "      <td>1.991520e+07</td>\n",
       "    </tr>\n",
       "    <tr>\n",
       "      <th>7</th>\n",
       "      <td>2014</td>\n",
       "      <td>1</td>\n",
       "      <td>Centro</td>\n",
       "      <td>11</td>\n",
       "      <td>PALACIO</td>\n",
       "      <td>O</td>\n",
       "      <td>Oficinas</td>\n",
       "      <td>559</td>\n",
       "      <td>1947.0</td>\n",
       "      <td>196893.0</td>\n",
       "      <td>130010.0</td>\n",
       "      <td>3.407841e+08</td>\n",
       "    </tr>\n",
       "    <tr>\n",
       "      <th>8</th>\n",
       "      <td>2014</td>\n",
       "      <td>1</td>\n",
       "      <td>Centro</td>\n",
       "      <td>11</td>\n",
       "      <td>PALACIO</td>\n",
       "      <td>P</td>\n",
       "      <td>Edificio Singular</td>\n",
       "      <td>15</td>\n",
       "      <td>1891.0</td>\n",
       "      <td>197518.0</td>\n",
       "      <td>130010.0</td>\n",
       "      <td>2.816668e+08</td>\n",
       "    </tr>\n",
       "    <tr>\n",
       "      <th>9</th>\n",
       "      <td>2014</td>\n",
       "      <td>1</td>\n",
       "      <td>Centro</td>\n",
       "      <td>11</td>\n",
       "      <td>PALACIO</td>\n",
       "      <td>R</td>\n",
       "      <td>Religioso</td>\n",
       "      <td>17</td>\n",
       "      <td>1884.0</td>\n",
       "      <td>102718.0</td>\n",
       "      <td>130010.0</td>\n",
       "      <td>1.142542e+08</td>\n",
       "    </tr>\n",
       "  </tbody>\n",
       "</table>\n",
       "</div>"
      ],
      "text/plain": [
       "    año  id_distrito distrito  id_barrio   barrio id_uso  \\\n",
       "0  2014            1   Centro         11  PALACIO      A   \n",
       "1  2014            1   Centro         11  PALACIO      C   \n",
       "2  2014            1   Centro         11  PALACIO      E   \n",
       "3  2014            1   Centro         11  PALACIO      G   \n",
       "4  2014            1   Centro         11  PALACIO      I   \n",
       "5  2014            1   Centro         11  PALACIO      K   \n",
       "6  2014            1   Centro         11  PALACIO      M   \n",
       "7  2014            1   Centro         11  PALACIO      O   \n",
       "8  2014            1   Centro         11  PALACIO      P   \n",
       "9  2014            1   Centro         11  PALACIO      R   \n",
       "\n",
       "                                                 uso  num_inmuebles  \\\n",
       "0                            Almacén-Estacionamiento           3034   \n",
       "1                                          Comercial           1407   \n",
       "2                                           Cultural             36   \n",
       "3                                  Ocio y Hostelería            254   \n",
       "4                                         Industrial             22   \n",
       "5                                          Deportivo              8   \n",
       "6  Suelos sin edificar, obras de urbanización y j...             47   \n",
       "7                                           Oficinas            559   \n",
       "8                                  Edificio Singular             15   \n",
       "9                                          Religioso             17   \n",
       "\n",
       "   año_cons_medio  sup_cons  sup_suelo  valor_catastral  \n",
       "0          1969.0  214457.0        NaN     1.295259e+08  \n",
       "1          1921.0  223552.0        NaN     4.076055e+08  \n",
       "2          1937.0   62963.0        NaN     7.582872e+07  \n",
       "3          1919.0  114226.0        NaN     1.954138e+08  \n",
       "4          1942.0   13228.0        NaN     1.180795e+07  \n",
       "5          1946.0    7238.0        NaN     1.061466e+07  \n",
       "6          1946.0    7238.0   130010.0     1.991520e+07  \n",
       "7          1947.0  196893.0   130010.0     3.407841e+08  \n",
       "8          1891.0  197518.0   130010.0     2.816668e+08  \n",
       "9          1884.0  102718.0   130010.0     1.142542e+08  "
      ]
     },
     "execution_count": 163,
     "metadata": {},
     "output_type": "execute_result"
    }
   ],
   "source": [
    "#imputacion de valores por valor anterior (por columnas)\n",
    "catastro.fillna(method='ffill')"
   ]
  },
  {
   "cell_type": "code",
   "execution_count": 162,
   "metadata": {},
   "outputs": [
    {
     "data": {
      "text/html": [
       "<div>\n",
       "<style scoped>\n",
       "    .dataframe tbody tr th:only-of-type {\n",
       "        vertical-align: middle;\n",
       "    }\n",
       "\n",
       "    .dataframe tbody tr th {\n",
       "        vertical-align: top;\n",
       "    }\n",
       "\n",
       "    .dataframe thead th {\n",
       "        text-align: right;\n",
       "    }\n",
       "</style>\n",
       "<table border=\"1\" class=\"dataframe\">\n",
       "  <thead>\n",
       "    <tr style=\"text-align: right;\">\n",
       "      <th></th>\n",
       "      <th>año</th>\n",
       "      <th>id_distrito</th>\n",
       "      <th>distrito</th>\n",
       "      <th>id_barrio</th>\n",
       "      <th>barrio</th>\n",
       "      <th>id_uso</th>\n",
       "      <th>uso</th>\n",
       "      <th>num_inmuebles</th>\n",
       "      <th>año_cons_medio</th>\n",
       "      <th>sup_cons</th>\n",
       "      <th>sup_suelo</th>\n",
       "      <th>valor_catastral</th>\n",
       "    </tr>\n",
       "  </thead>\n",
       "  <tbody>\n",
       "    <tr>\n",
       "      <th>0</th>\n",
       "      <td>2014</td>\n",
       "      <td>1</td>\n",
       "      <td>Centro</td>\n",
       "      <td>11</td>\n",
       "      <td>PALACIO</td>\n",
       "      <td>A</td>\n",
       "      <td>Almacén-Estacionamiento</td>\n",
       "      <td>3034</td>\n",
       "      <td>1969.0</td>\n",
       "      <td>214457.0</td>\n",
       "      <td>130010.0</td>\n",
       "      <td>1.295259e+08</td>\n",
       "    </tr>\n",
       "    <tr>\n",
       "      <th>1</th>\n",
       "      <td>2014</td>\n",
       "      <td>1</td>\n",
       "      <td>Centro</td>\n",
       "      <td>11</td>\n",
       "      <td>PALACIO</td>\n",
       "      <td>C</td>\n",
       "      <td>Comercial</td>\n",
       "      <td>1407</td>\n",
       "      <td>1921.0</td>\n",
       "      <td>223552.0</td>\n",
       "      <td>130010.0</td>\n",
       "      <td>4.076055e+08</td>\n",
       "    </tr>\n",
       "    <tr>\n",
       "      <th>2</th>\n",
       "      <td>2014</td>\n",
       "      <td>1</td>\n",
       "      <td>Centro</td>\n",
       "      <td>11</td>\n",
       "      <td>PALACIO</td>\n",
       "      <td>E</td>\n",
       "      <td>Cultural</td>\n",
       "      <td>36</td>\n",
       "      <td>1937.0</td>\n",
       "      <td>62963.0</td>\n",
       "      <td>130010.0</td>\n",
       "      <td>7.582872e+07</td>\n",
       "    </tr>\n",
       "    <tr>\n",
       "      <th>3</th>\n",
       "      <td>2014</td>\n",
       "      <td>1</td>\n",
       "      <td>Centro</td>\n",
       "      <td>11</td>\n",
       "      <td>PALACIO</td>\n",
       "      <td>G</td>\n",
       "      <td>Ocio y Hostelería</td>\n",
       "      <td>254</td>\n",
       "      <td>1919.0</td>\n",
       "      <td>114226.0</td>\n",
       "      <td>130010.0</td>\n",
       "      <td>1.954138e+08</td>\n",
       "    </tr>\n",
       "    <tr>\n",
       "      <th>4</th>\n",
       "      <td>2014</td>\n",
       "      <td>1</td>\n",
       "      <td>Centro</td>\n",
       "      <td>11</td>\n",
       "      <td>PALACIO</td>\n",
       "      <td>I</td>\n",
       "      <td>Industrial</td>\n",
       "      <td>22</td>\n",
       "      <td>1942.0</td>\n",
       "      <td>13228.0</td>\n",
       "      <td>130010.0</td>\n",
       "      <td>1.180795e+07</td>\n",
       "    </tr>\n",
       "    <tr>\n",
       "      <th>5</th>\n",
       "      <td>2014</td>\n",
       "      <td>1</td>\n",
       "      <td>Centro</td>\n",
       "      <td>11</td>\n",
       "      <td>PALACIO</td>\n",
       "      <td>K</td>\n",
       "      <td>Deportivo</td>\n",
       "      <td>8</td>\n",
       "      <td>1946.0</td>\n",
       "      <td>7238.0</td>\n",
       "      <td>130010.0</td>\n",
       "      <td>1.061466e+07</td>\n",
       "    </tr>\n",
       "    <tr>\n",
       "      <th>6</th>\n",
       "      <td>2014</td>\n",
       "      <td>1</td>\n",
       "      <td>Centro</td>\n",
       "      <td>11</td>\n",
       "      <td>PALACIO</td>\n",
       "      <td>M</td>\n",
       "      <td>Suelos sin edificar, obras de urbanización y j...</td>\n",
       "      <td>47</td>\n",
       "      <td>1947.0</td>\n",
       "      <td>196893.0</td>\n",
       "      <td>130010.0</td>\n",
       "      <td>1.991520e+07</td>\n",
       "    </tr>\n",
       "    <tr>\n",
       "      <th>7</th>\n",
       "      <td>2014</td>\n",
       "      <td>1</td>\n",
       "      <td>Centro</td>\n",
       "      <td>11</td>\n",
       "      <td>PALACIO</td>\n",
       "      <td>O</td>\n",
       "      <td>Oficinas</td>\n",
       "      <td>559</td>\n",
       "      <td>1947.0</td>\n",
       "      <td>196893.0</td>\n",
       "      <td>NaN</td>\n",
       "      <td>3.407841e+08</td>\n",
       "    </tr>\n",
       "    <tr>\n",
       "      <th>8</th>\n",
       "      <td>2014</td>\n",
       "      <td>1</td>\n",
       "      <td>Centro</td>\n",
       "      <td>11</td>\n",
       "      <td>PALACIO</td>\n",
       "      <td>P</td>\n",
       "      <td>Edificio Singular</td>\n",
       "      <td>15</td>\n",
       "      <td>1891.0</td>\n",
       "      <td>197518.0</td>\n",
       "      <td>NaN</td>\n",
       "      <td>2.816668e+08</td>\n",
       "    </tr>\n",
       "    <tr>\n",
       "      <th>9</th>\n",
       "      <td>2014</td>\n",
       "      <td>1</td>\n",
       "      <td>Centro</td>\n",
       "      <td>11</td>\n",
       "      <td>PALACIO</td>\n",
       "      <td>R</td>\n",
       "      <td>Religioso</td>\n",
       "      <td>17</td>\n",
       "      <td>1884.0</td>\n",
       "      <td>102718.0</td>\n",
       "      <td>NaN</td>\n",
       "      <td>1.142542e+08</td>\n",
       "    </tr>\n",
       "  </tbody>\n",
       "</table>\n",
       "</div>"
      ],
      "text/plain": [
       "    año  id_distrito distrito  id_barrio   barrio id_uso  \\\n",
       "0  2014            1   Centro         11  PALACIO      A   \n",
       "1  2014            1   Centro         11  PALACIO      C   \n",
       "2  2014            1   Centro         11  PALACIO      E   \n",
       "3  2014            1   Centro         11  PALACIO      G   \n",
       "4  2014            1   Centro         11  PALACIO      I   \n",
       "5  2014            1   Centro         11  PALACIO      K   \n",
       "6  2014            1   Centro         11  PALACIO      M   \n",
       "7  2014            1   Centro         11  PALACIO      O   \n",
       "8  2014            1   Centro         11  PALACIO      P   \n",
       "9  2014            1   Centro         11  PALACIO      R   \n",
       "\n",
       "                                                 uso  num_inmuebles  \\\n",
       "0                            Almacén-Estacionamiento           3034   \n",
       "1                                          Comercial           1407   \n",
       "2                                           Cultural             36   \n",
       "3                                  Ocio y Hostelería            254   \n",
       "4                                         Industrial             22   \n",
       "5                                          Deportivo              8   \n",
       "6  Suelos sin edificar, obras de urbanización y j...             47   \n",
       "7                                           Oficinas            559   \n",
       "8                                  Edificio Singular             15   \n",
       "9                                          Religioso             17   \n",
       "\n",
       "   año_cons_medio  sup_cons  sup_suelo  valor_catastral  \n",
       "0          1969.0  214457.0   130010.0     1.295259e+08  \n",
       "1          1921.0  223552.0   130010.0     4.076055e+08  \n",
       "2          1937.0   62963.0   130010.0     7.582872e+07  \n",
       "3          1919.0  114226.0   130010.0     1.954138e+08  \n",
       "4          1942.0   13228.0   130010.0     1.180795e+07  \n",
       "5          1946.0    7238.0   130010.0     1.061466e+07  \n",
       "6          1947.0  196893.0   130010.0     1.991520e+07  \n",
       "7          1947.0  196893.0        NaN     3.407841e+08  \n",
       "8          1891.0  197518.0        NaN     2.816668e+08  \n",
       "9          1884.0  102718.0        NaN     1.142542e+08  "
      ]
     },
     "execution_count": 162,
     "metadata": {},
     "output_type": "execute_result"
    }
   ],
   "source": [
    "#imputacion de valores por valor siguiente (por columnas)\n",
    "catastro.fillna(method='bfill')"
   ]
  },
  {
   "cell_type": "code",
   "execution_count": 165,
   "metadata": {},
   "outputs": [
    {
     "data": {
      "text/html": [
       "<div>\n",
       "<style scoped>\n",
       "    .dataframe tbody tr th:only-of-type {\n",
       "        vertical-align: middle;\n",
       "    }\n",
       "\n",
       "    .dataframe tbody tr th {\n",
       "        vertical-align: top;\n",
       "    }\n",
       "\n",
       "    .dataframe thead th {\n",
       "        text-align: right;\n",
       "    }\n",
       "</style>\n",
       "<table border=\"1\" class=\"dataframe\">\n",
       "  <thead>\n",
       "    <tr style=\"text-align: right;\">\n",
       "      <th></th>\n",
       "      <th>año</th>\n",
       "      <th>id_distrito</th>\n",
       "      <th>distrito</th>\n",
       "      <th>id_barrio</th>\n",
       "      <th>barrio</th>\n",
       "      <th>id_uso</th>\n",
       "      <th>uso</th>\n",
       "      <th>num_inmuebles</th>\n",
       "      <th>año_cons_medio</th>\n",
       "      <th>sup_cons</th>\n",
       "      <th>sup_suelo</th>\n",
       "      <th>valor_catastral</th>\n",
       "    </tr>\n",
       "  </thead>\n",
       "  <tbody>\n",
       "    <tr>\n",
       "      <th>0</th>\n",
       "      <td>2014</td>\n",
       "      <td>1</td>\n",
       "      <td>Centro</td>\n",
       "      <td>11</td>\n",
       "      <td>PALACIO</td>\n",
       "      <td>A</td>\n",
       "      <td>Almacén-Estacionamiento</td>\n",
       "      <td>3034</td>\n",
       "      <td>1969.0</td>\n",
       "      <td>214457.0</td>\n",
       "      <td>NaN</td>\n",
       "      <td>1.295259e+08</td>\n",
       "    </tr>\n",
       "    <tr>\n",
       "      <th>1</th>\n",
       "      <td>2014</td>\n",
       "      <td>1</td>\n",
       "      <td>Centro</td>\n",
       "      <td>11</td>\n",
       "      <td>PALACIO</td>\n",
       "      <td>C</td>\n",
       "      <td>Comercial</td>\n",
       "      <td>1407</td>\n",
       "      <td>1921.0</td>\n",
       "      <td>223552.0</td>\n",
       "      <td>NaN</td>\n",
       "      <td>4.076055e+08</td>\n",
       "    </tr>\n",
       "    <tr>\n",
       "      <th>2</th>\n",
       "      <td>2014</td>\n",
       "      <td>1</td>\n",
       "      <td>Centro</td>\n",
       "      <td>11</td>\n",
       "      <td>PALACIO</td>\n",
       "      <td>E</td>\n",
       "      <td>Cultural</td>\n",
       "      <td>36</td>\n",
       "      <td>1937.0</td>\n",
       "      <td>62963.0</td>\n",
       "      <td>NaN</td>\n",
       "      <td>7.582872e+07</td>\n",
       "    </tr>\n",
       "    <tr>\n",
       "      <th>3</th>\n",
       "      <td>2014</td>\n",
       "      <td>1</td>\n",
       "      <td>Centro</td>\n",
       "      <td>11</td>\n",
       "      <td>PALACIO</td>\n",
       "      <td>G</td>\n",
       "      <td>Ocio y Hostelería</td>\n",
       "      <td>254</td>\n",
       "      <td>1919.0</td>\n",
       "      <td>114226.0</td>\n",
       "      <td>130010.0</td>\n",
       "      <td>1.954138e+08</td>\n",
       "    </tr>\n",
       "    <tr>\n",
       "      <th>4</th>\n",
       "      <td>2014</td>\n",
       "      <td>1</td>\n",
       "      <td>Centro</td>\n",
       "      <td>11</td>\n",
       "      <td>PALACIO</td>\n",
       "      <td>I</td>\n",
       "      <td>Industrial</td>\n",
       "      <td>22</td>\n",
       "      <td>1942.0</td>\n",
       "      <td>13228.0</td>\n",
       "      <td>130010.0</td>\n",
       "      <td>1.180795e+07</td>\n",
       "    </tr>\n",
       "    <tr>\n",
       "      <th>5</th>\n",
       "      <td>2014</td>\n",
       "      <td>1</td>\n",
       "      <td>Centro</td>\n",
       "      <td>11</td>\n",
       "      <td>PALACIO</td>\n",
       "      <td>K</td>\n",
       "      <td>Deportivo</td>\n",
       "      <td>8</td>\n",
       "      <td>1946.0</td>\n",
       "      <td>7238.0</td>\n",
       "      <td>130010.0</td>\n",
       "      <td>1.061466e+07</td>\n",
       "    </tr>\n",
       "    <tr>\n",
       "      <th>6</th>\n",
       "      <td>2014</td>\n",
       "      <td>1</td>\n",
       "      <td>Centro</td>\n",
       "      <td>11</td>\n",
       "      <td>PALACIO</td>\n",
       "      <td>M</td>\n",
       "      <td>Suelos sin edificar, obras de urbanización y j...</td>\n",
       "      <td>47</td>\n",
       "      <td>1947.0</td>\n",
       "      <td>196893.0</td>\n",
       "      <td>130010.0</td>\n",
       "      <td>1.991520e+07</td>\n",
       "    </tr>\n",
       "    <tr>\n",
       "      <th>7</th>\n",
       "      <td>2014</td>\n",
       "      <td>1</td>\n",
       "      <td>Centro</td>\n",
       "      <td>11</td>\n",
       "      <td>PALACIO</td>\n",
       "      <td>O</td>\n",
       "      <td>Oficinas</td>\n",
       "      <td>559</td>\n",
       "      <td>1947.0</td>\n",
       "      <td>196893.0</td>\n",
       "      <td>NaN</td>\n",
       "      <td>3.407841e+08</td>\n",
       "    </tr>\n",
       "    <tr>\n",
       "      <th>8</th>\n",
       "      <td>2014</td>\n",
       "      <td>1</td>\n",
       "      <td>Centro</td>\n",
       "      <td>11</td>\n",
       "      <td>PALACIO</td>\n",
       "      <td>P</td>\n",
       "      <td>Edificio Singular</td>\n",
       "      <td>15</td>\n",
       "      <td>1891.0</td>\n",
       "      <td>197518.0</td>\n",
       "      <td>NaN</td>\n",
       "      <td>2.816668e+08</td>\n",
       "    </tr>\n",
       "    <tr>\n",
       "      <th>9</th>\n",
       "      <td>2014</td>\n",
       "      <td>1</td>\n",
       "      <td>Centro</td>\n",
       "      <td>11</td>\n",
       "      <td>PALACIO</td>\n",
       "      <td>R</td>\n",
       "      <td>Religioso</td>\n",
       "      <td>17</td>\n",
       "      <td>1884.0</td>\n",
       "      <td>102718.0</td>\n",
       "      <td>NaN</td>\n",
       "      <td>1.142542e+08</td>\n",
       "    </tr>\n",
       "  </tbody>\n",
       "</table>\n",
       "</div>"
      ],
      "text/plain": [
       "    año  id_distrito distrito  id_barrio   barrio id_uso  \\\n",
       "0  2014            1   Centro         11  PALACIO      A   \n",
       "1  2014            1   Centro         11  PALACIO      C   \n",
       "2  2014            1   Centro         11  PALACIO      E   \n",
       "3  2014            1   Centro         11  PALACIO      G   \n",
       "4  2014            1   Centro         11  PALACIO      I   \n",
       "5  2014            1   Centro         11  PALACIO      K   \n",
       "6  2014            1   Centro         11  PALACIO      M   \n",
       "7  2014            1   Centro         11  PALACIO      O   \n",
       "8  2014            1   Centro         11  PALACIO      P   \n",
       "9  2014            1   Centro         11  PALACIO      R   \n",
       "\n",
       "                                                 uso  num_inmuebles  \\\n",
       "0                            Almacén-Estacionamiento           3034   \n",
       "1                                          Comercial           1407   \n",
       "2                                           Cultural             36   \n",
       "3                                  Ocio y Hostelería            254   \n",
       "4                                         Industrial             22   \n",
       "5                                          Deportivo              8   \n",
       "6  Suelos sin edificar, obras de urbanización y j...             47   \n",
       "7                                           Oficinas            559   \n",
       "8                                  Edificio Singular             15   \n",
       "9                                          Religioso             17   \n",
       "\n",
       "   año_cons_medio  sup_cons  sup_suelo  valor_catastral  \n",
       "0          1969.0  214457.0        NaN     1.295259e+08  \n",
       "1          1921.0  223552.0        NaN     4.076055e+08  \n",
       "2          1937.0   62963.0        NaN     7.582872e+07  \n",
       "3          1919.0  114226.0   130010.0     1.954138e+08  \n",
       "4          1942.0   13228.0   130010.0     1.180795e+07  \n",
       "5          1946.0    7238.0   130010.0     1.061466e+07  \n",
       "6          1947.0  196893.0   130010.0     1.991520e+07  \n",
       "7          1947.0  196893.0        NaN     3.407841e+08  \n",
       "8          1891.0  197518.0        NaN     2.816668e+08  \n",
       "9          1884.0  102718.0        NaN     1.142542e+08  "
      ]
     },
     "execution_count": 165,
     "metadata": {},
     "output_type": "execute_result"
    }
   ],
   "source": [
    "#imputacion de valores por valor siguiente (por columnas)\n",
    "catastro.fillna(method='bfill', limit=3)"
   ]
  },
  {
   "cell_type": "code",
   "execution_count": null,
   "metadata": {},
   "outputs": [],
   "source": [
    "# Imputación de valores a 1000\n",
    "catastro.fillna(1000)"
   ]
  },
  {
   "cell_type": "markdown",
   "metadata": {},
   "source": [
    "## Resumen de datos y estadísticos básicos\n",
    "\n",
    "Al igual que NumPy, pandas ofrece un conjunto amplio de funciones para llevar a cabo un análisis estadístico de datos.  Las más relevantes serían:<br/>\n",
    "<ul>\n",
    "<li><b>describe:</b> Presenta un conjunto con las estadísticas básicas más comunes calculadas sobre todas las columnas de la estructura. Equivalente a la función <i>summary</i> de R.</li>\n",
    "<li><b>count:</b> Número de elementos no nulos.</li>\n",
    "<li><b>min, max:</b> Valor mínimo y máximo.</li>\n",
    "<li><b>argmin, argmax, idxmax, idxmin:</b> Posiciones con valor mínimo y máximo.</li>\n",
    "<li><b>quantile:</b> Cuantil calculado.</li>\n",
    "<li><b>sum:</b> Suma de elementos.</li>\n",
    "<li><b>mean:</b> Media aritmética de los elementos.</li>\n",
    "<li><b>median:</b> Mediana de los elementos.</li>\n",
    "<li><b>std:</b> Desviación estándar de los elementos.</li>\n",
    "<li><b>var:</b> Varianza de los elementos.</li>\n",
    "<li><b>cumsum:</b> Suma acumulada de los elementos.</li>\n",
    "<li><b>cumprod:</b> Producto acumulado de los elementos.</li>\n",
    "</ul>\n",
    "\n",
    "La mayor parte de estos métodos, podrán recibir 3 parámetros:\n",
    "<ul>\n",
    "<li><b>axis:</b> Que indica si realizar el cálculo por filas o columnas.</li>\n",
    "<li><b>skipna:</b> Que indica si se deben ignorar o no los valores NaN a la hora de realizar los cálculos.</li>\n",
    "</ul>"
   ]
  },
  {
   "cell_type": "code",
   "execution_count": 166,
   "metadata": {},
   "outputs": [
    {
     "data": {
      "text/html": [
       "<div>\n",
       "<style scoped>\n",
       "    .dataframe tbody tr th:only-of-type {\n",
       "        vertical-align: middle;\n",
       "    }\n",
       "\n",
       "    .dataframe tbody tr th {\n",
       "        vertical-align: top;\n",
       "    }\n",
       "\n",
       "    .dataframe thead th {\n",
       "        text-align: right;\n",
       "    }\n",
       "</style>\n",
       "<table border=\"1\" class=\"dataframe\">\n",
       "  <thead>\n",
       "    <tr style=\"text-align: right;\">\n",
       "      <th></th>\n",
       "      <th>año</th>\n",
       "      <th>id_distrito</th>\n",
       "      <th>distrito</th>\n",
       "      <th>id_barrio</th>\n",
       "      <th>barrio</th>\n",
       "      <th>id_uso</th>\n",
       "      <th>uso</th>\n",
       "      <th>num_inmuebles</th>\n",
       "      <th>año_cons_medio</th>\n",
       "      <th>sup_cons</th>\n",
       "      <th>sup_suelo</th>\n",
       "      <th>valor_catastral</th>\n",
       "    </tr>\n",
       "  </thead>\n",
       "  <tbody>\n",
       "    <tr>\n",
       "      <th>0</th>\n",
       "      <td>2014</td>\n",
       "      <td>1</td>\n",
       "      <td>Centro</td>\n",
       "      <td>11</td>\n",
       "      <td>PALACIO</td>\n",
       "      <td>A</td>\n",
       "      <td>Almacén-Estacionamiento</td>\n",
       "      <td>3034</td>\n",
       "      <td>1969.0</td>\n",
       "      <td>214457.0</td>\n",
       "      <td>NaN</td>\n",
       "      <td>1.295259e+08</td>\n",
       "    </tr>\n",
       "    <tr>\n",
       "      <th>1</th>\n",
       "      <td>2014</td>\n",
       "      <td>1</td>\n",
       "      <td>Centro</td>\n",
       "      <td>11</td>\n",
       "      <td>PALACIO</td>\n",
       "      <td>C</td>\n",
       "      <td>Comercial</td>\n",
       "      <td>1407</td>\n",
       "      <td>1921.0</td>\n",
       "      <td>223552.0</td>\n",
       "      <td>NaN</td>\n",
       "      <td>4.076055e+08</td>\n",
       "    </tr>\n",
       "    <tr>\n",
       "      <th>2</th>\n",
       "      <td>2014</td>\n",
       "      <td>1</td>\n",
       "      <td>Centro</td>\n",
       "      <td>11</td>\n",
       "      <td>PALACIO</td>\n",
       "      <td>E</td>\n",
       "      <td>Cultural</td>\n",
       "      <td>36</td>\n",
       "      <td>1937.0</td>\n",
       "      <td>62963.0</td>\n",
       "      <td>NaN</td>\n",
       "      <td>7.582872e+07</td>\n",
       "    </tr>\n",
       "    <tr>\n",
       "      <th>3</th>\n",
       "      <td>2014</td>\n",
       "      <td>1</td>\n",
       "      <td>Centro</td>\n",
       "      <td>11</td>\n",
       "      <td>PALACIO</td>\n",
       "      <td>G</td>\n",
       "      <td>Ocio y Hostelería</td>\n",
       "      <td>254</td>\n",
       "      <td>1919.0</td>\n",
       "      <td>114226.0</td>\n",
       "      <td>NaN</td>\n",
       "      <td>1.954138e+08</td>\n",
       "    </tr>\n",
       "    <tr>\n",
       "      <th>4</th>\n",
       "      <td>2014</td>\n",
       "      <td>1</td>\n",
       "      <td>Centro</td>\n",
       "      <td>11</td>\n",
       "      <td>PALACIO</td>\n",
       "      <td>I</td>\n",
       "      <td>Industrial</td>\n",
       "      <td>22</td>\n",
       "      <td>1942.0</td>\n",
       "      <td>13228.0</td>\n",
       "      <td>NaN</td>\n",
       "      <td>1.180795e+07</td>\n",
       "    </tr>\n",
       "    <tr>\n",
       "      <th>5</th>\n",
       "      <td>2014</td>\n",
       "      <td>1</td>\n",
       "      <td>Centro</td>\n",
       "      <td>11</td>\n",
       "      <td>PALACIO</td>\n",
       "      <td>K</td>\n",
       "      <td>Deportivo</td>\n",
       "      <td>8</td>\n",
       "      <td>1946.0</td>\n",
       "      <td>7238.0</td>\n",
       "      <td>NaN</td>\n",
       "      <td>1.061466e+07</td>\n",
       "    </tr>\n",
       "    <tr>\n",
       "      <th>6</th>\n",
       "      <td>2014</td>\n",
       "      <td>1</td>\n",
       "      <td>Centro</td>\n",
       "      <td>11</td>\n",
       "      <td>PALACIO</td>\n",
       "      <td>M</td>\n",
       "      <td>Suelos sin edificar, obras de urbanización y j...</td>\n",
       "      <td>47</td>\n",
       "      <td>NaN</td>\n",
       "      <td>NaN</td>\n",
       "      <td>130010.0</td>\n",
       "      <td>1.991520e+07</td>\n",
       "    </tr>\n",
       "    <tr>\n",
       "      <th>7</th>\n",
       "      <td>2014</td>\n",
       "      <td>1</td>\n",
       "      <td>Centro</td>\n",
       "      <td>11</td>\n",
       "      <td>PALACIO</td>\n",
       "      <td>O</td>\n",
       "      <td>Oficinas</td>\n",
       "      <td>559</td>\n",
       "      <td>1947.0</td>\n",
       "      <td>196893.0</td>\n",
       "      <td>NaN</td>\n",
       "      <td>3.407841e+08</td>\n",
       "    </tr>\n",
       "    <tr>\n",
       "      <th>8</th>\n",
       "      <td>2014</td>\n",
       "      <td>1</td>\n",
       "      <td>Centro</td>\n",
       "      <td>11</td>\n",
       "      <td>PALACIO</td>\n",
       "      <td>P</td>\n",
       "      <td>Edificio Singular</td>\n",
       "      <td>15</td>\n",
       "      <td>1891.0</td>\n",
       "      <td>197518.0</td>\n",
       "      <td>NaN</td>\n",
       "      <td>2.816668e+08</td>\n",
       "    </tr>\n",
       "    <tr>\n",
       "      <th>9</th>\n",
       "      <td>2014</td>\n",
       "      <td>1</td>\n",
       "      <td>Centro</td>\n",
       "      <td>11</td>\n",
       "      <td>PALACIO</td>\n",
       "      <td>R</td>\n",
       "      <td>Religioso</td>\n",
       "      <td>17</td>\n",
       "      <td>1884.0</td>\n",
       "      <td>102718.0</td>\n",
       "      <td>NaN</td>\n",
       "      <td>1.142542e+08</td>\n",
       "    </tr>\n",
       "  </tbody>\n",
       "</table>\n",
       "</div>"
      ],
      "text/plain": [
       "    año  id_distrito distrito  id_barrio   barrio id_uso  \\\n",
       "0  2014            1   Centro         11  PALACIO      A   \n",
       "1  2014            1   Centro         11  PALACIO      C   \n",
       "2  2014            1   Centro         11  PALACIO      E   \n",
       "3  2014            1   Centro         11  PALACIO      G   \n",
       "4  2014            1   Centro         11  PALACIO      I   \n",
       "5  2014            1   Centro         11  PALACIO      K   \n",
       "6  2014            1   Centro         11  PALACIO      M   \n",
       "7  2014            1   Centro         11  PALACIO      O   \n",
       "8  2014            1   Centro         11  PALACIO      P   \n",
       "9  2014            1   Centro         11  PALACIO      R   \n",
       "\n",
       "                                                 uso  num_inmuebles  \\\n",
       "0                            Almacén-Estacionamiento           3034   \n",
       "1                                          Comercial           1407   \n",
       "2                                           Cultural             36   \n",
       "3                                  Ocio y Hostelería            254   \n",
       "4                                         Industrial             22   \n",
       "5                                          Deportivo              8   \n",
       "6  Suelos sin edificar, obras de urbanización y j...             47   \n",
       "7                                           Oficinas            559   \n",
       "8                                  Edificio Singular             15   \n",
       "9                                          Religioso             17   \n",
       "\n",
       "   año_cons_medio  sup_cons  sup_suelo  valor_catastral  \n",
       "0          1969.0  214457.0        NaN     1.295259e+08  \n",
       "1          1921.0  223552.0        NaN     4.076055e+08  \n",
       "2          1937.0   62963.0        NaN     7.582872e+07  \n",
       "3          1919.0  114226.0        NaN     1.954138e+08  \n",
       "4          1942.0   13228.0        NaN     1.180795e+07  \n",
       "5          1946.0    7238.0        NaN     1.061466e+07  \n",
       "6             NaN       NaN   130010.0     1.991520e+07  \n",
       "7          1947.0  196893.0        NaN     3.407841e+08  \n",
       "8          1891.0  197518.0        NaN     2.816668e+08  \n",
       "9          1884.0  102718.0        NaN     1.142542e+08  "
      ]
     },
     "execution_count": 166,
     "metadata": {},
     "output_type": "execute_result"
    }
   ],
   "source": [
    "catastro = pd.read_table('datos/catastro.tsv', nrows=10)\n",
    "catastro"
   ]
  },
  {
   "cell_type": "code",
   "execution_count": 167,
   "metadata": {},
   "outputs": [
    {
     "data": {
      "text/html": [
       "<div>\n",
       "<style scoped>\n",
       "    .dataframe tbody tr th:only-of-type {\n",
       "        vertical-align: middle;\n",
       "    }\n",
       "\n",
       "    .dataframe tbody tr th {\n",
       "        vertical-align: top;\n",
       "    }\n",
       "\n",
       "    .dataframe thead th {\n",
       "        text-align: right;\n",
       "    }\n",
       "</style>\n",
       "<table border=\"1\" class=\"dataframe\">\n",
       "  <thead>\n",
       "    <tr style=\"text-align: right;\">\n",
       "      <th></th>\n",
       "      <th>año</th>\n",
       "      <th>id_distrito</th>\n",
       "      <th>id_barrio</th>\n",
       "      <th>num_inmuebles</th>\n",
       "      <th>año_cons_medio</th>\n",
       "      <th>sup_cons</th>\n",
       "      <th>sup_suelo</th>\n",
       "      <th>valor_catastral</th>\n",
       "    </tr>\n",
       "  </thead>\n",
       "  <tbody>\n",
       "    <tr>\n",
       "      <th>count</th>\n",
       "      <td>10.0</td>\n",
       "      <td>10.0</td>\n",
       "      <td>10.0</td>\n",
       "      <td>10.000000</td>\n",
       "      <td>9.000000</td>\n",
       "      <td>9.000000</td>\n",
       "      <td>1.0</td>\n",
       "      <td>1.000000e+01</td>\n",
       "    </tr>\n",
       "    <tr>\n",
       "      <th>mean</th>\n",
       "      <td>2014.0</td>\n",
       "      <td>1.0</td>\n",
       "      <td>11.0</td>\n",
       "      <td>539.900000</td>\n",
       "      <td>1928.444444</td>\n",
       "      <td>125865.888889</td>\n",
       "      <td>130010.0</td>\n",
       "      <td>1.587417e+08</td>\n",
       "    </tr>\n",
       "    <tr>\n",
       "      <th>std</th>\n",
       "      <td>0.0</td>\n",
       "      <td>0.0</td>\n",
       "      <td>0.0</td>\n",
       "      <td>980.444848</td>\n",
       "      <td>27.559532</td>\n",
       "      <td>85847.096668</td>\n",
       "      <td>NaN</td>\n",
       "      <td>1.429993e+08</td>\n",
       "    </tr>\n",
       "    <tr>\n",
       "      <th>min</th>\n",
       "      <td>2014.0</td>\n",
       "      <td>1.0</td>\n",
       "      <td>11.0</td>\n",
       "      <td>8.000000</td>\n",
       "      <td>1884.000000</td>\n",
       "      <td>7238.000000</td>\n",
       "      <td>130010.0</td>\n",
       "      <td>1.061466e+07</td>\n",
       "    </tr>\n",
       "    <tr>\n",
       "      <th>25%</th>\n",
       "      <td>2014.0</td>\n",
       "      <td>1.0</td>\n",
       "      <td>11.0</td>\n",
       "      <td>18.250000</td>\n",
       "      <td>1919.000000</td>\n",
       "      <td>62963.000000</td>\n",
       "      <td>130010.0</td>\n",
       "      <td>3.389358e+07</td>\n",
       "    </tr>\n",
       "    <tr>\n",
       "      <th>50%</th>\n",
       "      <td>2014.0</td>\n",
       "      <td>1.0</td>\n",
       "      <td>11.0</td>\n",
       "      <td>41.500000</td>\n",
       "      <td>1937.000000</td>\n",
       "      <td>114226.000000</td>\n",
       "      <td>130010.0</td>\n",
       "      <td>1.218900e+08</td>\n",
       "    </tr>\n",
       "    <tr>\n",
       "      <th>75%</th>\n",
       "      <td>2014.0</td>\n",
       "      <td>1.0</td>\n",
       "      <td>11.0</td>\n",
       "      <td>482.750000</td>\n",
       "      <td>1946.000000</td>\n",
       "      <td>197518.000000</td>\n",
       "      <td>130010.0</td>\n",
       "      <td>2.601035e+08</td>\n",
       "    </tr>\n",
       "    <tr>\n",
       "      <th>max</th>\n",
       "      <td>2014.0</td>\n",
       "      <td>1.0</td>\n",
       "      <td>11.0</td>\n",
       "      <td>3034.000000</td>\n",
       "      <td>1969.000000</td>\n",
       "      <td>223552.000000</td>\n",
       "      <td>130010.0</td>\n",
       "      <td>4.076055e+08</td>\n",
       "    </tr>\n",
       "  </tbody>\n",
       "</table>\n",
       "</div>"
      ],
      "text/plain": [
       "          año  id_distrito  id_barrio  num_inmuebles  año_cons_medio  \\\n",
       "count    10.0         10.0       10.0      10.000000        9.000000   \n",
       "mean   2014.0          1.0       11.0     539.900000     1928.444444   \n",
       "std       0.0          0.0        0.0     980.444848       27.559532   \n",
       "min    2014.0          1.0       11.0       8.000000     1884.000000   \n",
       "25%    2014.0          1.0       11.0      18.250000     1919.000000   \n",
       "50%    2014.0          1.0       11.0      41.500000     1937.000000   \n",
       "75%    2014.0          1.0       11.0     482.750000     1946.000000   \n",
       "max    2014.0          1.0       11.0    3034.000000     1969.000000   \n",
       "\n",
       "            sup_cons  sup_suelo  valor_catastral  \n",
       "count       9.000000        1.0     1.000000e+01  \n",
       "mean   125865.888889   130010.0     1.587417e+08  \n",
       "std     85847.096668        NaN     1.429993e+08  \n",
       "min      7238.000000   130010.0     1.061466e+07  \n",
       "25%     62963.000000   130010.0     3.389358e+07  \n",
       "50%    114226.000000   130010.0     1.218900e+08  \n",
       "75%    197518.000000   130010.0     2.601035e+08  \n",
       "max    223552.000000   130010.0     4.076055e+08  "
      ]
     },
     "execution_count": 167,
     "metadata": {},
     "output_type": "execute_result"
    }
   ],
   "source": [
    "# Estadísticos básicos sobre el data set\n",
    "catastro.describe()"
   ]
  },
  {
   "cell_type": "code",
   "execution_count": 168,
   "metadata": {},
   "outputs": [
    {
     "data": {
      "text/plain": [
       "año                                                            20140\n",
       "id_distrito                                                       10\n",
       "distrito           CentroCentroCentroCentroCentroCentroCentroCent...\n",
       "id_barrio                                                        110\n",
       "barrio             PALACIOPALACIOPALACIOPALACIOPALACIOPALACIOPALA...\n",
       "id_uso                                                    ACEGIKMOPR\n",
       "uso                Almacén-EstacionamientoComercialCulturalOcio y...\n",
       "num_inmuebles                                                   5399\n",
       "año_cons_medio                                               17356.0\n",
       "sup_cons                                                   1132793.0\n",
       "sup_suelo                                                   130010.0\n",
       "valor_catastral                                        1587416814.45\n",
       "dtype: object"
      ]
     },
     "execution_count": 168,
     "metadata": {},
     "output_type": "execute_result"
    }
   ],
   "source": [
    "# Suma por columnas\n",
    "catastro.sum()"
   ]
  },
  {
   "cell_type": "code",
   "execution_count": 169,
   "metadata": {},
   "outputs": [
    {
     "name": "stderr",
     "output_type": "stream",
     "text": [
      "C:\\Users\\Facu\\AppData\\Local\\Temp\\ipykernel_13872\\1047567944.py:2: FutureWarning: Dropping of nuisance columns in DataFrame reductions (with 'numeric_only=None') is deprecated; in a future version this will raise TypeError.  Select only valid columns before calling the reduction.\n",
      "  catastro.sum(axis=1, skipna=True)\n"
     ]
    },
    {
     "data": {
      "text/plain": [
       "0    1.297474e+08\n",
       "1    4.078344e+08\n",
       "2    7.589568e+07\n",
       "3    1.955323e+08\n",
       "4    1.182517e+07\n",
       "5    1.062588e+07\n",
       "6    2.004728e+07\n",
       "7    3.409856e+08\n",
       "8    2.818682e+08\n",
       "9    1.143608e+08\n",
       "dtype: float64"
      ]
     },
     "execution_count": 169,
     "metadata": {},
     "output_type": "execute_result"
    }
   ],
   "source": [
    "# Suma por filas ignorando NA\n",
    "catastro.sum(axis=1, skipna=True)"
   ]
  },
  {
   "cell_type": "code",
   "execution_count": 170,
   "metadata": {},
   "outputs": [
    {
     "name": "stderr",
     "output_type": "stream",
     "text": [
      "C:\\Users\\Facu\\AppData\\Local\\Temp\\ipykernel_13872\\931258369.py:1: FutureWarning: Dropping of nuisance columns in DataFrame reductions (with 'numeric_only=None') is deprecated; in a future version this will raise TypeError.  Select only valid columns before calling the reduction.\n",
      "  catastro.mean()\n"
     ]
    },
    {
     "data": {
      "text/plain": [
       "año                2.014000e+03\n",
       "id_distrito        1.000000e+00\n",
       "id_barrio          1.100000e+01\n",
       "num_inmuebles      5.399000e+02\n",
       "año_cons_medio     1.928444e+03\n",
       "sup_cons           1.258659e+05\n",
       "sup_suelo          1.300100e+05\n",
       "valor_catastral    1.587417e+08\n",
       "dtype: float64"
      ]
     },
     "execution_count": 170,
     "metadata": {},
     "output_type": "execute_result"
    }
   ],
   "source": [
    "catastro.mean()"
   ]
  },
  {
   "cell_type": "markdown",
   "metadata": {},
   "source": [
    "Matrices de correlacion y covarianzas\n",
    "\n",
    "Dada su utilidad y su importancia de cara a la comprension del contenido de un data set, sobre todo en un entorno orientado a la modelizacion, pandas facilita el calculo de matrices de correlacion y covarianza ofreciendo las funciones corr y cov"
   ]
  },
  {
   "cell_type": "code",
   "execution_count": 171,
   "metadata": {},
   "outputs": [
    {
     "data": {
      "text/html": [
       "<div>\n",
       "<style scoped>\n",
       "    .dataframe tbody tr th:only-of-type {\n",
       "        vertical-align: middle;\n",
       "    }\n",
       "\n",
       "    .dataframe tbody tr th {\n",
       "        vertical-align: top;\n",
       "    }\n",
       "\n",
       "    .dataframe thead th {\n",
       "        text-align: right;\n",
       "    }\n",
       "</style>\n",
       "<table border=\"1\" class=\"dataframe\">\n",
       "  <thead>\n",
       "    <tr style=\"text-align: right;\">\n",
       "      <th></th>\n",
       "      <th>año</th>\n",
       "      <th>id_distrito</th>\n",
       "      <th>distrito</th>\n",
       "      <th>id_barrio</th>\n",
       "      <th>barrio</th>\n",
       "      <th>id_uso</th>\n",
       "      <th>uso</th>\n",
       "      <th>num_inmuebles</th>\n",
       "      <th>año_cons_medio</th>\n",
       "      <th>sup_cons</th>\n",
       "      <th>sup_suelo</th>\n",
       "      <th>valor_catastral</th>\n",
       "    </tr>\n",
       "  </thead>\n",
       "  <tbody>\n",
       "    <tr>\n",
       "      <th>0</th>\n",
       "      <td>2014</td>\n",
       "      <td>1</td>\n",
       "      <td>Centro</td>\n",
       "      <td>11</td>\n",
       "      <td>PALACIO</td>\n",
       "      <td>A</td>\n",
       "      <td>Almacén-Estacionamiento</td>\n",
       "      <td>3034</td>\n",
       "      <td>1969.0</td>\n",
       "      <td>214457.0</td>\n",
       "      <td>NaN</td>\n",
       "      <td>1.295259e+08</td>\n",
       "    </tr>\n",
       "    <tr>\n",
       "      <th>1</th>\n",
       "      <td>2014</td>\n",
       "      <td>1</td>\n",
       "      <td>Centro</td>\n",
       "      <td>11</td>\n",
       "      <td>PALACIO</td>\n",
       "      <td>C</td>\n",
       "      <td>Comercial</td>\n",
       "      <td>1407</td>\n",
       "      <td>1921.0</td>\n",
       "      <td>223552.0</td>\n",
       "      <td>NaN</td>\n",
       "      <td>4.076055e+08</td>\n",
       "    </tr>\n",
       "    <tr>\n",
       "      <th>2</th>\n",
       "      <td>2014</td>\n",
       "      <td>1</td>\n",
       "      <td>Centro</td>\n",
       "      <td>11</td>\n",
       "      <td>PALACIO</td>\n",
       "      <td>E</td>\n",
       "      <td>Cultural</td>\n",
       "      <td>36</td>\n",
       "      <td>1937.0</td>\n",
       "      <td>62963.0</td>\n",
       "      <td>NaN</td>\n",
       "      <td>7.582872e+07</td>\n",
       "    </tr>\n",
       "    <tr>\n",
       "      <th>3</th>\n",
       "      <td>2014</td>\n",
       "      <td>1</td>\n",
       "      <td>Centro</td>\n",
       "      <td>11</td>\n",
       "      <td>PALACIO</td>\n",
       "      <td>G</td>\n",
       "      <td>Ocio y Hostelería</td>\n",
       "      <td>254</td>\n",
       "      <td>1919.0</td>\n",
       "      <td>114226.0</td>\n",
       "      <td>NaN</td>\n",
       "      <td>1.954138e+08</td>\n",
       "    </tr>\n",
       "    <tr>\n",
       "      <th>4</th>\n",
       "      <td>2014</td>\n",
       "      <td>1</td>\n",
       "      <td>Centro</td>\n",
       "      <td>11</td>\n",
       "      <td>PALACIO</td>\n",
       "      <td>I</td>\n",
       "      <td>Industrial</td>\n",
       "      <td>22</td>\n",
       "      <td>1942.0</td>\n",
       "      <td>13228.0</td>\n",
       "      <td>NaN</td>\n",
       "      <td>1.180795e+07</td>\n",
       "    </tr>\n",
       "    <tr>\n",
       "      <th>5</th>\n",
       "      <td>2014</td>\n",
       "      <td>1</td>\n",
       "      <td>Centro</td>\n",
       "      <td>11</td>\n",
       "      <td>PALACIO</td>\n",
       "      <td>K</td>\n",
       "      <td>Deportivo</td>\n",
       "      <td>8</td>\n",
       "      <td>1946.0</td>\n",
       "      <td>7238.0</td>\n",
       "      <td>NaN</td>\n",
       "      <td>1.061466e+07</td>\n",
       "    </tr>\n",
       "    <tr>\n",
       "      <th>6</th>\n",
       "      <td>2014</td>\n",
       "      <td>1</td>\n",
       "      <td>Centro</td>\n",
       "      <td>11</td>\n",
       "      <td>PALACIO</td>\n",
       "      <td>M</td>\n",
       "      <td>Suelos sin edificar, obras de urbanización y j...</td>\n",
       "      <td>47</td>\n",
       "      <td>NaN</td>\n",
       "      <td>NaN</td>\n",
       "      <td>130010.0</td>\n",
       "      <td>1.991520e+07</td>\n",
       "    </tr>\n",
       "    <tr>\n",
       "      <th>7</th>\n",
       "      <td>2014</td>\n",
       "      <td>1</td>\n",
       "      <td>Centro</td>\n",
       "      <td>11</td>\n",
       "      <td>PALACIO</td>\n",
       "      <td>O</td>\n",
       "      <td>Oficinas</td>\n",
       "      <td>559</td>\n",
       "      <td>1947.0</td>\n",
       "      <td>196893.0</td>\n",
       "      <td>NaN</td>\n",
       "      <td>3.407841e+08</td>\n",
       "    </tr>\n",
       "    <tr>\n",
       "      <th>8</th>\n",
       "      <td>2014</td>\n",
       "      <td>1</td>\n",
       "      <td>Centro</td>\n",
       "      <td>11</td>\n",
       "      <td>PALACIO</td>\n",
       "      <td>P</td>\n",
       "      <td>Edificio Singular</td>\n",
       "      <td>15</td>\n",
       "      <td>1891.0</td>\n",
       "      <td>197518.0</td>\n",
       "      <td>NaN</td>\n",
       "      <td>2.816668e+08</td>\n",
       "    </tr>\n",
       "    <tr>\n",
       "      <th>9</th>\n",
       "      <td>2014</td>\n",
       "      <td>1</td>\n",
       "      <td>Centro</td>\n",
       "      <td>11</td>\n",
       "      <td>PALACIO</td>\n",
       "      <td>R</td>\n",
       "      <td>Religioso</td>\n",
       "      <td>17</td>\n",
       "      <td>1884.0</td>\n",
       "      <td>102718.0</td>\n",
       "      <td>NaN</td>\n",
       "      <td>1.142542e+08</td>\n",
       "    </tr>\n",
       "  </tbody>\n",
       "</table>\n",
       "</div>"
      ],
      "text/plain": [
       "    año  id_distrito distrito  id_barrio   barrio id_uso  \\\n",
       "0  2014            1   Centro         11  PALACIO      A   \n",
       "1  2014            1   Centro         11  PALACIO      C   \n",
       "2  2014            1   Centro         11  PALACIO      E   \n",
       "3  2014            1   Centro         11  PALACIO      G   \n",
       "4  2014            1   Centro         11  PALACIO      I   \n",
       "5  2014            1   Centro         11  PALACIO      K   \n",
       "6  2014            1   Centro         11  PALACIO      M   \n",
       "7  2014            1   Centro         11  PALACIO      O   \n",
       "8  2014            1   Centro         11  PALACIO      P   \n",
       "9  2014            1   Centro         11  PALACIO      R   \n",
       "\n",
       "                                                 uso  num_inmuebles  \\\n",
       "0                            Almacén-Estacionamiento           3034   \n",
       "1                                          Comercial           1407   \n",
       "2                                           Cultural             36   \n",
       "3                                  Ocio y Hostelería            254   \n",
       "4                                         Industrial             22   \n",
       "5                                          Deportivo              8   \n",
       "6  Suelos sin edificar, obras de urbanización y j...             47   \n",
       "7                                           Oficinas            559   \n",
       "8                                  Edificio Singular             15   \n",
       "9                                          Religioso             17   \n",
       "\n",
       "   año_cons_medio  sup_cons  sup_suelo  valor_catastral  \n",
       "0          1969.0  214457.0        NaN     1.295259e+08  \n",
       "1          1921.0  223552.0        NaN     4.076055e+08  \n",
       "2          1937.0   62963.0        NaN     7.582872e+07  \n",
       "3          1919.0  114226.0        NaN     1.954138e+08  \n",
       "4          1942.0   13228.0        NaN     1.180795e+07  \n",
       "5          1946.0    7238.0        NaN     1.061466e+07  \n",
       "6             NaN       NaN   130010.0     1.991520e+07  \n",
       "7          1947.0  196893.0        NaN     3.407841e+08  \n",
       "8          1891.0  197518.0        NaN     2.816668e+08  \n",
       "9          1884.0  102718.0        NaN     1.142542e+08  "
      ]
     },
     "execution_count": 171,
     "metadata": {},
     "output_type": "execute_result"
    }
   ],
   "source": [
    "catastro = pd.read_table('datos/catastro.tsv', nrows=10)\n",
    "catastro"
   ]
  },
  {
   "cell_type": "code",
   "execution_count": 172,
   "metadata": {},
   "outputs": [
    {
     "data": {
      "text/html": [
       "<div>\n",
       "<style scoped>\n",
       "    .dataframe tbody tr th:only-of-type {\n",
       "        vertical-align: middle;\n",
       "    }\n",
       "\n",
       "    .dataframe tbody tr th {\n",
       "        vertical-align: top;\n",
       "    }\n",
       "\n",
       "    .dataframe thead th {\n",
       "        text-align: right;\n",
       "    }\n",
       "</style>\n",
       "<table border=\"1\" class=\"dataframe\">\n",
       "  <thead>\n",
       "    <tr style=\"text-align: right;\">\n",
       "      <th></th>\n",
       "      <th>año</th>\n",
       "      <th>id_distrito</th>\n",
       "      <th>id_barrio</th>\n",
       "      <th>num_inmuebles</th>\n",
       "      <th>año_cons_medio</th>\n",
       "      <th>sup_cons</th>\n",
       "      <th>sup_suelo</th>\n",
       "      <th>valor_catastral</th>\n",
       "    </tr>\n",
       "  </thead>\n",
       "  <tbody>\n",
       "    <tr>\n",
       "      <th>año</th>\n",
       "      <td>NaN</td>\n",
       "      <td>NaN</td>\n",
       "      <td>NaN</td>\n",
       "      <td>NaN</td>\n",
       "      <td>NaN</td>\n",
       "      <td>NaN</td>\n",
       "      <td>NaN</td>\n",
       "      <td>NaN</td>\n",
       "    </tr>\n",
       "    <tr>\n",
       "      <th>id_distrito</th>\n",
       "      <td>NaN</td>\n",
       "      <td>NaN</td>\n",
       "      <td>NaN</td>\n",
       "      <td>NaN</td>\n",
       "      <td>NaN</td>\n",
       "      <td>NaN</td>\n",
       "      <td>NaN</td>\n",
       "      <td>NaN</td>\n",
       "    </tr>\n",
       "    <tr>\n",
       "      <th>id_barrio</th>\n",
       "      <td>NaN</td>\n",
       "      <td>NaN</td>\n",
       "      <td>NaN</td>\n",
       "      <td>NaN</td>\n",
       "      <td>NaN</td>\n",
       "      <td>NaN</td>\n",
       "      <td>NaN</td>\n",
       "      <td>NaN</td>\n",
       "    </tr>\n",
       "    <tr>\n",
       "      <th>num_inmuebles</th>\n",
       "      <td>NaN</td>\n",
       "      <td>NaN</td>\n",
       "      <td>NaN</td>\n",
       "      <td>1.000000</td>\n",
       "      <td>0.531631</td>\n",
       "      <td>0.623031</td>\n",
       "      <td>NaN</td>\n",
       "      <td>0.285101</td>\n",
       "    </tr>\n",
       "    <tr>\n",
       "      <th>año_cons_medio</th>\n",
       "      <td>NaN</td>\n",
       "      <td>NaN</td>\n",
       "      <td>NaN</td>\n",
       "      <td>0.531631</td>\n",
       "      <td>1.000000</td>\n",
       "      <td>-0.079688</td>\n",
       "      <td>NaN</td>\n",
       "      <td>-0.252370</td>\n",
       "    </tr>\n",
       "    <tr>\n",
       "      <th>sup_cons</th>\n",
       "      <td>NaN</td>\n",
       "      <td>NaN</td>\n",
       "      <td>NaN</td>\n",
       "      <td>0.623031</td>\n",
       "      <td>-0.079688</td>\n",
       "      <td>1.000000</td>\n",
       "      <td>NaN</td>\n",
       "      <td>0.851737</td>\n",
       "    </tr>\n",
       "    <tr>\n",
       "      <th>sup_suelo</th>\n",
       "      <td>NaN</td>\n",
       "      <td>NaN</td>\n",
       "      <td>NaN</td>\n",
       "      <td>NaN</td>\n",
       "      <td>NaN</td>\n",
       "      <td>NaN</td>\n",
       "      <td>NaN</td>\n",
       "      <td>NaN</td>\n",
       "    </tr>\n",
       "    <tr>\n",
       "      <th>valor_catastral</th>\n",
       "      <td>NaN</td>\n",
       "      <td>NaN</td>\n",
       "      <td>NaN</td>\n",
       "      <td>0.285101</td>\n",
       "      <td>-0.252370</td>\n",
       "      <td>0.851737</td>\n",
       "      <td>NaN</td>\n",
       "      <td>1.000000</td>\n",
       "    </tr>\n",
       "  </tbody>\n",
       "</table>\n",
       "</div>"
      ],
      "text/plain": [
       "                 año  id_distrito  id_barrio  num_inmuebles  año_cons_medio  \\\n",
       "año              NaN          NaN        NaN            NaN             NaN   \n",
       "id_distrito      NaN          NaN        NaN            NaN             NaN   \n",
       "id_barrio        NaN          NaN        NaN            NaN             NaN   \n",
       "num_inmuebles    NaN          NaN        NaN       1.000000        0.531631   \n",
       "año_cons_medio   NaN          NaN        NaN       0.531631        1.000000   \n",
       "sup_cons         NaN          NaN        NaN       0.623031       -0.079688   \n",
       "sup_suelo        NaN          NaN        NaN            NaN             NaN   \n",
       "valor_catastral  NaN          NaN        NaN       0.285101       -0.252370   \n",
       "\n",
       "                 sup_cons  sup_suelo  valor_catastral  \n",
       "año                   NaN        NaN              NaN  \n",
       "id_distrito           NaN        NaN              NaN  \n",
       "id_barrio             NaN        NaN              NaN  \n",
       "num_inmuebles    0.623031        NaN         0.285101  \n",
       "año_cons_medio  -0.079688        NaN        -0.252370  \n",
       "sup_cons         1.000000        NaN         0.851737  \n",
       "sup_suelo             NaN        NaN              NaN  \n",
       "valor_catastral  0.851737        NaN         1.000000  "
      ]
     },
     "execution_count": 172,
     "metadata": {},
     "output_type": "execute_result"
    }
   ],
   "source": [
    "#matriz de correlacin\n",
    "catastro.corr()"
   ]
  },
  {
   "cell_type": "code",
   "execution_count": 173,
   "metadata": {},
   "outputs": [
    {
     "data": {
      "text/html": [
       "<div>\n",
       "<style scoped>\n",
       "    .dataframe tbody tr th:only-of-type {\n",
       "        vertical-align: middle;\n",
       "    }\n",
       "\n",
       "    .dataframe tbody tr th {\n",
       "        vertical-align: top;\n",
       "    }\n",
       "\n",
       "    .dataframe thead th {\n",
       "        text-align: right;\n",
       "    }\n",
       "</style>\n",
       "<table border=\"1\" class=\"dataframe\">\n",
       "  <thead>\n",
       "    <tr style=\"text-align: right;\">\n",
       "      <th></th>\n",
       "      <th>año</th>\n",
       "      <th>id_distrito</th>\n",
       "      <th>id_barrio</th>\n",
       "      <th>num_inmuebles</th>\n",
       "      <th>año_cons_medio</th>\n",
       "      <th>sup_cons</th>\n",
       "      <th>sup_suelo</th>\n",
       "      <th>valor_catastral</th>\n",
       "    </tr>\n",
       "  </thead>\n",
       "  <tbody>\n",
       "    <tr>\n",
       "      <th>año</th>\n",
       "      <td>0.0</td>\n",
       "      <td>0.0</td>\n",
       "      <td>0.0</td>\n",
       "      <td>0.000000e+00</td>\n",
       "      <td>0.000000e+00</td>\n",
       "      <td>0.000000e+00</td>\n",
       "      <td>NaN</td>\n",
       "      <td>0.000000e+00</td>\n",
       "    </tr>\n",
       "    <tr>\n",
       "      <th>id_distrito</th>\n",
       "      <td>0.0</td>\n",
       "      <td>0.0</td>\n",
       "      <td>0.0</td>\n",
       "      <td>0.000000e+00</td>\n",
       "      <td>0.000000e+00</td>\n",
       "      <td>0.000000e+00</td>\n",
       "      <td>NaN</td>\n",
       "      <td>0.000000e+00</td>\n",
       "    </tr>\n",
       "    <tr>\n",
       "      <th>id_barrio</th>\n",
       "      <td>0.0</td>\n",
       "      <td>0.0</td>\n",
       "      <td>0.0</td>\n",
       "      <td>0.000000e+00</td>\n",
       "      <td>0.000000e+00</td>\n",
       "      <td>0.000000e+00</td>\n",
       "      <td>NaN</td>\n",
       "      <td>0.000000e+00</td>\n",
       "    </tr>\n",
       "    <tr>\n",
       "      <th>num_inmuebles</th>\n",
       "      <td>0.0</td>\n",
       "      <td>0.0</td>\n",
       "      <td>0.0</td>\n",
       "      <td>9.612721e+05</td>\n",
       "      <td>1.499679e+04</td>\n",
       "      <td>5.474589e+07</td>\n",
       "      <td>NaN</td>\n",
       "      <td>3.997194e+10</td>\n",
       "    </tr>\n",
       "    <tr>\n",
       "      <th>año_cons_medio</th>\n",
       "      <td>0.0</td>\n",
       "      <td>0.0</td>\n",
       "      <td>0.0</td>\n",
       "      <td>1.499679e+04</td>\n",
       "      <td>7.595278e+02</td>\n",
       "      <td>-1.885341e+05</td>\n",
       "      <td>NaN</td>\n",
       "      <td>-9.916487e+08</td>\n",
       "    </tr>\n",
       "    <tr>\n",
       "      <th>sup_cons</th>\n",
       "      <td>0.0</td>\n",
       "      <td>0.0</td>\n",
       "      <td>0.0</td>\n",
       "      <td>5.474589e+07</td>\n",
       "      <td>-1.885341e+05</td>\n",
       "      <td>7.369724e+09</td>\n",
       "      <td>NaN</td>\n",
       "      <td>1.042510e+13</td>\n",
       "    </tr>\n",
       "    <tr>\n",
       "      <th>sup_suelo</th>\n",
       "      <td>NaN</td>\n",
       "      <td>NaN</td>\n",
       "      <td>NaN</td>\n",
       "      <td>NaN</td>\n",
       "      <td>NaN</td>\n",
       "      <td>NaN</td>\n",
       "      <td>NaN</td>\n",
       "      <td>NaN</td>\n",
       "    </tr>\n",
       "    <tr>\n",
       "      <th>valor_catastral</th>\n",
       "      <td>0.0</td>\n",
       "      <td>0.0</td>\n",
       "      <td>0.0</td>\n",
       "      <td>3.997194e+10</td>\n",
       "      <td>-9.916487e+08</td>\n",
       "      <td>1.042510e+13</td>\n",
       "      <td>NaN</td>\n",
       "      <td>2.044881e+16</td>\n",
       "    </tr>\n",
       "  </tbody>\n",
       "</table>\n",
       "</div>"
      ],
      "text/plain": [
       "                 año  id_distrito  id_barrio  num_inmuebles  año_cons_medio  \\\n",
       "año              0.0          0.0        0.0   0.000000e+00    0.000000e+00   \n",
       "id_distrito      0.0          0.0        0.0   0.000000e+00    0.000000e+00   \n",
       "id_barrio        0.0          0.0        0.0   0.000000e+00    0.000000e+00   \n",
       "num_inmuebles    0.0          0.0        0.0   9.612721e+05    1.499679e+04   \n",
       "año_cons_medio   0.0          0.0        0.0   1.499679e+04    7.595278e+02   \n",
       "sup_cons         0.0          0.0        0.0   5.474589e+07   -1.885341e+05   \n",
       "sup_suelo        NaN          NaN        NaN            NaN             NaN   \n",
       "valor_catastral  0.0          0.0        0.0   3.997194e+10   -9.916487e+08   \n",
       "\n",
       "                     sup_cons  sup_suelo  valor_catastral  \n",
       "año              0.000000e+00        NaN     0.000000e+00  \n",
       "id_distrito      0.000000e+00        NaN     0.000000e+00  \n",
       "id_barrio        0.000000e+00        NaN     0.000000e+00  \n",
       "num_inmuebles    5.474589e+07        NaN     3.997194e+10  \n",
       "año_cons_medio  -1.885341e+05        NaN    -9.916487e+08  \n",
       "sup_cons         7.369724e+09        NaN     1.042510e+13  \n",
       "sup_suelo                 NaN        NaN              NaN  \n",
       "valor_catastral  1.042510e+13        NaN     2.044881e+16  "
      ]
     },
     "execution_count": 173,
     "metadata": {},
     "output_type": "execute_result"
    }
   ],
   "source": [
    "#matriz de covarianzas\n",
    "catastro.cov()"
   ]
  },
  {
   "cell_type": "markdown",
   "metadata": {},
   "source": [
    "## Elementos únicos y frecuencias\n",
    "\n",
    "<ul>\n",
    "<li><b>unique</b>: Que nos devuelve un array con el conjunto de elementos únicos de una Serie.</li>\n",
    "<li><b>value_counts</b>: Que realiza un cálculo de frecuencias sobre los elementos únicos de una Serie.</li>\n",
    "<li><b>isin:</b> Que nos permite chequear si un conjunto de valores se encuentra en una Serie.</li>\n",
    "</ul>"
   ]
  },
  {
   "cell_type": "code",
   "execution_count": 174,
   "metadata": {},
   "outputs": [
    {
     "data": {
      "text/html": [
       "<div>\n",
       "<style scoped>\n",
       "    .dataframe tbody tr th:only-of-type {\n",
       "        vertical-align: middle;\n",
       "    }\n",
       "\n",
       "    .dataframe tbody tr th {\n",
       "        vertical-align: top;\n",
       "    }\n",
       "\n",
       "    .dataframe thead th {\n",
       "        text-align: right;\n",
       "    }\n",
       "</style>\n",
       "<table border=\"1\" class=\"dataframe\">\n",
       "  <thead>\n",
       "    <tr style=\"text-align: right;\">\n",
       "      <th></th>\n",
       "      <th>año</th>\n",
       "      <th>id_distrito</th>\n",
       "      <th>distrito</th>\n",
       "      <th>id_barrio</th>\n",
       "      <th>barrio</th>\n",
       "      <th>id_uso</th>\n",
       "      <th>uso</th>\n",
       "      <th>num_inmuebles</th>\n",
       "      <th>año_cons_medio</th>\n",
       "      <th>sup_cons</th>\n",
       "      <th>sup_suelo</th>\n",
       "      <th>valor_catastral</th>\n",
       "    </tr>\n",
       "  </thead>\n",
       "  <tbody>\n",
       "    <tr>\n",
       "      <th>0</th>\n",
       "      <td>2014</td>\n",
       "      <td>1</td>\n",
       "      <td>Centro</td>\n",
       "      <td>11</td>\n",
       "      <td>PALACIO</td>\n",
       "      <td>A</td>\n",
       "      <td>Almacén-Estacionamiento</td>\n",
       "      <td>3034</td>\n",
       "      <td>1969.0</td>\n",
       "      <td>214457.0</td>\n",
       "      <td>NaN</td>\n",
       "      <td>1.295259e+08</td>\n",
       "    </tr>\n",
       "    <tr>\n",
       "      <th>1</th>\n",
       "      <td>2014</td>\n",
       "      <td>1</td>\n",
       "      <td>Centro</td>\n",
       "      <td>11</td>\n",
       "      <td>PALACIO</td>\n",
       "      <td>C</td>\n",
       "      <td>Comercial</td>\n",
       "      <td>1407</td>\n",
       "      <td>1921.0</td>\n",
       "      <td>223552.0</td>\n",
       "      <td>NaN</td>\n",
       "      <td>4.076055e+08</td>\n",
       "    </tr>\n",
       "    <tr>\n",
       "      <th>2</th>\n",
       "      <td>2014</td>\n",
       "      <td>1</td>\n",
       "      <td>Centro</td>\n",
       "      <td>11</td>\n",
       "      <td>PALACIO</td>\n",
       "      <td>E</td>\n",
       "      <td>Cultural</td>\n",
       "      <td>36</td>\n",
       "      <td>1937.0</td>\n",
       "      <td>62963.0</td>\n",
       "      <td>NaN</td>\n",
       "      <td>7.582872e+07</td>\n",
       "    </tr>\n",
       "    <tr>\n",
       "      <th>3</th>\n",
       "      <td>2014</td>\n",
       "      <td>1</td>\n",
       "      <td>Centro</td>\n",
       "      <td>11</td>\n",
       "      <td>PALACIO</td>\n",
       "      <td>G</td>\n",
       "      <td>Ocio y Hostelería</td>\n",
       "      <td>254</td>\n",
       "      <td>1919.0</td>\n",
       "      <td>114226.0</td>\n",
       "      <td>NaN</td>\n",
       "      <td>1.954138e+08</td>\n",
       "    </tr>\n",
       "    <tr>\n",
       "      <th>4</th>\n",
       "      <td>2014</td>\n",
       "      <td>1</td>\n",
       "      <td>Centro</td>\n",
       "      <td>11</td>\n",
       "      <td>PALACIO</td>\n",
       "      <td>I</td>\n",
       "      <td>Industrial</td>\n",
       "      <td>22</td>\n",
       "      <td>1942.0</td>\n",
       "      <td>13228.0</td>\n",
       "      <td>NaN</td>\n",
       "      <td>1.180795e+07</td>\n",
       "    </tr>\n",
       "    <tr>\n",
       "      <th>...</th>\n",
       "      <td>...</td>\n",
       "      <td>...</td>\n",
       "      <td>...</td>\n",
       "      <td>...</td>\n",
       "      <td>...</td>\n",
       "      <td>...</td>\n",
       "      <td>...</td>\n",
       "      <td>...</td>\n",
       "      <td>...</td>\n",
       "      <td>...</td>\n",
       "      <td>...</td>\n",
       "      <td>...</td>\n",
       "    </tr>\n",
       "    <tr>\n",
       "      <th>3025</th>\n",
       "      <td>2013</td>\n",
       "      <td>21</td>\n",
       "      <td>Barajas</td>\n",
       "      <td>215</td>\n",
       "      <td>CORRALEJOS</td>\n",
       "      <td>O</td>\n",
       "      <td>Oficinas</td>\n",
       "      <td>172</td>\n",
       "      <td>1994.0</td>\n",
       "      <td>538345.0</td>\n",
       "      <td>NaN</td>\n",
       "      <td>6.893051e+08</td>\n",
       "    </tr>\n",
       "    <tr>\n",
       "      <th>3026</th>\n",
       "      <td>2013</td>\n",
       "      <td>21</td>\n",
       "      <td>Barajas</td>\n",
       "      <td>215</td>\n",
       "      <td>CORRALEJOS</td>\n",
       "      <td>R</td>\n",
       "      <td>Religioso</td>\n",
       "      <td>2</td>\n",
       "      <td>2006.0</td>\n",
       "      <td>3264.0</td>\n",
       "      <td>NaN</td>\n",
       "      <td>3.059075e+06</td>\n",
       "    </tr>\n",
       "    <tr>\n",
       "      <th>3027</th>\n",
       "      <td>2013</td>\n",
       "      <td>21</td>\n",
       "      <td>Barajas</td>\n",
       "      <td>215</td>\n",
       "      <td>CORRALEJOS</td>\n",
       "      <td>T</td>\n",
       "      <td>Espectáculos</td>\n",
       "      <td>1</td>\n",
       "      <td>1995.0</td>\n",
       "      <td>14720.0</td>\n",
       "      <td>NaN</td>\n",
       "      <td>1.639676e+07</td>\n",
       "    </tr>\n",
       "    <tr>\n",
       "      <th>3028</th>\n",
       "      <td>2013</td>\n",
       "      <td>21</td>\n",
       "      <td>Barajas</td>\n",
       "      <td>215</td>\n",
       "      <td>CORRALEJOS</td>\n",
       "      <td>V</td>\n",
       "      <td>Residencial</td>\n",
       "      <td>2939</td>\n",
       "      <td>1999.0</td>\n",
       "      <td>433231.0</td>\n",
       "      <td>NaN</td>\n",
       "      <td>5.177294e+08</td>\n",
       "    </tr>\n",
       "    <tr>\n",
       "      <th>3029</th>\n",
       "      <td>2013</td>\n",
       "      <td>21</td>\n",
       "      <td>Barajas</td>\n",
       "      <td>215</td>\n",
       "      <td>CORRALEJOS</td>\n",
       "      <td>Y</td>\n",
       "      <td>Sanidad y Beneficencia</td>\n",
       "      <td>2</td>\n",
       "      <td>2000.0</td>\n",
       "      <td>7395.0</td>\n",
       "      <td>NaN</td>\n",
       "      <td>1.040851e+07</td>\n",
       "    </tr>\n",
       "  </tbody>\n",
       "</table>\n",
       "<p>3030 rows × 12 columns</p>\n",
       "</div>"
      ],
      "text/plain": [
       "       año  id_distrito distrito  id_barrio      barrio id_uso  \\\n",
       "0     2014            1   Centro         11     PALACIO      A   \n",
       "1     2014            1   Centro         11     PALACIO      C   \n",
       "2     2014            1   Centro         11     PALACIO      E   \n",
       "3     2014            1   Centro         11     PALACIO      G   \n",
       "4     2014            1   Centro         11     PALACIO      I   \n",
       "...    ...          ...      ...        ...         ...    ...   \n",
       "3025  2013           21  Barajas        215  CORRALEJOS      O   \n",
       "3026  2013           21  Barajas        215  CORRALEJOS      R   \n",
       "3027  2013           21  Barajas        215  CORRALEJOS      T   \n",
       "3028  2013           21  Barajas        215  CORRALEJOS      V   \n",
       "3029  2013           21  Barajas        215  CORRALEJOS      Y   \n",
       "\n",
       "                          uso  num_inmuebles  año_cons_medio  sup_cons  \\\n",
       "0     Almacén-Estacionamiento           3034          1969.0  214457.0   \n",
       "1                   Comercial           1407          1921.0  223552.0   \n",
       "2                    Cultural             36          1937.0   62963.0   \n",
       "3           Ocio y Hostelería            254          1919.0  114226.0   \n",
       "4                  Industrial             22          1942.0   13228.0   \n",
       "...                       ...            ...             ...       ...   \n",
       "3025                 Oficinas            172          1994.0  538345.0   \n",
       "3026                Religioso              2          2006.0    3264.0   \n",
       "3027             Espectáculos              1          1995.0   14720.0   \n",
       "3028              Residencial           2939          1999.0  433231.0   \n",
       "3029   Sanidad y Beneficencia              2          2000.0    7395.0   \n",
       "\n",
       "      sup_suelo  valor_catastral  \n",
       "0           NaN     1.295259e+08  \n",
       "1           NaN     4.076055e+08  \n",
       "2           NaN     7.582872e+07  \n",
       "3           NaN     1.954138e+08  \n",
       "4           NaN     1.180795e+07  \n",
       "...         ...              ...  \n",
       "3025        NaN     6.893051e+08  \n",
       "3026        NaN     3.059075e+06  \n",
       "3027        NaN     1.639676e+07  \n",
       "3028        NaN     5.177294e+08  \n",
       "3029        NaN     1.040851e+07  \n",
       "\n",
       "[3030 rows x 12 columns]"
      ]
     },
     "execution_count": 174,
     "metadata": {},
     "output_type": "execute_result"
    }
   ],
   "source": [
    "catastro = pd.read_table('datos/catastro.tsv')\n",
    "catastro"
   ]
  },
  {
   "cell_type": "code",
   "execution_count": 175,
   "metadata": {},
   "outputs": [
    {
     "data": {
      "text/plain": [
       "array(['PALACIO', 'EMBAJADORES', 'CORTES', 'JUSTICIA', 'UNIVERSIDAD',\n",
       "       'SOL', 'IMPERIAL', 'ACACIAS', 'CHOPERA', 'LEGAZPI', 'DELICIAS',\n",
       "       'PALOS DE MOGUER', 'ATOCHA', 'PACÍFICO', 'ADELFAS', 'ESTRELLA',\n",
       "       'IBIZA', 'LOS JERÓNIMOS', 'NIÑO JESÚS', 'RECOLETOS', 'GOYA',\n",
       "       'FUENTE DEL BERRO', 'GUINDALERA', 'LISTA', 'CASTELLANA', 'EL VISO',\n",
       "       'PROSPERIDAD', 'CIUDAD JARDÍN', 'HISPANOAMÉRICA', 'NUEVA ESPAÑA',\n",
       "       'CASTILLA', 'BELLAS VISTAS', 'CUATRO CAMINOS', 'CASTILLEJOS',\n",
       "       'ALMENARA', 'VALDEACEDERAS', 'BERRUGUETE', 'GAZTAMBIDE',\n",
       "       'ARAPILES', 'TRAFALGAR', 'ALMAGRO', 'RIOS ROSAS', 'VALLEHERMOSO',\n",
       "       'EL PARDO', 'FUENTELARREINA', 'PEÑA GRANDE', 'EL PILAR', 'LA PAZ',\n",
       "       'VALVERDE', 'MIRASIERRA', 'EL GOLOSO', 'CASA DE CAMPO',\n",
       "       'ARGÜELLES', 'CIUDAD UNIVERSITARIA', 'VALDEZARZA', 'VALDEMARÍN',\n",
       "       'EL PLANTÍO', 'ARAVACA', 'LOS CARMENES', 'PUERTA DEL ANGEL',\n",
       "       'LUCERO', 'ALUCHE', 'CAMPAMENTO', 'CUATRO VIENTOS', 'LAS AGUILAS',\n",
       "       'COMILLAS', 'OPAÑEL', 'SAN ISIDRO', 'VISTA ALEGRE',\n",
       "       'PUERTA BONITA', 'BUENAVISTA', 'ABRANTES', 'ORCASITAS', 'ORCASUR',\n",
       "       'SAN FERMÍN', 'ALMENDRALES', 'MOSCARDO', 'ZOFÍO', 'PRADOLONGO',\n",
       "       'ENTREVÍAS', 'SAN DIEGO', 'PALOMERAS BAJAS', 'PALOMERAS SURESTE',\n",
       "       'PORTAZGO', 'NUMANCIA', 'PAVONES', 'HORCAJO', 'MARROQUINA',\n",
       "       'MEDIA LEGUA', 'FONTARRÓN', 'VINATEROS', 'VENTAS', 'PUEBLO NUEVO',\n",
       "       'QUINTANA', 'CONCEPCION', 'SAN PASCUAL', 'SAN JUAN BAUTISTA',\n",
       "       'COLINA', 'ATALAYA', 'COSTILLARES', 'PALOMAS', 'PIOVERA',\n",
       "       'CANILLAS', 'PINAR DEL REY', 'APOSTOL SANTIAGO', 'VALDEFUENTES',\n",
       "       'SAN ANDRÉS', 'SAN CRISTOBAL', 'BUTARQUE', 'LOS ROSALES',\n",
       "       'LOS ANGELES', 'CASCO H. VALLECAS', 'SANTA EUGENIA',\n",
       "       'CASCO H. VICALVARO', 'AMBROZ', 'SIMANCAS', 'HELLÍN', 'AMPOSTA',\n",
       "       'ARCOS', 'ROSAS', 'REJAS', 'CANILLEJAS', 'EL SALVADOR',\n",
       "       'ALAMEDA DE OSUNA', 'AEROPUERTO', 'CASCO H. BARAJAS', 'TIMÓN',\n",
       "       'CORRALEJOS'], dtype=object)"
      ]
     },
     "execution_count": 175,
     "metadata": {},
     "output_type": "execute_result"
    }
   ],
   "source": [
    "# Conjunto de de barrios\n",
    "catastro.barrio.unique()"
   ]
  },
  {
   "cell_type": "code",
   "execution_count": 176,
   "metadata": {},
   "outputs": [
    {
     "data": {
      "text/plain": [
       "Ciudad Lineal            214\n",
       "Fuencarral - El Pardo    189\n",
       "San Blas                 186\n",
       "Moncloa - Aravaca        172\n",
       "Carabanchel              166\n",
       "Latina                   165\n",
       "Usera                    160\n",
       "Centro                   156\n",
       "Salamanca                155\n",
       "Arganzuela               153\n",
       "Puente de Vallecas       150\n",
       "Chamartín                148\n",
       "Chamberí                 147\n",
       "Tetuán                   144\n",
       "Hortaleza                142\n",
       "Retiro                   137\n",
       "Moratalaz                125\n",
       "Barajas                  114\n",
       "Villaverde               112\n",
       "Vicálvaro                 49\n",
       "Villa de Vallecas         46\n",
       "Name: distrito, dtype: int64"
      ]
     },
     "execution_count": 176,
     "metadata": {},
     "output_type": "execute_result"
    }
   ],
   "source": [
    "# Tabla de frecuencias de distritos\n",
    "catastro.distrito.value_counts()"
   ]
  },
  {
   "cell_type": "code",
   "execution_count": 180,
   "metadata": {},
   "outputs": [
    {
     "data": {
      "text/plain": [
       "0        True\n",
       "1        True\n",
       "2        True\n",
       "3        True\n",
       "4        True\n",
       "        ...  \n",
       "3025    False\n",
       "3026    False\n",
       "3027    False\n",
       "3028    False\n",
       "3029    False\n",
       "Name: distrito, Length: 3030, dtype: bool"
      ]
     },
     "execution_count": 180,
     "metadata": {},
     "output_type": "execute_result"
    }
   ],
   "source": [
    "# Chequeo de existencia de distritos\n",
    "catastro['distrito'].isin(['Centro'])"
   ]
  },
  {
   "cell_type": "markdown",
   "metadata": {},
   "source": [
    "## Aplicación de funciones sobre estructuras\n",
    "\n",
    "Al igual que en R tenemos la familia de funciones <i>apply</i>, pandas pone a nuestra disposición un conjunto de funciones que nos permiten aplicar operaciones elemento a elemento (o fila a fila, o columna a columna) en sus estructuras de datos. En concreto disponemos de tres funciones."
   ]
  },
  {
   "cell_type": "markdown",
   "metadata": {},
   "source": [
    "#### Aplicación de funciones elemento a elemento sobre Series - Función map"
   ]
  },
  {
   "cell_type": "code",
   "execution_count": 2,
   "metadata": {},
   "outputs": [
    {
     "data": {
      "text/plain": [
       "0    1\n",
       "1    2\n",
       "2    3\n",
       "3    4\n",
       "4    5\n",
       "5    6\n",
       "dtype: int64"
      ]
     },
     "execution_count": 2,
     "metadata": {},
     "output_type": "execute_result"
    }
   ],
   "source": [
    "serie = pd.Series([1, 2, 3, 4, 5, 6])\n",
    "serie"
   ]
  },
  {
   "cell_type": "code",
   "execution_count": 3,
   "metadata": {},
   "outputs": [],
   "source": [
    "def es_par(elemento):\n",
    "    if elemento % 2 == 0:\n",
    "        return 'Par: ' + str(elemento)\n",
    "    else:\n",
    "        return 'Impar: ' + str(elemento)"
   ]
  },
  {
   "cell_type": "code",
   "execution_count": 4,
   "metadata": {},
   "outputs": [
    {
     "data": {
      "text/plain": [
       "0    Impar: 1\n",
       "1      Par: 2\n",
       "2    Impar: 3\n",
       "3      Par: 4\n",
       "4    Impar: 5\n",
       "5      Par: 6\n",
       "dtype: object"
      ]
     },
     "execution_count": 4,
     "metadata": {},
     "output_type": "execute_result"
    }
   ],
   "source": [
    "# Aplicación de función elemento a elemento sobre Serie\n",
    "serie.map(es_par)"
   ]
  },
  {
   "cell_type": "markdown",
   "metadata": {},
   "source": [
    "#### Aplicación de funciones elemento a elemento sobre DataFrames - Función applymap"
   ]
  },
  {
   "cell_type": "code",
   "execution_count": 5,
   "metadata": {},
   "outputs": [
    {
     "data": {
      "text/html": [
       "<div>\n",
       "<style scoped>\n",
       "    .dataframe tbody tr th:only-of-type {\n",
       "        vertical-align: middle;\n",
       "    }\n",
       "\n",
       "    .dataframe tbody tr th {\n",
       "        vertical-align: top;\n",
       "    }\n",
       "\n",
       "    .dataframe thead th {\n",
       "        text-align: right;\n",
       "    }\n",
       "</style>\n",
       "<table border=\"1\" class=\"dataframe\">\n",
       "  <thead>\n",
       "    <tr style=\"text-align: right;\">\n",
       "      <th></th>\n",
       "      <th>0</th>\n",
       "      <th>1</th>\n",
       "      <th>2</th>\n",
       "      <th>3</th>\n",
       "    </tr>\n",
       "  </thead>\n",
       "  <tbody>\n",
       "    <tr>\n",
       "      <th>0</th>\n",
       "      <td>0</td>\n",
       "      <td>1</td>\n",
       "      <td>2</td>\n",
       "      <td>3</td>\n",
       "    </tr>\n",
       "    <tr>\n",
       "      <th>1</th>\n",
       "      <td>4</td>\n",
       "      <td>5</td>\n",
       "      <td>6</td>\n",
       "      <td>7</td>\n",
       "    </tr>\n",
       "    <tr>\n",
       "      <th>2</th>\n",
       "      <td>8</td>\n",
       "      <td>9</td>\n",
       "      <td>10</td>\n",
       "      <td>11</td>\n",
       "    </tr>\n",
       "    <tr>\n",
       "      <th>3</th>\n",
       "      <td>12</td>\n",
       "      <td>13</td>\n",
       "      <td>14</td>\n",
       "      <td>15</td>\n",
       "    </tr>\n",
       "  </tbody>\n",
       "</table>\n",
       "</div>"
      ],
      "text/plain": [
       "    0   1   2   3\n",
       "0   0   1   2   3\n",
       "1   4   5   6   7\n",
       "2   8   9  10  11\n",
       "3  12  13  14  15"
      ]
     },
     "execution_count": 5,
     "metadata": {},
     "output_type": "execute_result"
    }
   ],
   "source": [
    "dataframe = pd.DataFrame(np.arange(16).reshape(4, 4))\n",
    "dataframe"
   ]
  },
  {
   "cell_type": "code",
   "execution_count": 6,
   "metadata": {},
   "outputs": [],
   "source": [
    "def es_par(elemento):\n",
    "    if elemento % 2 == 0:\n",
    "        return 'Par: ' + str(elemento)\n",
    "    else:\n",
    "        return 'Impar: ' + str(elemento)"
   ]
  },
  {
   "cell_type": "code",
   "execution_count": 7,
   "metadata": {},
   "outputs": [
    {
     "data": {
      "text/html": [
       "<div>\n",
       "<style scoped>\n",
       "    .dataframe tbody tr th:only-of-type {\n",
       "        vertical-align: middle;\n",
       "    }\n",
       "\n",
       "    .dataframe tbody tr th {\n",
       "        vertical-align: top;\n",
       "    }\n",
       "\n",
       "    .dataframe thead th {\n",
       "        text-align: right;\n",
       "    }\n",
       "</style>\n",
       "<table border=\"1\" class=\"dataframe\">\n",
       "  <thead>\n",
       "    <tr style=\"text-align: right;\">\n",
       "      <th></th>\n",
       "      <th>0</th>\n",
       "      <th>1</th>\n",
       "      <th>2</th>\n",
       "      <th>3</th>\n",
       "    </tr>\n",
       "  </thead>\n",
       "  <tbody>\n",
       "    <tr>\n",
       "      <th>0</th>\n",
       "      <td>Par: 0</td>\n",
       "      <td>Impar: 1</td>\n",
       "      <td>Par: 2</td>\n",
       "      <td>Impar: 3</td>\n",
       "    </tr>\n",
       "    <tr>\n",
       "      <th>1</th>\n",
       "      <td>Par: 4</td>\n",
       "      <td>Impar: 5</td>\n",
       "      <td>Par: 6</td>\n",
       "      <td>Impar: 7</td>\n",
       "    </tr>\n",
       "    <tr>\n",
       "      <th>2</th>\n",
       "      <td>Par: 8</td>\n",
       "      <td>Impar: 9</td>\n",
       "      <td>Par: 10</td>\n",
       "      <td>Impar: 11</td>\n",
       "    </tr>\n",
       "    <tr>\n",
       "      <th>3</th>\n",
       "      <td>Par: 12</td>\n",
       "      <td>Impar: 13</td>\n",
       "      <td>Par: 14</td>\n",
       "      <td>Impar: 15</td>\n",
       "    </tr>\n",
       "  </tbody>\n",
       "</table>\n",
       "</div>"
      ],
      "text/plain": [
       "         0          1        2          3\n",
       "0   Par: 0   Impar: 1   Par: 2   Impar: 3\n",
       "1   Par: 4   Impar: 5   Par: 6   Impar: 7\n",
       "2   Par: 8   Impar: 9  Par: 10  Impar: 11\n",
       "3  Par: 12  Impar: 13  Par: 14  Impar: 15"
      ]
     },
     "execution_count": 7,
     "metadata": {},
     "output_type": "execute_result"
    }
   ],
   "source": [
    "# Aplicación de función elemento a elemento sobre DataFrame\n",
    "dataframe.applymap(es_par)"
   ]
  },
  {
   "cell_type": "markdown",
   "metadata": {},
   "source": [
    "#### Aplicación de funciones fila a fila o columna a columna sobre DataFrames - Función apply"
   ]
  },
  {
   "cell_type": "code",
   "execution_count": 8,
   "metadata": {},
   "outputs": [
    {
     "data": {
      "text/html": [
       "<div>\n",
       "<style scoped>\n",
       "    .dataframe tbody tr th:only-of-type {\n",
       "        vertical-align: middle;\n",
       "    }\n",
       "\n",
       "    .dataframe tbody tr th {\n",
       "        vertical-align: top;\n",
       "    }\n",
       "\n",
       "    .dataframe thead th {\n",
       "        text-align: right;\n",
       "    }\n",
       "</style>\n",
       "<table border=\"1\" class=\"dataframe\">\n",
       "  <thead>\n",
       "    <tr style=\"text-align: right;\">\n",
       "      <th></th>\n",
       "      <th>0</th>\n",
       "      <th>1</th>\n",
       "      <th>2</th>\n",
       "      <th>3</th>\n",
       "    </tr>\n",
       "  </thead>\n",
       "  <tbody>\n",
       "    <tr>\n",
       "      <th>0</th>\n",
       "      <td>0</td>\n",
       "      <td>1</td>\n",
       "      <td>2</td>\n",
       "      <td>3</td>\n",
       "    </tr>\n",
       "    <tr>\n",
       "      <th>1</th>\n",
       "      <td>4</td>\n",
       "      <td>5</td>\n",
       "      <td>6</td>\n",
       "      <td>7</td>\n",
       "    </tr>\n",
       "    <tr>\n",
       "      <th>2</th>\n",
       "      <td>8</td>\n",
       "      <td>9</td>\n",
       "      <td>10</td>\n",
       "      <td>11</td>\n",
       "    </tr>\n",
       "    <tr>\n",
       "      <th>3</th>\n",
       "      <td>12</td>\n",
       "      <td>13</td>\n",
       "      <td>14</td>\n",
       "      <td>15</td>\n",
       "    </tr>\n",
       "  </tbody>\n",
       "</table>\n",
       "</div>"
      ],
      "text/plain": [
       "    0   1   2   3\n",
       "0   0   1   2   3\n",
       "1   4   5   6   7\n",
       "2   8   9  10  11\n",
       "3  12  13  14  15"
      ]
     },
     "execution_count": 8,
     "metadata": {},
     "output_type": "execute_result"
    }
   ],
   "source": [
    "dataframe = pd.DataFrame(np.arange(16).reshape(4, 4))\n",
    "dataframe"
   ]
  },
  {
   "cell_type": "code",
   "execution_count": 10,
   "metadata": {},
   "outputs": [],
   "source": [
    "def es_suma_par(elemento):\n",
    "    if np.sum(elemento) % 2 == 0:\n",
    "        return 'Suma par: ' + str(np.sum(elemento))\n",
    "    else:\n",
    "        return 'Suma impar: ' + str(np.sum(elemento))"
   ]
  },
  {
   "cell_type": "code",
   "execution_count": 11,
   "metadata": {},
   "outputs": [
    {
     "data": {
      "text/plain": [
       "0    Suma par: 24\n",
       "1    Suma par: 28\n",
       "2    Suma par: 32\n",
       "3    Suma par: 36\n",
       "dtype: object"
      ]
     },
     "execution_count": 11,
     "metadata": {},
     "output_type": "execute_result"
    }
   ],
   "source": [
    "# Aplicación de función por columnas sobre DataFrame\n",
    "dataframe.apply(es_suma_par)"
   ]
  },
  {
   "cell_type": "code",
   "execution_count": 12,
   "metadata": {},
   "outputs": [
    {
     "data": {
      "text/plain": [
       "0     Suma par: 6\n",
       "1    Suma par: 22\n",
       "2    Suma par: 38\n",
       "3    Suma par: 54\n",
       "dtype: object"
      ]
     },
     "execution_count": 12,
     "metadata": {},
     "output_type": "execute_result"
    }
   ],
   "source": [
    "# Aplicación de función por filas sobre DataFrames\n",
    "dataframe.apply(es_suma_par, axis=1)"
   ]
  },
  {
   "cell_type": "markdown",
   "metadata": {},
   "source": [
    "## Fusión de estructuras\n",
    "\n",
    "La librería pandas nos ofrece, principalmente, dos formas de fusionar estructuras de datos: realizando cruces entre ellos (mediante las claves coincidentes de sus índices) o concatenando sus contenidos (bien por filas o columnas)."
   ]
  },
  {
   "cell_type": "markdown",
   "metadata": {},
   "source": [
    "#### Función merge - JOIN de estructuras"
   ]
  },
  {
   "cell_type": "code",
   "execution_count": 13,
   "metadata": {},
   "outputs": [
    {
     "data": {
      "text/html": [
       "<div>\n",
       "<style scoped>\n",
       "    .dataframe tbody tr th:only-of-type {\n",
       "        vertical-align: middle;\n",
       "    }\n",
       "\n",
       "    .dataframe tbody tr th {\n",
       "        vertical-align: top;\n",
       "    }\n",
       "\n",
       "    .dataframe thead th {\n",
       "        text-align: right;\n",
       "    }\n",
       "</style>\n",
       "<table border=\"1\" class=\"dataframe\">\n",
       "  <thead>\n",
       "    <tr style=\"text-align: right;\">\n",
       "      <th></th>\n",
       "      <th>Año</th>\n",
       "      <th>Valoración</th>\n",
       "      <th>Presupuesto</th>\n",
       "      <th>Director</th>\n",
       "      <th>Título</th>\n",
       "    </tr>\n",
       "  </thead>\n",
       "  <tbody>\n",
       "    <tr>\n",
       "      <th>0</th>\n",
       "      <td>2014</td>\n",
       "      <td>6.00</td>\n",
       "      <td>160.0</td>\n",
       "      <td>Gareth Edwards</td>\n",
       "      <td>Godzilla</td>\n",
       "    </tr>\n",
       "    <tr>\n",
       "      <th>1</th>\n",
       "      <td>2014</td>\n",
       "      <td>NaN</td>\n",
       "      <td>250.0</td>\n",
       "      <td>Peter Jackson</td>\n",
       "      <td>El Hobbit III</td>\n",
       "    </tr>\n",
       "    <tr>\n",
       "      <th>2</th>\n",
       "      <td>2013</td>\n",
       "      <td>8.75</td>\n",
       "      <td>100.0</td>\n",
       "      <td>Martin Scorsese</td>\n",
       "      <td>El lobo de Wall Street</td>\n",
       "    </tr>\n",
       "    <tr>\n",
       "      <th>3</th>\n",
       "      <td>2013</td>\n",
       "      <td>NaN</td>\n",
       "      <td>NaN</td>\n",
       "      <td>Alfonso Cuarón</td>\n",
       "      <td>Gravity</td>\n",
       "    </tr>\n",
       "  </tbody>\n",
       "</table>\n",
       "</div>"
      ],
      "text/plain": [
       "    Año  Valoración  Presupuesto         Director                  Título\n",
       "0  2014        6.00        160.0   Gareth Edwards                Godzilla\n",
       "1  2014         NaN        250.0    Peter Jackson           El Hobbit III\n",
       "2  2013        8.75        100.0  Martin Scorsese  El lobo de Wall Street\n",
       "3  2013         NaN          NaN   Alfonso Cuarón                 Gravity"
      ]
     },
     "execution_count": 13,
     "metadata": {},
     "output_type": "execute_result"
    }
   ],
   "source": [
    "peliculas = pd.DataFrame(\n",
    "            {'Año':[2014, 2014, 2013, 2013], \n",
    "             'Valoración':[6, None, 8.75, None],\n",
    "             'Presupuesto':[160, 250, 100, None],\n",
    "             'Director':['Gareth Edwards','Peter Jackson',  'Martin Scorsese', 'Alfonso Cuarón'],\n",
    "             'Título':['Godzilla', 'El Hobbit III', 'El lobo de Wall Street', 'Gravity']}\n",
    ")\n",
    "peliculas"
   ]
  },
  {
   "cell_type": "code",
   "execution_count": 14,
   "metadata": {},
   "outputs": [
    {
     "data": {
      "text/html": [
       "<div>\n",
       "<style scoped>\n",
       "    .dataframe tbody tr th:only-of-type {\n",
       "        vertical-align: middle;\n",
       "    }\n",
       "\n",
       "    .dataframe tbody tr th {\n",
       "        vertical-align: top;\n",
       "    }\n",
       "\n",
       "    .dataframe thead th {\n",
       "        text-align: right;\n",
       "    }\n",
       "</style>\n",
       "<table border=\"1\" class=\"dataframe\">\n",
       "  <thead>\n",
       "    <tr style=\"text-align: right;\">\n",
       "      <th></th>\n",
       "      <th>Director</th>\n",
       "      <th>AñoNacimiento</th>\n",
       "      <th>Nacionalidad</th>\n",
       "    </tr>\n",
       "  </thead>\n",
       "  <tbody>\n",
       "    <tr>\n",
       "      <th>0</th>\n",
       "      <td>Gareth Edwards</td>\n",
       "      <td>1975</td>\n",
       "      <td>England</td>\n",
       "    </tr>\n",
       "    <tr>\n",
       "      <th>1</th>\n",
       "      <td>Martin Scorsese</td>\n",
       "      <td>1942</td>\n",
       "      <td>USA</td>\n",
       "    </tr>\n",
       "    <tr>\n",
       "      <th>2</th>\n",
       "      <td>Pedro Almodovar</td>\n",
       "      <td>1949</td>\n",
       "      <td>Spain</td>\n",
       "    </tr>\n",
       "  </tbody>\n",
       "</table>\n",
       "</div>"
      ],
      "text/plain": [
       "          Director  AñoNacimiento Nacionalidad\n",
       "0   Gareth Edwards           1975      England\n",
       "1  Martin Scorsese           1942          USA\n",
       "2  Pedro Almodovar           1949        Spain"
      ]
     },
     "execution_count": 14,
     "metadata": {},
     "output_type": "execute_result"
    }
   ],
   "source": [
    "directores = pd.DataFrame(\n",
    "            {'Director':['Gareth Edwards', 'Martin Scorsese', 'Pedro Almodovar'],\n",
    "             'AñoNacimiento':[1975, 1942, 1949],\n",
    "             'Nacionalidad': ['England', 'USA', 'Spain']\n",
    "             }\n",
    ")\n",
    "directores"
   ]
  },
  {
   "cell_type": "code",
   "execution_count": 15,
   "metadata": {},
   "outputs": [
    {
     "data": {
      "text/html": [
       "<div>\n",
       "<style scoped>\n",
       "    .dataframe tbody tr th:only-of-type {\n",
       "        vertical-align: middle;\n",
       "    }\n",
       "\n",
       "    .dataframe tbody tr th {\n",
       "        vertical-align: top;\n",
       "    }\n",
       "\n",
       "    .dataframe thead th {\n",
       "        text-align: right;\n",
       "    }\n",
       "</style>\n",
       "<table border=\"1\" class=\"dataframe\">\n",
       "  <thead>\n",
       "    <tr style=\"text-align: right;\">\n",
       "      <th></th>\n",
       "      <th>Año</th>\n",
       "      <th>Valoración</th>\n",
       "      <th>Presupuesto</th>\n",
       "      <th>Director</th>\n",
       "      <th>Título</th>\n",
       "      <th>AñoNacimiento</th>\n",
       "      <th>Nacionalidad</th>\n",
       "    </tr>\n",
       "  </thead>\n",
       "  <tbody>\n",
       "    <tr>\n",
       "      <th>0</th>\n",
       "      <td>2014</td>\n",
       "      <td>6.00</td>\n",
       "      <td>160.0</td>\n",
       "      <td>Gareth Edwards</td>\n",
       "      <td>Godzilla</td>\n",
       "      <td>1975</td>\n",
       "      <td>England</td>\n",
       "    </tr>\n",
       "    <tr>\n",
       "      <th>1</th>\n",
       "      <td>2013</td>\n",
       "      <td>8.75</td>\n",
       "      <td>100.0</td>\n",
       "      <td>Martin Scorsese</td>\n",
       "      <td>El lobo de Wall Street</td>\n",
       "      <td>1942</td>\n",
       "      <td>USA</td>\n",
       "    </tr>\n",
       "  </tbody>\n",
       "</table>\n",
       "</div>"
      ],
      "text/plain": [
       "    Año  Valoración  Presupuesto         Director                  Título  \\\n",
       "0  2014        6.00        160.0   Gareth Edwards                Godzilla   \n",
       "1  2013        8.75        100.0  Martin Scorsese  El lobo de Wall Street   \n",
       "\n",
       "   AñoNacimiento Nacionalidad  \n",
       "0           1975      England  \n",
       "1           1942          USA  "
      ]
     },
     "execution_count": 15,
     "metadata": {},
     "output_type": "execute_result"
    }
   ],
   "source": [
    "pd.merge(peliculas,directores)"
   ]
  },
  {
   "cell_type": "code",
   "execution_count": 16,
   "metadata": {},
   "outputs": [
    {
     "data": {
      "text/html": [
       "<div>\n",
       "<style scoped>\n",
       "    .dataframe tbody tr th:only-of-type {\n",
       "        vertical-align: middle;\n",
       "    }\n",
       "\n",
       "    .dataframe tbody tr th {\n",
       "        vertical-align: top;\n",
       "    }\n",
       "\n",
       "    .dataframe thead th {\n",
       "        text-align: right;\n",
       "    }\n",
       "</style>\n",
       "<table border=\"1\" class=\"dataframe\">\n",
       "  <thead>\n",
       "    <tr style=\"text-align: right;\">\n",
       "      <th></th>\n",
       "      <th>Año</th>\n",
       "      <th>Valoración</th>\n",
       "      <th>Presupuesto</th>\n",
       "      <th>Director</th>\n",
       "      <th>Título</th>\n",
       "      <th>AñoNacimiento</th>\n",
       "    </tr>\n",
       "  </thead>\n",
       "  <tbody>\n",
       "    <tr>\n",
       "      <th>0</th>\n",
       "      <td>2014</td>\n",
       "      <td>6.00</td>\n",
       "      <td>160.0</td>\n",
       "      <td>Gareth Edwards</td>\n",
       "      <td>Godzilla</td>\n",
       "      <td>1975</td>\n",
       "    </tr>\n",
       "    <tr>\n",
       "      <th>1</th>\n",
       "      <td>2013</td>\n",
       "      <td>8.75</td>\n",
       "      <td>100.0</td>\n",
       "      <td>Martin Scorsese</td>\n",
       "      <td>El lobo de Wall Street</td>\n",
       "      <td>1942</td>\n",
       "    </tr>\n",
       "  </tbody>\n",
       "</table>\n",
       "</div>"
      ],
      "text/plain": [
       "    Año  Valoración  Presupuesto         Director                  Título  \\\n",
       "0  2014        6.00        160.0   Gareth Edwards                Godzilla   \n",
       "1  2013        8.75        100.0  Martin Scorsese  El lobo de Wall Street   \n",
       "\n",
       "   AñoNacimiento  \n",
       "0           1975  \n",
       "1           1942  "
      ]
     },
     "execution_count": 16,
     "metadata": {},
     "output_type": "execute_result"
    }
   ],
   "source": [
    "pd.merge(peliculas, directores[['Director', 'AñoNacimiento']], on = ['Director'])"
   ]
  },
  {
   "cell_type": "markdown",
   "metadata": {},
   "source": [
    "La función busca, por defecto, aquellas claves de columnas que coinciden y realiza el cruce, eliminando del resultado aquellas filas para las que el cruce no es posible.<br/>\n",
    "\n",
    "También podemos especificar, explícitamente, el conjunto de columnas a utilizar en el cruce."
   ]
  },
  {
   "cell_type": "code",
   "execution_count": 17,
   "metadata": {},
   "outputs": [
    {
     "data": {
      "text/html": [
       "<div>\n",
       "<style scoped>\n",
       "    .dataframe tbody tr th:only-of-type {\n",
       "        vertical-align: middle;\n",
       "    }\n",
       "\n",
       "    .dataframe tbody tr th {\n",
       "        vertical-align: top;\n",
       "    }\n",
       "\n",
       "    .dataframe thead th {\n",
       "        text-align: right;\n",
       "    }\n",
       "</style>\n",
       "<table border=\"1\" class=\"dataframe\">\n",
       "  <thead>\n",
       "    <tr style=\"text-align: right;\">\n",
       "      <th></th>\n",
       "      <th>Año</th>\n",
       "      <th>Valoración</th>\n",
       "      <th>Presupuesto</th>\n",
       "      <th>Director</th>\n",
       "      <th>Título</th>\n",
       "      <th>Nombre</th>\n",
       "      <th>Nacimiento</th>\n",
       "      <th>Nacionalidad</th>\n",
       "    </tr>\n",
       "  </thead>\n",
       "  <tbody>\n",
       "    <tr>\n",
       "      <th>0</th>\n",
       "      <td>2014</td>\n",
       "      <td>6.00</td>\n",
       "      <td>160.0</td>\n",
       "      <td>Gareth Edwards</td>\n",
       "      <td>Godzilla</td>\n",
       "      <td>Gareth Edwards</td>\n",
       "      <td>1975</td>\n",
       "      <td>England</td>\n",
       "    </tr>\n",
       "    <tr>\n",
       "      <th>1</th>\n",
       "      <td>2013</td>\n",
       "      <td>8.75</td>\n",
       "      <td>100.0</td>\n",
       "      <td>Martin Scorsese</td>\n",
       "      <td>El lobo de Wall Street</td>\n",
       "      <td>Martin Scorsese</td>\n",
       "      <td>1942</td>\n",
       "      <td>USA</td>\n",
       "    </tr>\n",
       "  </tbody>\n",
       "</table>\n",
       "</div>"
      ],
      "text/plain": [
       "    Año  Valoración  Presupuesto         Director                  Título  \\\n",
       "0  2014        6.00        160.0   Gareth Edwards                Godzilla   \n",
       "1  2013        8.75        100.0  Martin Scorsese  El lobo de Wall Street   \n",
       "\n",
       "            Nombre  Nacimiento Nacionalidad  \n",
       "0   Gareth Edwards        1975      England  \n",
       "1  Martin Scorsese        1942          USA  "
      ]
     },
     "execution_count": 17,
     "metadata": {},
     "output_type": "execute_result"
    }
   ],
   "source": [
    "directores.columns = ['Nombre', 'Nacimiento', 'Nacionalidad']\n",
    "pd.merge(peliculas, directores, left_on='Director', right_on='Nombre')"
   ]
  },
  {
   "cell_type": "markdown",
   "metadata": {},
   "source": [
    "Por último, al igual que ocurre en os JOIN de SQL, podemos especificar el modo de cruce a aplicar, haciendo que las filas de la estructura de la izquierda, derecha o ambas que no coincidan se mantengan en el resultado, estableciendo valores NaN en aquellos elementos para los que no exista información."
   ]
  },
  {
   "cell_type": "code",
   "execution_count": 18,
   "metadata": {},
   "outputs": [
    {
     "data": {
      "text/html": [
       "<div>\n",
       "<style scoped>\n",
       "    .dataframe tbody tr th:only-of-type {\n",
       "        vertical-align: middle;\n",
       "    }\n",
       "\n",
       "    .dataframe tbody tr th {\n",
       "        vertical-align: top;\n",
       "    }\n",
       "\n",
       "    .dataframe thead th {\n",
       "        text-align: right;\n",
       "    }\n",
       "</style>\n",
       "<table border=\"1\" class=\"dataframe\">\n",
       "  <thead>\n",
       "    <tr style=\"text-align: right;\">\n",
       "      <th></th>\n",
       "      <th>Año</th>\n",
       "      <th>Valoración</th>\n",
       "      <th>Presupuesto</th>\n",
       "      <th>Director</th>\n",
       "      <th>Título</th>\n",
       "      <th>Nombre</th>\n",
       "      <th>Nacimiento</th>\n",
       "      <th>Nacionalidad</th>\n",
       "    </tr>\n",
       "  </thead>\n",
       "  <tbody>\n",
       "    <tr>\n",
       "      <th>0</th>\n",
       "      <td>2014</td>\n",
       "      <td>6.00</td>\n",
       "      <td>160.0</td>\n",
       "      <td>Gareth Edwards</td>\n",
       "      <td>Godzilla</td>\n",
       "      <td>Gareth Edwards</td>\n",
       "      <td>1975.0</td>\n",
       "      <td>England</td>\n",
       "    </tr>\n",
       "    <tr>\n",
       "      <th>1</th>\n",
       "      <td>2014</td>\n",
       "      <td>NaN</td>\n",
       "      <td>250.0</td>\n",
       "      <td>Peter Jackson</td>\n",
       "      <td>El Hobbit III</td>\n",
       "      <td>NaN</td>\n",
       "      <td>NaN</td>\n",
       "      <td>NaN</td>\n",
       "    </tr>\n",
       "    <tr>\n",
       "      <th>2</th>\n",
       "      <td>2013</td>\n",
       "      <td>8.75</td>\n",
       "      <td>100.0</td>\n",
       "      <td>Martin Scorsese</td>\n",
       "      <td>El lobo de Wall Street</td>\n",
       "      <td>Martin Scorsese</td>\n",
       "      <td>1942.0</td>\n",
       "      <td>USA</td>\n",
       "    </tr>\n",
       "    <tr>\n",
       "      <th>3</th>\n",
       "      <td>2013</td>\n",
       "      <td>NaN</td>\n",
       "      <td>NaN</td>\n",
       "      <td>Alfonso Cuarón</td>\n",
       "      <td>Gravity</td>\n",
       "      <td>NaN</td>\n",
       "      <td>NaN</td>\n",
       "      <td>NaN</td>\n",
       "    </tr>\n",
       "  </tbody>\n",
       "</table>\n",
       "</div>"
      ],
      "text/plain": [
       "    Año  Valoración  Presupuesto         Director                  Título  \\\n",
       "0  2014        6.00        160.0   Gareth Edwards                Godzilla   \n",
       "1  2014         NaN        250.0    Peter Jackson           El Hobbit III   \n",
       "2  2013        8.75        100.0  Martin Scorsese  El lobo de Wall Street   \n",
       "3  2013         NaN          NaN   Alfonso Cuarón                 Gravity   \n",
       "\n",
       "            Nombre  Nacimiento Nacionalidad  \n",
       "0   Gareth Edwards      1975.0      England  \n",
       "1              NaN         NaN          NaN  \n",
       "2  Martin Scorsese      1942.0          USA  \n",
       "3              NaN         NaN          NaN  "
      ]
     },
     "execution_count": 18,
     "metadata": {},
     "output_type": "execute_result"
    }
   ],
   "source": [
    "pd.merge(peliculas, directores, left_on='Director', right_on='Nombre', how='left')#si quiero que no desaparezcan peliculas uso el how. Si quiero matener todas las peliculas por mas que no aparezca su director uso how='left'"
   ]
  },
  {
   "cell_type": "code",
   "execution_count": 19,
   "metadata": {},
   "outputs": [
    {
     "data": {
      "text/html": [
       "<div>\n",
       "<style scoped>\n",
       "    .dataframe tbody tr th:only-of-type {\n",
       "        vertical-align: middle;\n",
       "    }\n",
       "\n",
       "    .dataframe tbody tr th {\n",
       "        vertical-align: top;\n",
       "    }\n",
       "\n",
       "    .dataframe thead th {\n",
       "        text-align: right;\n",
       "    }\n",
       "</style>\n",
       "<table border=\"1\" class=\"dataframe\">\n",
       "  <thead>\n",
       "    <tr style=\"text-align: right;\">\n",
       "      <th></th>\n",
       "      <th>Año</th>\n",
       "      <th>Valoración</th>\n",
       "      <th>Presupuesto</th>\n",
       "      <th>Director</th>\n",
       "      <th>Título</th>\n",
       "      <th>Nombre</th>\n",
       "      <th>Nacimiento</th>\n",
       "      <th>Nacionalidad</th>\n",
       "    </tr>\n",
       "  </thead>\n",
       "  <tbody>\n",
       "    <tr>\n",
       "      <th>0</th>\n",
       "      <td>2014.0</td>\n",
       "      <td>6.00</td>\n",
       "      <td>160.0</td>\n",
       "      <td>Gareth Edwards</td>\n",
       "      <td>Godzilla</td>\n",
       "      <td>Gareth Edwards</td>\n",
       "      <td>1975</td>\n",
       "      <td>England</td>\n",
       "    </tr>\n",
       "    <tr>\n",
       "      <th>1</th>\n",
       "      <td>2013.0</td>\n",
       "      <td>8.75</td>\n",
       "      <td>100.0</td>\n",
       "      <td>Martin Scorsese</td>\n",
       "      <td>El lobo de Wall Street</td>\n",
       "      <td>Martin Scorsese</td>\n",
       "      <td>1942</td>\n",
       "      <td>USA</td>\n",
       "    </tr>\n",
       "    <tr>\n",
       "      <th>2</th>\n",
       "      <td>NaN</td>\n",
       "      <td>NaN</td>\n",
       "      <td>NaN</td>\n",
       "      <td>NaN</td>\n",
       "      <td>NaN</td>\n",
       "      <td>Pedro Almodovar</td>\n",
       "      <td>1949</td>\n",
       "      <td>Spain</td>\n",
       "    </tr>\n",
       "  </tbody>\n",
       "</table>\n",
       "</div>"
      ],
      "text/plain": [
       "      Año  Valoración  Presupuesto         Director                  Título  \\\n",
       "0  2014.0        6.00        160.0   Gareth Edwards                Godzilla   \n",
       "1  2013.0        8.75        100.0  Martin Scorsese  El lobo de Wall Street   \n",
       "2     NaN         NaN          NaN              NaN                     NaN   \n",
       "\n",
       "            Nombre  Nacimiento Nacionalidad  \n",
       "0   Gareth Edwards        1975      England  \n",
       "1  Martin Scorsese        1942          USA  \n",
       "2  Pedro Almodovar        1949        Spain  "
      ]
     },
     "execution_count": 19,
     "metadata": {},
     "output_type": "execute_result"
    }
   ],
   "source": [
    "pd.merge(peliculas, directores, left_on='Director', right_on='Nombre', how='right')#si quiero mantener todos los directores aunque no haya pelicula de ese director"
   ]
  },
  {
   "cell_type": "code",
   "execution_count": 20,
   "metadata": {},
   "outputs": [
    {
     "data": {
      "text/html": [
       "<div>\n",
       "<style scoped>\n",
       "    .dataframe tbody tr th:only-of-type {\n",
       "        vertical-align: middle;\n",
       "    }\n",
       "\n",
       "    .dataframe tbody tr th {\n",
       "        vertical-align: top;\n",
       "    }\n",
       "\n",
       "    .dataframe thead th {\n",
       "        text-align: right;\n",
       "    }\n",
       "</style>\n",
       "<table border=\"1\" class=\"dataframe\">\n",
       "  <thead>\n",
       "    <tr style=\"text-align: right;\">\n",
       "      <th></th>\n",
       "      <th>Año</th>\n",
       "      <th>Valoración</th>\n",
       "      <th>Presupuesto</th>\n",
       "      <th>Director</th>\n",
       "      <th>Título</th>\n",
       "      <th>Nombre</th>\n",
       "      <th>Nacimiento</th>\n",
       "      <th>Nacionalidad</th>\n",
       "    </tr>\n",
       "  </thead>\n",
       "  <tbody>\n",
       "    <tr>\n",
       "      <th>0</th>\n",
       "      <td>2014.0</td>\n",
       "      <td>6.00</td>\n",
       "      <td>160.0</td>\n",
       "      <td>Gareth Edwards</td>\n",
       "      <td>Godzilla</td>\n",
       "      <td>Gareth Edwards</td>\n",
       "      <td>1975.0</td>\n",
       "      <td>England</td>\n",
       "    </tr>\n",
       "    <tr>\n",
       "      <th>1</th>\n",
       "      <td>2014.0</td>\n",
       "      <td>NaN</td>\n",
       "      <td>250.0</td>\n",
       "      <td>Peter Jackson</td>\n",
       "      <td>El Hobbit III</td>\n",
       "      <td>NaN</td>\n",
       "      <td>NaN</td>\n",
       "      <td>NaN</td>\n",
       "    </tr>\n",
       "    <tr>\n",
       "      <th>2</th>\n",
       "      <td>2013.0</td>\n",
       "      <td>8.75</td>\n",
       "      <td>100.0</td>\n",
       "      <td>Martin Scorsese</td>\n",
       "      <td>El lobo de Wall Street</td>\n",
       "      <td>Martin Scorsese</td>\n",
       "      <td>1942.0</td>\n",
       "      <td>USA</td>\n",
       "    </tr>\n",
       "    <tr>\n",
       "      <th>3</th>\n",
       "      <td>2013.0</td>\n",
       "      <td>NaN</td>\n",
       "      <td>NaN</td>\n",
       "      <td>Alfonso Cuarón</td>\n",
       "      <td>Gravity</td>\n",
       "      <td>NaN</td>\n",
       "      <td>NaN</td>\n",
       "      <td>NaN</td>\n",
       "    </tr>\n",
       "    <tr>\n",
       "      <th>4</th>\n",
       "      <td>NaN</td>\n",
       "      <td>NaN</td>\n",
       "      <td>NaN</td>\n",
       "      <td>NaN</td>\n",
       "      <td>NaN</td>\n",
       "      <td>Pedro Almodovar</td>\n",
       "      <td>1949.0</td>\n",
       "      <td>Spain</td>\n",
       "    </tr>\n",
       "  </tbody>\n",
       "</table>\n",
       "</div>"
      ],
      "text/plain": [
       "      Año  Valoración  Presupuesto         Director                  Título  \\\n",
       "0  2014.0        6.00        160.0   Gareth Edwards                Godzilla   \n",
       "1  2014.0         NaN        250.0    Peter Jackson           El Hobbit III   \n",
       "2  2013.0        8.75        100.0  Martin Scorsese  El lobo de Wall Street   \n",
       "3  2013.0         NaN          NaN   Alfonso Cuarón                 Gravity   \n",
       "4     NaN         NaN          NaN              NaN                     NaN   \n",
       "\n",
       "            Nombre  Nacimiento Nacionalidad  \n",
       "0   Gareth Edwards      1975.0      England  \n",
       "1              NaN         NaN          NaN  \n",
       "2  Martin Scorsese      1942.0          USA  \n",
       "3              NaN         NaN          NaN  \n",
       "4  Pedro Almodovar      1949.0        Spain  "
      ]
     },
     "execution_count": 20,
     "metadata": {},
     "output_type": "execute_result"
    }
   ],
   "source": [
    "pd.merge(peliculas, directores, left_on='Director', right_on='Nombre', how='outer')#si queiro mantener todo, pelicula aunque no tenga director o director aunque no tenga pelicula"
   ]
  },
  {
   "cell_type": "markdown",
   "metadata": {},
   "source": [
    "Finalmente, en el caso de que tengamos columnas duplicadas en los dos DataFrames que se van a unir, pandas se encargará automáticamente de incluir un sufijo que permita desambiguar (_x, _y, por defecto). "
   ]
  },
  {
   "cell_type": "code",
   "execution_count": 21,
   "metadata": {},
   "outputs": [
    {
     "data": {
      "text/html": [
       "<div>\n",
       "<style scoped>\n",
       "    .dataframe tbody tr th:only-of-type {\n",
       "        vertical-align: middle;\n",
       "    }\n",
       "\n",
       "    .dataframe tbody tr th {\n",
       "        vertical-align: top;\n",
       "    }\n",
       "\n",
       "    .dataframe thead th {\n",
       "        text-align: right;\n",
       "    }\n",
       "</style>\n",
       "<table border=\"1\" class=\"dataframe\">\n",
       "  <thead>\n",
       "    <tr style=\"text-align: right;\">\n",
       "      <th></th>\n",
       "      <th>Año</th>\n",
       "      <th>Valoración_x</th>\n",
       "      <th>Presupuesto</th>\n",
       "      <th>Director</th>\n",
       "      <th>Título</th>\n",
       "      <th>AñoNacimiento</th>\n",
       "      <th>Nacionalidad</th>\n",
       "      <th>Valoración_y</th>\n",
       "    </tr>\n",
       "  </thead>\n",
       "  <tbody>\n",
       "    <tr>\n",
       "      <th>0</th>\n",
       "      <td>2014</td>\n",
       "      <td>NaN</td>\n",
       "      <td>250.0</td>\n",
       "      <td>Gareth Edwards</td>\n",
       "      <td>El Hobbit III</td>\n",
       "      <td>1975</td>\n",
       "      <td>England</td>\n",
       "      <td>6</td>\n",
       "    </tr>\n",
       "    <tr>\n",
       "      <th>1</th>\n",
       "      <td>2013</td>\n",
       "      <td>8.75</td>\n",
       "      <td>100.0</td>\n",
       "      <td>Martin Scorsese</td>\n",
       "      <td>El lobo de Wall Street</td>\n",
       "      <td>1942</td>\n",
       "      <td>USA</td>\n",
       "      <td>7</td>\n",
       "    </tr>\n",
       "  </tbody>\n",
       "</table>\n",
       "</div>"
      ],
      "text/plain": [
       "    Año  Valoración_x  Presupuesto         Director                  Título  \\\n",
       "0  2014           NaN        250.0   Gareth Edwards           El Hobbit III   \n",
       "1  2013          8.75        100.0  Martin Scorsese  El lobo de Wall Street   \n",
       "\n",
       "   AñoNacimiento Nacionalidad  Valoración_y  \n",
       "0           1975      England             6  \n",
       "1           1942          USA             7  "
      ]
     },
     "execution_count": 21,
     "metadata": {},
     "output_type": "execute_result"
    }
   ],
   "source": [
    "peliculas = pd.DataFrame(\n",
    "            {'Año':[2014, 2014, 2013, 2013], \n",
    "             'Valoración':[6, None, 8.75, None],\n",
    "             'Presupuesto':[160, 250, 100, None],\n",
    "             'Director':['Peter Jackson', 'Gareth Edwards', 'Martin Scorsese', 'Alfonso Cuarón'],\n",
    "             'Título':['Godzilla', 'El Hobbit III', 'El lobo de Wall Street', 'Gravity']}\n",
    ")\n",
    "directores = pd.DataFrame(\n",
    "            {'Director':['Gareth Edwards', 'Martin Scorsese', 'Pedro Almodovar'],\n",
    "             'AñoNacimiento':[1975, 1942, 1949],\n",
    "             'Nacionalidad': ['England', 'USA', 'Spain'],\n",
    "             'Valoración':[6, 7, 8]\n",
    "             }\n",
    ")\n",
    "pd.merge(peliculas, directores, left_on='Director', right_on='Director')"
   ]
  },
  {
   "cell_type": "markdown",
   "metadata": {},
   "source": [
    "Si queremos modificar estos sufijos, podemos hacer uso del parámetro suffixes que recibe una tupla con los sufijos a utilizar."
   ]
  },
  {
   "cell_type": "code",
   "execution_count": 22,
   "metadata": {},
   "outputs": [
    {
     "data": {
      "text/html": [
       "<div>\n",
       "<style scoped>\n",
       "    .dataframe tbody tr th:only-of-type {\n",
       "        vertical-align: middle;\n",
       "    }\n",
       "\n",
       "    .dataframe tbody tr th {\n",
       "        vertical-align: top;\n",
       "    }\n",
       "\n",
       "    .dataframe thead th {\n",
       "        text-align: right;\n",
       "    }\n",
       "</style>\n",
       "<table border=\"1\" class=\"dataframe\">\n",
       "  <thead>\n",
       "    <tr style=\"text-align: right;\">\n",
       "      <th></th>\n",
       "      <th>Año</th>\n",
       "      <th>Valoración_peli</th>\n",
       "      <th>Presupuesto</th>\n",
       "      <th>Director</th>\n",
       "      <th>Título</th>\n",
       "      <th>AñoNacimiento</th>\n",
       "      <th>Nacionalidad</th>\n",
       "      <th>Valoración_dire</th>\n",
       "    </tr>\n",
       "  </thead>\n",
       "  <tbody>\n",
       "    <tr>\n",
       "      <th>0</th>\n",
       "      <td>2014</td>\n",
       "      <td>NaN</td>\n",
       "      <td>250.0</td>\n",
       "      <td>Gareth Edwards</td>\n",
       "      <td>El Hobbit III</td>\n",
       "      <td>1975</td>\n",
       "      <td>England</td>\n",
       "      <td>6</td>\n",
       "    </tr>\n",
       "    <tr>\n",
       "      <th>1</th>\n",
       "      <td>2013</td>\n",
       "      <td>8.75</td>\n",
       "      <td>100.0</td>\n",
       "      <td>Martin Scorsese</td>\n",
       "      <td>El lobo de Wall Street</td>\n",
       "      <td>1942</td>\n",
       "      <td>USA</td>\n",
       "      <td>7</td>\n",
       "    </tr>\n",
       "  </tbody>\n",
       "</table>\n",
       "</div>"
      ],
      "text/plain": [
       "    Año  Valoración_peli  Presupuesto         Director  \\\n",
       "0  2014              NaN        250.0   Gareth Edwards   \n",
       "1  2013             8.75        100.0  Martin Scorsese   \n",
       "\n",
       "                   Título  AñoNacimiento Nacionalidad  Valoración_dire  \n",
       "0           El Hobbit III           1975      England                6  \n",
       "1  El lobo de Wall Street           1942          USA                7  "
      ]
     },
     "execution_count": 22,
     "metadata": {},
     "output_type": "execute_result"
    }
   ],
   "source": [
    "pd.merge(peliculas, directores, left_on='Director', right_on='Director', suffixes=('_peli', '_dire'))"
   ]
  },
  {
   "cell_type": "markdown",
   "metadata": {},
   "source": [
    "#### Función concat\n",
    "\n",
    "Esta función nos permite fusionar estructuras sin realizar ningún tipo de cruce entre ellas, sino \"colocándolas\" juntas para la creación de una estructura mayor. Podemos hacerlo tanto en filas como en columnas. Por defecto, se concatenan filas y se mantienen las columnas de ambas estructuras aunque no coincidan en clave, dejando a NaN los elementos que no existan."
   ]
  },
  {
   "cell_type": "code",
   "execution_count": 23,
   "metadata": {},
   "outputs": [
    {
     "data": {
      "text/html": [
       "<div>\n",
       "<style scoped>\n",
       "    .dataframe tbody tr th:only-of-type {\n",
       "        vertical-align: middle;\n",
       "    }\n",
       "\n",
       "    .dataframe tbody tr th {\n",
       "        vertical-align: top;\n",
       "    }\n",
       "\n",
       "    .dataframe thead th {\n",
       "        text-align: right;\n",
       "    }\n",
       "</style>\n",
       "<table border=\"1\" class=\"dataframe\">\n",
       "  <thead>\n",
       "    <tr style=\"text-align: right;\">\n",
       "      <th></th>\n",
       "      <th>Año</th>\n",
       "      <th>Valoración</th>\n",
       "      <th>Presupuesto</th>\n",
       "      <th>Director</th>\n",
       "    </tr>\n",
       "  </thead>\n",
       "  <tbody>\n",
       "    <tr>\n",
       "      <th>Godzilla</th>\n",
       "      <td>2014</td>\n",
       "      <td>6.00</td>\n",
       "      <td>160.0</td>\n",
       "      <td>Gareth Edwards</td>\n",
       "    </tr>\n",
       "    <tr>\n",
       "      <th>El Hobbit III</th>\n",
       "      <td>2014</td>\n",
       "      <td>NaN</td>\n",
       "      <td>250.0</td>\n",
       "      <td>Peter Jackson</td>\n",
       "    </tr>\n",
       "    <tr>\n",
       "      <th>El lobo de Wall Street</th>\n",
       "      <td>2013</td>\n",
       "      <td>8.75</td>\n",
       "      <td>100.0</td>\n",
       "      <td>Martin Scorsese</td>\n",
       "    </tr>\n",
       "    <tr>\n",
       "      <th>Gravity</th>\n",
       "      <td>2013</td>\n",
       "      <td>NaN</td>\n",
       "      <td>NaN</td>\n",
       "      <td>Alfonso Cuarón</td>\n",
       "    </tr>\n",
       "  </tbody>\n",
       "</table>\n",
       "</div>"
      ],
      "text/plain": [
       "                         Año  Valoración  Presupuesto         Director\n",
       "Godzilla                2014        6.00        160.0   Gareth Edwards\n",
       "El Hobbit III           2014         NaN        250.0    Peter Jackson\n",
       "El lobo de Wall Street  2013        8.75        100.0  Martin Scorsese\n",
       "Gravity                 2013         NaN          NaN   Alfonso Cuarón"
      ]
     },
     "execution_count": 23,
     "metadata": {},
     "output_type": "execute_result"
    }
   ],
   "source": [
    "peliculas = pd.DataFrame(\n",
    "            {'Año':[2014, 2014, 2013, 2013], \n",
    "             'Valoración':[6, None, 8.75, None],\n",
    "             'Presupuesto':[160, 250, 100, None],\n",
    "             'Director':['Gareth Edwards','Peter Jackson', 'Martin Scorsese', 'Alfonso Cuarón']},\n",
    "            index = ['Godzilla', 'El Hobbit III', 'El lobo de Wall Street', 'Gravity']\n",
    ")\n",
    "peliculas2 = pd.DataFrame(\n",
    "            {'Año':[2014, 2014], \n",
    "             'Valoración':[7.3, 6.3],\n",
    "             'Director':['Evan Goldberg', ' Rupert Wyatt']},\n",
    "            index = ['La entrevista', 'El jugador']\n",
    ")\n",
    "peliculas"
   ]
  },
  {
   "cell_type": "code",
   "execution_count": 24,
   "metadata": {},
   "outputs": [
    {
     "data": {
      "text/html": [
       "<div>\n",
       "<style scoped>\n",
       "    .dataframe tbody tr th:only-of-type {\n",
       "        vertical-align: middle;\n",
       "    }\n",
       "\n",
       "    .dataframe tbody tr th {\n",
       "        vertical-align: top;\n",
       "    }\n",
       "\n",
       "    .dataframe thead th {\n",
       "        text-align: right;\n",
       "    }\n",
       "</style>\n",
       "<table border=\"1\" class=\"dataframe\">\n",
       "  <thead>\n",
       "    <tr style=\"text-align: right;\">\n",
       "      <th></th>\n",
       "      <th>Año</th>\n",
       "      <th>Valoración</th>\n",
       "      <th>Director</th>\n",
       "    </tr>\n",
       "  </thead>\n",
       "  <tbody>\n",
       "    <tr>\n",
       "      <th>La entrevista</th>\n",
       "      <td>2014</td>\n",
       "      <td>7.3</td>\n",
       "      <td>Evan Goldberg</td>\n",
       "    </tr>\n",
       "    <tr>\n",
       "      <th>El jugador</th>\n",
       "      <td>2014</td>\n",
       "      <td>6.3</td>\n",
       "      <td>Rupert Wyatt</td>\n",
       "    </tr>\n",
       "  </tbody>\n",
       "</table>\n",
       "</div>"
      ],
      "text/plain": [
       "                Año  Valoración       Director\n",
       "La entrevista  2014         7.3  Evan Goldberg\n",
       "El jugador     2014         6.3   Rupert Wyatt"
      ]
     },
     "execution_count": 24,
     "metadata": {},
     "output_type": "execute_result"
    }
   ],
   "source": [
    "peliculas2"
   ]
  },
  {
   "cell_type": "code",
   "execution_count": 26,
   "metadata": {},
   "outputs": [
    {
     "data": {
      "text/html": [
       "<div>\n",
       "<style scoped>\n",
       "    .dataframe tbody tr th:only-of-type {\n",
       "        vertical-align: middle;\n",
       "    }\n",
       "\n",
       "    .dataframe tbody tr th {\n",
       "        vertical-align: top;\n",
       "    }\n",
       "\n",
       "    .dataframe thead th {\n",
       "        text-align: right;\n",
       "    }\n",
       "</style>\n",
       "<table border=\"1\" class=\"dataframe\">\n",
       "  <thead>\n",
       "    <tr style=\"text-align: right;\">\n",
       "      <th></th>\n",
       "      <th>Año</th>\n",
       "      <th>Valoración</th>\n",
       "      <th>Presupuesto</th>\n",
       "      <th>Director</th>\n",
       "    </tr>\n",
       "  </thead>\n",
       "  <tbody>\n",
       "    <tr>\n",
       "      <th>Godzilla</th>\n",
       "      <td>2014</td>\n",
       "      <td>6.00</td>\n",
       "      <td>160.0</td>\n",
       "      <td>Gareth Edwards</td>\n",
       "    </tr>\n",
       "    <tr>\n",
       "      <th>El Hobbit III</th>\n",
       "      <td>2014</td>\n",
       "      <td>NaN</td>\n",
       "      <td>250.0</td>\n",
       "      <td>Peter Jackson</td>\n",
       "    </tr>\n",
       "    <tr>\n",
       "      <th>El lobo de Wall Street</th>\n",
       "      <td>2013</td>\n",
       "      <td>8.75</td>\n",
       "      <td>100.0</td>\n",
       "      <td>Martin Scorsese</td>\n",
       "    </tr>\n",
       "    <tr>\n",
       "      <th>Gravity</th>\n",
       "      <td>2013</td>\n",
       "      <td>NaN</td>\n",
       "      <td>NaN</td>\n",
       "      <td>Alfonso Cuarón</td>\n",
       "    </tr>\n",
       "    <tr>\n",
       "      <th>La entrevista</th>\n",
       "      <td>2014</td>\n",
       "      <td>7.30</td>\n",
       "      <td>NaN</td>\n",
       "      <td>Evan Goldberg</td>\n",
       "    </tr>\n",
       "    <tr>\n",
       "      <th>El jugador</th>\n",
       "      <td>2014</td>\n",
       "      <td>6.30</td>\n",
       "      <td>NaN</td>\n",
       "      <td>Rupert Wyatt</td>\n",
       "    </tr>\n",
       "  </tbody>\n",
       "</table>\n",
       "</div>"
      ],
      "text/plain": [
       "                         Año  Valoración  Presupuesto         Director\n",
       "Godzilla                2014        6.00        160.0   Gareth Edwards\n",
       "El Hobbit III           2014         NaN        250.0    Peter Jackson\n",
       "El lobo de Wall Street  2013        8.75        100.0  Martin Scorsese\n",
       "Gravity                 2013         NaN          NaN   Alfonso Cuarón\n",
       "La entrevista           2014        7.30          NaN    Evan Goldberg\n",
       "El jugador              2014        6.30          NaN     Rupert Wyatt"
      ]
     },
     "execution_count": 26,
     "metadata": {},
     "output_type": "execute_result"
    }
   ],
   "source": [
    "pd.concat([peliculas, peliculas2], sort = False)  #sort ordena las columnas, cada columna con su pareja"
   ]
  },
  {
   "cell_type": "markdown",
   "metadata": {},
   "source": [
    "También podemos concatenar por columnas."
   ]
  },
  {
   "cell_type": "code",
   "execution_count": 27,
   "metadata": {},
   "outputs": [
    {
     "data": {
      "text/html": [
       "<div>\n",
       "<style scoped>\n",
       "    .dataframe tbody tr th:only-of-type {\n",
       "        vertical-align: middle;\n",
       "    }\n",
       "\n",
       "    .dataframe tbody tr th {\n",
       "        vertical-align: top;\n",
       "    }\n",
       "\n",
       "    .dataframe thead th {\n",
       "        text-align: right;\n",
       "    }\n",
       "</style>\n",
       "<table border=\"1\" class=\"dataframe\">\n",
       "  <thead>\n",
       "    <tr style=\"text-align: right;\">\n",
       "      <th></th>\n",
       "      <th>Año</th>\n",
       "      <th>Valoración</th>\n",
       "      <th>Presupuesto</th>\n",
       "      <th>Director</th>\n",
       "      <th>Recaudación</th>\n",
       "    </tr>\n",
       "  </thead>\n",
       "  <tbody>\n",
       "    <tr>\n",
       "      <th>Godzilla</th>\n",
       "      <td>2014</td>\n",
       "      <td>6.00</td>\n",
       "      <td>160.0</td>\n",
       "      <td>Gareth Edwards</td>\n",
       "      <td>525.0</td>\n",
       "    </tr>\n",
       "    <tr>\n",
       "      <th>El Hobbit III</th>\n",
       "      <td>2014</td>\n",
       "      <td>NaN</td>\n",
       "      <td>250.0</td>\n",
       "      <td>Peter Jackson</td>\n",
       "      <td>722.0</td>\n",
       "    </tr>\n",
       "    <tr>\n",
       "      <th>El lobo de Wall Street</th>\n",
       "      <td>2013</td>\n",
       "      <td>8.75</td>\n",
       "      <td>100.0</td>\n",
       "      <td>Martin Scorsese</td>\n",
       "      <td>392.0</td>\n",
       "    </tr>\n",
       "    <tr>\n",
       "      <th>Gravity</th>\n",
       "      <td>2013</td>\n",
       "      <td>NaN</td>\n",
       "      <td>NaN</td>\n",
       "      <td>Alfonso Cuarón</td>\n",
       "      <td>NaN</td>\n",
       "    </tr>\n",
       "  </tbody>\n",
       "</table>\n",
       "</div>"
      ],
      "text/plain": [
       "                         Año  Valoración  Presupuesto         Director  \\\n",
       "Godzilla                2014        6.00        160.0   Gareth Edwards   \n",
       "El Hobbit III           2014         NaN        250.0    Peter Jackson   \n",
       "El lobo de Wall Street  2013        8.75        100.0  Martin Scorsese   \n",
       "Gravity                 2013         NaN          NaN   Alfonso Cuarón   \n",
       "\n",
       "                        Recaudación  \n",
       "Godzilla                      525.0  \n",
       "El Hobbit III                 722.0  \n",
       "El lobo de Wall Street        392.0  \n",
       "Gravity                         NaN  "
      ]
     },
     "execution_count": 27,
     "metadata": {},
     "output_type": "execute_result"
    }
   ],
   "source": [
    "peliculas3 = pd.DataFrame(\n",
    "            {'Recaudación':[525, 722, 392]},\n",
    "            index = ['Godzilla', 'El Hobbit III', 'El lobo de Wall Street']\n",
    ")\n",
    "pd.concat([peliculas, peliculas3],axis=1, sort = False)"
   ]
  },
  {
   "cell_type": "markdown",
   "metadata": {},
   "source": [
    "Aunque es un funcionamiento más propio de la función merge, pandas nos permite eliminar del resultado aquellas combinaciones para las que no existen datos en alguna de las dos estructuras."
   ]
  },
  {
   "cell_type": "code",
   "execution_count": 28,
   "metadata": {},
   "outputs": [
    {
     "data": {
      "text/html": [
       "<div>\n",
       "<style scoped>\n",
       "    .dataframe tbody tr th:only-of-type {\n",
       "        vertical-align: middle;\n",
       "    }\n",
       "\n",
       "    .dataframe tbody tr th {\n",
       "        vertical-align: top;\n",
       "    }\n",
       "\n",
       "    .dataframe thead th {\n",
       "        text-align: right;\n",
       "    }\n",
       "</style>\n",
       "<table border=\"1\" class=\"dataframe\">\n",
       "  <thead>\n",
       "    <tr style=\"text-align: right;\">\n",
       "      <th></th>\n",
       "      <th>Año</th>\n",
       "      <th>Valoración</th>\n",
       "      <th>Presupuesto</th>\n",
       "      <th>Director</th>\n",
       "      <th>Recaudación</th>\n",
       "    </tr>\n",
       "  </thead>\n",
       "  <tbody>\n",
       "    <tr>\n",
       "      <th>Godzilla</th>\n",
       "      <td>2014</td>\n",
       "      <td>6.00</td>\n",
       "      <td>160.0</td>\n",
       "      <td>Gareth Edwards</td>\n",
       "      <td>525</td>\n",
       "    </tr>\n",
       "    <tr>\n",
       "      <th>El Hobbit III</th>\n",
       "      <td>2014</td>\n",
       "      <td>NaN</td>\n",
       "      <td>250.0</td>\n",
       "      <td>Peter Jackson</td>\n",
       "      <td>722</td>\n",
       "    </tr>\n",
       "    <tr>\n",
       "      <th>El lobo de Wall Street</th>\n",
       "      <td>2013</td>\n",
       "      <td>8.75</td>\n",
       "      <td>100.0</td>\n",
       "      <td>Martin Scorsese</td>\n",
       "      <td>392</td>\n",
       "    </tr>\n",
       "  </tbody>\n",
       "</table>\n",
       "</div>"
      ],
      "text/plain": [
       "                         Año  Valoración  Presupuesto         Director  \\\n",
       "Godzilla                2014        6.00        160.0   Gareth Edwards   \n",
       "El Hobbit III           2014         NaN        250.0    Peter Jackson   \n",
       "El lobo de Wall Street  2013        8.75        100.0  Martin Scorsese   \n",
       "\n",
       "                        Recaudación  \n",
       "Godzilla                        525  \n",
       "El Hobbit III                   722  \n",
       "El lobo de Wall Street          392  "
      ]
     },
     "execution_count": 28,
     "metadata": {},
     "output_type": "execute_result"
    }
   ],
   "source": [
    "pd.concat([peliculas, peliculas3],axis=1, join='inner')"
   ]
  },
  {
   "cell_type": "markdown",
   "metadata": {},
   "source": [
    "Por último, puede ser útil identificar en la estructura resultante el origen de cada una de las filas para posterior análisis. La función concat incluye un parámetro <b>keys</b> que podemos utilizar para añadir una clave a cada uno de las estructuras origen, que se convertirá en el nivel más agregado de un índice jerárquico."
   ]
  },
  {
   "cell_type": "code",
   "execution_count": 29,
   "metadata": {},
   "outputs": [
    {
     "data": {
      "text/html": [
       "<div>\n",
       "<style scoped>\n",
       "    .dataframe tbody tr th:only-of-type {\n",
       "        vertical-align: middle;\n",
       "    }\n",
       "\n",
       "    .dataframe tbody tr th {\n",
       "        vertical-align: top;\n",
       "    }\n",
       "\n",
       "    .dataframe thead th {\n",
       "        text-align: right;\n",
       "    }\n",
       "</style>\n",
       "<table border=\"1\" class=\"dataframe\">\n",
       "  <thead>\n",
       "    <tr style=\"text-align: right;\">\n",
       "      <th></th>\n",
       "      <th></th>\n",
       "      <th>Año</th>\n",
       "      <th>Valoración</th>\n",
       "      <th>Presupuesto</th>\n",
       "      <th>Director</th>\n",
       "    </tr>\n",
       "  </thead>\n",
       "  <tbody>\n",
       "    <tr>\n",
       "      <th rowspan=\"4\" valign=\"top\">dataset1</th>\n",
       "      <th>Godzilla</th>\n",
       "      <td>2014</td>\n",
       "      <td>6.00</td>\n",
       "      <td>160.0</td>\n",
       "      <td>Gareth Edwards</td>\n",
       "    </tr>\n",
       "    <tr>\n",
       "      <th>El Hobbit III</th>\n",
       "      <td>2014</td>\n",
       "      <td>NaN</td>\n",
       "      <td>250.0</td>\n",
       "      <td>Peter Jackson</td>\n",
       "    </tr>\n",
       "    <tr>\n",
       "      <th>El lobo de Wall Street</th>\n",
       "      <td>2013</td>\n",
       "      <td>8.75</td>\n",
       "      <td>100.0</td>\n",
       "      <td>Martin Scorsese</td>\n",
       "    </tr>\n",
       "    <tr>\n",
       "      <th>Gravity</th>\n",
       "      <td>2013</td>\n",
       "      <td>NaN</td>\n",
       "      <td>NaN</td>\n",
       "      <td>Alfonso Cuarón</td>\n",
       "    </tr>\n",
       "    <tr>\n",
       "      <th rowspan=\"2\" valign=\"top\">dataset2</th>\n",
       "      <th>La entrevista</th>\n",
       "      <td>2014</td>\n",
       "      <td>7.30</td>\n",
       "      <td>NaN</td>\n",
       "      <td>Evan Goldberg</td>\n",
       "    </tr>\n",
       "    <tr>\n",
       "      <th>El jugador</th>\n",
       "      <td>2014</td>\n",
       "      <td>6.30</td>\n",
       "      <td>NaN</td>\n",
       "      <td>Rupert Wyatt</td>\n",
       "    </tr>\n",
       "  </tbody>\n",
       "</table>\n",
       "</div>"
      ],
      "text/plain": [
       "                                  Año  Valoración  Presupuesto  \\\n",
       "dataset1 Godzilla                2014        6.00        160.0   \n",
       "         El Hobbit III           2014         NaN        250.0   \n",
       "         El lobo de Wall Street  2013        8.75        100.0   \n",
       "         Gravity                 2013         NaN          NaN   \n",
       "dataset2 La entrevista           2014        7.30          NaN   \n",
       "         El jugador              2014        6.30          NaN   \n",
       "\n",
       "                                        Director  \n",
       "dataset1 Godzilla                 Gareth Edwards  \n",
       "         El Hobbit III             Peter Jackson  \n",
       "         El lobo de Wall Street  Martin Scorsese  \n",
       "         Gravity                  Alfonso Cuarón  \n",
       "dataset2 La entrevista             Evan Goldberg  \n",
       "         El jugador                 Rupert Wyatt  "
      ]
     },
     "execution_count": 29,
     "metadata": {},
     "output_type": "execute_result"
    }
   ],
   "source": [
    "pd.concat([peliculas, peliculas2], keys=['dataset1','dataset2'], sort = False)"
   ]
  },
  {
   "cell_type": "markdown",
   "metadata": {},
   "source": [
    "## Operaciones de agrupación\n",
    "\n",
    "La librería pandas también incluye la posibiilidad de hacer agrupación de resultados y operaciones sobre los grupos (al estilo de las sentencias GROUP BY de SQL)"
   ]
  },
  {
   "cell_type": "code",
   "execution_count": 30,
   "metadata": {},
   "outputs": [
    {
     "data": {
      "text/html": [
       "<div>\n",
       "<style scoped>\n",
       "    .dataframe tbody tr th:only-of-type {\n",
       "        vertical-align: middle;\n",
       "    }\n",
       "\n",
       "    .dataframe tbody tr th {\n",
       "        vertical-align: top;\n",
       "    }\n",
       "\n",
       "    .dataframe thead th {\n",
       "        text-align: right;\n",
       "    }\n",
       "</style>\n",
       "<table border=\"1\" class=\"dataframe\">\n",
       "  <thead>\n",
       "    <tr style=\"text-align: right;\">\n",
       "      <th></th>\n",
       "      <th>Año</th>\n",
       "      <th>Valoración</th>\n",
       "      <th>Presupuesto</th>\n",
       "      <th>Director</th>\n",
       "    </tr>\n",
       "  </thead>\n",
       "  <tbody>\n",
       "    <tr>\n",
       "      <th>Godzilla</th>\n",
       "      <td>2014</td>\n",
       "      <td>6.00</td>\n",
       "      <td>160.0</td>\n",
       "      <td>Gareth Edwards</td>\n",
       "    </tr>\n",
       "    <tr>\n",
       "      <th>El Hobbit III</th>\n",
       "      <td>2014</td>\n",
       "      <td>NaN</td>\n",
       "      <td>250.0</td>\n",
       "      <td>Peter Jackson</td>\n",
       "    </tr>\n",
       "    <tr>\n",
       "      <th>El lobo de Wall Street</th>\n",
       "      <td>2013</td>\n",
       "      <td>8.75</td>\n",
       "      <td>100.0</td>\n",
       "      <td>Martin Scorsese</td>\n",
       "    </tr>\n",
       "    <tr>\n",
       "      <th>Gravity</th>\n",
       "      <td>2013</td>\n",
       "      <td>NaN</td>\n",
       "      <td>NaN</td>\n",
       "      <td>Alfonso Cuarón</td>\n",
       "    </tr>\n",
       "  </tbody>\n",
       "</table>\n",
       "</div>"
      ],
      "text/plain": [
       "                         Año  Valoración  Presupuesto         Director\n",
       "Godzilla                2014        6.00        160.0   Gareth Edwards\n",
       "El Hobbit III           2014         NaN        250.0    Peter Jackson\n",
       "El lobo de Wall Street  2013        8.75        100.0  Martin Scorsese\n",
       "Gravity                 2013         NaN          NaN   Alfonso Cuarón"
      ]
     },
     "execution_count": 30,
     "metadata": {},
     "output_type": "execute_result"
    }
   ],
   "source": [
    "peliculas"
   ]
  },
  {
   "cell_type": "code",
   "execution_count": 31,
   "metadata": {},
   "outputs": [
    {
     "data": {
      "text/plain": [
       "pandas.core.groupby.generic.DataFrameGroupBy"
      ]
     },
     "execution_count": 31,
     "metadata": {},
     "output_type": "execute_result"
    }
   ],
   "source": [
    "agrupado = peliculas.groupby('Año')\n",
    "type(agrupado)"
   ]
  },
  {
   "cell_type": "markdown",
   "metadata": {},
   "source": [
    "Una agrupación no es un objeto \"imprimible\", es una representación interna del conjunto de registros que pertenecen a cada grupo y sólo tiene sentido si, posteriormente, se va a aplicar alguna operación sobre dichos grupos. Hay que tener en cuenta que no todas las operaciones son aplicacables sobre todos los tipos de columna."
   ]
  },
  {
   "cell_type": "code",
   "execution_count": 32,
   "metadata": {},
   "outputs": [
    {
     "data": {
      "text/html": [
       "<div>\n",
       "<style scoped>\n",
       "    .dataframe tbody tr th:only-of-type {\n",
       "        vertical-align: middle;\n",
       "    }\n",
       "\n",
       "    .dataframe tbody tr th {\n",
       "        vertical-align: top;\n",
       "    }\n",
       "\n",
       "    .dataframe thead th {\n",
       "        text-align: right;\n",
       "    }\n",
       "</style>\n",
       "<table border=\"1\" class=\"dataframe\">\n",
       "  <thead>\n",
       "    <tr style=\"text-align: right;\">\n",
       "      <th></th>\n",
       "      <th>Valoración</th>\n",
       "      <th>Presupuesto</th>\n",
       "    </tr>\n",
       "    <tr>\n",
       "      <th>Año</th>\n",
       "      <th></th>\n",
       "      <th></th>\n",
       "    </tr>\n",
       "  </thead>\n",
       "  <tbody>\n",
       "    <tr>\n",
       "      <th>2013</th>\n",
       "      <td>8.75</td>\n",
       "      <td>100.0</td>\n",
       "    </tr>\n",
       "    <tr>\n",
       "      <th>2014</th>\n",
       "      <td>6.00</td>\n",
       "      <td>205.0</td>\n",
       "    </tr>\n",
       "  </tbody>\n",
       "</table>\n",
       "</div>"
      ],
      "text/plain": [
       "      Valoración  Presupuesto\n",
       "Año                          \n",
       "2013        8.75        100.0\n",
       "2014        6.00        205.0"
      ]
     },
     "execution_count": 32,
     "metadata": {},
     "output_type": "execute_result"
    }
   ],
   "source": [
    "# Media por grupo\n",
    "agrupado.mean()"
   ]
  },
  {
   "cell_type": "code",
   "execution_count": 33,
   "metadata": {},
   "outputs": [
    {
     "data": {
      "text/html": [
       "<div>\n",
       "<style scoped>\n",
       "    .dataframe tbody tr th:only-of-type {\n",
       "        vertical-align: middle;\n",
       "    }\n",
       "\n",
       "    .dataframe tbody tr th {\n",
       "        vertical-align: top;\n",
       "    }\n",
       "\n",
       "    .dataframe thead th {\n",
       "        text-align: right;\n",
       "    }\n",
       "</style>\n",
       "<table border=\"1\" class=\"dataframe\">\n",
       "  <thead>\n",
       "    <tr style=\"text-align: right;\">\n",
       "      <th></th>\n",
       "      <th>Valoración</th>\n",
       "      <th>Presupuesto</th>\n",
       "      <th>Director</th>\n",
       "    </tr>\n",
       "    <tr>\n",
       "      <th>Año</th>\n",
       "      <th></th>\n",
       "      <th></th>\n",
       "      <th></th>\n",
       "    </tr>\n",
       "  </thead>\n",
       "  <tbody>\n",
       "    <tr>\n",
       "      <th>2013</th>\n",
       "      <td>1</td>\n",
       "      <td>1</td>\n",
       "      <td>2</td>\n",
       "    </tr>\n",
       "    <tr>\n",
       "      <th>2014</th>\n",
       "      <td>1</td>\n",
       "      <td>2</td>\n",
       "      <td>2</td>\n",
       "    </tr>\n",
       "  </tbody>\n",
       "</table>\n",
       "</div>"
      ],
      "text/plain": [
       "      Valoración  Presupuesto  Director\n",
       "Año                                    \n",
       "2013           1            1         2\n",
       "2014           1            2         2"
      ]
     },
     "execution_count": 33,
     "metadata": {},
     "output_type": "execute_result"
    }
   ],
   "source": [
    "# Conteo de valores no nulos por grupo\n",
    "agrupado.count()"
   ]
  },
  {
   "cell_type": "markdown",
   "metadata": {},
   "source": [
    "Aunque con estos datos quizá no tenga tanto sentido, podemos realizar la agrupación por múltiples claves."
   ]
  },
  {
   "cell_type": "code",
   "execution_count": 34,
   "metadata": {},
   "outputs": [
    {
     "data": {
      "text/html": [
       "<div>\n",
       "<style scoped>\n",
       "    .dataframe tbody tr th:only-of-type {\n",
       "        vertical-align: middle;\n",
       "    }\n",
       "\n",
       "    .dataframe tbody tr th {\n",
       "        vertical-align: top;\n",
       "    }\n",
       "\n",
       "    .dataframe thead th {\n",
       "        text-align: right;\n",
       "    }\n",
       "</style>\n",
       "<table border=\"1\" class=\"dataframe\">\n",
       "  <thead>\n",
       "    <tr style=\"text-align: right;\">\n",
       "      <th></th>\n",
       "      <th></th>\n",
       "      <th>Valoración</th>\n",
       "      <th>Presupuesto</th>\n",
       "    </tr>\n",
       "    <tr>\n",
       "      <th>Año</th>\n",
       "      <th>Director</th>\n",
       "      <th></th>\n",
       "      <th></th>\n",
       "    </tr>\n",
       "  </thead>\n",
       "  <tbody>\n",
       "    <tr>\n",
       "      <th rowspan=\"2\" valign=\"top\">2013</th>\n",
       "      <th>Alfonso Cuarón</th>\n",
       "      <td>0.00</td>\n",
       "      <td>0.0</td>\n",
       "    </tr>\n",
       "    <tr>\n",
       "      <th>Martin Scorsese</th>\n",
       "      <td>8.75</td>\n",
       "      <td>100.0</td>\n",
       "    </tr>\n",
       "    <tr>\n",
       "      <th rowspan=\"2\" valign=\"top\">2014</th>\n",
       "      <th>Gareth Edwards</th>\n",
       "      <td>6.00</td>\n",
       "      <td>160.0</td>\n",
       "    </tr>\n",
       "    <tr>\n",
       "      <th>Peter Jackson</th>\n",
       "      <td>0.00</td>\n",
       "      <td>250.0</td>\n",
       "    </tr>\n",
       "  </tbody>\n",
       "</table>\n",
       "</div>"
      ],
      "text/plain": [
       "                      Valoración  Presupuesto\n",
       "Año  Director                                \n",
       "2013 Alfonso Cuarón         0.00          0.0\n",
       "     Martin Scorsese        8.75        100.0\n",
       "2014 Gareth Edwards         6.00        160.0\n",
       "     Peter Jackson          0.00        250.0"
      ]
     },
     "execution_count": 34,
     "metadata": {},
     "output_type": "execute_result"
    }
   ],
   "source": [
    "peliculas.groupby(['Año', 'Director']).sum()"
   ]
  }
 ],
 "metadata": {
  "interpreter": {
   "hash": "329661e38900ed931de9c9bb3d693be99c4dac54c23e747779f6acd3c2040072"
  },
  "kernelspec": {
   "display_name": "Python 3.10.2 64-bit",
   "language": "python",
   "name": "python3"
  },
  "language_info": {
   "codemirror_mode": {
    "name": "ipython",
    "version": 3
   },
   "file_extension": ".py",
   "mimetype": "text/x-python",
   "name": "python",
   "nbconvert_exporter": "python",
   "pygments_lexer": "ipython3",
   "version": "3.10.2"
  },
  "orig_nbformat": 4
 },
 "nbformat": 4,
 "nbformat_minor": 2
}
